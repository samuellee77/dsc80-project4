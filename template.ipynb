{
 "cells": [
  {
   "cell_type": "markdown",
   "metadata": {},
   "source": [
    "# Your Title Here\n",
    "\n",
    "**Name(s)**:\n",
    "\n",
    "**Website Link**: (your website link)"
   ]
  },
  {
   "cell_type": "code",
   "execution_count": 67,
   "metadata": {
    "ExecuteTime": {
     "end_time": "2019-10-31T23:36:28.652554Z",
     "start_time": "2019-10-31T23:36:27.180520Z"
    }
   },
   "outputs": [],
   "source": [
    "import pandas as pd\n",
    "import numpy as np\n",
    "from pathlib import Path\n",
    "\n",
    "import plotly.express as px\n",
    "pd.options.plotting.backend = 'plotly'\n",
    "\n",
    "# from dsc80_utils import * # Feel free to uncomment and use this."
   ]
  },
  {
   "cell_type": "markdown",
   "metadata": {},
   "source": [
    "## Step 1: Introduction"
   ]
  },
  {
   "cell_type": "code",
   "execution_count": 68,
   "metadata": {},
   "outputs": [
    {
     "name": "stderr",
     "output_type": "stream",
     "text": [
      "/Users/camellee/miniforge3/envs/dsc80/lib/python3.8/site-packages/IPython/core/interactiveshell.py:3508: DtypeWarning:\n",
      "\n",
      "Columns (2) have mixed types.Specify dtype option on import or set low_memory=False.\n",
      "\n"
     ]
    },
    {
     "data": {
      "text/html": [
       "<div>\n",
       "<style scoped>\n",
       "    .dataframe tbody tr th:only-of-type {\n",
       "        vertical-align: middle;\n",
       "    }\n",
       "\n",
       "    .dataframe tbody tr th {\n",
       "        vertical-align: top;\n",
       "    }\n",
       "\n",
       "    .dataframe thead th {\n",
       "        text-align: right;\n",
       "    }\n",
       "</style>\n",
       "<table border=\"1\" class=\"dataframe\">\n",
       "  <thead>\n",
       "    <tr style=\"text-align: right;\">\n",
       "      <th></th>\n",
       "      <th>gameid</th>\n",
       "      <th>datacompleteness</th>\n",
       "      <th>url</th>\n",
       "      <th>league</th>\n",
       "      <th>year</th>\n",
       "      <th>split</th>\n",
       "      <th>playoffs</th>\n",
       "      <th>date</th>\n",
       "      <th>game</th>\n",
       "      <th>patch</th>\n",
       "      <th>...</th>\n",
       "      <th>opp_csat15</th>\n",
       "      <th>golddiffat15</th>\n",
       "      <th>xpdiffat15</th>\n",
       "      <th>csdiffat15</th>\n",
       "      <th>killsat15</th>\n",
       "      <th>assistsat15</th>\n",
       "      <th>deathsat15</th>\n",
       "      <th>opp_killsat15</th>\n",
       "      <th>opp_assistsat15</th>\n",
       "      <th>opp_deathsat15</th>\n",
       "    </tr>\n",
       "  </thead>\n",
       "  <tbody>\n",
       "    <tr>\n",
       "      <th>0</th>\n",
       "      <td>ESPORTSTMNT01_2690210</td>\n",
       "      <td>complete</td>\n",
       "      <td>NaN</td>\n",
       "      <td>LCKC</td>\n",
       "      <td>2022</td>\n",
       "      <td>Spring</td>\n",
       "      <td>0</td>\n",
       "      <td>2022-01-10 07:44:08</td>\n",
       "      <td>1</td>\n",
       "      <td>12.01</td>\n",
       "      <td>...</td>\n",
       "      <td>121.0</td>\n",
       "      <td>391.0</td>\n",
       "      <td>345.0</td>\n",
       "      <td>14.0</td>\n",
       "      <td>0.0</td>\n",
       "      <td>1.0</td>\n",
       "      <td>0.0</td>\n",
       "      <td>0.0</td>\n",
       "      <td>1.0</td>\n",
       "      <td>0.0</td>\n",
       "    </tr>\n",
       "    <tr>\n",
       "      <th>1</th>\n",
       "      <td>ESPORTSTMNT01_2690210</td>\n",
       "      <td>complete</td>\n",
       "      <td>NaN</td>\n",
       "      <td>LCKC</td>\n",
       "      <td>2022</td>\n",
       "      <td>Spring</td>\n",
       "      <td>0</td>\n",
       "      <td>2022-01-10 07:44:08</td>\n",
       "      <td>1</td>\n",
       "      <td>12.01</td>\n",
       "      <td>...</td>\n",
       "      <td>100.0</td>\n",
       "      <td>541.0</td>\n",
       "      <td>-275.0</td>\n",
       "      <td>-11.0</td>\n",
       "      <td>2.0</td>\n",
       "      <td>3.0</td>\n",
       "      <td>2.0</td>\n",
       "      <td>0.0</td>\n",
       "      <td>5.0</td>\n",
       "      <td>1.0</td>\n",
       "    </tr>\n",
       "    <tr>\n",
       "      <th>2</th>\n",
       "      <td>ESPORTSTMNT01_2690210</td>\n",
       "      <td>complete</td>\n",
       "      <td>NaN</td>\n",
       "      <td>LCKC</td>\n",
       "      <td>2022</td>\n",
       "      <td>Spring</td>\n",
       "      <td>0</td>\n",
       "      <td>2022-01-10 07:44:08</td>\n",
       "      <td>1</td>\n",
       "      <td>12.01</td>\n",
       "      <td>...</td>\n",
       "      <td>119.0</td>\n",
       "      <td>-475.0</td>\n",
       "      <td>153.0</td>\n",
       "      <td>1.0</td>\n",
       "      <td>0.0</td>\n",
       "      <td>3.0</td>\n",
       "      <td>0.0</td>\n",
       "      <td>3.0</td>\n",
       "      <td>3.0</td>\n",
       "      <td>2.0</td>\n",
       "    </tr>\n",
       "    <tr>\n",
       "      <th>3</th>\n",
       "      <td>ESPORTSTMNT01_2690210</td>\n",
       "      <td>complete</td>\n",
       "      <td>NaN</td>\n",
       "      <td>LCKC</td>\n",
       "      <td>2022</td>\n",
       "      <td>Spring</td>\n",
       "      <td>0</td>\n",
       "      <td>2022-01-10 07:44:08</td>\n",
       "      <td>1</td>\n",
       "      <td>12.01</td>\n",
       "      <td>...</td>\n",
       "      <td>149.0</td>\n",
       "      <td>-793.0</td>\n",
       "      <td>-1343.0</td>\n",
       "      <td>-34.0</td>\n",
       "      <td>2.0</td>\n",
       "      <td>1.0</td>\n",
       "      <td>2.0</td>\n",
       "      <td>3.0</td>\n",
       "      <td>3.0</td>\n",
       "      <td>0.0</td>\n",
       "    </tr>\n",
       "    <tr>\n",
       "      <th>4</th>\n",
       "      <td>ESPORTSTMNT01_2690210</td>\n",
       "      <td>complete</td>\n",
       "      <td>NaN</td>\n",
       "      <td>LCKC</td>\n",
       "      <td>2022</td>\n",
       "      <td>Spring</td>\n",
       "      <td>0</td>\n",
       "      <td>2022-01-10 07:44:08</td>\n",
       "      <td>1</td>\n",
       "      <td>12.01</td>\n",
       "      <td>...</td>\n",
       "      <td>21.0</td>\n",
       "      <td>443.0</td>\n",
       "      <td>-497.0</td>\n",
       "      <td>7.0</td>\n",
       "      <td>1.0</td>\n",
       "      <td>2.0</td>\n",
       "      <td>2.0</td>\n",
       "      <td>0.0</td>\n",
       "      <td>6.0</td>\n",
       "      <td>2.0</td>\n",
       "    </tr>\n",
       "    <tr>\n",
       "      <th>...</th>\n",
       "      <td>...</td>\n",
       "      <td>...</td>\n",
       "      <td>...</td>\n",
       "      <td>...</td>\n",
       "      <td>...</td>\n",
       "      <td>...</td>\n",
       "      <td>...</td>\n",
       "      <td>...</td>\n",
       "      <td>...</td>\n",
       "      <td>...</td>\n",
       "      <td>...</td>\n",
       "      <td>...</td>\n",
       "      <td>...</td>\n",
       "      <td>...</td>\n",
       "      <td>...</td>\n",
       "      <td>...</td>\n",
       "      <td>...</td>\n",
       "      <td>...</td>\n",
       "      <td>...</td>\n",
       "      <td>...</td>\n",
       "      <td>...</td>\n",
       "    </tr>\n",
       "    <tr>\n",
       "      <th>148987</th>\n",
       "      <td>9687-9687_game_5</td>\n",
       "      <td>partial</td>\n",
       "      <td>https://lpl.qq.com/es/stats.shtml?bmid=9687</td>\n",
       "      <td>DCup</td>\n",
       "      <td>2022</td>\n",
       "      <td>NaN</td>\n",
       "      <td>0</td>\n",
       "      <td>2022-12-27 12:43:43</td>\n",
       "      <td>5</td>\n",
       "      <td>12.23</td>\n",
       "      <td>...</td>\n",
       "      <td>NaN</td>\n",
       "      <td>NaN</td>\n",
       "      <td>NaN</td>\n",
       "      <td>NaN</td>\n",
       "      <td>NaN</td>\n",
       "      <td>NaN</td>\n",
       "      <td>NaN</td>\n",
       "      <td>NaN</td>\n",
       "      <td>NaN</td>\n",
       "      <td>NaN</td>\n",
       "    </tr>\n",
       "    <tr>\n",
       "      <th>148988</th>\n",
       "      <td>9687-9687_game_5</td>\n",
       "      <td>partial</td>\n",
       "      <td>https://lpl.qq.com/es/stats.shtml?bmid=9687</td>\n",
       "      <td>DCup</td>\n",
       "      <td>2022</td>\n",
       "      <td>NaN</td>\n",
       "      <td>0</td>\n",
       "      <td>2022-12-27 12:43:43</td>\n",
       "      <td>5</td>\n",
       "      <td>12.23</td>\n",
       "      <td>...</td>\n",
       "      <td>NaN</td>\n",
       "      <td>NaN</td>\n",
       "      <td>NaN</td>\n",
       "      <td>NaN</td>\n",
       "      <td>NaN</td>\n",
       "      <td>NaN</td>\n",
       "      <td>NaN</td>\n",
       "      <td>NaN</td>\n",
       "      <td>NaN</td>\n",
       "      <td>NaN</td>\n",
       "    </tr>\n",
       "    <tr>\n",
       "      <th>148989</th>\n",
       "      <td>9687-9687_game_5</td>\n",
       "      <td>partial</td>\n",
       "      <td>https://lpl.qq.com/es/stats.shtml?bmid=9687</td>\n",
       "      <td>DCup</td>\n",
       "      <td>2022</td>\n",
       "      <td>NaN</td>\n",
       "      <td>0</td>\n",
       "      <td>2022-12-27 12:43:43</td>\n",
       "      <td>5</td>\n",
       "      <td>12.23</td>\n",
       "      <td>...</td>\n",
       "      <td>NaN</td>\n",
       "      <td>NaN</td>\n",
       "      <td>NaN</td>\n",
       "      <td>NaN</td>\n",
       "      <td>NaN</td>\n",
       "      <td>NaN</td>\n",
       "      <td>NaN</td>\n",
       "      <td>NaN</td>\n",
       "      <td>NaN</td>\n",
       "      <td>NaN</td>\n",
       "    </tr>\n",
       "    <tr>\n",
       "      <th>148990</th>\n",
       "      <td>9687-9687_game_5</td>\n",
       "      <td>partial</td>\n",
       "      <td>https://lpl.qq.com/es/stats.shtml?bmid=9687</td>\n",
       "      <td>DCup</td>\n",
       "      <td>2022</td>\n",
       "      <td>NaN</td>\n",
       "      <td>0</td>\n",
       "      <td>2022-12-27 12:43:43</td>\n",
       "      <td>5</td>\n",
       "      <td>12.23</td>\n",
       "      <td>...</td>\n",
       "      <td>NaN</td>\n",
       "      <td>NaN</td>\n",
       "      <td>NaN</td>\n",
       "      <td>NaN</td>\n",
       "      <td>NaN</td>\n",
       "      <td>NaN</td>\n",
       "      <td>NaN</td>\n",
       "      <td>NaN</td>\n",
       "      <td>NaN</td>\n",
       "      <td>NaN</td>\n",
       "    </tr>\n",
       "    <tr>\n",
       "      <th>148991</th>\n",
       "      <td>9687-9687_game_5</td>\n",
       "      <td>partial</td>\n",
       "      <td>https://lpl.qq.com/es/stats.shtml?bmid=9687</td>\n",
       "      <td>DCup</td>\n",
       "      <td>2022</td>\n",
       "      <td>NaN</td>\n",
       "      <td>0</td>\n",
       "      <td>2022-12-27 12:43:43</td>\n",
       "      <td>5</td>\n",
       "      <td>12.23</td>\n",
       "      <td>...</td>\n",
       "      <td>NaN</td>\n",
       "      <td>NaN</td>\n",
       "      <td>NaN</td>\n",
       "      <td>NaN</td>\n",
       "      <td>NaN</td>\n",
       "      <td>NaN</td>\n",
       "      <td>NaN</td>\n",
       "      <td>NaN</td>\n",
       "      <td>NaN</td>\n",
       "      <td>NaN</td>\n",
       "    </tr>\n",
       "  </tbody>\n",
       "</table>\n",
       "<p>148992 rows × 130 columns</p>\n",
       "</div>"
      ],
      "text/plain": [
       "                       gameid datacompleteness  \\\n",
       "0       ESPORTSTMNT01_2690210         complete   \n",
       "1       ESPORTSTMNT01_2690210         complete   \n",
       "2       ESPORTSTMNT01_2690210         complete   \n",
       "3       ESPORTSTMNT01_2690210         complete   \n",
       "4       ESPORTSTMNT01_2690210         complete   \n",
       "...                       ...              ...   \n",
       "148987       9687-9687_game_5          partial   \n",
       "148988       9687-9687_game_5          partial   \n",
       "148989       9687-9687_game_5          partial   \n",
       "148990       9687-9687_game_5          partial   \n",
       "148991       9687-9687_game_5          partial   \n",
       "\n",
       "                                                url league  year   split  \\\n",
       "0                                               NaN   LCKC  2022  Spring   \n",
       "1                                               NaN   LCKC  2022  Spring   \n",
       "2                                               NaN   LCKC  2022  Spring   \n",
       "3                                               NaN   LCKC  2022  Spring   \n",
       "4                                               NaN   LCKC  2022  Spring   \n",
       "...                                             ...    ...   ...     ...   \n",
       "148987  https://lpl.qq.com/es/stats.shtml?bmid=9687   DCup  2022     NaN   \n",
       "148988  https://lpl.qq.com/es/stats.shtml?bmid=9687   DCup  2022     NaN   \n",
       "148989  https://lpl.qq.com/es/stats.shtml?bmid=9687   DCup  2022     NaN   \n",
       "148990  https://lpl.qq.com/es/stats.shtml?bmid=9687   DCup  2022     NaN   \n",
       "148991  https://lpl.qq.com/es/stats.shtml?bmid=9687   DCup  2022     NaN   \n",
       "\n",
       "        playoffs                 date  game  patch  ...  opp_csat15  \\\n",
       "0              0  2022-01-10 07:44:08     1  12.01  ...       121.0   \n",
       "1              0  2022-01-10 07:44:08     1  12.01  ...       100.0   \n",
       "2              0  2022-01-10 07:44:08     1  12.01  ...       119.0   \n",
       "3              0  2022-01-10 07:44:08     1  12.01  ...       149.0   \n",
       "4              0  2022-01-10 07:44:08     1  12.01  ...        21.0   \n",
       "...          ...                  ...   ...    ...  ...         ...   \n",
       "148987         0  2022-12-27 12:43:43     5  12.23  ...         NaN   \n",
       "148988         0  2022-12-27 12:43:43     5  12.23  ...         NaN   \n",
       "148989         0  2022-12-27 12:43:43     5  12.23  ...         NaN   \n",
       "148990         0  2022-12-27 12:43:43     5  12.23  ...         NaN   \n",
       "148991         0  2022-12-27 12:43:43     5  12.23  ...         NaN   \n",
       "\n",
       "       golddiffat15 xpdiffat15 csdiffat15 killsat15 assistsat15 deathsat15  \\\n",
       "0             391.0      345.0       14.0       0.0         1.0        0.0   \n",
       "1             541.0     -275.0      -11.0       2.0         3.0        2.0   \n",
       "2            -475.0      153.0        1.0       0.0         3.0        0.0   \n",
       "3            -793.0    -1343.0      -34.0       2.0         1.0        2.0   \n",
       "4             443.0     -497.0        7.0       1.0         2.0        2.0   \n",
       "...             ...        ...        ...       ...         ...        ...   \n",
       "148987          NaN        NaN        NaN       NaN         NaN        NaN   \n",
       "148988          NaN        NaN        NaN       NaN         NaN        NaN   \n",
       "148989          NaN        NaN        NaN       NaN         NaN        NaN   \n",
       "148990          NaN        NaN        NaN       NaN         NaN        NaN   \n",
       "148991          NaN        NaN        NaN       NaN         NaN        NaN   \n",
       "\n",
       "       opp_killsat15 opp_assistsat15 opp_deathsat15  \n",
       "0                0.0             1.0            0.0  \n",
       "1                0.0             5.0            1.0  \n",
       "2                3.0             3.0            2.0  \n",
       "3                3.0             3.0            0.0  \n",
       "4                0.0             6.0            2.0  \n",
       "...              ...             ...            ...  \n",
       "148987           NaN             NaN            NaN  \n",
       "148988           NaN             NaN            NaN  \n",
       "148989           NaN             NaN            NaN  \n",
       "148990           NaN             NaN            NaN  \n",
       "148991           NaN             NaN            NaN  \n",
       "\n",
       "[148992 rows x 130 columns]"
      ]
     },
     "execution_count": 68,
     "metadata": {},
     "output_type": "execute_result"
    }
   ],
   "source": [
    "data = pd.read_csv('2022.csv')\n",
    "data"
   ]
  },
  {
   "cell_type": "markdown",
   "metadata": {},
   "source": [
    "## Step 2: Data Cleaning and Exploratory Data Analysis"
   ]
  },
  {
   "cell_type": "code",
   "execution_count": 69,
   "metadata": {},
   "outputs": [
    {
     "data": {
      "text/plain": [
       "array(['LCKC', 'LPL', 'NLC', 'LVP SL', 'PGC', 'UL', 'PRM', 'LCK', 'LFL',\n",
       "       'LEC', 'LCS', 'LFL2', 'GLL', 'HM', 'ESLOL', 'EBL', 'LPLOL', 'PGN',\n",
       "       'LCSA', 'DDH', 'TAL', 'TCL', 'CBLOL', 'LCO', 'LHE', 'GL', 'EL',\n",
       "       'CBLOLA', 'LMF', 'VL', 'SL (LATAM)', 'LLA', 'HC', 'LDL', 'LJL',\n",
       "       'PCS', 'VCS', 'UPL', 'LCL', 'NEXO', 'EUM', 'LAS', 'MSI', 'LJLA',\n",
       "       'CT', 'WLDs', 'CDF', 'IC', 'DCup'], dtype=object)"
      ]
     },
     "execution_count": 69,
     "metadata": {},
     "output_type": "execute_result"
    }
   ],
   "source": [
    "data['league'].unique()"
   ]
  },
  {
   "cell_type": "markdown",
   "metadata": {},
   "source": [
    "Change the dtype of the column `patch`"
   ]
  },
  {
   "cell_type": "code",
   "execution_count": 70,
   "metadata": {},
   "outputs": [
    {
     "data": {
      "text/plain": [
       "array([12.01, 12.02, 12.03, 12.04, 12.05, 12.06, 12.07, 12.08, 12.09,\n",
       "       12.1 , 12.11, 12.12, 12.13, 12.14, 12.15,   nan, 12.16, 12.17,\n",
       "       12.18, 12.19, 12.2 , 12.21, 12.23])"
      ]
     },
     "execution_count": 70,
     "metadata": {},
     "output_type": "execute_result"
    }
   ],
   "source": [
    "data['patch'].unique()"
   ]
  },
  {
   "cell_type": "code",
   "execution_count": 71,
   "metadata": {},
   "outputs": [],
   "source": [
    "data['patch'] = data['patch'].astype(str).str.replace(r'^12.1$', '12.10', regex=True).str.replace(r'^12.2$', '12.20', regex=True)"
   ]
  },
  {
   "cell_type": "markdown",
   "metadata": {},
   "source": [
    "### Keep only Tier 1"
   ]
  },
  {
   "cell_type": "code",
   "execution_count": 72,
   "metadata": {
    "ExecuteTime": {
     "end_time": "2019-10-31T23:36:28.657068Z",
     "start_time": "2019-10-31T23:36:28.654650Z"
    }
   },
   "outputs": [
    {
     "data": {
      "text/html": [
       "<div>\n",
       "<style scoped>\n",
       "    .dataframe tbody tr th:only-of-type {\n",
       "        vertical-align: middle;\n",
       "    }\n",
       "\n",
       "    .dataframe tbody tr th {\n",
       "        vertical-align: top;\n",
       "    }\n",
       "\n",
       "    .dataframe thead th {\n",
       "        text-align: right;\n",
       "    }\n",
       "</style>\n",
       "<table border=\"1\" class=\"dataframe\">\n",
       "  <thead>\n",
       "    <tr style=\"text-align: right;\">\n",
       "      <th></th>\n",
       "      <th>gameid</th>\n",
       "      <th>datacompleteness</th>\n",
       "      <th>url</th>\n",
       "      <th>league</th>\n",
       "      <th>year</th>\n",
       "      <th>split</th>\n",
       "      <th>playoffs</th>\n",
       "      <th>date</th>\n",
       "      <th>game</th>\n",
       "      <th>patch</th>\n",
       "      <th>...</th>\n",
       "      <th>opp_csat15</th>\n",
       "      <th>golddiffat15</th>\n",
       "      <th>xpdiffat15</th>\n",
       "      <th>csdiffat15</th>\n",
       "      <th>killsat15</th>\n",
       "      <th>assistsat15</th>\n",
       "      <th>deathsat15</th>\n",
       "      <th>opp_killsat15</th>\n",
       "      <th>opp_assistsat15</th>\n",
       "      <th>opp_deathsat15</th>\n",
       "    </tr>\n",
       "  </thead>\n",
       "  <tbody>\n",
       "    <tr>\n",
       "      <th>24</th>\n",
       "      <td>8401-8401_game_1</td>\n",
       "      <td>partial</td>\n",
       "      <td>https://lpl.qq.com/es/stats.shtml?bmid=8401</td>\n",
       "      <td>LPL</td>\n",
       "      <td>2022</td>\n",
       "      <td>Spring</td>\n",
       "      <td>0</td>\n",
       "      <td>2022-01-10 09:24:26</td>\n",
       "      <td>1</td>\n",
       "      <td>12.01</td>\n",
       "      <td>...</td>\n",
       "      <td>NaN</td>\n",
       "      <td>NaN</td>\n",
       "      <td>NaN</td>\n",
       "      <td>NaN</td>\n",
       "      <td>NaN</td>\n",
       "      <td>NaN</td>\n",
       "      <td>NaN</td>\n",
       "      <td>NaN</td>\n",
       "      <td>NaN</td>\n",
       "      <td>NaN</td>\n",
       "    </tr>\n",
       "    <tr>\n",
       "      <th>25</th>\n",
       "      <td>8401-8401_game_1</td>\n",
       "      <td>partial</td>\n",
       "      <td>https://lpl.qq.com/es/stats.shtml?bmid=8401</td>\n",
       "      <td>LPL</td>\n",
       "      <td>2022</td>\n",
       "      <td>Spring</td>\n",
       "      <td>0</td>\n",
       "      <td>2022-01-10 09:24:26</td>\n",
       "      <td>1</td>\n",
       "      <td>12.01</td>\n",
       "      <td>...</td>\n",
       "      <td>NaN</td>\n",
       "      <td>NaN</td>\n",
       "      <td>NaN</td>\n",
       "      <td>NaN</td>\n",
       "      <td>NaN</td>\n",
       "      <td>NaN</td>\n",
       "      <td>NaN</td>\n",
       "      <td>NaN</td>\n",
       "      <td>NaN</td>\n",
       "      <td>NaN</td>\n",
       "    </tr>\n",
       "    <tr>\n",
       "      <th>26</th>\n",
       "      <td>8401-8401_game_1</td>\n",
       "      <td>partial</td>\n",
       "      <td>https://lpl.qq.com/es/stats.shtml?bmid=8401</td>\n",
       "      <td>LPL</td>\n",
       "      <td>2022</td>\n",
       "      <td>Spring</td>\n",
       "      <td>0</td>\n",
       "      <td>2022-01-10 09:24:26</td>\n",
       "      <td>1</td>\n",
       "      <td>12.01</td>\n",
       "      <td>...</td>\n",
       "      <td>NaN</td>\n",
       "      <td>NaN</td>\n",
       "      <td>NaN</td>\n",
       "      <td>NaN</td>\n",
       "      <td>NaN</td>\n",
       "      <td>NaN</td>\n",
       "      <td>NaN</td>\n",
       "      <td>NaN</td>\n",
       "      <td>NaN</td>\n",
       "      <td>NaN</td>\n",
       "    </tr>\n",
       "    <tr>\n",
       "      <th>27</th>\n",
       "      <td>8401-8401_game_1</td>\n",
       "      <td>partial</td>\n",
       "      <td>https://lpl.qq.com/es/stats.shtml?bmid=8401</td>\n",
       "      <td>LPL</td>\n",
       "      <td>2022</td>\n",
       "      <td>Spring</td>\n",
       "      <td>0</td>\n",
       "      <td>2022-01-10 09:24:26</td>\n",
       "      <td>1</td>\n",
       "      <td>12.01</td>\n",
       "      <td>...</td>\n",
       "      <td>NaN</td>\n",
       "      <td>NaN</td>\n",
       "      <td>NaN</td>\n",
       "      <td>NaN</td>\n",
       "      <td>NaN</td>\n",
       "      <td>NaN</td>\n",
       "      <td>NaN</td>\n",
       "      <td>NaN</td>\n",
       "      <td>NaN</td>\n",
       "      <td>NaN</td>\n",
       "    </tr>\n",
       "    <tr>\n",
       "      <th>28</th>\n",
       "      <td>8401-8401_game_1</td>\n",
       "      <td>partial</td>\n",
       "      <td>https://lpl.qq.com/es/stats.shtml?bmid=8401</td>\n",
       "      <td>LPL</td>\n",
       "      <td>2022</td>\n",
       "      <td>Spring</td>\n",
       "      <td>0</td>\n",
       "      <td>2022-01-10 09:24:26</td>\n",
       "      <td>1</td>\n",
       "      <td>12.01</td>\n",
       "      <td>...</td>\n",
       "      <td>NaN</td>\n",
       "      <td>NaN</td>\n",
       "      <td>NaN</td>\n",
       "      <td>NaN</td>\n",
       "      <td>NaN</td>\n",
       "      <td>NaN</td>\n",
       "      <td>NaN</td>\n",
       "      <td>NaN</td>\n",
       "      <td>NaN</td>\n",
       "      <td>NaN</td>\n",
       "    </tr>\n",
       "    <tr>\n",
       "      <th>29</th>\n",
       "      <td>8401-8401_game_1</td>\n",
       "      <td>partial</td>\n",
       "      <td>https://lpl.qq.com/es/stats.shtml?bmid=8401</td>\n",
       "      <td>LPL</td>\n",
       "      <td>2022</td>\n",
       "      <td>Spring</td>\n",
       "      <td>0</td>\n",
       "      <td>2022-01-10 09:24:26</td>\n",
       "      <td>1</td>\n",
       "      <td>12.01</td>\n",
       "      <td>...</td>\n",
       "      <td>NaN</td>\n",
       "      <td>NaN</td>\n",
       "      <td>NaN</td>\n",
       "      <td>NaN</td>\n",
       "      <td>NaN</td>\n",
       "      <td>NaN</td>\n",
       "      <td>NaN</td>\n",
       "      <td>NaN</td>\n",
       "      <td>NaN</td>\n",
       "      <td>NaN</td>\n",
       "    </tr>\n",
       "    <tr>\n",
       "      <th>30</th>\n",
       "      <td>8401-8401_game_1</td>\n",
       "      <td>partial</td>\n",
       "      <td>https://lpl.qq.com/es/stats.shtml?bmid=8401</td>\n",
       "      <td>LPL</td>\n",
       "      <td>2022</td>\n",
       "      <td>Spring</td>\n",
       "      <td>0</td>\n",
       "      <td>2022-01-10 09:24:26</td>\n",
       "      <td>1</td>\n",
       "      <td>12.01</td>\n",
       "      <td>...</td>\n",
       "      <td>NaN</td>\n",
       "      <td>NaN</td>\n",
       "      <td>NaN</td>\n",
       "      <td>NaN</td>\n",
       "      <td>NaN</td>\n",
       "      <td>NaN</td>\n",
       "      <td>NaN</td>\n",
       "      <td>NaN</td>\n",
       "      <td>NaN</td>\n",
       "      <td>NaN</td>\n",
       "    </tr>\n",
       "    <tr>\n",
       "      <th>31</th>\n",
       "      <td>8401-8401_game_1</td>\n",
       "      <td>partial</td>\n",
       "      <td>https://lpl.qq.com/es/stats.shtml?bmid=8401</td>\n",
       "      <td>LPL</td>\n",
       "      <td>2022</td>\n",
       "      <td>Spring</td>\n",
       "      <td>0</td>\n",
       "      <td>2022-01-10 09:24:26</td>\n",
       "      <td>1</td>\n",
       "      <td>12.01</td>\n",
       "      <td>...</td>\n",
       "      <td>NaN</td>\n",
       "      <td>NaN</td>\n",
       "      <td>NaN</td>\n",
       "      <td>NaN</td>\n",
       "      <td>NaN</td>\n",
       "      <td>NaN</td>\n",
       "      <td>NaN</td>\n",
       "      <td>NaN</td>\n",
       "      <td>NaN</td>\n",
       "      <td>NaN</td>\n",
       "    </tr>\n",
       "    <tr>\n",
       "      <th>32</th>\n",
       "      <td>8401-8401_game_1</td>\n",
       "      <td>partial</td>\n",
       "      <td>https://lpl.qq.com/es/stats.shtml?bmid=8401</td>\n",
       "      <td>LPL</td>\n",
       "      <td>2022</td>\n",
       "      <td>Spring</td>\n",
       "      <td>0</td>\n",
       "      <td>2022-01-10 09:24:26</td>\n",
       "      <td>1</td>\n",
       "      <td>12.01</td>\n",
       "      <td>...</td>\n",
       "      <td>NaN</td>\n",
       "      <td>NaN</td>\n",
       "      <td>NaN</td>\n",
       "      <td>NaN</td>\n",
       "      <td>NaN</td>\n",
       "      <td>NaN</td>\n",
       "      <td>NaN</td>\n",
       "      <td>NaN</td>\n",
       "      <td>NaN</td>\n",
       "      <td>NaN</td>\n",
       "    </tr>\n",
       "    <tr>\n",
       "      <th>33</th>\n",
       "      <td>8401-8401_game_1</td>\n",
       "      <td>partial</td>\n",
       "      <td>https://lpl.qq.com/es/stats.shtml?bmid=8401</td>\n",
       "      <td>LPL</td>\n",
       "      <td>2022</td>\n",
       "      <td>Spring</td>\n",
       "      <td>0</td>\n",
       "      <td>2022-01-10 09:24:26</td>\n",
       "      <td>1</td>\n",
       "      <td>12.01</td>\n",
       "      <td>...</td>\n",
       "      <td>NaN</td>\n",
       "      <td>NaN</td>\n",
       "      <td>NaN</td>\n",
       "      <td>NaN</td>\n",
       "      <td>NaN</td>\n",
       "      <td>NaN</td>\n",
       "      <td>NaN</td>\n",
       "      <td>NaN</td>\n",
       "      <td>NaN</td>\n",
       "      <td>NaN</td>\n",
       "    </tr>\n",
       "    <tr>\n",
       "      <th>34</th>\n",
       "      <td>8401-8401_game_1</td>\n",
       "      <td>partial</td>\n",
       "      <td>https://lpl.qq.com/es/stats.shtml?bmid=8401</td>\n",
       "      <td>LPL</td>\n",
       "      <td>2022</td>\n",
       "      <td>Spring</td>\n",
       "      <td>0</td>\n",
       "      <td>2022-01-10 09:24:26</td>\n",
       "      <td>1</td>\n",
       "      <td>12.01</td>\n",
       "      <td>...</td>\n",
       "      <td>NaN</td>\n",
       "      <td>NaN</td>\n",
       "      <td>NaN</td>\n",
       "      <td>NaN</td>\n",
       "      <td>NaN</td>\n",
       "      <td>NaN</td>\n",
       "      <td>NaN</td>\n",
       "      <td>NaN</td>\n",
       "      <td>NaN</td>\n",
       "      <td>NaN</td>\n",
       "    </tr>\n",
       "    <tr>\n",
       "      <th>35</th>\n",
       "      <td>8401-8401_game_1</td>\n",
       "      <td>partial</td>\n",
       "      <td>https://lpl.qq.com/es/stats.shtml?bmid=8401</td>\n",
       "      <td>LPL</td>\n",
       "      <td>2022</td>\n",
       "      <td>Spring</td>\n",
       "      <td>0</td>\n",
       "      <td>2022-01-10 09:24:26</td>\n",
       "      <td>1</td>\n",
       "      <td>12.01</td>\n",
       "      <td>...</td>\n",
       "      <td>NaN</td>\n",
       "      <td>NaN</td>\n",
       "      <td>NaN</td>\n",
       "      <td>NaN</td>\n",
       "      <td>NaN</td>\n",
       "      <td>NaN</td>\n",
       "      <td>NaN</td>\n",
       "      <td>NaN</td>\n",
       "      <td>NaN</td>\n",
       "      <td>NaN</td>\n",
       "    </tr>\n",
       "    <tr>\n",
       "      <th>48</th>\n",
       "      <td>8401-8401_game_2</td>\n",
       "      <td>partial</td>\n",
       "      <td>https://lpl.qq.com/es/stats.shtml?bmid=8401</td>\n",
       "      <td>LPL</td>\n",
       "      <td>2022</td>\n",
       "      <td>Spring</td>\n",
       "      <td>0</td>\n",
       "      <td>2022-01-10 10:09:22</td>\n",
       "      <td>2</td>\n",
       "      <td>12.01</td>\n",
       "      <td>...</td>\n",
       "      <td>NaN</td>\n",
       "      <td>NaN</td>\n",
       "      <td>NaN</td>\n",
       "      <td>NaN</td>\n",
       "      <td>NaN</td>\n",
       "      <td>NaN</td>\n",
       "      <td>NaN</td>\n",
       "      <td>NaN</td>\n",
       "      <td>NaN</td>\n",
       "      <td>NaN</td>\n",
       "    </tr>\n",
       "    <tr>\n",
       "      <th>49</th>\n",
       "      <td>8401-8401_game_2</td>\n",
       "      <td>partial</td>\n",
       "      <td>https://lpl.qq.com/es/stats.shtml?bmid=8401</td>\n",
       "      <td>LPL</td>\n",
       "      <td>2022</td>\n",
       "      <td>Spring</td>\n",
       "      <td>0</td>\n",
       "      <td>2022-01-10 10:09:22</td>\n",
       "      <td>2</td>\n",
       "      <td>12.01</td>\n",
       "      <td>...</td>\n",
       "      <td>NaN</td>\n",
       "      <td>NaN</td>\n",
       "      <td>NaN</td>\n",
       "      <td>NaN</td>\n",
       "      <td>NaN</td>\n",
       "      <td>NaN</td>\n",
       "      <td>NaN</td>\n",
       "      <td>NaN</td>\n",
       "      <td>NaN</td>\n",
       "      <td>NaN</td>\n",
       "    </tr>\n",
       "    <tr>\n",
       "      <th>50</th>\n",
       "      <td>8401-8401_game_2</td>\n",
       "      <td>partial</td>\n",
       "      <td>https://lpl.qq.com/es/stats.shtml?bmid=8401</td>\n",
       "      <td>LPL</td>\n",
       "      <td>2022</td>\n",
       "      <td>Spring</td>\n",
       "      <td>0</td>\n",
       "      <td>2022-01-10 10:09:22</td>\n",
       "      <td>2</td>\n",
       "      <td>12.01</td>\n",
       "      <td>...</td>\n",
       "      <td>NaN</td>\n",
       "      <td>NaN</td>\n",
       "      <td>NaN</td>\n",
       "      <td>NaN</td>\n",
       "      <td>NaN</td>\n",
       "      <td>NaN</td>\n",
       "      <td>NaN</td>\n",
       "      <td>NaN</td>\n",
       "      <td>NaN</td>\n",
       "      <td>NaN</td>\n",
       "    </tr>\n",
       "  </tbody>\n",
       "</table>\n",
       "<p>15 rows × 130 columns</p>\n",
       "</div>"
      ],
      "text/plain": [
       "              gameid datacompleteness  \\\n",
       "24  8401-8401_game_1          partial   \n",
       "25  8401-8401_game_1          partial   \n",
       "26  8401-8401_game_1          partial   \n",
       "27  8401-8401_game_1          partial   \n",
       "28  8401-8401_game_1          partial   \n",
       "29  8401-8401_game_1          partial   \n",
       "30  8401-8401_game_1          partial   \n",
       "31  8401-8401_game_1          partial   \n",
       "32  8401-8401_game_1          partial   \n",
       "33  8401-8401_game_1          partial   \n",
       "34  8401-8401_game_1          partial   \n",
       "35  8401-8401_game_1          partial   \n",
       "48  8401-8401_game_2          partial   \n",
       "49  8401-8401_game_2          partial   \n",
       "50  8401-8401_game_2          partial   \n",
       "\n",
       "                                            url league  year   split  \\\n",
       "24  https://lpl.qq.com/es/stats.shtml?bmid=8401    LPL  2022  Spring   \n",
       "25  https://lpl.qq.com/es/stats.shtml?bmid=8401    LPL  2022  Spring   \n",
       "26  https://lpl.qq.com/es/stats.shtml?bmid=8401    LPL  2022  Spring   \n",
       "27  https://lpl.qq.com/es/stats.shtml?bmid=8401    LPL  2022  Spring   \n",
       "28  https://lpl.qq.com/es/stats.shtml?bmid=8401    LPL  2022  Spring   \n",
       "29  https://lpl.qq.com/es/stats.shtml?bmid=8401    LPL  2022  Spring   \n",
       "30  https://lpl.qq.com/es/stats.shtml?bmid=8401    LPL  2022  Spring   \n",
       "31  https://lpl.qq.com/es/stats.shtml?bmid=8401    LPL  2022  Spring   \n",
       "32  https://lpl.qq.com/es/stats.shtml?bmid=8401    LPL  2022  Spring   \n",
       "33  https://lpl.qq.com/es/stats.shtml?bmid=8401    LPL  2022  Spring   \n",
       "34  https://lpl.qq.com/es/stats.shtml?bmid=8401    LPL  2022  Spring   \n",
       "35  https://lpl.qq.com/es/stats.shtml?bmid=8401    LPL  2022  Spring   \n",
       "48  https://lpl.qq.com/es/stats.shtml?bmid=8401    LPL  2022  Spring   \n",
       "49  https://lpl.qq.com/es/stats.shtml?bmid=8401    LPL  2022  Spring   \n",
       "50  https://lpl.qq.com/es/stats.shtml?bmid=8401    LPL  2022  Spring   \n",
       "\n",
       "    playoffs                 date  game  patch  ...  opp_csat15 golddiffat15  \\\n",
       "24         0  2022-01-10 09:24:26     1  12.01  ...         NaN          NaN   \n",
       "25         0  2022-01-10 09:24:26     1  12.01  ...         NaN          NaN   \n",
       "26         0  2022-01-10 09:24:26     1  12.01  ...         NaN          NaN   \n",
       "27         0  2022-01-10 09:24:26     1  12.01  ...         NaN          NaN   \n",
       "28         0  2022-01-10 09:24:26     1  12.01  ...         NaN          NaN   \n",
       "29         0  2022-01-10 09:24:26     1  12.01  ...         NaN          NaN   \n",
       "30         0  2022-01-10 09:24:26     1  12.01  ...         NaN          NaN   \n",
       "31         0  2022-01-10 09:24:26     1  12.01  ...         NaN          NaN   \n",
       "32         0  2022-01-10 09:24:26     1  12.01  ...         NaN          NaN   \n",
       "33         0  2022-01-10 09:24:26     1  12.01  ...         NaN          NaN   \n",
       "34         0  2022-01-10 09:24:26     1  12.01  ...         NaN          NaN   \n",
       "35         0  2022-01-10 09:24:26     1  12.01  ...         NaN          NaN   \n",
       "48         0  2022-01-10 10:09:22     2  12.01  ...         NaN          NaN   \n",
       "49         0  2022-01-10 10:09:22     2  12.01  ...         NaN          NaN   \n",
       "50         0  2022-01-10 10:09:22     2  12.01  ...         NaN          NaN   \n",
       "\n",
       "   xpdiffat15 csdiffat15 killsat15 assistsat15 deathsat15 opp_killsat15  \\\n",
       "24        NaN        NaN       NaN         NaN        NaN           NaN   \n",
       "25        NaN        NaN       NaN         NaN        NaN           NaN   \n",
       "26        NaN        NaN       NaN         NaN        NaN           NaN   \n",
       "27        NaN        NaN       NaN         NaN        NaN           NaN   \n",
       "28        NaN        NaN       NaN         NaN        NaN           NaN   \n",
       "29        NaN        NaN       NaN         NaN        NaN           NaN   \n",
       "30        NaN        NaN       NaN         NaN        NaN           NaN   \n",
       "31        NaN        NaN       NaN         NaN        NaN           NaN   \n",
       "32        NaN        NaN       NaN         NaN        NaN           NaN   \n",
       "33        NaN        NaN       NaN         NaN        NaN           NaN   \n",
       "34        NaN        NaN       NaN         NaN        NaN           NaN   \n",
       "35        NaN        NaN       NaN         NaN        NaN           NaN   \n",
       "48        NaN        NaN       NaN         NaN        NaN           NaN   \n",
       "49        NaN        NaN       NaN         NaN        NaN           NaN   \n",
       "50        NaN        NaN       NaN         NaN        NaN           NaN   \n",
       "\n",
       "   opp_assistsat15 opp_deathsat15  \n",
       "24             NaN            NaN  \n",
       "25             NaN            NaN  \n",
       "26             NaN            NaN  \n",
       "27             NaN            NaN  \n",
       "28             NaN            NaN  \n",
       "29             NaN            NaN  \n",
       "30             NaN            NaN  \n",
       "31             NaN            NaN  \n",
       "32             NaN            NaN  \n",
       "33             NaN            NaN  \n",
       "34             NaN            NaN  \n",
       "35             NaN            NaN  \n",
       "48             NaN            NaN  \n",
       "49             NaN            NaN  \n",
       "50             NaN            NaN  \n",
       "\n",
       "[15 rows x 130 columns]"
      ]
     },
     "execution_count": 72,
     "metadata": {},
     "output_type": "execute_result"
    }
   ],
   "source": [
    "tier1 = data[data['league'].isin(['LPL', 'LCK', 'LCS', 'LEC', 'PCS', 'VCS', 'CBLOL', 'LLA', 'LMS', 'LCO', 'LJL'])]\n",
    "tier1.head(15)"
   ]
  },
  {
   "cell_type": "markdown",
   "metadata": {},
   "source": [
    "#### Player Data"
   ]
  },
  {
   "cell_type": "code",
   "execution_count": 73,
   "metadata": {},
   "outputs": [
    {
     "data": {
      "text/html": [
       "<div>\n",
       "<style scoped>\n",
       "    .dataframe tbody tr th:only-of-type {\n",
       "        vertical-align: middle;\n",
       "    }\n",
       "\n",
       "    .dataframe tbody tr th {\n",
       "        vertical-align: top;\n",
       "    }\n",
       "\n",
       "    .dataframe thead th {\n",
       "        text-align: right;\n",
       "    }\n",
       "</style>\n",
       "<table border=\"1\" class=\"dataframe\">\n",
       "  <thead>\n",
       "    <tr style=\"text-align: right;\">\n",
       "      <th></th>\n",
       "      <th>gameid</th>\n",
       "      <th>datacompleteness</th>\n",
       "      <th>url</th>\n",
       "      <th>league</th>\n",
       "      <th>year</th>\n",
       "      <th>split</th>\n",
       "      <th>playoffs</th>\n",
       "      <th>date</th>\n",
       "      <th>game</th>\n",
       "      <th>patch</th>\n",
       "      <th>...</th>\n",
       "      <th>opp_csat15</th>\n",
       "      <th>golddiffat15</th>\n",
       "      <th>xpdiffat15</th>\n",
       "      <th>csdiffat15</th>\n",
       "      <th>killsat15</th>\n",
       "      <th>assistsat15</th>\n",
       "      <th>deathsat15</th>\n",
       "      <th>opp_killsat15</th>\n",
       "      <th>opp_assistsat15</th>\n",
       "      <th>opp_deathsat15</th>\n",
       "    </tr>\n",
       "  </thead>\n",
       "  <tbody>\n",
       "    <tr>\n",
       "      <th>24</th>\n",
       "      <td>8401-8401_game_1</td>\n",
       "      <td>partial</td>\n",
       "      <td>https://lpl.qq.com/es/stats.shtml?bmid=8401</td>\n",
       "      <td>LPL</td>\n",
       "      <td>2022</td>\n",
       "      <td>Spring</td>\n",
       "      <td>0</td>\n",
       "      <td>2022-01-10 09:24:26</td>\n",
       "      <td>1</td>\n",
       "      <td>12.01</td>\n",
       "      <td>...</td>\n",
       "      <td>NaN</td>\n",
       "      <td>NaN</td>\n",
       "      <td>NaN</td>\n",
       "      <td>NaN</td>\n",
       "      <td>NaN</td>\n",
       "      <td>NaN</td>\n",
       "      <td>NaN</td>\n",
       "      <td>NaN</td>\n",
       "      <td>NaN</td>\n",
       "      <td>NaN</td>\n",
       "    </tr>\n",
       "    <tr>\n",
       "      <th>25</th>\n",
       "      <td>8401-8401_game_1</td>\n",
       "      <td>partial</td>\n",
       "      <td>https://lpl.qq.com/es/stats.shtml?bmid=8401</td>\n",
       "      <td>LPL</td>\n",
       "      <td>2022</td>\n",
       "      <td>Spring</td>\n",
       "      <td>0</td>\n",
       "      <td>2022-01-10 09:24:26</td>\n",
       "      <td>1</td>\n",
       "      <td>12.01</td>\n",
       "      <td>...</td>\n",
       "      <td>NaN</td>\n",
       "      <td>NaN</td>\n",
       "      <td>NaN</td>\n",
       "      <td>NaN</td>\n",
       "      <td>NaN</td>\n",
       "      <td>NaN</td>\n",
       "      <td>NaN</td>\n",
       "      <td>NaN</td>\n",
       "      <td>NaN</td>\n",
       "      <td>NaN</td>\n",
       "    </tr>\n",
       "    <tr>\n",
       "      <th>26</th>\n",
       "      <td>8401-8401_game_1</td>\n",
       "      <td>partial</td>\n",
       "      <td>https://lpl.qq.com/es/stats.shtml?bmid=8401</td>\n",
       "      <td>LPL</td>\n",
       "      <td>2022</td>\n",
       "      <td>Spring</td>\n",
       "      <td>0</td>\n",
       "      <td>2022-01-10 09:24:26</td>\n",
       "      <td>1</td>\n",
       "      <td>12.01</td>\n",
       "      <td>...</td>\n",
       "      <td>NaN</td>\n",
       "      <td>NaN</td>\n",
       "      <td>NaN</td>\n",
       "      <td>NaN</td>\n",
       "      <td>NaN</td>\n",
       "      <td>NaN</td>\n",
       "      <td>NaN</td>\n",
       "      <td>NaN</td>\n",
       "      <td>NaN</td>\n",
       "      <td>NaN</td>\n",
       "    </tr>\n",
       "    <tr>\n",
       "      <th>27</th>\n",
       "      <td>8401-8401_game_1</td>\n",
       "      <td>partial</td>\n",
       "      <td>https://lpl.qq.com/es/stats.shtml?bmid=8401</td>\n",
       "      <td>LPL</td>\n",
       "      <td>2022</td>\n",
       "      <td>Spring</td>\n",
       "      <td>0</td>\n",
       "      <td>2022-01-10 09:24:26</td>\n",
       "      <td>1</td>\n",
       "      <td>12.01</td>\n",
       "      <td>...</td>\n",
       "      <td>NaN</td>\n",
       "      <td>NaN</td>\n",
       "      <td>NaN</td>\n",
       "      <td>NaN</td>\n",
       "      <td>NaN</td>\n",
       "      <td>NaN</td>\n",
       "      <td>NaN</td>\n",
       "      <td>NaN</td>\n",
       "      <td>NaN</td>\n",
       "      <td>NaN</td>\n",
       "    </tr>\n",
       "    <tr>\n",
       "      <th>28</th>\n",
       "      <td>8401-8401_game_1</td>\n",
       "      <td>partial</td>\n",
       "      <td>https://lpl.qq.com/es/stats.shtml?bmid=8401</td>\n",
       "      <td>LPL</td>\n",
       "      <td>2022</td>\n",
       "      <td>Spring</td>\n",
       "      <td>0</td>\n",
       "      <td>2022-01-10 09:24:26</td>\n",
       "      <td>1</td>\n",
       "      <td>12.01</td>\n",
       "      <td>...</td>\n",
       "      <td>NaN</td>\n",
       "      <td>NaN</td>\n",
       "      <td>NaN</td>\n",
       "      <td>NaN</td>\n",
       "      <td>NaN</td>\n",
       "      <td>NaN</td>\n",
       "      <td>NaN</td>\n",
       "      <td>NaN</td>\n",
       "      <td>NaN</td>\n",
       "      <td>NaN</td>\n",
       "    </tr>\n",
       "    <tr>\n",
       "      <th>...</th>\n",
       "      <td>...</td>\n",
       "      <td>...</td>\n",
       "      <td>...</td>\n",
       "      <td>...</td>\n",
       "      <td>...</td>\n",
       "      <td>...</td>\n",
       "      <td>...</td>\n",
       "      <td>...</td>\n",
       "      <td>...</td>\n",
       "      <td>...</td>\n",
       "      <td>...</td>\n",
       "      <td>...</td>\n",
       "      <td>...</td>\n",
       "      <td>...</td>\n",
       "      <td>...</td>\n",
       "      <td>...</td>\n",
       "      <td>...</td>\n",
       "      <td>...</td>\n",
       "      <td>...</td>\n",
       "      <td>...</td>\n",
       "      <td>...</td>\n",
       "    </tr>\n",
       "    <tr>\n",
       "      <th>133409</th>\n",
       "      <td>ESPORTSTMNT03_2961733</td>\n",
       "      <td>complete</td>\n",
       "      <td>NaN</td>\n",
       "      <td>LLA</td>\n",
       "      <td>2023</td>\n",
       "      <td>NaN</td>\n",
       "      <td>0</td>\n",
       "      <td>2022-09-11 23:09:07</td>\n",
       "      <td>4</td>\n",
       "      <td>12.16</td>\n",
       "      <td>...</td>\n",
       "      <td>149.0</td>\n",
       "      <td>-1338.0</td>\n",
       "      <td>-597.0</td>\n",
       "      <td>-23.0</td>\n",
       "      <td>0.0</td>\n",
       "      <td>0.0</td>\n",
       "      <td>1.0</td>\n",
       "      <td>1.0</td>\n",
       "      <td>1.0</td>\n",
       "      <td>0.0</td>\n",
       "    </tr>\n",
       "    <tr>\n",
       "      <th>133410</th>\n",
       "      <td>ESPORTSTMNT03_2961733</td>\n",
       "      <td>complete</td>\n",
       "      <td>NaN</td>\n",
       "      <td>LLA</td>\n",
       "      <td>2023</td>\n",
       "      <td>NaN</td>\n",
       "      <td>0</td>\n",
       "      <td>2022-09-11 23:09:07</td>\n",
       "      <td>4</td>\n",
       "      <td>12.16</td>\n",
       "      <td>...</td>\n",
       "      <td>88.0</td>\n",
       "      <td>-1831.0</td>\n",
       "      <td>-816.0</td>\n",
       "      <td>-1.0</td>\n",
       "      <td>0.0</td>\n",
       "      <td>0.0</td>\n",
       "      <td>1.0</td>\n",
       "      <td>2.0</td>\n",
       "      <td>6.0</td>\n",
       "      <td>0.0</td>\n",
       "    </tr>\n",
       "    <tr>\n",
       "      <th>133411</th>\n",
       "      <td>ESPORTSTMNT03_2961733</td>\n",
       "      <td>complete</td>\n",
       "      <td>NaN</td>\n",
       "      <td>LLA</td>\n",
       "      <td>2023</td>\n",
       "      <td>NaN</td>\n",
       "      <td>0</td>\n",
       "      <td>2022-09-11 23:09:07</td>\n",
       "      <td>4</td>\n",
       "      <td>12.16</td>\n",
       "      <td>...</td>\n",
       "      <td>132.0</td>\n",
       "      <td>-1613.0</td>\n",
       "      <td>-209.0</td>\n",
       "      <td>-10.0</td>\n",
       "      <td>0.0</td>\n",
       "      <td>0.0</td>\n",
       "      <td>2.0</td>\n",
       "      <td>1.0</td>\n",
       "      <td>4.0</td>\n",
       "      <td>0.0</td>\n",
       "    </tr>\n",
       "    <tr>\n",
       "      <th>133412</th>\n",
       "      <td>ESPORTSTMNT03_2961733</td>\n",
       "      <td>complete</td>\n",
       "      <td>NaN</td>\n",
       "      <td>LLA</td>\n",
       "      <td>2023</td>\n",
       "      <td>NaN</td>\n",
       "      <td>0</td>\n",
       "      <td>2022-09-11 23:09:07</td>\n",
       "      <td>4</td>\n",
       "      <td>12.16</td>\n",
       "      <td>...</td>\n",
       "      <td>124.0</td>\n",
       "      <td>-1663.0</td>\n",
       "      <td>-845.0</td>\n",
       "      <td>1.0</td>\n",
       "      <td>0.0</td>\n",
       "      <td>0.0</td>\n",
       "      <td>1.0</td>\n",
       "      <td>3.0</td>\n",
       "      <td>4.0</td>\n",
       "      <td>0.0</td>\n",
       "    </tr>\n",
       "    <tr>\n",
       "      <th>133413</th>\n",
       "      <td>ESPORTSTMNT03_2961733</td>\n",
       "      <td>complete</td>\n",
       "      <td>NaN</td>\n",
       "      <td>LLA</td>\n",
       "      <td>2023</td>\n",
       "      <td>NaN</td>\n",
       "      <td>0</td>\n",
       "      <td>2022-09-11 23:09:07</td>\n",
       "      <td>4</td>\n",
       "      <td>12.16</td>\n",
       "      <td>...</td>\n",
       "      <td>21.0</td>\n",
       "      <td>-433.0</td>\n",
       "      <td>-182.0</td>\n",
       "      <td>4.0</td>\n",
       "      <td>0.0</td>\n",
       "      <td>0.0</td>\n",
       "      <td>3.0</td>\n",
       "      <td>1.0</td>\n",
       "      <td>4.0</td>\n",
       "      <td>0.0</td>\n",
       "    </tr>\n",
       "  </tbody>\n",
       "</table>\n",
       "<p>32520 rows × 130 columns</p>\n",
       "</div>"
      ],
      "text/plain": [
       "                       gameid datacompleteness  \\\n",
       "24           8401-8401_game_1          partial   \n",
       "25           8401-8401_game_1          partial   \n",
       "26           8401-8401_game_1          partial   \n",
       "27           8401-8401_game_1          partial   \n",
       "28           8401-8401_game_1          partial   \n",
       "...                       ...              ...   \n",
       "133409  ESPORTSTMNT03_2961733         complete   \n",
       "133410  ESPORTSTMNT03_2961733         complete   \n",
       "133411  ESPORTSTMNT03_2961733         complete   \n",
       "133412  ESPORTSTMNT03_2961733         complete   \n",
       "133413  ESPORTSTMNT03_2961733         complete   \n",
       "\n",
       "                                                url league  year   split  \\\n",
       "24      https://lpl.qq.com/es/stats.shtml?bmid=8401    LPL  2022  Spring   \n",
       "25      https://lpl.qq.com/es/stats.shtml?bmid=8401    LPL  2022  Spring   \n",
       "26      https://lpl.qq.com/es/stats.shtml?bmid=8401    LPL  2022  Spring   \n",
       "27      https://lpl.qq.com/es/stats.shtml?bmid=8401    LPL  2022  Spring   \n",
       "28      https://lpl.qq.com/es/stats.shtml?bmid=8401    LPL  2022  Spring   \n",
       "...                                             ...    ...   ...     ...   \n",
       "133409                                          NaN    LLA  2023     NaN   \n",
       "133410                                          NaN    LLA  2023     NaN   \n",
       "133411                                          NaN    LLA  2023     NaN   \n",
       "133412                                          NaN    LLA  2023     NaN   \n",
       "133413                                          NaN    LLA  2023     NaN   \n",
       "\n",
       "        playoffs                 date  game  patch  ...  opp_csat15  \\\n",
       "24             0  2022-01-10 09:24:26     1  12.01  ...         NaN   \n",
       "25             0  2022-01-10 09:24:26     1  12.01  ...         NaN   \n",
       "26             0  2022-01-10 09:24:26     1  12.01  ...         NaN   \n",
       "27             0  2022-01-10 09:24:26     1  12.01  ...         NaN   \n",
       "28             0  2022-01-10 09:24:26     1  12.01  ...         NaN   \n",
       "...          ...                  ...   ...    ...  ...         ...   \n",
       "133409         0  2022-09-11 23:09:07     4  12.16  ...       149.0   \n",
       "133410         0  2022-09-11 23:09:07     4  12.16  ...        88.0   \n",
       "133411         0  2022-09-11 23:09:07     4  12.16  ...       132.0   \n",
       "133412         0  2022-09-11 23:09:07     4  12.16  ...       124.0   \n",
       "133413         0  2022-09-11 23:09:07     4  12.16  ...        21.0   \n",
       "\n",
       "       golddiffat15 xpdiffat15 csdiffat15 killsat15 assistsat15 deathsat15  \\\n",
       "24              NaN        NaN        NaN       NaN         NaN        NaN   \n",
       "25              NaN        NaN        NaN       NaN         NaN        NaN   \n",
       "26              NaN        NaN        NaN       NaN         NaN        NaN   \n",
       "27              NaN        NaN        NaN       NaN         NaN        NaN   \n",
       "28              NaN        NaN        NaN       NaN         NaN        NaN   \n",
       "...             ...        ...        ...       ...         ...        ...   \n",
       "133409      -1338.0     -597.0      -23.0       0.0         0.0        1.0   \n",
       "133410      -1831.0     -816.0       -1.0       0.0         0.0        1.0   \n",
       "133411      -1613.0     -209.0      -10.0       0.0         0.0        2.0   \n",
       "133412      -1663.0     -845.0        1.0       0.0         0.0        1.0   \n",
       "133413       -433.0     -182.0        4.0       0.0         0.0        3.0   \n",
       "\n",
       "       opp_killsat15 opp_assistsat15 opp_deathsat15  \n",
       "24               NaN             NaN            NaN  \n",
       "25               NaN             NaN            NaN  \n",
       "26               NaN             NaN            NaN  \n",
       "27               NaN             NaN            NaN  \n",
       "28               NaN             NaN            NaN  \n",
       "...              ...             ...            ...  \n",
       "133409           1.0             1.0            0.0  \n",
       "133410           2.0             6.0            0.0  \n",
       "133411           1.0             4.0            0.0  \n",
       "133412           3.0             4.0            0.0  \n",
       "133413           1.0             4.0            0.0  \n",
       "\n",
       "[32520 rows x 130 columns]"
      ]
     },
     "execution_count": 73,
     "metadata": {},
     "output_type": "execute_result"
    }
   ],
   "source": [
    "tier1_player = tier1.iloc[[i for i in range(len(tier1)) if i % 12 in range(10)]]\n",
    "tier1_player"
   ]
  },
  {
   "cell_type": "code",
   "execution_count": 74,
   "metadata": {},
   "outputs": [
    {
     "data": {
      "text/plain": [
       "24       shanji\n",
       "25          Aki\n",
       "26        Creme\n",
       "27         Able\n",
       "28         COLD\n",
       "29          New\n",
       "30        Moyan\n",
       "31       Feikun\n",
       "32         Puff\n",
       "33    Southwind\n",
       "48       shanji\n",
       "49          Aki\n",
       "50        Creme\n",
       "51         Able\n",
       "52         COLD\n",
       "Name: playername, dtype: object"
      ]
     },
     "execution_count": 74,
     "metadata": {},
     "output_type": "execute_result"
    }
   ],
   "source": [
    "# verification\n",
    "tier1_player['playername'].head(15)"
   ]
  },
  {
   "cell_type": "markdown",
   "metadata": {},
   "source": [
    "#### Team Data"
   ]
  },
  {
   "cell_type": "code",
   "execution_count": 75,
   "metadata": {},
   "outputs": [
    {
     "data": {
      "text/html": [
       "<div>\n",
       "<style scoped>\n",
       "    .dataframe tbody tr th:only-of-type {\n",
       "        vertical-align: middle;\n",
       "    }\n",
       "\n",
       "    .dataframe tbody tr th {\n",
       "        vertical-align: top;\n",
       "    }\n",
       "\n",
       "    .dataframe thead th {\n",
       "        text-align: right;\n",
       "    }\n",
       "</style>\n",
       "<table border=\"1\" class=\"dataframe\">\n",
       "  <thead>\n",
       "    <tr style=\"text-align: right;\">\n",
       "      <th></th>\n",
       "      <th>gameid</th>\n",
       "      <th>datacompleteness</th>\n",
       "      <th>url</th>\n",
       "      <th>league</th>\n",
       "      <th>year</th>\n",
       "      <th>split</th>\n",
       "      <th>playoffs</th>\n",
       "      <th>date</th>\n",
       "      <th>game</th>\n",
       "      <th>patch</th>\n",
       "      <th>...</th>\n",
       "      <th>opp_csat15</th>\n",
       "      <th>golddiffat15</th>\n",
       "      <th>xpdiffat15</th>\n",
       "      <th>csdiffat15</th>\n",
       "      <th>killsat15</th>\n",
       "      <th>assistsat15</th>\n",
       "      <th>deathsat15</th>\n",
       "      <th>opp_killsat15</th>\n",
       "      <th>opp_assistsat15</th>\n",
       "      <th>opp_deathsat15</th>\n",
       "    </tr>\n",
       "  </thead>\n",
       "  <tbody>\n",
       "    <tr>\n",
       "      <th>34</th>\n",
       "      <td>8401-8401_game_1</td>\n",
       "      <td>partial</td>\n",
       "      <td>https://lpl.qq.com/es/stats.shtml?bmid=8401</td>\n",
       "      <td>LPL</td>\n",
       "      <td>2022</td>\n",
       "      <td>Spring</td>\n",
       "      <td>0</td>\n",
       "      <td>2022-01-10 09:24:26</td>\n",
       "      <td>1</td>\n",
       "      <td>12.01</td>\n",
       "      <td>...</td>\n",
       "      <td>NaN</td>\n",
       "      <td>NaN</td>\n",
       "      <td>NaN</td>\n",
       "      <td>NaN</td>\n",
       "      <td>NaN</td>\n",
       "      <td>NaN</td>\n",
       "      <td>NaN</td>\n",
       "      <td>NaN</td>\n",
       "      <td>NaN</td>\n",
       "      <td>NaN</td>\n",
       "    </tr>\n",
       "    <tr>\n",
       "      <th>35</th>\n",
       "      <td>8401-8401_game_1</td>\n",
       "      <td>partial</td>\n",
       "      <td>https://lpl.qq.com/es/stats.shtml?bmid=8401</td>\n",
       "      <td>LPL</td>\n",
       "      <td>2022</td>\n",
       "      <td>Spring</td>\n",
       "      <td>0</td>\n",
       "      <td>2022-01-10 09:24:26</td>\n",
       "      <td>1</td>\n",
       "      <td>12.01</td>\n",
       "      <td>...</td>\n",
       "      <td>NaN</td>\n",
       "      <td>NaN</td>\n",
       "      <td>NaN</td>\n",
       "      <td>NaN</td>\n",
       "      <td>NaN</td>\n",
       "      <td>NaN</td>\n",
       "      <td>NaN</td>\n",
       "      <td>NaN</td>\n",
       "      <td>NaN</td>\n",
       "      <td>NaN</td>\n",
       "    </tr>\n",
       "    <tr>\n",
       "      <th>58</th>\n",
       "      <td>8401-8401_game_2</td>\n",
       "      <td>partial</td>\n",
       "      <td>https://lpl.qq.com/es/stats.shtml?bmid=8401</td>\n",
       "      <td>LPL</td>\n",
       "      <td>2022</td>\n",
       "      <td>Spring</td>\n",
       "      <td>0</td>\n",
       "      <td>2022-01-10 10:09:22</td>\n",
       "      <td>2</td>\n",
       "      <td>12.01</td>\n",
       "      <td>...</td>\n",
       "      <td>NaN</td>\n",
       "      <td>NaN</td>\n",
       "      <td>NaN</td>\n",
       "      <td>NaN</td>\n",
       "      <td>NaN</td>\n",
       "      <td>NaN</td>\n",
       "      <td>NaN</td>\n",
       "      <td>NaN</td>\n",
       "      <td>NaN</td>\n",
       "      <td>NaN</td>\n",
       "    </tr>\n",
       "    <tr>\n",
       "      <th>59</th>\n",
       "      <td>8401-8401_game_2</td>\n",
       "      <td>partial</td>\n",
       "      <td>https://lpl.qq.com/es/stats.shtml?bmid=8401</td>\n",
       "      <td>LPL</td>\n",
       "      <td>2022</td>\n",
       "      <td>Spring</td>\n",
       "      <td>0</td>\n",
       "      <td>2022-01-10 10:09:22</td>\n",
       "      <td>2</td>\n",
       "      <td>12.01</td>\n",
       "      <td>...</td>\n",
       "      <td>NaN</td>\n",
       "      <td>NaN</td>\n",
       "      <td>NaN</td>\n",
       "      <td>NaN</td>\n",
       "      <td>NaN</td>\n",
       "      <td>NaN</td>\n",
       "      <td>NaN</td>\n",
       "      <td>NaN</td>\n",
       "      <td>NaN</td>\n",
       "      <td>NaN</td>\n",
       "    </tr>\n",
       "    <tr>\n",
       "      <th>82</th>\n",
       "      <td>8402-8402_game_1</td>\n",
       "      <td>partial</td>\n",
       "      <td>https://lpl.qq.com/es/stats.shtml?bmid=8402</td>\n",
       "      <td>LPL</td>\n",
       "      <td>2022</td>\n",
       "      <td>Spring</td>\n",
       "      <td>0</td>\n",
       "      <td>2022-01-10 11:26:11</td>\n",
       "      <td>1</td>\n",
       "      <td>12.01</td>\n",
       "      <td>...</td>\n",
       "      <td>NaN</td>\n",
       "      <td>NaN</td>\n",
       "      <td>NaN</td>\n",
       "      <td>NaN</td>\n",
       "      <td>NaN</td>\n",
       "      <td>NaN</td>\n",
       "      <td>NaN</td>\n",
       "      <td>NaN</td>\n",
       "      <td>NaN</td>\n",
       "      <td>NaN</td>\n",
       "    </tr>\n",
       "    <tr>\n",
       "      <th>...</th>\n",
       "      <td>...</td>\n",
       "      <td>...</td>\n",
       "      <td>...</td>\n",
       "      <td>...</td>\n",
       "      <td>...</td>\n",
       "      <td>...</td>\n",
       "      <td>...</td>\n",
       "      <td>...</td>\n",
       "      <td>...</td>\n",
       "      <td>...</td>\n",
       "      <td>...</td>\n",
       "      <td>...</td>\n",
       "      <td>...</td>\n",
       "      <td>...</td>\n",
       "      <td>...</td>\n",
       "      <td>...</td>\n",
       "      <td>...</td>\n",
       "      <td>...</td>\n",
       "      <td>...</td>\n",
       "      <td>...</td>\n",
       "      <td>...</td>\n",
       "    </tr>\n",
       "    <tr>\n",
       "      <th>133391</th>\n",
       "      <td>ESPORTSTMNT02_2965321</td>\n",
       "      <td>complete</td>\n",
       "      <td>NaN</td>\n",
       "      <td>LCS</td>\n",
       "      <td>2022</td>\n",
       "      <td>Summer</td>\n",
       "      <td>1</td>\n",
       "      <td>2022-09-11 21:34:49</td>\n",
       "      <td>3</td>\n",
       "      <td>12.15</td>\n",
       "      <td>...</td>\n",
       "      <td>466.0</td>\n",
       "      <td>-195.0</td>\n",
       "      <td>1700.0</td>\n",
       "      <td>21.0</td>\n",
       "      <td>3.0</td>\n",
       "      <td>5.0</td>\n",
       "      <td>4.0</td>\n",
       "      <td>4.0</td>\n",
       "      <td>7.0</td>\n",
       "      <td>3.0</td>\n",
       "    </tr>\n",
       "    <tr>\n",
       "      <th>133402</th>\n",
       "      <td>ESPORTSTMNT03_2961731</td>\n",
       "      <td>complete</td>\n",
       "      <td>NaN</td>\n",
       "      <td>LLA</td>\n",
       "      <td>2023</td>\n",
       "      <td>NaN</td>\n",
       "      <td>0</td>\n",
       "      <td>2022-09-11 21:37:14</td>\n",
       "      <td>3</td>\n",
       "      <td>12.16</td>\n",
       "      <td>...</td>\n",
       "      <td>546.0</td>\n",
       "      <td>-2304.0</td>\n",
       "      <td>-1702.0</td>\n",
       "      <td>-40.0</td>\n",
       "      <td>0.0</td>\n",
       "      <td>0.0</td>\n",
       "      <td>3.0</td>\n",
       "      <td>3.0</td>\n",
       "      <td>6.0</td>\n",
       "      <td>0.0</td>\n",
       "    </tr>\n",
       "    <tr>\n",
       "      <th>133403</th>\n",
       "      <td>ESPORTSTMNT03_2961731</td>\n",
       "      <td>complete</td>\n",
       "      <td>NaN</td>\n",
       "      <td>LLA</td>\n",
       "      <td>2023</td>\n",
       "      <td>NaN</td>\n",
       "      <td>0</td>\n",
       "      <td>2022-09-11 21:37:14</td>\n",
       "      <td>3</td>\n",
       "      <td>12.16</td>\n",
       "      <td>...</td>\n",
       "      <td>506.0</td>\n",
       "      <td>2304.0</td>\n",
       "      <td>1702.0</td>\n",
       "      <td>40.0</td>\n",
       "      <td>3.0</td>\n",
       "      <td>6.0</td>\n",
       "      <td>0.0</td>\n",
       "      <td>0.0</td>\n",
       "      <td>0.0</td>\n",
       "      <td>3.0</td>\n",
       "    </tr>\n",
       "    <tr>\n",
       "      <th>133414</th>\n",
       "      <td>ESPORTSTMNT03_2961733</td>\n",
       "      <td>complete</td>\n",
       "      <td>NaN</td>\n",
       "      <td>LLA</td>\n",
       "      <td>2023</td>\n",
       "      <td>NaN</td>\n",
       "      <td>0</td>\n",
       "      <td>2022-09-11 23:09:07</td>\n",
       "      <td>4</td>\n",
       "      <td>12.16</td>\n",
       "      <td>...</td>\n",
       "      <td>485.0</td>\n",
       "      <td>6878.0</td>\n",
       "      <td>2649.0</td>\n",
       "      <td>29.0</td>\n",
       "      <td>8.0</td>\n",
       "      <td>19.0</td>\n",
       "      <td>0.0</td>\n",
       "      <td>0.0</td>\n",
       "      <td>0.0</td>\n",
       "      <td>8.0</td>\n",
       "    </tr>\n",
       "    <tr>\n",
       "      <th>133415</th>\n",
       "      <td>ESPORTSTMNT03_2961733</td>\n",
       "      <td>complete</td>\n",
       "      <td>NaN</td>\n",
       "      <td>LLA</td>\n",
       "      <td>2023</td>\n",
       "      <td>NaN</td>\n",
       "      <td>0</td>\n",
       "      <td>2022-09-11 23:09:07</td>\n",
       "      <td>4</td>\n",
       "      <td>12.16</td>\n",
       "      <td>...</td>\n",
       "      <td>514.0</td>\n",
       "      <td>-6878.0</td>\n",
       "      <td>-2649.0</td>\n",
       "      <td>-29.0</td>\n",
       "      <td>0.0</td>\n",
       "      <td>0.0</td>\n",
       "      <td>8.0</td>\n",
       "      <td>8.0</td>\n",
       "      <td>19.0</td>\n",
       "      <td>0.0</td>\n",
       "    </tr>\n",
       "  </tbody>\n",
       "</table>\n",
       "<p>6504 rows × 130 columns</p>\n",
       "</div>"
      ],
      "text/plain": [
       "                       gameid datacompleteness  \\\n",
       "34           8401-8401_game_1          partial   \n",
       "35           8401-8401_game_1          partial   \n",
       "58           8401-8401_game_2          partial   \n",
       "59           8401-8401_game_2          partial   \n",
       "82           8402-8402_game_1          partial   \n",
       "...                       ...              ...   \n",
       "133391  ESPORTSTMNT02_2965321         complete   \n",
       "133402  ESPORTSTMNT03_2961731         complete   \n",
       "133403  ESPORTSTMNT03_2961731         complete   \n",
       "133414  ESPORTSTMNT03_2961733         complete   \n",
       "133415  ESPORTSTMNT03_2961733         complete   \n",
       "\n",
       "                                                url league  year   split  \\\n",
       "34      https://lpl.qq.com/es/stats.shtml?bmid=8401    LPL  2022  Spring   \n",
       "35      https://lpl.qq.com/es/stats.shtml?bmid=8401    LPL  2022  Spring   \n",
       "58      https://lpl.qq.com/es/stats.shtml?bmid=8401    LPL  2022  Spring   \n",
       "59      https://lpl.qq.com/es/stats.shtml?bmid=8401    LPL  2022  Spring   \n",
       "82      https://lpl.qq.com/es/stats.shtml?bmid=8402    LPL  2022  Spring   \n",
       "...                                             ...    ...   ...     ...   \n",
       "133391                                          NaN    LCS  2022  Summer   \n",
       "133402                                          NaN    LLA  2023     NaN   \n",
       "133403                                          NaN    LLA  2023     NaN   \n",
       "133414                                          NaN    LLA  2023     NaN   \n",
       "133415                                          NaN    LLA  2023     NaN   \n",
       "\n",
       "        playoffs                 date  game  patch  ...  opp_csat15  \\\n",
       "34             0  2022-01-10 09:24:26     1  12.01  ...         NaN   \n",
       "35             0  2022-01-10 09:24:26     1  12.01  ...         NaN   \n",
       "58             0  2022-01-10 10:09:22     2  12.01  ...         NaN   \n",
       "59             0  2022-01-10 10:09:22     2  12.01  ...         NaN   \n",
       "82             0  2022-01-10 11:26:11     1  12.01  ...         NaN   \n",
       "...          ...                  ...   ...    ...  ...         ...   \n",
       "133391         1  2022-09-11 21:34:49     3  12.15  ...       466.0   \n",
       "133402         0  2022-09-11 21:37:14     3  12.16  ...       546.0   \n",
       "133403         0  2022-09-11 21:37:14     3  12.16  ...       506.0   \n",
       "133414         0  2022-09-11 23:09:07     4  12.16  ...       485.0   \n",
       "133415         0  2022-09-11 23:09:07     4  12.16  ...       514.0   \n",
       "\n",
       "       golddiffat15 xpdiffat15 csdiffat15 killsat15 assistsat15 deathsat15  \\\n",
       "34              NaN        NaN        NaN       NaN         NaN        NaN   \n",
       "35              NaN        NaN        NaN       NaN         NaN        NaN   \n",
       "58              NaN        NaN        NaN       NaN         NaN        NaN   \n",
       "59              NaN        NaN        NaN       NaN         NaN        NaN   \n",
       "82              NaN        NaN        NaN       NaN         NaN        NaN   \n",
       "...             ...        ...        ...       ...         ...        ...   \n",
       "133391       -195.0     1700.0       21.0       3.0         5.0        4.0   \n",
       "133402      -2304.0    -1702.0      -40.0       0.0         0.0        3.0   \n",
       "133403       2304.0     1702.0       40.0       3.0         6.0        0.0   \n",
       "133414       6878.0     2649.0       29.0       8.0        19.0        0.0   \n",
       "133415      -6878.0    -2649.0      -29.0       0.0         0.0        8.0   \n",
       "\n",
       "       opp_killsat15 opp_assistsat15 opp_deathsat15  \n",
       "34               NaN             NaN            NaN  \n",
       "35               NaN             NaN            NaN  \n",
       "58               NaN             NaN            NaN  \n",
       "59               NaN             NaN            NaN  \n",
       "82               NaN             NaN            NaN  \n",
       "...              ...             ...            ...  \n",
       "133391           4.0             7.0            3.0  \n",
       "133402           3.0             6.0            0.0  \n",
       "133403           0.0             0.0            3.0  \n",
       "133414           0.0             0.0            8.0  \n",
       "133415           8.0            19.0            0.0  \n",
       "\n",
       "[6504 rows x 130 columns]"
      ]
     },
     "execution_count": 75,
     "metadata": {},
     "output_type": "execute_result"
    }
   ],
   "source": [
    "tier1_team = tier1.iloc[[i for i in range(len(tier1)) if i%12 in {10, 11}]]\n",
    "tier1_team"
   ]
  },
  {
   "cell_type": "code",
   "execution_count": 76,
   "metadata": {},
   "outputs": [
    {
     "data": {
      "text/html": [
       "<div>\n",
       "<style scoped>\n",
       "    .dataframe tbody tr th:only-of-type {\n",
       "        vertical-align: middle;\n",
       "    }\n",
       "\n",
       "    .dataframe tbody tr th {\n",
       "        vertical-align: top;\n",
       "    }\n",
       "\n",
       "    .dataframe thead th {\n",
       "        text-align: right;\n",
       "    }\n",
       "</style>\n",
       "<table border=\"1\" class=\"dataframe\">\n",
       "  <thead>\n",
       "    <tr style=\"text-align: right;\">\n",
       "      <th></th>\n",
       "      <th>pick1</th>\n",
       "      <th>pick2</th>\n",
       "      <th>pick3</th>\n",
       "      <th>pick4</th>\n",
       "      <th>pick5</th>\n",
       "    </tr>\n",
       "  </thead>\n",
       "  <tbody>\n",
       "    <tr>\n",
       "      <th>34</th>\n",
       "      <td>Jinx</td>\n",
       "      <td>Jarvan IV</td>\n",
       "      <td>Nautilus</td>\n",
       "      <td>Syndra</td>\n",
       "      <td>Gwen</td>\n",
       "    </tr>\n",
       "    <tr>\n",
       "      <th>35</th>\n",
       "      <td>Xin Zhao</td>\n",
       "      <td>Thresh</td>\n",
       "      <td>Aphelios</td>\n",
       "      <td>Vex</td>\n",
       "      <td>Jax</td>\n",
       "    </tr>\n",
       "    <tr>\n",
       "      <th>58</th>\n",
       "      <td>Jinx</td>\n",
       "      <td>Xin Zhao</td>\n",
       "      <td>Rakan</td>\n",
       "      <td>Rumble</td>\n",
       "      <td>Corki</td>\n",
       "    </tr>\n",
       "    <tr>\n",
       "      <th>59</th>\n",
       "      <td>Lee Sin</td>\n",
       "      <td>Leona</td>\n",
       "      <td>Ziggs</td>\n",
       "      <td>Gangplank</td>\n",
       "      <td>Twisted Fate</td>\n",
       "    </tr>\n",
       "    <tr>\n",
       "      <th>82</th>\n",
       "      <td>Jinx</td>\n",
       "      <td>Viego</td>\n",
       "      <td>Thresh</td>\n",
       "      <td>Corki</td>\n",
       "      <td>Graves</td>\n",
       "    </tr>\n",
       "    <tr>\n",
       "      <th>...</th>\n",
       "      <td>...</td>\n",
       "      <td>...</td>\n",
       "      <td>...</td>\n",
       "      <td>...</td>\n",
       "      <td>...</td>\n",
       "    </tr>\n",
       "    <tr>\n",
       "      <th>133391</th>\n",
       "      <td>Wukong</td>\n",
       "      <td>Lulu</td>\n",
       "      <td>Sivir</td>\n",
       "      <td>Zilean</td>\n",
       "      <td>Gnar</td>\n",
       "    </tr>\n",
       "    <tr>\n",
       "      <th>133402</th>\n",
       "      <td>Sivir</td>\n",
       "      <td>Vi</td>\n",
       "      <td>Yuumi</td>\n",
       "      <td>Ornn</td>\n",
       "      <td>Viktor</td>\n",
       "    </tr>\n",
       "    <tr>\n",
       "      <th>133403</th>\n",
       "      <td>Wukong</td>\n",
       "      <td>Zeri</td>\n",
       "      <td>Ahri</td>\n",
       "      <td>Rakan</td>\n",
       "      <td>Aatrox</td>\n",
       "    </tr>\n",
       "    <tr>\n",
       "      <th>133414</th>\n",
       "      <td>Kalista</td>\n",
       "      <td>Wukong</td>\n",
       "      <td>Nautilus</td>\n",
       "      <td>Vex</td>\n",
       "      <td>Renekton</td>\n",
       "    </tr>\n",
       "    <tr>\n",
       "      <th>133415</th>\n",
       "      <td>Sejuani</td>\n",
       "      <td>Sylas</td>\n",
       "      <td>Vi</td>\n",
       "      <td>Aphelios</td>\n",
       "      <td>Tahm Kench</td>\n",
       "    </tr>\n",
       "  </tbody>\n",
       "</table>\n",
       "<p>6504 rows × 5 columns</p>\n",
       "</div>"
      ],
      "text/plain": [
       "           pick1      pick2     pick3      pick4         pick5\n",
       "34          Jinx  Jarvan IV  Nautilus     Syndra          Gwen\n",
       "35      Xin Zhao     Thresh  Aphelios        Vex           Jax\n",
       "58          Jinx   Xin Zhao     Rakan     Rumble         Corki\n",
       "59       Lee Sin      Leona     Ziggs  Gangplank  Twisted Fate\n",
       "82          Jinx      Viego    Thresh      Corki        Graves\n",
       "...          ...        ...       ...        ...           ...\n",
       "133391    Wukong       Lulu     Sivir     Zilean          Gnar\n",
       "133402     Sivir         Vi     Yuumi       Ornn        Viktor\n",
       "133403    Wukong       Zeri      Ahri      Rakan        Aatrox\n",
       "133414   Kalista     Wukong  Nautilus        Vex      Renekton\n",
       "133415   Sejuani      Sylas        Vi   Aphelios    Tahm Kench\n",
       "\n",
       "[6504 rows x 5 columns]"
      ]
     },
     "execution_count": 76,
     "metadata": {},
     "output_type": "execute_result"
    }
   ],
   "source": [
    "# verification\n",
    "tier1_team.loc[:, 'pick1':'pick5']"
   ]
  },
  {
   "cell_type": "markdown",
   "metadata": {},
   "source": [
    "### Univariate Analysis"
   ]
  },
  {
   "cell_type": "markdown",
   "metadata": {},
   "source": [
    "#### Number of Games Played in Each Patch\n",
    "We can see that there were no games played in tier 1 leagues in 12.07, and there were only few games in 12.06, 12.08, and 12.16. It is because that most league spring playoffs happened in 12.05 and 12.06, so there was no game played in 12.07. The Mid-Seasonal Invitational(MSI) was hold during 12.08, so there was few games in 12.08 in tier 1 leagues, as we do not include the international competitions. Same reason apply to 12.16, most league summer playoffs happened in 12.15 and 12.16, and then the Worlds happened in 12.18."
   ]
  },
  {
   "cell_type": "code",
   "execution_count": 78,
   "metadata": {},
   "outputs": [
    {
     "data": {
      "application/vnd.plotly.v1+json": {
       "config": {
        "plotlyServerURL": "https://plot.ly"
       },
       "data": [
        {
         "alignmentgroup": "True",
         "hovertemplate": "variable=patch<br>index=%{x}<br>value=%{y}<extra></extra>",
         "legendgroup": "patch",
         "marker": {
          "color": "#636efa",
          "pattern": {
           "shape": ""
          }
         },
         "name": "patch",
         "offsetgroup": "patch",
         "orientation": "v",
         "showlegend": true,
         "textposition": "auto",
         "type": "bar",
         "x": [
          "12.01",
          "12.02",
          "12.03",
          "12.04",
          "12.05",
          "12.06",
          "12.08",
          "12.10",
          "12.11",
          "12.12",
          "12.13",
          "12.14",
          "12.15",
          "12.16"
         ],
         "xaxis": "x",
         "y": [
          224,
          293,
          244,
          363,
          443,
          41,
          20,
          117,
          275,
          382,
          305,
          334,
          204,
          7
         ],
         "yaxis": "y"
        }
       ],
       "layout": {
        "barmode": "relative",
        "legend": {
         "title": {
          "text": "variable"
         },
         "tracegroupgap": 0
        },
        "margin": {
         "t": 60
        },
        "showlegend": false,
        "template": {
         "data": {
          "bar": [
           {
            "error_x": {
             "color": "#2a3f5f"
            },
            "error_y": {
             "color": "#2a3f5f"
            },
            "marker": {
             "line": {
              "color": "#E5ECF6",
              "width": 0.5
             },
             "pattern": {
              "fillmode": "overlay",
              "size": 10,
              "solidity": 0.2
             }
            },
            "type": "bar"
           }
          ],
          "barpolar": [
           {
            "marker": {
             "line": {
              "color": "#E5ECF6",
              "width": 0.5
             },
             "pattern": {
              "fillmode": "overlay",
              "size": 10,
              "solidity": 0.2
             }
            },
            "type": "barpolar"
           }
          ],
          "carpet": [
           {
            "aaxis": {
             "endlinecolor": "#2a3f5f",
             "gridcolor": "white",
             "linecolor": "white",
             "minorgridcolor": "white",
             "startlinecolor": "#2a3f5f"
            },
            "baxis": {
             "endlinecolor": "#2a3f5f",
             "gridcolor": "white",
             "linecolor": "white",
             "minorgridcolor": "white",
             "startlinecolor": "#2a3f5f"
            },
            "type": "carpet"
           }
          ],
          "choropleth": [
           {
            "colorbar": {
             "outlinewidth": 0,
             "ticks": ""
            },
            "type": "choropleth"
           }
          ],
          "contour": [
           {
            "colorbar": {
             "outlinewidth": 0,
             "ticks": ""
            },
            "colorscale": [
             [
              0,
              "#0d0887"
             ],
             [
              0.1111111111111111,
              "#46039f"
             ],
             [
              0.2222222222222222,
              "#7201a8"
             ],
             [
              0.3333333333333333,
              "#9c179e"
             ],
             [
              0.4444444444444444,
              "#bd3786"
             ],
             [
              0.5555555555555556,
              "#d8576b"
             ],
             [
              0.6666666666666666,
              "#ed7953"
             ],
             [
              0.7777777777777778,
              "#fb9f3a"
             ],
             [
              0.8888888888888888,
              "#fdca26"
             ],
             [
              1,
              "#f0f921"
             ]
            ],
            "type": "contour"
           }
          ],
          "contourcarpet": [
           {
            "colorbar": {
             "outlinewidth": 0,
             "ticks": ""
            },
            "type": "contourcarpet"
           }
          ],
          "heatmap": [
           {
            "colorbar": {
             "outlinewidth": 0,
             "ticks": ""
            },
            "colorscale": [
             [
              0,
              "#0d0887"
             ],
             [
              0.1111111111111111,
              "#46039f"
             ],
             [
              0.2222222222222222,
              "#7201a8"
             ],
             [
              0.3333333333333333,
              "#9c179e"
             ],
             [
              0.4444444444444444,
              "#bd3786"
             ],
             [
              0.5555555555555556,
              "#d8576b"
             ],
             [
              0.6666666666666666,
              "#ed7953"
             ],
             [
              0.7777777777777778,
              "#fb9f3a"
             ],
             [
              0.8888888888888888,
              "#fdca26"
             ],
             [
              1,
              "#f0f921"
             ]
            ],
            "type": "heatmap"
           }
          ],
          "heatmapgl": [
           {
            "colorbar": {
             "outlinewidth": 0,
             "ticks": ""
            },
            "colorscale": [
             [
              0,
              "#0d0887"
             ],
             [
              0.1111111111111111,
              "#46039f"
             ],
             [
              0.2222222222222222,
              "#7201a8"
             ],
             [
              0.3333333333333333,
              "#9c179e"
             ],
             [
              0.4444444444444444,
              "#bd3786"
             ],
             [
              0.5555555555555556,
              "#d8576b"
             ],
             [
              0.6666666666666666,
              "#ed7953"
             ],
             [
              0.7777777777777778,
              "#fb9f3a"
             ],
             [
              0.8888888888888888,
              "#fdca26"
             ],
             [
              1,
              "#f0f921"
             ]
            ],
            "type": "heatmapgl"
           }
          ],
          "histogram": [
           {
            "marker": {
             "pattern": {
              "fillmode": "overlay",
              "size": 10,
              "solidity": 0.2
             }
            },
            "type": "histogram"
           }
          ],
          "histogram2d": [
           {
            "colorbar": {
             "outlinewidth": 0,
             "ticks": ""
            },
            "colorscale": [
             [
              0,
              "#0d0887"
             ],
             [
              0.1111111111111111,
              "#46039f"
             ],
             [
              0.2222222222222222,
              "#7201a8"
             ],
             [
              0.3333333333333333,
              "#9c179e"
             ],
             [
              0.4444444444444444,
              "#bd3786"
             ],
             [
              0.5555555555555556,
              "#d8576b"
             ],
             [
              0.6666666666666666,
              "#ed7953"
             ],
             [
              0.7777777777777778,
              "#fb9f3a"
             ],
             [
              0.8888888888888888,
              "#fdca26"
             ],
             [
              1,
              "#f0f921"
             ]
            ],
            "type": "histogram2d"
           }
          ],
          "histogram2dcontour": [
           {
            "colorbar": {
             "outlinewidth": 0,
             "ticks": ""
            },
            "colorscale": [
             [
              0,
              "#0d0887"
             ],
             [
              0.1111111111111111,
              "#46039f"
             ],
             [
              0.2222222222222222,
              "#7201a8"
             ],
             [
              0.3333333333333333,
              "#9c179e"
             ],
             [
              0.4444444444444444,
              "#bd3786"
             ],
             [
              0.5555555555555556,
              "#d8576b"
             ],
             [
              0.6666666666666666,
              "#ed7953"
             ],
             [
              0.7777777777777778,
              "#fb9f3a"
             ],
             [
              0.8888888888888888,
              "#fdca26"
             ],
             [
              1,
              "#f0f921"
             ]
            ],
            "type": "histogram2dcontour"
           }
          ],
          "mesh3d": [
           {
            "colorbar": {
             "outlinewidth": 0,
             "ticks": ""
            },
            "type": "mesh3d"
           }
          ],
          "parcoords": [
           {
            "line": {
             "colorbar": {
              "outlinewidth": 0,
              "ticks": ""
             }
            },
            "type": "parcoords"
           }
          ],
          "pie": [
           {
            "automargin": true,
            "type": "pie"
           }
          ],
          "scatter": [
           {
            "fillpattern": {
             "fillmode": "overlay",
             "size": 10,
             "solidity": 0.2
            },
            "type": "scatter"
           }
          ],
          "scatter3d": [
           {
            "line": {
             "colorbar": {
              "outlinewidth": 0,
              "ticks": ""
             }
            },
            "marker": {
             "colorbar": {
              "outlinewidth": 0,
              "ticks": ""
             }
            },
            "type": "scatter3d"
           }
          ],
          "scattercarpet": [
           {
            "marker": {
             "colorbar": {
              "outlinewidth": 0,
              "ticks": ""
             }
            },
            "type": "scattercarpet"
           }
          ],
          "scattergeo": [
           {
            "marker": {
             "colorbar": {
              "outlinewidth": 0,
              "ticks": ""
             }
            },
            "type": "scattergeo"
           }
          ],
          "scattergl": [
           {
            "marker": {
             "colorbar": {
              "outlinewidth": 0,
              "ticks": ""
             }
            },
            "type": "scattergl"
           }
          ],
          "scattermapbox": [
           {
            "marker": {
             "colorbar": {
              "outlinewidth": 0,
              "ticks": ""
             }
            },
            "type": "scattermapbox"
           }
          ],
          "scatterpolar": [
           {
            "marker": {
             "colorbar": {
              "outlinewidth": 0,
              "ticks": ""
             }
            },
            "type": "scatterpolar"
           }
          ],
          "scatterpolargl": [
           {
            "marker": {
             "colorbar": {
              "outlinewidth": 0,
              "ticks": ""
             }
            },
            "type": "scatterpolargl"
           }
          ],
          "scatterternary": [
           {
            "marker": {
             "colorbar": {
              "outlinewidth": 0,
              "ticks": ""
             }
            },
            "type": "scatterternary"
           }
          ],
          "surface": [
           {
            "colorbar": {
             "outlinewidth": 0,
             "ticks": ""
            },
            "colorscale": [
             [
              0,
              "#0d0887"
             ],
             [
              0.1111111111111111,
              "#46039f"
             ],
             [
              0.2222222222222222,
              "#7201a8"
             ],
             [
              0.3333333333333333,
              "#9c179e"
             ],
             [
              0.4444444444444444,
              "#bd3786"
             ],
             [
              0.5555555555555556,
              "#d8576b"
             ],
             [
              0.6666666666666666,
              "#ed7953"
             ],
             [
              0.7777777777777778,
              "#fb9f3a"
             ],
             [
              0.8888888888888888,
              "#fdca26"
             ],
             [
              1,
              "#f0f921"
             ]
            ],
            "type": "surface"
           }
          ],
          "table": [
           {
            "cells": {
             "fill": {
              "color": "#EBF0F8"
             },
             "line": {
              "color": "white"
             }
            },
            "header": {
             "fill": {
              "color": "#C8D4E3"
             },
             "line": {
              "color": "white"
             }
            },
            "type": "table"
           }
          ]
         },
         "layout": {
          "annotationdefaults": {
           "arrowcolor": "#2a3f5f",
           "arrowhead": 0,
           "arrowwidth": 1
          },
          "autotypenumbers": "strict",
          "coloraxis": {
           "colorbar": {
            "outlinewidth": 0,
            "ticks": ""
           }
          },
          "colorscale": {
           "diverging": [
            [
             0,
             "#8e0152"
            ],
            [
             0.1,
             "#c51b7d"
            ],
            [
             0.2,
             "#de77ae"
            ],
            [
             0.3,
             "#f1b6da"
            ],
            [
             0.4,
             "#fde0ef"
            ],
            [
             0.5,
             "#f7f7f7"
            ],
            [
             0.6,
             "#e6f5d0"
            ],
            [
             0.7,
             "#b8e186"
            ],
            [
             0.8,
             "#7fbc41"
            ],
            [
             0.9,
             "#4d9221"
            ],
            [
             1,
             "#276419"
            ]
           ],
           "sequential": [
            [
             0,
             "#0d0887"
            ],
            [
             0.1111111111111111,
             "#46039f"
            ],
            [
             0.2222222222222222,
             "#7201a8"
            ],
            [
             0.3333333333333333,
             "#9c179e"
            ],
            [
             0.4444444444444444,
             "#bd3786"
            ],
            [
             0.5555555555555556,
             "#d8576b"
            ],
            [
             0.6666666666666666,
             "#ed7953"
            ],
            [
             0.7777777777777778,
             "#fb9f3a"
            ],
            [
             0.8888888888888888,
             "#fdca26"
            ],
            [
             1,
             "#f0f921"
            ]
           ],
           "sequentialminus": [
            [
             0,
             "#0d0887"
            ],
            [
             0.1111111111111111,
             "#46039f"
            ],
            [
             0.2222222222222222,
             "#7201a8"
            ],
            [
             0.3333333333333333,
             "#9c179e"
            ],
            [
             0.4444444444444444,
             "#bd3786"
            ],
            [
             0.5555555555555556,
             "#d8576b"
            ],
            [
             0.6666666666666666,
             "#ed7953"
            ],
            [
             0.7777777777777778,
             "#fb9f3a"
            ],
            [
             0.8888888888888888,
             "#fdca26"
            ],
            [
             1,
             "#f0f921"
            ]
           ]
          },
          "colorway": [
           "#636efa",
           "#EF553B",
           "#00cc96",
           "#ab63fa",
           "#FFA15A",
           "#19d3f3",
           "#FF6692",
           "#B6E880",
           "#FF97FF",
           "#FECB52"
          ],
          "font": {
           "color": "#2a3f5f"
          },
          "geo": {
           "bgcolor": "white",
           "lakecolor": "white",
           "landcolor": "#E5ECF6",
           "showlakes": true,
           "showland": true,
           "subunitcolor": "white"
          },
          "hoverlabel": {
           "align": "left"
          },
          "hovermode": "closest",
          "mapbox": {
           "style": "light"
          },
          "paper_bgcolor": "white",
          "plot_bgcolor": "#E5ECF6",
          "polar": {
           "angularaxis": {
            "gridcolor": "white",
            "linecolor": "white",
            "ticks": ""
           },
           "bgcolor": "#E5ECF6",
           "radialaxis": {
            "gridcolor": "white",
            "linecolor": "white",
            "ticks": ""
           }
          },
          "scene": {
           "xaxis": {
            "backgroundcolor": "#E5ECF6",
            "gridcolor": "white",
            "gridwidth": 2,
            "linecolor": "white",
            "showbackground": true,
            "ticks": "",
            "zerolinecolor": "white"
           },
           "yaxis": {
            "backgroundcolor": "#E5ECF6",
            "gridcolor": "white",
            "gridwidth": 2,
            "linecolor": "white",
            "showbackground": true,
            "ticks": "",
            "zerolinecolor": "white"
           },
           "zaxis": {
            "backgroundcolor": "#E5ECF6",
            "gridcolor": "white",
            "gridwidth": 2,
            "linecolor": "white",
            "showbackground": true,
            "ticks": "",
            "zerolinecolor": "white"
           }
          },
          "shapedefaults": {
           "line": {
            "color": "#2a3f5f"
           }
          },
          "ternary": {
           "aaxis": {
            "gridcolor": "white",
            "linecolor": "white",
            "ticks": ""
           },
           "baxis": {
            "gridcolor": "white",
            "linecolor": "white",
            "ticks": ""
           },
           "bgcolor": "#E5ECF6",
           "caxis": {
            "gridcolor": "white",
            "linecolor": "white",
            "ticks": ""
           }
          },
          "title": {
           "x": 0.05
          },
          "xaxis": {
           "automargin": true,
           "gridcolor": "white",
           "linecolor": "white",
           "ticks": "",
           "title": {
            "standoff": 15
           },
           "zerolinecolor": "white",
           "zerolinewidth": 2
          },
          "yaxis": {
           "automargin": true,
           "gridcolor": "white",
           "linecolor": "white",
           "ticks": "",
           "title": {
            "standoff": 15
           },
           "zerolinecolor": "white",
           "zerolinewidth": 2
          }
         }
        },
        "title": {
         "text": "Number of Games Played in Each Patch"
        },
        "xaxis": {
         "anchor": "y",
         "domain": [
          0,
          1
         ],
         "title": {
          "text": "Patch"
         }
        },
        "yaxis": {
         "anchor": "x",
         "domain": [
          0,
          1
         ],
         "title": {
          "text": "Number of games"
         }
        }
       }
      }
     },
     "metadata": {},
     "output_type": "display_data"
    }
   ],
   "source": [
    "fig1 = tier1_player.groupby('gameid').first()['patch'].value_counts().sort_index().plot(kind='bar')\n",
    "fig1.update_layout(title='Number of Games Played in Each Patch',\n",
    "                   xaxis_title='Patch',\n",
    "                   yaxis_title='Number of games',\n",
    "                   showlegend=False)\n",
    "fig1.show()"
   ]
  },
  {
   "cell_type": "markdown",
   "metadata": {},
   "source": [
    "#### Distribution of Game Length\n",
    "For the following plot, we can see that the distribution of game length is skewed to the right, with the **median** of **31.39 minutes**."
   ]
  },
  {
   "cell_type": "code",
   "execution_count": 79,
   "metadata": {},
   "outputs": [
    {
     "data": {
      "text/plain": [
       "31.391666666666666"
      ]
     },
     "execution_count": 79,
     "metadata": {},
     "output_type": "execute_result"
    }
   ],
   "source": [
    "# Median game length (minutes)\n",
    "median_time = tier1_player.groupby('gameid').first()['gamelength'].apply(lambda x: x / 60).median()\n",
    "median_time"
   ]
  },
  {
   "cell_type": "code",
   "execution_count": 80,
   "metadata": {},
   "outputs": [
    {
     "data": {
      "application/vnd.plotly.v1+json": {
       "config": {
        "plotlyServerURL": "https://plot.ly"
       },
       "data": [
        {
         "alignmentgroup": "True",
         "bingroup": "x",
         "hovertemplate": "variable=gamelength<br>value=%{x}<br>count=%{y}<extra></extra>",
         "legendgroup": "gamelength",
         "marker": {
          "color": "#636efa",
          "pattern": {
           "shape": ""
          }
         },
         "name": "gamelength",
         "offsetgroup": "gamelength",
         "orientation": "v",
         "showlegend": true,
         "type": "histogram",
         "x": [
          22.75,
          24.066666666666666,
          31.55,
          37.85,
          31.666666666666668,
          25.516666666666666,
          32.666666666666664,
          35.61666666666667,
          28.533333333333335,
          30.766666666666666,
          34.083333333333336,
          37.81666666666667,
          31.2,
          25.883333333333333,
          26.683333333333334,
          29.516666666666666,
          39.733333333333334,
          25.316666666666666,
          36.7,
          24.7,
          32.15,
          39.2,
          31.816666666666666,
          33.266666666666666,
          31.783333333333335,
          24.066666666666666,
          24.6,
          36.18333333333333,
          34.71666666666667,
          29.85,
          36.016666666666666,
          28.85,
          40.78333333333333,
          37.06666666666667,
          23,
          31.066666666666666,
          31.55,
          30.966666666666665,
          30.366666666666667,
          26.133333333333333,
          40.15,
          45.56666666666667,
          34.53333333333333,
          29.2,
          33.96666666666667,
          41.333333333333336,
          41.083333333333336,
          30.383333333333333,
          35.11666666666667,
          34.166666666666664,
          31.583333333333332,
          29.733333333333334,
          26.8,
          29.983333333333334,
          39.11666666666667,
          36.266666666666666,
          31.7,
          30.583333333333332,
          33.78333333333333,
          28.283333333333335,
          32.3,
          26.483333333333334,
          26.233333333333334,
          33.1,
          33.4,
          32.833333333333336,
          29.4,
          26.15,
          33.55,
          39.53333333333333,
          23.766666666666666,
          28.483333333333334,
          25.05,
          33.13333333333333,
          28.216666666666665,
          24.666666666666668,
          30.9,
          24.816666666666666,
          30.683333333333334,
          31.616666666666667,
          32.583333333333336,
          53.4,
          39.416666666666664,
          26.983333333333334,
          33.71666666666667,
          24.766666666666666,
          36.8,
          34.56666666666667,
          35.55,
          43.416666666666664,
          23.816666666666666,
          36.81666666666667,
          27.333333333333332,
          35.6,
          35.233333333333334,
          26.133333333333333,
          31.466666666666665,
          33.31666666666667,
          28.983333333333334,
          31.366666666666667,
          31.633333333333333,
          30.7,
          36.25,
          30.6,
          33.15,
          28.55,
          34.93333333333333,
          28.4,
          22.483333333333334,
          28.766666666666666,
          29.383333333333333,
          34.13333333333333,
          37.28333333333333,
          28.7,
          32.1,
          30.033333333333335,
          38.416666666666664,
          23.616666666666667,
          33,
          37.266666666666666,
          26.933333333333334,
          41,
          43.31666666666667,
          32.516666666666666,
          25.883333333333333,
          34.15,
          29.916666666666668,
          26.933333333333334,
          25.716666666666665,
          23.016666666666666,
          29.25,
          29.683333333333334,
          24.483333333333334,
          30.266666666666666,
          40.38333333333333,
          25.75,
          36.13333333333333,
          39.93333333333333,
          26.95,
          34.96666666666667,
          24.95,
          32.2,
          31.333333333333332,
          23.566666666666666,
          33.1,
          45.81666666666667,
          29.8,
          28.9,
          24.5,
          31.316666666666666,
          36.983333333333334,
          37.56666666666667,
          36.43333333333333,
          32.55,
          27.983333333333334,
          40.85,
          25.316666666666666,
          25.9,
          32.21666666666667,
          38.483333333333334,
          29.15,
          27.716666666666665,
          38.516666666666666,
          29.1,
          34.666666666666664,
          25.016666666666666,
          31.516666666666666,
          39.63333333333333,
          31.05,
          31.85,
          24.9,
          30.35,
          23.783333333333335,
          33.1,
          34.81666666666667,
          30.45,
          21.85,
          19.166666666666668,
          25.5,
          34.55,
          29.533333333333335,
          34.233333333333334,
          27.166666666666668,
          31.766666666666666,
          34.93333333333333,
          27.466666666666665,
          26.65,
          32.06666666666667,
          33.083333333333336,
          29.15,
          26.316666666666666,
          48.083333333333336,
          28.333333333333332,
          26.916666666666668,
          45.18333333333333,
          31.516666666666666,
          30.966666666666665,
          33.666666666666664,
          29.633333333333333,
          31.55,
          33.25,
          32.03333333333333,
          33.5,
          28.066666666666666,
          26.583333333333332,
          27.116666666666667,
          31.966666666666665,
          36,
          32.05,
          30.933333333333334,
          35.233333333333334,
          24.783333333333335,
          22.866666666666667,
          27.933333333333334,
          28.333333333333332,
          25.45,
          28.116666666666667,
          29.366666666666667,
          31.25,
          28.4,
          41.833333333333336,
          27.016666666666666,
          26.916666666666668,
          27.65,
          25.133333333333333,
          32.61666666666667,
          27.15,
          29.55,
          37.53333333333333,
          41.983333333333334,
          28.583333333333332,
          28.916666666666668,
          24.333333333333332,
          38.733333333333334,
          34.666666666666664,
          27.533333333333335,
          47.63333333333333,
          36,
          43.083333333333336,
          30.05,
          29.5,
          38.5,
          28.316666666666666,
          31.35,
          26.983333333333334,
          39.56666666666667,
          29.216666666666665,
          38.68333333333333,
          44.166666666666664,
          32.86666666666667,
          28.55,
          29.55,
          29.183333333333334,
          25.783333333333335,
          25.35,
          29.216666666666665,
          24.566666666666666,
          32.166666666666664,
          37.03333333333333,
          28.516666666666666,
          27.65,
          30.683333333333334,
          32.083333333333336,
          29.75,
          25.533333333333335,
          38.45,
          30.966666666666665,
          27.05,
          39.166666666666664,
          24.05,
          37.46666666666667,
          36.43333333333333,
          33.416666666666664,
          29.283333333333335,
          27.733333333333334,
          25.416666666666668,
          23.733333333333334,
          39.2,
          34.13333333333333,
          28.1,
          34.9,
          31.6,
          27.416666666666668,
          27.55,
          32.7,
          43.06666666666667,
          26.833333333333332,
          31.516666666666666,
          27.316666666666666,
          43.1,
          30.466666666666665,
          25.45,
          31.75,
          33.63333333333333,
          33.7,
          37.15,
          36.416666666666664,
          28.366666666666667,
          28.566666666666666,
          27.383333333333333,
          24.95,
          28.05,
          32.86666666666667,
          26.9,
          30.35,
          37.3,
          33.65,
          37.666666666666664,
          30.4,
          23.966666666666665,
          37.266666666666666,
          28.633333333333333,
          29.383333333333333,
          23.166666666666668,
          24.1,
          29.533333333333335,
          28,
          28.15,
          31.116666666666667,
          24.6,
          27.8,
          24.766666666666666,
          26.05,
          28.883333333333333,
          32.05,
          29.483333333333334,
          25.066666666666666,
          34.583333333333336,
          36.016666666666666,
          31.2,
          27.866666666666667,
          29.183333333333334,
          36.45,
          34.8,
          24.316666666666666,
          30.816666666666666,
          32.516666666666666,
          35.15,
          29.516666666666666,
          29.316666666666666,
          30.116666666666667,
          27.716666666666665,
          28.183333333333334,
          30.433333333333334,
          30.533333333333335,
          26.666666666666668,
          40.166666666666664,
          33.53333333333333,
          30.483333333333334,
          30.666666666666668,
          35.483333333333334,
          28.8,
          30.983333333333334,
          38.4,
          42.766666666666666,
          40.46666666666667,
          36.85,
          33.5,
          25.366666666666667,
          35.18333333333333,
          33.63333333333333,
          30.9,
          36.36666666666667,
          30.533333333333335,
          30,
          27.55,
          32.583333333333336,
          40.68333333333333,
          27.3,
          28.8,
          34.583333333333336,
          32.9,
          31.75,
          29.766666666666666,
          24.15,
          35.13333333333333,
          33.45,
          36.85,
          24.683333333333334,
          26.566666666666666,
          31.066666666666666,
          36.28333333333333,
          39.1,
          29.55,
          36.53333333333333,
          25.666666666666668,
          24.216666666666665,
          36.65,
          38.55,
          33.55,
          29.5,
          37.05,
          31.783333333333335,
          32.15,
          28.7,
          27.533333333333335,
          30.733333333333334,
          39,
          29.516666666666666,
          25.85,
          27.966666666666665,
          30.866666666666667,
          24.883333333333333,
          34.166666666666664,
          26.583333333333332,
          26.333333333333332,
          28.7,
          42.416666666666664,
          30.683333333333334,
          30.85,
          37.78333333333333,
          29.15,
          34.25,
          23.55,
          24.416666666666668,
          42.083333333333336,
          25.366666666666667,
          36.4,
          30.35,
          29.866666666666667,
          35.18333333333333,
          37.083333333333336,
          29.483333333333334,
          30.683333333333334,
          30.2,
          31.65,
          33.483333333333334,
          34.5,
          37.666666666666664,
          29.083333333333332,
          30.533333333333335,
          29.666666666666668,
          50.233333333333334,
          26.316666666666666,
          33.6,
          32.43333333333333,
          24.7,
          27.1,
          22.466666666666665,
          30.466666666666665,
          36.983333333333334,
          34.083333333333336,
          32.53333333333333,
          39.483333333333334,
          27.516666666666666,
          25.933333333333334,
          25.95,
          27.216666666666665,
          35.3,
          32.233333333333334,
          30.816666666666666,
          27.35,
          30.933333333333334,
          33.166666666666664,
          32.43333333333333,
          30.116666666666667,
          26.75,
          26.266666666666666,
          35.666666666666664,
          37.78333333333333,
          32.833333333333336,
          30.466666666666665,
          27.633333333333333,
          28.45,
          24.733333333333334,
          33.583333333333336,
          40.56666666666667,
          29.083333333333332,
          36.416666666666664,
          31.1,
          27.166666666666668,
          34.1,
          42.583333333333336,
          26.2,
          38.43333333333333,
          27.516666666666666,
          30.316666666666666,
          33.8,
          43.28333333333333,
          26.216666666666665,
          33.916666666666664,
          28.633333333333333,
          25.5,
          29,
          36.45,
          31.05,
          33.68333333333333,
          29.983333333333334,
          33.166666666666664,
          21.416666666666668,
          25.5,
          37.05,
          24.7,
          21.816666666666666,
          28.583333333333332,
          23.15,
          26.533333333333335,
          34.03333333333333,
          30.233333333333334,
          28.7,
          32.61666666666667,
          25.5,
          24.016666666666666,
          32.46666666666667,
          34.21666666666667,
          31.116666666666667,
          27.65,
          30.25,
          30.9,
          47.06666666666667,
          56.05,
          27.516666666666666,
          29.516666666666666,
          31.516666666666666,
          37.166666666666664,
          39.03333333333333,
          32.516666666666666,
          34.05,
          32.483333333333334,
          33.083333333333336,
          26.65,
          27.116666666666667,
          36.483333333333334,
          35.81666666666667,
          34.11666666666667,
          33.13333333333333,
          34.68333333333333,
          26.1,
          27.833333333333332,
          26.75,
          29.6,
          32.65,
          28.383333333333333,
          25.483333333333334,
          28.1,
          29.516666666666666,
          26.2,
          21.883333333333333,
          28,
          35.71666666666667,
          27.966666666666665,
          30.883333333333333,
          27.666666666666668,
          30.766666666666666,
          30.366666666666667,
          36.166666666666664,
          37.2,
          33.583333333333336,
          27.966666666666665,
          26.633333333333333,
          28.633333333333333,
          30.366666666666667,
          29.45,
          32.81666666666667,
          31.733333333333334,
          29.033333333333335,
          32.68333333333333,
          34.45,
          26.733333333333334,
          29.966666666666665,
          35.2,
          31.633333333333333,
          34.15,
          36.05,
          27.75,
          48.13333333333333,
          25.666666666666668,
          28.616666666666667,
          32.266666666666666,
          32.46666666666667,
          28.433333333333334,
          34.55,
          33.483333333333334,
          29.566666666666666,
          34.71666666666667,
          30.933333333333334,
          29.766666666666666,
          27.833333333333332,
          26.283333333333335,
          31.516666666666666,
          23.833333333333332,
          32,
          25.416666666666668,
          30.816666666666666,
          37,
          29.15,
          46.7,
          33.9,
          37.86666666666667,
          31.816666666666666,
          25.666666666666668,
          30.033333333333335,
          33.333333333333336,
          26.483333333333334,
          37.43333333333333,
          34.56666666666667,
          25.733333333333334,
          33.15,
          43.11666666666667,
          27.566666666666666,
          30.383333333333333,
          30.933333333333334,
          28.916666666666668,
          33,
          36.21666666666667,
          34.93333333333333,
          32.4,
          26.833333333333332,
          28.216666666666665,
          27.8,
          31.433333333333334,
          28.766666666666666,
          28.7,
          33.55,
          24.2,
          23.016666666666666,
          24.666666666666668,
          34.36666666666667,
          32.06666666666667,
          28.5,
          43.9,
          28,
          30.216666666666665,
          29.15,
          26.716666666666665,
          29.066666666666666,
          30.05,
          25.533333333333335,
          26.266666666666666,
          24.083333333333332,
          41.81666666666667,
          25.35,
          32.266666666666666,
          31.15,
          22.55,
          25.616666666666667,
          33.3,
          32.45,
          32.8,
          36.63333333333333,
          30.983333333333334,
          37.68333333333333,
          30.466666666666665,
          30.683333333333334,
          34.36666666666667,
          29.933333333333334,
          47.81666666666667,
          27.166666666666668,
          34.45,
          32.666666666666664,
          35.88333333333333,
          28.15,
          26.733333333333334,
          28.083333333333332,
          27.45,
          38.083333333333336,
          30.05,
          33.95,
          26.45,
          29.866666666666667,
          34.733333333333334,
          26.95,
          31.75,
          25.183333333333334,
          22.516666666666666,
          28.533333333333335,
          28.916666666666668,
          33.43333333333333,
          29,
          28.233333333333334,
          28.233333333333334,
          39.833333333333336,
          30.583333333333332,
          24.15,
          32.3,
          31.25,
          34.61666666666667,
          34.53333333333333,
          36.61666666666667,
          30.866666666666667,
          32.7,
          32.28333333333333,
          29.5,
          43.38333333333333,
          27.1,
          29.616666666666667,
          34.7,
          24.083333333333332,
          35.05,
          30.016666666666666,
          31.183333333333334,
          42.6,
          33.016666666666666,
          24.166666666666668,
          35.2,
          33.266666666666666,
          33.56666666666667,
          46.166666666666664,
          34.18333333333333,
          26.4,
          30.266666666666666,
          29.05,
          32.38333333333333,
          29.933333333333334,
          34.55,
          24.433333333333334,
          33.53333333333333,
          32.31666666666667,
          33.266666666666666,
          27.1,
          31.683333333333334,
          31.333333333333332,
          25.183333333333334,
          23.083333333333332,
          28.383333333333333,
          24.866666666666667,
          30.65,
          31.716666666666665,
          29.633333333333333,
          35.61666666666667,
          38.03333333333333,
          24.55,
          28.133333333333333,
          43.43333333333333,
          24.95,
          32.78333333333333,
          31.016666666666666,
          35.166666666666664,
          30.016666666666666,
          38.05,
          32.2,
          29.9,
          30.366666666666667,
          36,
          39.05,
          27.683333333333334,
          46.233333333333334,
          30.966666666666665,
          40.5,
          22.85,
          28.75,
          31.316666666666666,
          33.166666666666664,
          29.966666666666665,
          29.6,
          35.46666666666667,
          37.53333333333333,
          41.55,
          31.433333333333334,
          25.566666666666666,
          32.78333333333333,
          34.333333333333336,
          24.933333333333334,
          32.65,
          31.95,
          27.883333333333333,
          37.833333333333336,
          31.45,
          28.083333333333332,
          35.583333333333336,
          31.933333333333334,
          34.61666666666667,
          32.7,
          33.6,
          30.65,
          32.93333333333333,
          41.85,
          34.516666666666666,
          29.216666666666665,
          32.666666666666664,
          36.13333333333333,
          35.233333333333334,
          26.233333333333334,
          33.86666666666667,
          51.016666666666666,
          26.4,
          39.766666666666666,
          46.083333333333336,
          34.483333333333334,
          40.18333333333333,
          35.11666666666667,
          31.5,
          48.016666666666666,
          32.516666666666666,
          37.65,
          35.5,
          34.5,
          37.21666666666667,
          25.1,
          29.633333333333333,
          25.933333333333334,
          42.8,
          45.93333333333333,
          41.45,
          26.583333333333332,
          25.383333333333333,
          35.21666666666667,
          24.6,
          33.483333333333334,
          26.7,
          30.116666666666667,
          29.166666666666668,
          31.716666666666665,
          30.783333333333335,
          38.93333333333333,
          38.516666666666666,
          37.483333333333334,
          28.716666666666665,
          38.05,
          34.11666666666667,
          27.65,
          29.1,
          36.2,
          29.65,
          30.4,
          28.15,
          26.15,
          35.36666666666667,
          32.03333333333333,
          38.56666666666667,
          28.4,
          37.46666666666667,
          38.666666666666664,
          32.1,
          35.86666666666667,
          23.666666666666668,
          26.45,
          38.93333333333333,
          36.85,
          27.583333333333332,
          39.18333333333333,
          45.8,
          33.68333333333333,
          32.6,
          23.5,
          25.95,
          25.716666666666665,
          31.483333333333334,
          36.583333333333336,
          35.88333333333333,
          32.61666666666667,
          36.1,
          42.8,
          24.166666666666668,
          41.86666666666667,
          34.65,
          50.11666666666667,
          32.93333333333333,
          35.81666666666667,
          30.633333333333333,
          26.133333333333333,
          35.6,
          32.25,
          24.316666666666666,
          40.983333333333334,
          37.86666666666667,
          24.05,
          33.78333333333333,
          38.583333333333336,
          35.21666666666667,
          36.1,
          48.11666666666667,
          29.85,
          37.733333333333334,
          33.35,
          39,
          39.13333333333333,
          27.933333333333334,
          34.333333333333336,
          31.05,
          33.233333333333334,
          31.7,
          41.65,
          32.166666666666664,
          27.75,
          33.15,
          26.55,
          28.333333333333332,
          29.883333333333333,
          28.233333333333334,
          30.15,
          29.566666666666666,
          32.4,
          25.166666666666668,
          41.21666666666667,
          48.11666666666667,
          27.233333333333334,
          31.2,
          36.55,
          29.4,
          27.133333333333333,
          30.916666666666668,
          40.03333333333333,
          27.216666666666665,
          37.666666666666664,
          37.583333333333336,
          26.583333333333332,
          29.266666666666666,
          35.06666666666667,
          31.333333333333332,
          31.45,
          38.96666666666667,
          25.3,
          28.083333333333332,
          31.683333333333334,
          31.483333333333334,
          29.066666666666666,
          31.95,
          40.7,
          34.88333333333333,
          39.86666666666667,
          30.75,
          32.61666666666667,
          32.4,
          28.55,
          27.533333333333335,
          38.46666666666667,
          31.4,
          31.266666666666666,
          24.183333333333334,
          25.633333333333333,
          25.8,
          31.783333333333335,
          34.95,
          25.183333333333334,
          31.083333333333332,
          24.5,
          28.766666666666666,
          25.966666666666665,
          32.06666666666667,
          41.65,
          27.1,
          28.35,
          47.81666666666667,
          37.85,
          34.5,
          26.583333333333332,
          35.93333333333333,
          29.133333333333333,
          23.483333333333334,
          36.916666666666664,
          29.183333333333334,
          32.86666666666667,
          35.016666666666666,
          32.13333333333333,
          32.85,
          29.333333333333332,
          36.6,
          34.483333333333334,
          29.983333333333334,
          30.983333333333334,
          19.166666666666668,
          24.416666666666668,
          29.283333333333335,
          35.516666666666666,
          33.93333333333333,
          30.2,
          23.15,
          35.9,
          29.366666666666667,
          40.766666666666666,
          37.88333333333333,
          33.45,
          35.03333333333333,
          25.033333333333335,
          22.133333333333333,
          35.583333333333336,
          29.416666666666668,
          36.71666666666667,
          25.433333333333334,
          33.083333333333336,
          34.63333333333333,
          38.36666666666667,
          43.8,
          26.133333333333333,
          41.43333333333333,
          33.03333333333333,
          38.6,
          37.86666666666667,
          41.55,
          32.53333333333333,
          26.633333333333333,
          26.116666666666667,
          25,
          37.733333333333334,
          36.666666666666664,
          31.483333333333334,
          29.983333333333334,
          29.216666666666665,
          35.083333333333336,
          36.833333333333336,
          31.283333333333335,
          34.2,
          23.733333333333334,
          25.85,
          37.28333333333333,
          36.55,
          37.483333333333334,
          29.3,
          29.2,
          28.883333333333333,
          28.166666666666668,
          16.966666666666665,
          27.916666666666668,
          31.833333333333332,
          30.083333333333332,
          36.25,
          19.616666666666667,
          18.516666666666666,
          35.18333333333333,
          37.25,
          24.616666666666667,
          27.733333333333334,
          31.95,
          33.083333333333336,
          28.616666666666667,
          31.066666666666666,
          36.31666666666667,
          38.9,
          31,
          30.116666666666667,
          41.71666666666667,
          35.21666666666667,
          36.63333333333333,
          32.266666666666666,
          32.416666666666664,
          27.283333333333335,
          29.75,
          30.783333333333335,
          42.916666666666664,
          30.633333333333333,
          32.05,
          27.516666666666666,
          24.183333333333334,
          35.1,
          32.516666666666666,
          31.983333333333334,
          37.166666666666664,
          27.616666666666667,
          32.46666666666667,
          35.5,
          33.65,
          31.2,
          41.63333333333333,
          36.266666666666666,
          42.31666666666667,
          33.18333333333333,
          22.616666666666667,
          21.816666666666666,
          24.4,
          38.55,
          26.75,
          28.116666666666667,
          26.516666666666666,
          32.13333333333333,
          33.85,
          26.1,
          35.666666666666664,
          37.766666666666666,
          24.566666666666666,
          31.15,
          39.93333333333333,
          23.566666666666666,
          25.733333333333334,
          23.033333333333335,
          28.15,
          28.55,
          19.383333333333333,
          27.533333333333335,
          27.916666666666668,
          26.016666666666666,
          32.166666666666664,
          26.016666666666666,
          45.2,
          25.133333333333333,
          25.066666666666666,
          30.783333333333335,
          27.266666666666666,
          25.15,
          24.8,
          29.966666666666665,
          26.433333333333334,
          35.916666666666664,
          37.18333333333333,
          31.166666666666668,
          31.233333333333334,
          26.25,
          22.6,
          36.53333333333333,
          29.183333333333334,
          30.45,
          26.1,
          25.166666666666668,
          33.65,
          29.7,
          31.483333333333334,
          26.783333333333335,
          28.7,
          25.333333333333332,
          30.933333333333334,
          35.45,
          28.766666666666666,
          25.633333333333333,
          32.05,
          28.683333333333334,
          25.266666666666666,
          26.266666666666666,
          34.93333333333333,
          34.06666666666667,
          33.3,
          33.03333333333333,
          51.2,
          38.55,
          34.46666666666667,
          28.116666666666667,
          29.866666666666667,
          30.533333333333335,
          23.466666666666665,
          24.533333333333335,
          32.7,
          32.8,
          27.616666666666667,
          30.4,
          31.633333333333333,
          28.4,
          28.616666666666667,
          28.7,
          26.3,
          30.65,
          22.966666666666665,
          30.916666666666668,
          30.5,
          31.733333333333334,
          34.13333333333333,
          32.71666666666667,
          28.466666666666665,
          33.1,
          33.15,
          36.05,
          30.866666666666667,
          32.21666666666667,
          44.733333333333334,
          28.633333333333333,
          33.733333333333334,
          29.916666666666668,
          34.05,
          28.366666666666667,
          36.25,
          31.266666666666666,
          23.8,
          39.333333333333336,
          26.95,
          30.466666666666665,
          38.46666666666667,
          24.95,
          27.6,
          30.6,
          26.966666666666665,
          29.1,
          31.65,
          39.56666666666667,
          33.18333333333333,
          39.85,
          28.116666666666667,
          31.633333333333333,
          34,
          32.11666666666667,
          28.216666666666665,
          35.083333333333336,
          24.716666666666665,
          31.666666666666668,
          30.55,
          26.766666666666666,
          25.2,
          26.633333333333333,
          30.65,
          35.43333333333333,
          27.766666666666666,
          37.1,
          40.333333333333336,
          36.71666666666667,
          39.016666666666666,
          32.95,
          26.416666666666668,
          48.5,
          35.63333333333333,
          31.316666666666666,
          26.066666666666666,
          25.75,
          32.516666666666666,
          29.616666666666667,
          29.133333333333333,
          30.95,
          28.116666666666667,
          31,
          32.733333333333334,
          25.416666666666668,
          34.18333333333333,
          30.733333333333334,
          34.56666666666667,
          35.516666666666666,
          27.466666666666665,
          23.683333333333334,
          26.416666666666668,
          29.65,
          30.716666666666665,
          52.95,
          31.933333333333334,
          29.666666666666668,
          34.71666666666667,
          27.866666666666667,
          47.68333333333333,
          23.966666666666665,
          37.333333333333336,
          26.633333333333333,
          28.683333333333334,
          30.783333333333335,
          26.9,
          36.666666666666664,
          30.183333333333334,
          32.21666666666667,
          39.85,
          35.61666666666667,
          31.15,
          28.45,
          31.333333333333332,
          28.483333333333334,
          28.283333333333335,
          30.95,
          25.633333333333333,
          27.65,
          35.86666666666667,
          30,
          32.61666666666667,
          42.5,
          29.766666666666666,
          29.866666666666667,
          33.21666666666667,
          26.633333333333333,
          31.683333333333334,
          30.666666666666668,
          35.43333333333333,
          29.816666666666666,
          28.166666666666668,
          34.95,
          33.416666666666664,
          29.933333333333334,
          33.71666666666667,
          34.28333333333333,
          35.9,
          38,
          23.266666666666666,
          23.433333333333334,
          35.11666666666667,
          32.56666666666667,
          27.8,
          25.916666666666668,
          34.75,
          29.25,
          32.016666666666666,
          43.416666666666664,
          39.333333333333336,
          39.63333333333333,
          28.9,
          33.21666666666667,
          29.6,
          27.616666666666667,
          30.833333333333332,
          47.56666666666667,
          46.06666666666667,
          30.683333333333334,
          36.516666666666666,
          37.766666666666666,
          35.86666666666667,
          34.81666666666667,
          35.06666666666667,
          31.666666666666668,
          31.383333333333333,
          30.333333333333332,
          33.3,
          35.583333333333336,
          38.68333333333333,
          51.61666666666667,
          38.8,
          24.55,
          33.016666666666666,
          31.35,
          24.816666666666666,
          25.2,
          37.71666666666667,
          24.983333333333334,
          25,
          31.6,
          40.55,
          28.55,
          23.883333333333333,
          27.75,
          28.583333333333332,
          26.85,
          29.5,
          31.316666666666666,
          45.166666666666664,
          36.4,
          30.95,
          37.11666666666667,
          30.083333333333332,
          33.75,
          31.066666666666666,
          28.683333333333334,
          23.9,
          38,
          35.166666666666664,
          41.983333333333334,
          31.516666666666666,
          28.516666666666666,
          39.68333333333333,
          25.4,
          17.85,
          27.716666666666665,
          38.21666666666667,
          26.883333333333333,
          28.966666666666665,
          34.18333333333333,
          45.483333333333334,
          36.166666666666664,
          39.5,
          38.8,
          29.633333333333333,
          25.183333333333334,
          38.35,
          32.1,
          30.633333333333333,
          24.966666666666665,
          26.433333333333334,
          40.96666666666667,
          31.033333333333335,
          32.06666666666667,
          37.583333333333336,
          27.45,
          24.016666666666666,
          28.7,
          25.616666666666667,
          28.15,
          21.933333333333334,
          25.333333333333332,
          27.366666666666667,
          42.71666666666667,
          47.81666666666667,
          29.8,
          42.9,
          31.733333333333334,
          28.516666666666666,
          37.233333333333334,
          38.53333333333333,
          41.11666666666667,
          44.65,
          32.05,
          32.13333333333333,
          25.533333333333335,
          28.583333333333332,
          41,
          41.1,
          34.05,
          34.333333333333336,
          33.3,
          40.68333333333333,
          28.483333333333334,
          27.983333333333334,
          28.683333333333334,
          38.983333333333334,
          32.083333333333336,
          46.88333333333333,
          30.616666666666667,
          39.75,
          30.533333333333335,
          26.216666666666665,
          40.9,
          43.416666666666664,
          43.13333333333333,
          29.2,
          37.35,
          33.016666666666666,
          36.06666666666667,
          29.833333333333332,
          26.416666666666668,
          32.31666666666667,
          26.233333333333334,
          29.683333333333334,
          29.766666666666666,
          55.43333333333333,
          30.083333333333332,
          33.833333333333336,
          35.61666666666667,
          25.133333333333333,
          27.55,
          35.333333333333336,
          36.11666666666667,
          32.016666666666666,
          38.666666666666664,
          32.61666666666667,
          27.483333333333334,
          34.05,
          30.766666666666666,
          30.866666666666667,
          30.233333333333334,
          42.46666666666667,
          28.55,
          28.95,
          34.93333333333333,
          32.11666666666667,
          25.85,
          27.216666666666665,
          31.3,
          31.433333333333334,
          28.816666666666666,
          38.416666666666664,
          34.666666666666664,
          39.86666666666667,
          24.15,
          35.25,
          31.983333333333334,
          28.016666666666666,
          25.083333333333332,
          46.95,
          29.7,
          46.3,
          32.78333333333333,
          38.61666666666667,
          31.816666666666666,
          31.516666666666666,
          29.616666666666667,
          31.6,
          30.416666666666668,
          40.333333333333336,
          38.4,
          40.45,
          24.583333333333332,
          29.35,
          26.933333333333334,
          34,
          30.2,
          28.133333333333333,
          26.883333333333333,
          29.583333333333332,
          28.483333333333334,
          24.566666666666666,
          28.516666666666666,
          24.983333333333334,
          29.666666666666668,
          27.616666666666667,
          43.78333333333333,
          44.56666666666667,
          25.066666666666666,
          26.583333333333332,
          40.05,
          34.05,
          37.45,
          29.1,
          25.516666666666666,
          31.066666666666666,
          22.966666666666665,
          29.816666666666666,
          33.61666666666667,
          43.4,
          35.766666666666666,
          31.416666666666668,
          28.966666666666665,
          27.816666666666666,
          32.13333333333333,
          39.45,
          26.583333333333332,
          33.38333333333333,
          35.5,
          33.93333333333333,
          42.7,
          37.65,
          37.55,
          47.11666666666667,
          35.61666666666667,
          28.166666666666668,
          37.666666666666664,
          30.25,
          35.03333333333333,
          26.4,
          26.95,
          28.466666666666665,
          26.55,
          38.21666666666667,
          27.933333333333334,
          28.866666666666667,
          30.85,
          22.75,
          33.1,
          32.63333333333333,
          30.083333333333332,
          30.166666666666668,
          45.333333333333336,
          25.666666666666668,
          36.05,
          28.05,
          28.883333333333333,
          36.6,
          24.933333333333334,
          36.43333333333333,
          33.85,
          26.45,
          26.533333333333335,
          48.93333333333333,
          35.31666666666667,
          40.2,
          26.083333333333332,
          31.466666666666665,
          31.483333333333334,
          37.9,
          38.78333333333333,
          34.15,
          29.083333333333332,
          33.266666666666666,
          28.05,
          42.06666666666667,
          28.666666666666668,
          32.55,
          33.55,
          36.25,
          35.28333333333333,
          42.833333333333336,
          40.516666666666666,
          45.766666666666666,
          30.55,
          30.416666666666668,
          37.35,
          23.833333333333332,
          33.55,
          37.55,
          30.4,
          25.4,
          31.816666666666666,
          31.35,
          26.433333333333334,
          36.71666666666667,
          45.2,
          46.2,
          38.333333333333336,
          29.666666666666668,
          26.9,
          32.15,
          41.13333333333333,
          33.63333333333333,
          36.56666666666667,
          31.65,
          25.3,
          38.88333333333333,
          31.666666666666668,
          34.35,
          39.233333333333334,
          31.966666666666665,
          35.333333333333336,
          24.8,
          29.183333333333334,
          29.983333333333334,
          37.43333333333333,
          34.05,
          27.9,
          36.016666666666666,
          30.783333333333335,
          26.616666666666667,
          32.13333333333333,
          37.233333333333334,
          33.71666666666667,
          32.46666666666667,
          25.883333333333333,
          29.9,
          32.53333333333333,
          27.216666666666665,
          30.233333333333334,
          30.183333333333334,
          36.5,
          41.083333333333336,
          27.55,
          39.88333333333333,
          27.4,
          30.466666666666665,
          35.55,
          31.966666666666665,
          35.36666666666667,
          31.083333333333332,
          28.15,
          27.5,
          22.75,
          34.1,
          39.9,
          33.1,
          32.583333333333336,
          26.916666666666668,
          27.4,
          25.983333333333334,
          34.416666666666664,
          37.45,
          20.266666666666666,
          31.966666666666665,
          38.333333333333336,
          37.45,
          35.333333333333336,
          33.05,
          34.1,
          31.966666666666665,
          28.75,
          28.6,
          23.9,
          31.333333333333332,
          37.9,
          32.666666666666664,
          29.716666666666665,
          26.65,
          29.483333333333334,
          29.716666666666665,
          26.716666666666665,
          46.15,
          39.25,
          37.71666666666667,
          25.916666666666668,
          39.81666666666667,
          37.13333333333333,
          31.083333333333332,
          30.1,
          30.116666666666667,
          33.016666666666666,
          25.616666666666667,
          27.833333333333332,
          21.55,
          31.983333333333334,
          24.9,
          31.983333333333334,
          36.483333333333334,
          28.6,
          21.083333333333332,
          27.533333333333335,
          43.28333333333333,
          31.966666666666665,
          34.9,
          29.4,
          30.516666666666666,
          25.983333333333334,
          41.65,
          18.95,
          26.983333333333334,
          20.433333333333334,
          27.85,
          25.683333333333334,
          37.43333333333333,
          40.28333333333333,
          35.166666666666664,
          30.566666666666666,
          40.03333333333333,
          39.31666666666667,
          29.316666666666666,
          27.533333333333335,
          27.216666666666665,
          26.283333333333335,
          25.133333333333333,
          27.2,
          30.15,
          35.63333333333333,
          37.45,
          27.916666666666668,
          24.666666666666668,
          38.083333333333336,
          32.516666666666666,
          24.166666666666668,
          26.383333333333333,
          26.816666666666666,
          22.716666666666665,
          35.88333333333333,
          34.45,
          32.55,
          25,
          37,
          42.516666666666666,
          34.166666666666664,
          35.38333333333333,
          39.93333333333333,
          26.6,
          33.333333333333336,
          29.933333333333334,
          31.983333333333334,
          33.583333333333336,
          32.1,
          37.6,
          39.63333333333333,
          25.533333333333335,
          29.3,
          33.15,
          25.733333333333334,
          33.46666666666667,
          25.383333333333333,
          33.03333333333333,
          38,
          38.766666666666666,
          31.766666666666666,
          46.733333333333334,
          41.666666666666664,
          41.5,
          23.716666666666665,
          30.583333333333332,
          40.63333333333333,
          40.03333333333333,
          31.933333333333334,
          30.65,
          27.416666666666668,
          32.766666666666666,
          34.86666666666667,
          35.6,
          36.666666666666664,
          33.166666666666664,
          44.333333333333336,
          28.016666666666666,
          25.533333333333335,
          31.933333333333334,
          29.966666666666665,
          30.883333333333333,
          29.433333333333334,
          25.05,
          33.11666666666667,
          29.833333333333332,
          36.333333333333336,
          27.166666666666668,
          27.033333333333335,
          29.166666666666668,
          25.716666666666665,
          32.13333333333333,
          34.36666666666667,
          23.083333333333332,
          33.46666666666667,
          27,
          36.31666666666667,
          35.083333333333336,
          28.65,
          31.2,
          26.066666666666666,
          44.266666666666666,
          39.916666666666664,
          30.1,
          25.583333333333332,
          25.433333333333334,
          31.2,
          26.583333333333332,
          25.816666666666666,
          33.21666666666667,
          29.283333333333335,
          24.833333333333332,
          23.6,
          37.53333333333333,
          25.033333333333335,
          34,
          40.75,
          28.566666666666666,
          22.8,
          32.016666666666666,
          34.016666666666666,
          29.066666666666666,
          35,
          29.166666666666668,
          35.666666666666664,
          29.016666666666666,
          25.066666666666666,
          27.616666666666667,
          24.033333333333335,
          33.68333333333333,
          32.666666666666664,
          43.6,
          33.68333333333333,
          28.4,
          30.533333333333335,
          31.15,
          29.366666666666667,
          33.5,
          30.533333333333335,
          25.416666666666668,
          31.116666666666667,
          27.483333333333334,
          35.916666666666664,
          33.25,
          37.55,
          27.7,
          31.366666666666667,
          42.016666666666666,
          32.18333333333333,
          21.7,
          31.433333333333334,
          33.5,
          35.35,
          35.46666666666667,
          35.5,
          40.416666666666664,
          25.183333333333334,
          32.583333333333336,
          38.93333333333333,
          36.75,
          28.383333333333333,
          44.766666666666666,
          25.316666666666666,
          40.05,
          30.216666666666665,
          31.5,
          42.38333333333333,
          27.7,
          31.5,
          28.5,
          31.866666666666667,
          30.833333333333332,
          41.266666666666666,
          26.433333333333334,
          28.483333333333334,
          31.616666666666667,
          28.95,
          32.016666666666666,
          33.36666666666667,
          27.266666666666666,
          31.633333333333333,
          30.516666666666666,
          32.13333333333333,
          42.083333333333336,
          31.166666666666668,
          34.06666666666667,
          31.55,
          28.85,
          36.95,
          46.38333333333333,
          36.46666666666667,
          33.983333333333334,
          28.983333333333334,
          42.53333333333333,
          40.86666666666667,
          32.05,
          30.55,
          26.916666666666668,
          27.916666666666668,
          26.75,
          36.13333333333333,
          29.55,
          30.566666666666666,
          33.36666666666667,
          30.45,
          27.683333333333334,
          24.883333333333333,
          30,
          39.483333333333334,
          26.533333333333335,
          30.783333333333335,
          24.833333333333332,
          33.016666666666666,
          44.333333333333336,
          32.81666666666667,
          31.7,
          37.15,
          23.583333333333332,
          32.18333333333333,
          45.5,
          31.433333333333334,
          21.45,
          37.166666666666664,
          31.45,
          26.65,
          26.616666666666667,
          35.38333333333333,
          42.15,
          28.1,
          41.4,
          33.25,
          30.933333333333334,
          30,
          27.766666666666666,
          27.866666666666667,
          28.116666666666667,
          30.166666666666668,
          45.13333333333333,
          32.15,
          35.46666666666667,
          34.766666666666666,
          40.766666666666666,
          30.5,
          25.2,
          32.916666666666664,
          28.266666666666666,
          31.65,
          31.616666666666667,
          35.2,
          37.483333333333334,
          34.416666666666664,
          26.166666666666668,
          41.166666666666664,
          29.05,
          23.75,
          30.6,
          32.18333333333333,
          33.35,
          30.55,
          31.65,
          29.366666666666667,
          26.183333333333334,
          37.3,
          43.916666666666664,
          36.583333333333336,
          31.183333333333334,
          43.4,
          25.266666666666666,
          25.116666666666667,
          33.416666666666664,
          40.05,
          38.65,
          33.5,
          36.4,
          30.516666666666666,
          41.666666666666664,
          28.1,
          35.95,
          31.3,
          27.066666666666666,
          24.1,
          31.133333333333333,
          21.5,
          35.233333333333334,
          33.833333333333336,
          35.483333333333334,
          28.666666666666668,
          34.9,
          30.716666666666665,
          38.11666666666667,
          22.516666666666666,
          35.9,
          30.633333333333333,
          42.25,
          30.916666666666668,
          37.016666666666666,
          34.36666666666667,
          24.466666666666665,
          26.366666666666667,
          24,
          29.5,
          34.65,
          37.93333333333333,
          34.55,
          43.93333333333333,
          35.833333333333336,
          34.516666666666666,
          46.766666666666666,
          32.583333333333336,
          25.383333333333333,
          31.416666666666668,
          20.9,
          22.016666666666666,
          25.216666666666665,
          26.283333333333335,
          31.766666666666666,
          36.483333333333334,
          28.65,
          32.05,
          28.15,
          26.216666666666665,
          29.416666666666668,
          32.016666666666666,
          42.81666666666667,
          29.533333333333335,
          45.05,
          45.03333333333333,
          40.55,
          43.266666666666666,
          38.71666666666667,
          24.483333333333334,
          40.03333333333333,
          38.31666666666667,
          38.266666666666666,
          34.983333333333334,
          28.666666666666668,
          29.833333333333332,
          30.7,
          39.68333333333333,
          23.483333333333334,
          32.55,
          26.8,
          39.56666666666667,
          26.516666666666666,
          29.033333333333335,
          40.95,
          29.3,
          29.666666666666668,
          36.88333333333333,
          31.166666666666668,
          30.633333333333333,
          43.35,
          37.483333333333334,
          33.71666666666667,
          32.6,
          41.416666666666664,
          28.683333333333334,
          32.233333333333334,
          38.13333333333333,
          32.28333333333333,
          37.05,
          31.15,
          21.2,
          26.983333333333334,
          39.266666666666666,
          35.61666666666667,
          33.266666666666666,
          28.433333333333334,
          46.016666666666666,
          34.55,
          38.9,
          39.166666666666664,
          25.2,
          21.65,
          23.35,
          31.016666666666666,
          31.2,
          30.516666666666666,
          43.6,
          38.15,
          37.516666666666666,
          37.25,
          28.866666666666667,
          18.616666666666667,
          25.5,
          40.166666666666664,
          30.816666666666666,
          21.666666666666668,
          25.75,
          33.983333333333334,
          33.63333333333333,
          30.466666666666665,
          29.6,
          38.416666666666664,
          29.166666666666668,
          28.25,
          24.566666666666666,
          28.233333333333334,
          40.31666666666667,
          31.4,
          27.2,
          34.03333333333333,
          40.96666666666667,
          31.05,
          29.466666666666665,
          31.716666666666665,
          30.35,
          26.8,
          33.9,
          27.883333333333333,
          37.6,
          37.65,
          24.183333333333334,
          30.4,
          35.65,
          31.85,
          29.9,
          30.166666666666668,
          23.566666666666666,
          23.066666666666666,
          34.81666666666667,
          27.316666666666666,
          28.966666666666665,
          33.016666666666666,
          28.416666666666668,
          34,
          26.983333333333334,
          27.883333333333333,
          34.583333333333336,
          30.083333333333332,
          38.55,
          46.266666666666666,
          27.633333333333333,
          30.933333333333334,
          33.86666666666667,
          28.783333333333335,
          36.65,
          26.05,
          23.733333333333334,
          28,
          34.85,
          31.233333333333334,
          22.716666666666665,
          35.05,
          24.016666666666666,
          28.916666666666668,
          34.5,
          28.516666666666666,
          24.65,
          32.05,
          33.68333333333333,
          30.416666666666668,
          32.516666666666666,
          22.566666666666666,
          30.75,
          26.6,
          25.516666666666666,
          27.666666666666668,
          27.266666666666666,
          29.2,
          31.983333333333334,
          29.7,
          27.683333333333334,
          41.63333333333333,
          39.75,
          28.983333333333334,
          21.3,
          23.433333333333334,
          30.666666666666668,
          26.35,
          32.71666666666667,
          31.266666666666666,
          29.033333333333335,
          28.9,
          49.483333333333334,
          40.21666666666667,
          30.15,
          32.083333333333336,
          23.283333333333335,
          30.166666666666668,
          26,
          27.433333333333334,
          32.3,
          23.966666666666665,
          24.283333333333335,
          31.433333333333334,
          36.35,
          28.033333333333335,
          21.883333333333333,
          36.666666666666664,
          24.85,
          24.45,
          32.35,
          24.033333333333335,
          25.9,
          25.3,
          26.15,
          26.133333333333333,
          33.166666666666664,
          32.85,
          21.833333333333332,
          27.266666666666666,
          32.95,
          39.7,
          34.88333333333333,
          36.416666666666664,
          34.666666666666664,
          42.083333333333336,
          29.983333333333334,
          25.2,
          40.13333333333333,
          33.3,
          31.116666666666667,
          30.583333333333332,
          31.116666666666667,
          31.1,
          30.3,
          27.716666666666665,
          33.95,
          29.983333333333334,
          21.8,
          35.8,
          29.716666666666665,
          32.016666666666666,
          37.05,
          30.483333333333334,
          40.5,
          33.5,
          41,
          47.86666666666667,
          22.383333333333333,
          30.533333333333335,
          28.7,
          32.81666666666667,
          27.433333333333334,
          26.533333333333335,
          22.683333333333334,
          24.4,
          25.95,
          35.28333333333333,
          33.766666666666666,
          29.583333333333332,
          29.783333333333335,
          32.166666666666664,
          34.88333333333333,
          38.483333333333334,
          21.25,
          26.833333333333332,
          33.45,
          38.483333333333334,
          30.416666666666668,
          23.766666666666666,
          36.483333333333334,
          26.75,
          26.566666666666666,
          32.53333333333333,
          28.6,
          32.36666666666667,
          23.916666666666668,
          31.083333333333332,
          38,
          33.68333333333333,
          32.03333333333333,
          33.55,
          38.983333333333334,
          30.233333333333334,
          26.35,
          34.68333333333333,
          34.483333333333334,
          36.416666666666664,
          33.96666666666667,
          32.68333333333333,
          29.5,
          34.65,
          35.483333333333334,
          24.066666666666666,
          25.866666666666667,
          39.2,
          30.116666666666667,
          32.31666666666667,
          25.033333333333335,
          47.7,
          28.183333333333334,
          28.683333333333334,
          26.416666666666668,
          49.8,
          27.916666666666668,
          25.083333333333332,
          40.13333333333333,
          40.88333333333333,
          41.2,
          34.95,
          36.88333333333333,
          27.75,
          33.5,
          31.4,
          35.63333333333333,
          36.46666666666667,
          26.65,
          32.983333333333334,
          24.466666666666665,
          26.916666666666668,
          28.383333333333333,
          30.716666666666665,
          31.583333333333332,
          35.05,
          26.416666666666668,
          39.5,
          37.916666666666664,
          26.8,
          26.133333333333333,
          34.083333333333336,
          28.116666666666667,
          33.65,
          28.65,
          42.266666666666666,
          38.25,
          25.016666666666666,
          32.06666666666667,
          34.61666666666667,
          45.5,
          30.616666666666667,
          33.516666666666666,
          39.416666666666664,
          41.63333333333333,
          29.966666666666665,
          42.05,
          35.5,
          25.9,
          26.1,
          38,
          34.56666666666667,
          36.5,
          44.03333333333333,
          35.5,
          24.966666666666665,
          30.7,
          30.666666666666668,
          32.56666666666667,
          40.75,
          41.35,
          33.333333333333336,
          25.7,
          46.55,
          23.383333333333333,
          28.1,
          26.916666666666668,
          37.333333333333336,
          28.7,
          31.016666666666666,
          29.7,
          27.55,
          40.95,
          29.15,
          31.633333333333333,
          28.35,
          35.61666666666667,
          33.31666666666667,
          27.166666666666668,
          35.15,
          48.5,
          37.65,
          26.75,
          36.166666666666664,
          41.05,
          47.516666666666666,
          35.516666666666666,
          31.35,
          34.71666666666667,
          44.18333333333333,
          34.43333333333333,
          26.783333333333335,
          30.133333333333333,
          29.866666666666667,
          35.03333333333333,
          27.966666666666665,
          39.13333333333333,
          32.083333333333336,
          28.2,
          26.966666666666665,
          30.1,
          28.383333333333333,
          41.45,
          40.03333333333333,
          29.716666666666665,
          38.9,
          36.05,
          40.1,
          29.683333333333334,
          31.383333333333333,
          55.85,
          28.75,
          32.8,
          22.95,
          34.833333333333336,
          29.066666666666666,
          25.216666666666665,
          27.616666666666667,
          25.183333333333334,
          24.233333333333334,
          40.43333333333333,
          33.483333333333334,
          33.2,
          40.13333333333333,
          27.75,
          29.516666666666666,
          25.3,
          28.766666666666666,
          26.65,
          30.383333333333333,
          31.466666666666665,
          36.93333333333333,
          42.38333333333333,
          32.93333333333333,
          45.916666666666664,
          50.78333333333333,
          31.183333333333334,
          26.35,
          21.65,
          29.566666666666666,
          32.06666666666667,
          35.28333333333333,
          25.316666666666666,
          33.68333333333333,
          34.766666666666666,
          32.55,
          27.6,
          33.983333333333334,
          25.85,
          28.916666666666668,
          28.6,
          26.683333333333334,
          22.516666666666666,
          28.55,
          27.983333333333334,
          23.433333333333334,
          29.866666666666667,
          29.2,
          30.033333333333335,
          29.933333333333334,
          31.05,
          25.716666666666665,
          28.75,
          36.11666666666667,
          32.05,
          28.366666666666667,
          27.016666666666666,
          25.383333333333333,
          21.816666666666666,
          43.75,
          28.7,
          34.75,
          26.066666666666666,
          34.13333333333333,
          34.03333333333333,
          29.483333333333334,
          30.35,
          33.13333333333333,
          25.433333333333334,
          31.016666666666666,
          27.116666666666667,
          33.15,
          34.35,
          37.25,
          32.25,
          35.95,
          25.283333333333335,
          30.633333333333333,
          31.9,
          30.116666666666667,
          29.966666666666665,
          32.55,
          25.05,
          45.766666666666666,
          26.633333333333333,
          34.85,
          50.1,
          26.5,
          28.183333333333334,
          27.483333333333334,
          38.083333333333336,
          31.583333333333332,
          31.783333333333335,
          37.56666666666667,
          39.483333333333334,
          27.65,
          30.233333333333334,
          35.06666666666667,
          35.03333333333333,
          32.15,
          45.78333333333333,
          28.05,
          31.183333333333334,
          36.06666666666667,
          44.55,
          28.8,
          28.25,
          32.13333333333333,
          26.383333333333333,
          45.18333333333333,
          28.666666666666668,
          35.18333333333333,
          25.35,
          30.583333333333332,
          27.933333333333334,
          47.55,
          40.7,
          38.9,
          31.9,
          29.15,
          28.516666666666666,
          35.35,
          29.4,
          34.18333333333333,
          29.483333333333334,
          30.183333333333334,
          28.466666666666665,
          41.333333333333336,
          27.583333333333332,
          44.11666666666667,
          30.016666666666666,
          32.65,
          29.533333333333335,
          35.733333333333334,
          34.733333333333334,
          45.35,
          33.21666666666667,
          26.6,
          24.033333333333335,
          28.816666666666666,
          33.15,
          33.05,
          27.566666666666666,
          33.6,
          47.68333333333333,
          37.46666666666667,
          28.066666666666666,
          37.416666666666664,
          33.86666666666667,
          32.78333333333333,
          32.13333333333333,
          32.166666666666664,
          39.15,
          31.566666666666666,
          28.9,
          28.25,
          40.13333333333333,
          40.2,
          39.68333333333333,
          31.983333333333334,
          25.666666666666668,
          40.18333333333333,
          38.333333333333336,
          41.2,
          34.61666666666667,
          31.916666666666668,
          28.716666666666665,
          36.2,
          34.31666666666667,
          43.916666666666664,
          33.016666666666666,
          30.35,
          42.45,
          30.833333333333332,
          26.716666666666665,
          26.783333333333335,
          30.233333333333334,
          22.633333333333333,
          21.866666666666667,
          30.133333333333333,
          33.11666666666667,
          33.61666666666667,
          24.816666666666666,
          37.95,
          28.583333333333332,
          37.4,
          29.8,
          31.166666666666668,
          25.016666666666666,
          29.7,
          26.933333333333334,
          29.75,
          30.216666666666665,
          32.583333333333336,
          31.016666666666666,
          25.55,
          29.95,
          36.61666666666667,
          23.783333333333335,
          26.75,
          30.766666666666666,
          29.466666666666665,
          26.066666666666666,
          31.666666666666668,
          32.15,
          28.216666666666665,
          25.016666666666666,
          33.63333333333333,
          37.43333333333333,
          23.783333333333335,
          33.78333333333333,
          26.8,
          26.016666666666666,
          39.2,
          28.666666666666668,
          23.983333333333334,
          29.616666666666667,
          25.483333333333334,
          28.483333333333334,
          28.5,
          32.266666666666666,
          22.85,
          32.21666666666667,
          31.116666666666667,
          32.983333333333334,
          35.3,
          32.2,
          26.966666666666665,
          30.983333333333334,
          36.3,
          38.333333333333336,
          28.683333333333334,
          27.6,
          37.016666666666666,
          46.43333333333333,
          27.616666666666667,
          25.566666666666666,
          33.18333333333333,
          36.11666666666667,
          28.116666666666667,
          27.583333333333332,
          48.18333333333333,
          29.75,
          27.666666666666668,
          27.2,
          38.983333333333334,
          37.95,
          32.36666666666667,
          32.28333333333333,
          46.2,
          29.333333333333332,
          37.86666666666667,
          30.033333333333335,
          24.083333333333332,
          39.53333333333333,
          23.05,
          24.6,
          35,
          34.11666666666667,
          32.15,
          26.816666666666666,
          32.416666666666664,
          36.63333333333333,
          39.8,
          27.033333333333335,
          42.68333333333333,
          32.78333333333333,
          31.9,
          33.03333333333333,
          29.666666666666668,
          26.933333333333334,
          30.15,
          28.466666666666665,
          26.016666666666666,
          23.9,
          31.166666666666668,
          24.016666666666666,
          25.3,
          34.46666666666667,
          31.25,
          25.733333333333334,
          26.216666666666665,
          29.733333333333334,
          31.816666666666666,
          28.566666666666666,
          33.55,
          41.63333333333333,
          24.9,
          28.616666666666667,
          36.21666666666667,
          27.3,
          25.683333333333334,
          28.8,
          26.383333333333333,
          28.55,
          23.85,
          27.833333333333332,
          25.683333333333334,
          33.96666666666667,
          24.466666666666665,
          29.983333333333334,
          30.416666666666668,
          32.4,
          31.5,
          34.983333333333334,
          26.533333333333335,
          24.566666666666666,
          25.05,
          34.31666666666667,
          28.7,
          27.983333333333334,
          31.316666666666666,
          32.75,
          42.53333333333333,
          25.716666666666665,
          31.8,
          32.7,
          37.68333333333333,
          24.466666666666665,
          33.4,
          39.68333333333333,
          38.666666666666664,
          38.7,
          26.55,
          21.933333333333334,
          33.583333333333336,
          38.5,
          32.28333333333333,
          30.45,
          31.5,
          32.43333333333333,
          35.7,
          31.15,
          29.516666666666666,
          36.63333333333333,
          27.3,
          36.81666666666667,
          39.43333333333333,
          28.666666666666668,
          34.96666666666667,
          29.733333333333334,
          25.466666666666665,
          18.583333333333332,
          26.866666666666667,
          31.483333333333334,
          32.266666666666666,
          25.45,
          26.366666666666667,
          38.95,
          30.583333333333332,
          32.766666666666666,
          45.43333333333333,
          27.516666666666666,
          29.766666666666666,
          26.616666666666667,
          31.933333333333334,
          32.1,
          27.583333333333332,
          41.05,
          34.75,
          37.46666666666667,
          54.88333333333333,
          34.61666666666667,
          34.166666666666664,
          33.68333333333333,
          34.333333333333336,
          34.18333333333333,
          30.133333333333333,
          27.133333333333333,
          25.85,
          38.86666666666667,
          38.083333333333336,
          29.583333333333332,
          30.983333333333334,
          32.53333333333333,
          33.55,
          26.683333333333334,
          28.35,
          37.8,
          36.416666666666664,
          29.85,
          29.533333333333335,
          34.46666666666667,
          29.133333333333333,
          43.06666666666667,
          19.083333333333332,
          19.9,
          34.06666666666667,
          40.96666666666667,
          31.116666666666667,
          39.46666666666667,
          41.666666666666664,
          24.833333333333332,
          32.68333333333333,
          32.93333333333333,
          36.68333333333333,
          28.45,
          24.616666666666667,
          26.866666666666667,
          30,
          30.133333333333333,
          32.016666666666666,
          33.1,
          42.5,
          24.1,
          31.15,
          34.81666666666667,
          34.166666666666664,
          27.6,
          36.06666666666667,
          36.483333333333334,
          33.36666666666667,
          33.416666666666664,
          27.333333333333332,
          25.916666666666668,
          31.083333333333332,
          32.516666666666666,
          31.883333333333333,
          30.85,
          40.38333333333333,
          35.71666666666667,
          31.183333333333334,
          24.916666666666668,
          30.35,
          30.333333333333332,
          31.716666666666665,
          29.25,
          25.733333333333334,
          33.15,
          36.766666666666666,
          29.566666666666666,
          42.2,
          27.966666666666665,
          44.05,
          28.55,
          29.833333333333332,
          28.883333333333333,
          29.25,
          32.93333333333333,
          23.7,
          25.683333333333334,
          27,
          32.95,
          37.11666666666667,
          29.433333333333334,
          27.333333333333332,
          24.816666666666666,
          28.85,
          31.15,
          27.333333333333332,
          30.933333333333334,
          35.083333333333336,
          30.583333333333332,
          39.333333333333336,
          30.383333333333333,
          47.13333333333333,
          31.55,
          27.683333333333334,
          30.066666666666666,
          33.68333333333333,
          32.85,
          27.866666666666667,
          29.433333333333334,
          24.416666666666668,
          24.883333333333333,
          33.28333333333333,
          44.31666666666667,
          42.21666666666667,
          41.28333333333333,
          33.05,
          29.966666666666665,
          31.7,
          26.55,
          32.28333333333333,
          33.95,
          26.1,
          33.983333333333334,
          33.983333333333334,
          30.5,
          23.783333333333335,
          41.65,
          40.81666666666667,
          32.733333333333334,
          31.966666666666665,
          28.933333333333334,
          26.6,
          23.966666666666665,
          26.633333333333333,
          24.6,
          38.1,
          28.85,
          37.15,
          31.416666666666668,
          31.233333333333334,
          30.533333333333335,
          31.966666666666665,
          35.166666666666664,
          51.233333333333334,
          40.05,
          30.7,
          40.36666666666667,
          41.93333333333333,
          41.03333333333333,
          30.266666666666666,
          31,
          33.43333333333333,
          25.066666666666666,
          25.566666666666666,
          38.28333333333333,
          32.81666666666667,
          42.86666666666667,
          35.46666666666667,
          29.9,
          40.833333333333336,
          44.93333333333333,
          30.983333333333334,
          38.233333333333334,
          28.5,
          28.5,
          23.016666666666666,
          26.116666666666667,
          22.85,
          28.666666666666668,
          24.216666666666665,
          24.416666666666668,
          27.116666666666667,
          39.733333333333334,
          33.666666666666664,
          32.31666666666667,
          35.65,
          32.733333333333334,
          47.333333333333336,
          37.516666666666666,
          48.416666666666664,
          33.36666666666667,
          51.18333333333333,
          42.56666666666667,
          39.13333333333333,
          29.466666666666665,
          32.43333333333333,
          32.833333333333336,
          30.683333333333334,
          32.833333333333336,
          24.516666666666666,
          31.566666666666666,
          36.266666666666666,
          33.75,
          31.583333333333332,
          26.55,
          34.55,
          31.583333333333332,
          36.983333333333334,
          29.033333333333335,
          32.2,
          29.233333333333334,
          42.86666666666667,
          28.766666666666666,
          36.61666666666667,
          31.566666666666666,
          22.6,
          28.816666666666666,
          28.75,
          28.8,
          37.733333333333334,
          32.46666666666667,
          26.2,
          34.46666666666667,
          36.11666666666667,
          27.266666666666666,
          27.566666666666666,
          29.216666666666665,
          33.46666666666667,
          30.733333333333334,
          27.583333333333332,
          31.466666666666665,
          39.666666666666664,
          29.166666666666668,
          35.53333333333333,
          36.266666666666666,
          40.583333333333336,
          38.15,
          46.46666666666667,
          26.666666666666668,
          31.416666666666668,
          40.88333333333333,
          43.483333333333334,
          33.68333333333333,
          39.6,
          38.5,
          33.5,
          27.966666666666665,
          30.45,
          30.566666666666666,
          33.95,
          28.566666666666666,
          35.55,
          31.733333333333334,
          26.15,
          45.733333333333334,
          26.716666666666665,
          37.766666666666666,
          34.63333333333333,
          29.9,
          42.083333333333336,
          32.21666666666667,
          26.95,
          32.13333333333333,
          27.866666666666667,
          36.43333333333333,
          26.983333333333334,
          24.45,
          37.05,
          27.8,
          26.6,
          29.883333333333333,
          28.95,
          26.266666666666666,
          23.033333333333335,
          30.633333333333333,
          31.8,
          39.46666666666667,
          31.566666666666666,
          23.55,
          40.333333333333336,
          28.4,
          34.75,
          41.833333333333336,
          31.683333333333334,
          35.06666666666667,
          32.68333333333333,
          26.45,
          36.75,
          35.75,
          30.45,
          30.716666666666665,
          19.583333333333332,
          23.633333333333333,
          28.533333333333335,
          40.85,
          44.43333333333333,
          28.533333333333335,
          34.03333333333333,
          26.85,
          34.266666666666666,
          44.833333333333336,
          30.9,
          29.3,
          24.616666666666667,
          37.38333333333333,
          35.083333333333336,
          38.81666666666667,
          37.71666666666667,
          36.483333333333334,
          42.38333333333333,
          28.433333333333334,
          31.783333333333335,
          34.666666666666664,
          35.61666666666667,
          31.066666666666666,
          33.083333333333336,
          31.216666666666665,
          25.35,
          22.533333333333335,
          31.583333333333332,
          30.516666666666666,
          32.11666666666667,
          32.38333333333333,
          42.333333333333336,
          29.683333333333334,
          37.15,
          39.1,
          30.583333333333332,
          26.883333333333333,
          26.55,
          31.6,
          32.6,
          33.6,
          37.8,
          31.833333333333332,
          35.016666666666666,
          33.63333333333333,
          30.866666666666667,
          32.416666666666664,
          40.05,
          30.516666666666666,
          33.25,
          31.683333333333334,
          50.6,
          30.033333333333335,
          28.7,
          38.05,
          36.4,
          29.766666666666666,
          27.466666666666665,
          44.233333333333334,
          30.65,
          25.05,
          39.81666666666667,
          31.05,
          40.38333333333333,
          34.28333333333333,
          45.61666666666667,
          38.766666666666666,
          37.35,
          19.6,
          33.983333333333334,
          31.516666666666666,
          28.616666666666667,
          29.65,
          48.43333333333333,
          24.933333333333334,
          29.133333333333333,
          38.45,
          25.783333333333335,
          27.766666666666666,
          37.1,
          36.733333333333334,
          33.03333333333333,
          30.933333333333334,
          43.5,
          29.15,
          35.43333333333333,
          39.05,
          27.65,
          35.43333333333333,
          28.283333333333335,
          24.65,
          32.3,
          35.71666666666667,
          37.63333333333333,
          24.983333333333334,
          27,
          38.666666666666664,
          35.86666666666667,
          30.883333333333333,
          35.7,
          40.03333333333333,
          40.56666666666667,
          39.8,
          39.733333333333334,
          35.733333333333334,
          31.233333333333334,
          31.6,
          33.21666666666667,
          37.983333333333334,
          31.166666666666668,
          23.5,
          22.683333333333334,
          37.233333333333334,
          31.1,
          37.93333333333333,
          28.1,
          32.11666666666667,
          32.4,
          28.6,
          46.266666666666666,
          43.916666666666664,
          32.56666666666667,
          32.266666666666666,
          23.216666666666665,
          23.416666666666668,
          33.916666666666664,
          26.916666666666668,
          23.6,
          28.9,
          31.683333333333334,
          40.6,
          34,
          32.7,
          38.733333333333334,
          26.15,
          34.61666666666667,
          35.083333333333336,
          29.933333333333334,
          34.733333333333334,
          44.21666666666667,
          30.35,
          21.116666666666667,
          36.68333333333333,
          54.06666666666667,
          31.65,
          31.116666666666667,
          27.866666666666667,
          28.383333333333333,
          29.166666666666668,
          26.566666666666666,
          32.36666666666667,
          31.483333333333334,
          26.65,
          37.416666666666664,
          30.133333333333333,
          29.483333333333334,
          35.5,
          36.38333333333333,
          35.166666666666664,
          30.65,
          31.55,
          40.05,
          22.4,
          31.566666666666666,
          27.916666666666668,
          31.266666666666666,
          38.85,
          41.516666666666666,
          33.03333333333333,
          29.6,
          34.1,
          27.783333333333335,
          28.233333333333334,
          37.266666666666666,
          39,
          29.916666666666668,
          26.083333333333332,
          27.116666666666667,
          41.583333333333336,
          32.93333333333333,
          29.833333333333332,
          32.05,
          30.95,
          26.5,
          31.033333333333335,
          30.016666666666666,
          34.46666666666667,
          24.716666666666665,
          33.63333333333333,
          46.21666666666667,
          31.65,
          38.35,
          26.666666666666668,
          25.366666666666667,
          34.13333333333333,
          25.6,
          35.483333333333334,
          33.516666666666666,
          23.666666666666668,
          25.016666666666666,
          31.233333333333334,
          32.55,
          30.783333333333335,
          35.483333333333334,
          33.46666666666667,
          32.166666666666664,
          39.666666666666664,
          22.216666666666665,
          31.633333333333333,
          31.8,
          30.25,
          28.033333333333335,
          35.083333333333336,
          30.083333333333332,
          31.283333333333335,
          44.5,
          35.583333333333336,
          46.45,
          46.333333333333336,
          36.016666666666666,
          46.93333333333333,
          35.56666666666667,
          33.2,
          32.46666666666667,
          37.8,
          38.016666666666666,
          26.416666666666668,
          35.916666666666664,
          24.9,
          27.016666666666666,
          33.28333333333333,
          29.583333333333332,
          32.233333333333334,
          41.5,
          28.916666666666668,
          31.7,
          31.016666666666666,
          32.06666666666667,
          40.916666666666664,
          32.65,
          31.533333333333335,
          32.7,
          32.4,
          28,
          28.066666666666666,
          27.6,
          39.983333333333334,
          39.983333333333334,
          36.78333333333333,
          30.866666666666667,
          35.13333333333333,
          29.466666666666665,
          30.683333333333334,
          37.68333333333333,
          25.383333333333333,
          32.55,
          35.13333333333333,
          28.9,
          31.216666666666665,
          30.066666666666666,
          39.583333333333336,
          29.866666666666667,
          34.78333333333333,
          27.083333333333332,
          35.266666666666666,
          29.583333333333332,
          30.416666666666668,
          26.9,
          31.516666666666666,
          35.3,
          29.35,
          28.433333333333334,
          42.016666666666666,
          31.516666666666666,
          40.53333333333333,
          31.25,
          31.283333333333335,
          29.95,
          30.483333333333334,
          26.066666666666666,
          24.35,
          37.916666666666664,
          42.93333333333333,
          29.05,
          34.05,
          34.833333333333336,
          35.6,
          36.53333333333333
         ],
         "xaxis": "x",
         "yaxis": "y"
        }
       ],
       "layout": {
        "annotations": [
         {
          "showarrow": false,
          "text": "Median Game Length",
          "x": 31.391666666666666,
          "y": 1.05,
          "yref": "paper"
         }
        ],
        "barmode": "relative",
        "legend": {
         "title": {
          "text": "variable"
         },
         "tracegroupgap": 0
        },
        "margin": {
         "t": 60
        },
        "shapes": [
         {
          "line": {
           "color": "red",
           "dash": "dash"
          },
          "type": "line",
          "x0": 31.391666666666666,
          "x1": 31.391666666666666,
          "xref": "x",
          "y0": 0,
          "y1": 1,
          "yref": "y domain"
         }
        ],
        "showlegend": false,
        "template": {
         "data": {
          "bar": [
           {
            "error_x": {
             "color": "#2a3f5f"
            },
            "error_y": {
             "color": "#2a3f5f"
            },
            "marker": {
             "line": {
              "color": "#E5ECF6",
              "width": 0.5
             },
             "pattern": {
              "fillmode": "overlay",
              "size": 10,
              "solidity": 0.2
             }
            },
            "type": "bar"
           }
          ],
          "barpolar": [
           {
            "marker": {
             "line": {
              "color": "#E5ECF6",
              "width": 0.5
             },
             "pattern": {
              "fillmode": "overlay",
              "size": 10,
              "solidity": 0.2
             }
            },
            "type": "barpolar"
           }
          ],
          "carpet": [
           {
            "aaxis": {
             "endlinecolor": "#2a3f5f",
             "gridcolor": "white",
             "linecolor": "white",
             "minorgridcolor": "white",
             "startlinecolor": "#2a3f5f"
            },
            "baxis": {
             "endlinecolor": "#2a3f5f",
             "gridcolor": "white",
             "linecolor": "white",
             "minorgridcolor": "white",
             "startlinecolor": "#2a3f5f"
            },
            "type": "carpet"
           }
          ],
          "choropleth": [
           {
            "colorbar": {
             "outlinewidth": 0,
             "ticks": ""
            },
            "type": "choropleth"
           }
          ],
          "contour": [
           {
            "colorbar": {
             "outlinewidth": 0,
             "ticks": ""
            },
            "colorscale": [
             [
              0,
              "#0d0887"
             ],
             [
              0.1111111111111111,
              "#46039f"
             ],
             [
              0.2222222222222222,
              "#7201a8"
             ],
             [
              0.3333333333333333,
              "#9c179e"
             ],
             [
              0.4444444444444444,
              "#bd3786"
             ],
             [
              0.5555555555555556,
              "#d8576b"
             ],
             [
              0.6666666666666666,
              "#ed7953"
             ],
             [
              0.7777777777777778,
              "#fb9f3a"
             ],
             [
              0.8888888888888888,
              "#fdca26"
             ],
             [
              1,
              "#f0f921"
             ]
            ],
            "type": "contour"
           }
          ],
          "contourcarpet": [
           {
            "colorbar": {
             "outlinewidth": 0,
             "ticks": ""
            },
            "type": "contourcarpet"
           }
          ],
          "heatmap": [
           {
            "colorbar": {
             "outlinewidth": 0,
             "ticks": ""
            },
            "colorscale": [
             [
              0,
              "#0d0887"
             ],
             [
              0.1111111111111111,
              "#46039f"
             ],
             [
              0.2222222222222222,
              "#7201a8"
             ],
             [
              0.3333333333333333,
              "#9c179e"
             ],
             [
              0.4444444444444444,
              "#bd3786"
             ],
             [
              0.5555555555555556,
              "#d8576b"
             ],
             [
              0.6666666666666666,
              "#ed7953"
             ],
             [
              0.7777777777777778,
              "#fb9f3a"
             ],
             [
              0.8888888888888888,
              "#fdca26"
             ],
             [
              1,
              "#f0f921"
             ]
            ],
            "type": "heatmap"
           }
          ],
          "heatmapgl": [
           {
            "colorbar": {
             "outlinewidth": 0,
             "ticks": ""
            },
            "colorscale": [
             [
              0,
              "#0d0887"
             ],
             [
              0.1111111111111111,
              "#46039f"
             ],
             [
              0.2222222222222222,
              "#7201a8"
             ],
             [
              0.3333333333333333,
              "#9c179e"
             ],
             [
              0.4444444444444444,
              "#bd3786"
             ],
             [
              0.5555555555555556,
              "#d8576b"
             ],
             [
              0.6666666666666666,
              "#ed7953"
             ],
             [
              0.7777777777777778,
              "#fb9f3a"
             ],
             [
              0.8888888888888888,
              "#fdca26"
             ],
             [
              1,
              "#f0f921"
             ]
            ],
            "type": "heatmapgl"
           }
          ],
          "histogram": [
           {
            "marker": {
             "pattern": {
              "fillmode": "overlay",
              "size": 10,
              "solidity": 0.2
             }
            },
            "type": "histogram"
           }
          ],
          "histogram2d": [
           {
            "colorbar": {
             "outlinewidth": 0,
             "ticks": ""
            },
            "colorscale": [
             [
              0,
              "#0d0887"
             ],
             [
              0.1111111111111111,
              "#46039f"
             ],
             [
              0.2222222222222222,
              "#7201a8"
             ],
             [
              0.3333333333333333,
              "#9c179e"
             ],
             [
              0.4444444444444444,
              "#bd3786"
             ],
             [
              0.5555555555555556,
              "#d8576b"
             ],
             [
              0.6666666666666666,
              "#ed7953"
             ],
             [
              0.7777777777777778,
              "#fb9f3a"
             ],
             [
              0.8888888888888888,
              "#fdca26"
             ],
             [
              1,
              "#f0f921"
             ]
            ],
            "type": "histogram2d"
           }
          ],
          "histogram2dcontour": [
           {
            "colorbar": {
             "outlinewidth": 0,
             "ticks": ""
            },
            "colorscale": [
             [
              0,
              "#0d0887"
             ],
             [
              0.1111111111111111,
              "#46039f"
             ],
             [
              0.2222222222222222,
              "#7201a8"
             ],
             [
              0.3333333333333333,
              "#9c179e"
             ],
             [
              0.4444444444444444,
              "#bd3786"
             ],
             [
              0.5555555555555556,
              "#d8576b"
             ],
             [
              0.6666666666666666,
              "#ed7953"
             ],
             [
              0.7777777777777778,
              "#fb9f3a"
             ],
             [
              0.8888888888888888,
              "#fdca26"
             ],
             [
              1,
              "#f0f921"
             ]
            ],
            "type": "histogram2dcontour"
           }
          ],
          "mesh3d": [
           {
            "colorbar": {
             "outlinewidth": 0,
             "ticks": ""
            },
            "type": "mesh3d"
           }
          ],
          "parcoords": [
           {
            "line": {
             "colorbar": {
              "outlinewidth": 0,
              "ticks": ""
             }
            },
            "type": "parcoords"
           }
          ],
          "pie": [
           {
            "automargin": true,
            "type": "pie"
           }
          ],
          "scatter": [
           {
            "fillpattern": {
             "fillmode": "overlay",
             "size": 10,
             "solidity": 0.2
            },
            "type": "scatter"
           }
          ],
          "scatter3d": [
           {
            "line": {
             "colorbar": {
              "outlinewidth": 0,
              "ticks": ""
             }
            },
            "marker": {
             "colorbar": {
              "outlinewidth": 0,
              "ticks": ""
             }
            },
            "type": "scatter3d"
           }
          ],
          "scattercarpet": [
           {
            "marker": {
             "colorbar": {
              "outlinewidth": 0,
              "ticks": ""
             }
            },
            "type": "scattercarpet"
           }
          ],
          "scattergeo": [
           {
            "marker": {
             "colorbar": {
              "outlinewidth": 0,
              "ticks": ""
             }
            },
            "type": "scattergeo"
           }
          ],
          "scattergl": [
           {
            "marker": {
             "colorbar": {
              "outlinewidth": 0,
              "ticks": ""
             }
            },
            "type": "scattergl"
           }
          ],
          "scattermapbox": [
           {
            "marker": {
             "colorbar": {
              "outlinewidth": 0,
              "ticks": ""
             }
            },
            "type": "scattermapbox"
           }
          ],
          "scatterpolar": [
           {
            "marker": {
             "colorbar": {
              "outlinewidth": 0,
              "ticks": ""
             }
            },
            "type": "scatterpolar"
           }
          ],
          "scatterpolargl": [
           {
            "marker": {
             "colorbar": {
              "outlinewidth": 0,
              "ticks": ""
             }
            },
            "type": "scatterpolargl"
           }
          ],
          "scatterternary": [
           {
            "marker": {
             "colorbar": {
              "outlinewidth": 0,
              "ticks": ""
             }
            },
            "type": "scatterternary"
           }
          ],
          "surface": [
           {
            "colorbar": {
             "outlinewidth": 0,
             "ticks": ""
            },
            "colorscale": [
             [
              0,
              "#0d0887"
             ],
             [
              0.1111111111111111,
              "#46039f"
             ],
             [
              0.2222222222222222,
              "#7201a8"
             ],
             [
              0.3333333333333333,
              "#9c179e"
             ],
             [
              0.4444444444444444,
              "#bd3786"
             ],
             [
              0.5555555555555556,
              "#d8576b"
             ],
             [
              0.6666666666666666,
              "#ed7953"
             ],
             [
              0.7777777777777778,
              "#fb9f3a"
             ],
             [
              0.8888888888888888,
              "#fdca26"
             ],
             [
              1,
              "#f0f921"
             ]
            ],
            "type": "surface"
           }
          ],
          "table": [
           {
            "cells": {
             "fill": {
              "color": "#EBF0F8"
             },
             "line": {
              "color": "white"
             }
            },
            "header": {
             "fill": {
              "color": "#C8D4E3"
             },
             "line": {
              "color": "white"
             }
            },
            "type": "table"
           }
          ]
         },
         "layout": {
          "annotationdefaults": {
           "arrowcolor": "#2a3f5f",
           "arrowhead": 0,
           "arrowwidth": 1
          },
          "autotypenumbers": "strict",
          "coloraxis": {
           "colorbar": {
            "outlinewidth": 0,
            "ticks": ""
           }
          },
          "colorscale": {
           "diverging": [
            [
             0,
             "#8e0152"
            ],
            [
             0.1,
             "#c51b7d"
            ],
            [
             0.2,
             "#de77ae"
            ],
            [
             0.3,
             "#f1b6da"
            ],
            [
             0.4,
             "#fde0ef"
            ],
            [
             0.5,
             "#f7f7f7"
            ],
            [
             0.6,
             "#e6f5d0"
            ],
            [
             0.7,
             "#b8e186"
            ],
            [
             0.8,
             "#7fbc41"
            ],
            [
             0.9,
             "#4d9221"
            ],
            [
             1,
             "#276419"
            ]
           ],
           "sequential": [
            [
             0,
             "#0d0887"
            ],
            [
             0.1111111111111111,
             "#46039f"
            ],
            [
             0.2222222222222222,
             "#7201a8"
            ],
            [
             0.3333333333333333,
             "#9c179e"
            ],
            [
             0.4444444444444444,
             "#bd3786"
            ],
            [
             0.5555555555555556,
             "#d8576b"
            ],
            [
             0.6666666666666666,
             "#ed7953"
            ],
            [
             0.7777777777777778,
             "#fb9f3a"
            ],
            [
             0.8888888888888888,
             "#fdca26"
            ],
            [
             1,
             "#f0f921"
            ]
           ],
           "sequentialminus": [
            [
             0,
             "#0d0887"
            ],
            [
             0.1111111111111111,
             "#46039f"
            ],
            [
             0.2222222222222222,
             "#7201a8"
            ],
            [
             0.3333333333333333,
             "#9c179e"
            ],
            [
             0.4444444444444444,
             "#bd3786"
            ],
            [
             0.5555555555555556,
             "#d8576b"
            ],
            [
             0.6666666666666666,
             "#ed7953"
            ],
            [
             0.7777777777777778,
             "#fb9f3a"
            ],
            [
             0.8888888888888888,
             "#fdca26"
            ],
            [
             1,
             "#f0f921"
            ]
           ]
          },
          "colorway": [
           "#636efa",
           "#EF553B",
           "#00cc96",
           "#ab63fa",
           "#FFA15A",
           "#19d3f3",
           "#FF6692",
           "#B6E880",
           "#FF97FF",
           "#FECB52"
          ],
          "font": {
           "color": "#2a3f5f"
          },
          "geo": {
           "bgcolor": "white",
           "lakecolor": "white",
           "landcolor": "#E5ECF6",
           "showlakes": true,
           "showland": true,
           "subunitcolor": "white"
          },
          "hoverlabel": {
           "align": "left"
          },
          "hovermode": "closest",
          "mapbox": {
           "style": "light"
          },
          "paper_bgcolor": "white",
          "plot_bgcolor": "#E5ECF6",
          "polar": {
           "angularaxis": {
            "gridcolor": "white",
            "linecolor": "white",
            "ticks": ""
           },
           "bgcolor": "#E5ECF6",
           "radialaxis": {
            "gridcolor": "white",
            "linecolor": "white",
            "ticks": ""
           }
          },
          "scene": {
           "xaxis": {
            "backgroundcolor": "#E5ECF6",
            "gridcolor": "white",
            "gridwidth": 2,
            "linecolor": "white",
            "showbackground": true,
            "ticks": "",
            "zerolinecolor": "white"
           },
           "yaxis": {
            "backgroundcolor": "#E5ECF6",
            "gridcolor": "white",
            "gridwidth": 2,
            "linecolor": "white",
            "showbackground": true,
            "ticks": "",
            "zerolinecolor": "white"
           },
           "zaxis": {
            "backgroundcolor": "#E5ECF6",
            "gridcolor": "white",
            "gridwidth": 2,
            "linecolor": "white",
            "showbackground": true,
            "ticks": "",
            "zerolinecolor": "white"
           }
          },
          "shapedefaults": {
           "line": {
            "color": "#2a3f5f"
           }
          },
          "ternary": {
           "aaxis": {
            "gridcolor": "white",
            "linecolor": "white",
            "ticks": ""
           },
           "baxis": {
            "gridcolor": "white",
            "linecolor": "white",
            "ticks": ""
           },
           "bgcolor": "#E5ECF6",
           "caxis": {
            "gridcolor": "white",
            "linecolor": "white",
            "ticks": ""
           }
          },
          "title": {
           "x": 0.05
          },
          "xaxis": {
           "automargin": true,
           "gridcolor": "white",
           "linecolor": "white",
           "ticks": "",
           "title": {
            "standoff": 15
           },
           "zerolinecolor": "white",
           "zerolinewidth": 2
          },
          "yaxis": {
           "automargin": true,
           "gridcolor": "white",
           "linecolor": "white",
           "ticks": "",
           "title": {
            "standoff": 15
           },
           "zerolinecolor": "white",
           "zerolinewidth": 2
          }
         }
        },
        "title": {
         "text": "Distribution of Game Length"
        },
        "xaxis": {
         "anchor": "y",
         "domain": [
          0,
          1
         ],
         "title": {
          "text": "Game length (minutes)"
         }
        },
        "yaxis": {
         "anchor": "x",
         "domain": [
          0,
          1
         ],
         "title": {
          "text": "Number of games"
         }
        }
       }
      }
     },
     "metadata": {},
     "output_type": "display_data"
    }
   ],
   "source": [
    "fig2 = tier1_player.groupby('gameid').first()['gamelength'].apply(lambda x: x / 60).plot(kind='hist')\n",
    "fig2.add_vline(x=median_time, line_dash=\"dash\", line_color=\"red\")\n",
    "fig2.add_annotation(x=median_time, y=1.05, text=\"Median Game Length\", showarrow=False, yref=\"paper\")\n",
    "fig2.update_layout(title='Distribution of Game Length',\n",
    "                   xaxis_title='Game length (minutes)',\n",
    "                   yaxis_title='Number of games',\n",
    "                   showlegend=False)\n",
    "fig2.show()"
   ]
  },
  {
   "cell_type": "markdown",
   "metadata": {},
   "source": [
    "### Bivariate Analysis"
   ]
  },
  {
   "cell_type": "markdown",
   "metadata": {},
   "source": [
    "#### Average Game Length in Each Tier 1 League\n",
    "From the following boxplot and barplot, we can see that there is no significant game length between each league. One interesting fact is that **LCK**, known for best game strategy in the game with less teamfight, has the longest average game length, while **VCS**, known for its bloody and frequent teamfights, has the shortest average game length."
   ]
  },
  {
   "cell_type": "code",
   "execution_count": 81,
   "metadata": {},
   "outputs": [
    {
     "data": {
      "application/vnd.plotly.v1+json": {
       "config": {
        "plotlyServerURL": "https://plot.ly"
       },
       "data": [
        {
         "alignmentgroup": "True",
         "hovertemplate": "league=%{x}<br>gamelength=%{y}<extra></extra>",
         "legendgroup": "",
         "marker": {
          "color": "#636efa"
         },
         "name": "",
         "notched": false,
         "offsetgroup": "",
         "orientation": "v",
         "showlegend": false,
         "type": "box",
         "x": [
          "LPL",
          "LPL",
          "LPL",
          "LPL",
          "LPL",
          "LPL",
          "LPL",
          "LPL",
          "LPL",
          "LPL",
          "LPL",
          "LPL",
          "LPL",
          "LPL",
          "LPL",
          "LPL",
          "LPL",
          "LPL",
          "LPL",
          "LPL",
          "LPL",
          "LPL",
          "LPL",
          "LPL",
          "LPL",
          "LPL",
          "LPL",
          "LPL",
          "LPL",
          "LPL",
          "LPL",
          "LPL",
          "LPL",
          "LPL",
          "LPL",
          "LPL",
          "LPL",
          "LPL",
          "LPL",
          "LPL",
          "LPL",
          "LPL",
          "LPL",
          "LPL",
          "LPL",
          "LPL",
          "LPL",
          "LPL",
          "LPL",
          "LPL",
          "LPL",
          "LPL",
          "LPL",
          "LPL",
          "LPL",
          "LPL",
          "LPL",
          "LPL",
          "LPL",
          "LPL",
          "LPL",
          "LPL",
          "LPL",
          "LPL",
          "LPL",
          "LPL",
          "LPL",
          "LPL",
          "LPL",
          "LPL",
          "LPL",
          "LPL",
          "LPL",
          "LPL",
          "LPL",
          "LPL",
          "LPL",
          "LPL",
          "LPL",
          "LPL",
          "LPL",
          "LPL",
          "LPL",
          "LPL",
          "LPL",
          "LPL",
          "LPL",
          "LPL",
          "LPL",
          "LPL",
          "LPL",
          "LPL",
          "LPL",
          "LPL",
          "LPL",
          "LPL",
          "LPL",
          "LPL",
          "LPL",
          "LPL",
          "LPL",
          "LPL",
          "LPL",
          "LPL",
          "LPL",
          "LPL",
          "LPL",
          "LPL",
          "LPL",
          "LPL",
          "LPL",
          "LPL",
          "LPL",
          "LPL",
          "LPL",
          "LPL",
          "LPL",
          "LPL",
          "LPL",
          "LPL",
          "LPL",
          "LPL",
          "LPL",
          "LPL",
          "LPL",
          "LPL",
          "LPL",
          "LPL",
          "LPL",
          "LPL",
          "LPL",
          "LPL",
          "LPL",
          "LPL",
          "LPL",
          "LPL",
          "LPL",
          "LPL",
          "LPL",
          "LPL",
          "LPL",
          "LPL",
          "LPL",
          "LPL",
          "LPL",
          "LPL",
          "LPL",
          "LPL",
          "LPL",
          "LPL",
          "LPL",
          "LPL",
          "LPL",
          "LPL",
          "LPL",
          "LPL",
          "LPL",
          "LPL",
          "LPL",
          "LPL",
          "LPL",
          "LPL",
          "LPL",
          "LPL",
          "LPL",
          "LPL",
          "LPL",
          "LPL",
          "LPL",
          "LPL",
          "LPL",
          "LPL",
          "LPL",
          "LPL",
          "LPL",
          "LPL",
          "LPL",
          "LPL",
          "LPL",
          "LPL",
          "LPL",
          "LPL",
          "LPL",
          "LPL",
          "LPL",
          "LPL",
          "LPL",
          "LPL",
          "LPL",
          "LPL",
          "LPL",
          "LPL",
          "LPL",
          "LPL",
          "LPL",
          "LPL",
          "LPL",
          "LPL",
          "LPL",
          "LPL",
          "LPL",
          "LPL",
          "LPL",
          "LPL",
          "LPL",
          "LPL",
          "LPL",
          "LPL",
          "LPL",
          "LPL",
          "LPL",
          "LPL",
          "LPL",
          "LPL",
          "LPL",
          "LPL",
          "LPL",
          "LPL",
          "LPL",
          "LPL",
          "LPL",
          "LPL",
          "LPL",
          "LPL",
          "LPL",
          "LPL",
          "LPL",
          "LPL",
          "LPL",
          "LPL",
          "LPL",
          "LPL",
          "LPL",
          "LPL",
          "LPL",
          "LPL",
          "LPL",
          "LPL",
          "LPL",
          "LPL",
          "LPL",
          "LPL",
          "LPL",
          "LPL",
          "LPL",
          "LPL",
          "LPL",
          "LPL",
          "LPL",
          "LPL",
          "LPL",
          "LPL",
          "LPL",
          "LPL",
          "LPL",
          "LPL",
          "LPL",
          "LPL",
          "LPL",
          "LPL",
          "LPL",
          "LPL",
          "LPL",
          "LPL",
          "LPL",
          "LPL",
          "LPL",
          "LPL",
          "LPL",
          "LPL",
          "LPL",
          "LPL",
          "LPL",
          "LPL",
          "LPL",
          "LPL",
          "LPL",
          "LPL",
          "LPL",
          "LPL",
          "LPL",
          "LPL",
          "LPL",
          "LPL",
          "LPL",
          "LPL",
          "LPL",
          "LPL",
          "LPL",
          "LPL",
          "LPL",
          "LPL",
          "LPL",
          "LPL",
          "LPL",
          "LPL",
          "LPL",
          "LPL",
          "LPL",
          "LPL",
          "LPL",
          "LPL",
          "LPL",
          "LPL",
          "LPL",
          "LPL",
          "LPL",
          "LPL",
          "LPL",
          "LPL",
          "LPL",
          "LPL",
          "LPL",
          "LPL",
          "LPL",
          "LPL",
          "LPL",
          "LPL",
          "LPL",
          "LPL",
          "LPL",
          "LPL",
          "LPL",
          "LPL",
          "LPL",
          "LPL",
          "LPL",
          "LPL",
          "LPL",
          "LPL",
          "LPL",
          "LPL",
          "LPL",
          "LPL",
          "LPL",
          "LPL",
          "LPL",
          "LPL",
          "LPL",
          "LPL",
          "LPL",
          "LPL",
          "LPL",
          "LPL",
          "LPL",
          "LPL",
          "LPL",
          "LPL",
          "LPL",
          "LPL",
          "LPL",
          "LPL",
          "LPL",
          "LPL",
          "LPL",
          "LPL",
          "LPL",
          "LPL",
          "LPL",
          "LPL",
          "LPL",
          "LPL",
          "LPL",
          "LPL",
          "LPL",
          "LPL",
          "LPL",
          "LPL",
          "LPL",
          "LPL",
          "LPL",
          "LPL",
          "LPL",
          "LPL",
          "LPL",
          "LPL",
          "LPL",
          "LPL",
          "LPL",
          "LPL",
          "LPL",
          "LPL",
          "LPL",
          "LPL",
          "LPL",
          "LPL",
          "LPL",
          "LPL",
          "LPL",
          "LPL",
          "LPL",
          "LPL",
          "LPL",
          "LPL",
          "LPL",
          "LPL",
          "LPL",
          "LPL",
          "LPL",
          "LPL",
          "LPL",
          "LPL",
          "LPL",
          "LPL",
          "LPL",
          "LPL",
          "LPL",
          "LPL",
          "LPL",
          "LPL",
          "LPL",
          "LPL",
          "LPL",
          "LPL",
          "LPL",
          "LPL",
          "LPL",
          "LPL",
          "LPL",
          "LPL",
          "LPL",
          "LPL",
          "LPL",
          "LPL",
          "LPL",
          "LPL",
          "LPL",
          "LPL",
          "LPL",
          "LPL",
          "LPL",
          "LPL",
          "LPL",
          "LPL",
          "LPL",
          "LPL",
          "LPL",
          "LPL",
          "LPL",
          "LPL",
          "LPL",
          "LPL",
          "LPL",
          "LPL",
          "LPL",
          "LPL",
          "LPL",
          "LPL",
          "LPL",
          "LPL",
          "LPL",
          "LPL",
          "LPL",
          "LPL",
          "LPL",
          "LPL",
          "LPL",
          "LPL",
          "LPL",
          "LPL",
          "LPL",
          "LPL",
          "LPL",
          "LPL",
          "LPL",
          "LPL",
          "LPL",
          "LPL",
          "LPL",
          "LPL",
          "LPL",
          "LPL",
          "LPL",
          "LPL",
          "LPL",
          "LPL",
          "LPL",
          "LPL",
          "LPL",
          "LPL",
          "LPL",
          "LPL",
          "LPL",
          "LPL",
          "LPL",
          "LPL",
          "LPL",
          "LPL",
          "LPL",
          "LPL",
          "LPL",
          "LPL",
          "LPL",
          "LPL",
          "LPL",
          "LPL",
          "LPL",
          "LPL",
          "LPL",
          "LPL",
          "LPL",
          "LPL",
          "LPL",
          "LPL",
          "LPL",
          "LPL",
          "LPL",
          "LPL",
          "LPL",
          "LPL",
          "LPL",
          "LPL",
          "LPL",
          "LPL",
          "LPL",
          "LPL",
          "LPL",
          "LPL",
          "LPL",
          "LPL",
          "LPL",
          "LPL",
          "LPL",
          "LPL",
          "LPL",
          "LPL",
          "LPL",
          "LPL",
          "LPL",
          "LPL",
          "LPL",
          "LPL",
          "LPL",
          "LPL",
          "LPL",
          "LPL",
          "LPL",
          "LPL",
          "LPL",
          "LPL",
          "LPL",
          "LPL",
          "LPL",
          "LPL",
          "LPL",
          "LPL",
          "LPL",
          "LPL",
          "LPL",
          "LPL",
          "LPL",
          "LPL",
          "LPL",
          "LPL",
          "LPL",
          "LPL",
          "LPL",
          "LPL",
          "LPL",
          "LPL",
          "LPL",
          "LPL",
          "LPL",
          "LPL",
          "LPL",
          "LPL",
          "LPL",
          "LPL",
          "LPL",
          "LPL",
          "LPL",
          "LPL",
          "LPL",
          "LPL",
          "LPL",
          "LPL",
          "LPL",
          "LPL",
          "LPL",
          "LPL",
          "LPL",
          "LPL",
          "LPL",
          "LPL",
          "LPL",
          "LPL",
          "LPL",
          "LPL",
          "LPL",
          "LPL",
          "LPL",
          "LPL",
          "LPL",
          "LPL",
          "LPL",
          "LPL",
          "LPL",
          "LPL",
          "LPL",
          "LPL",
          "LPL",
          "LPL",
          "LPL",
          "LPL",
          "LPL",
          "LPL",
          "LPL",
          "LPL",
          "LPL",
          "LPL",
          "LPL",
          "LPL",
          "LPL",
          "LPL",
          "LPL",
          "LPL",
          "LPL",
          "LPL",
          "LPL",
          "LPL",
          "LPL",
          "LPL",
          "LPL",
          "LPL",
          "LPL",
          "LPL",
          "LPL",
          "LPL",
          "LPL",
          "LPL",
          "LPL",
          "LPL",
          "LPL",
          "LPL",
          "LPL",
          "LPL",
          "LPL",
          "LPL",
          "LPL",
          "LPL",
          "LPL",
          "LPL",
          "LPL",
          "LPL",
          "LPL",
          "LPL",
          "LPL",
          "LPL",
          "LPL",
          "LPL",
          "LPL",
          "LPL",
          "LPL",
          "LPL",
          "LPL",
          "LPL",
          "LPL",
          "LPL",
          "LPL",
          "LPL",
          "LPL",
          "LPL",
          "LPL",
          "LPL",
          "LPL",
          "LPL",
          "LPL",
          "LPL",
          "LPL",
          "LPL",
          "LPL",
          "LPL",
          "LPL",
          "LPL",
          "LPL",
          "LPL",
          "LPL",
          "LPL",
          "LPL",
          "LPL",
          "LPL",
          "LPL",
          "LPL",
          "LPL",
          "LPL",
          "LPL",
          "LPL",
          "LPL",
          "LPL",
          "LPL",
          "LPL",
          "LPL",
          "LPL",
          "LPL",
          "LPL",
          "LPL",
          "LPL",
          "LPL",
          "LPL",
          "LPL",
          "LPL",
          "LPL",
          "LPL",
          "LPL",
          "LPL",
          "LPL",
          "LPL",
          "LPL",
          "LPL",
          "LPL",
          "LPL",
          "LPL",
          "LPL",
          "LPL",
          "LPL",
          "LPL",
          "LPL",
          "LPL",
          "LPL",
          "LPL",
          "LPL",
          "LPL",
          "LPL",
          "LPL",
          "LPL",
          "LPL",
          "LPL",
          "LPL",
          "LPL",
          "LPL",
          "LPL",
          "LPL",
          "LPL",
          "LPL",
          "LPL",
          "LPL",
          "LPL",
          "LPL",
          "LPL",
          "LPL",
          "LPL",
          "LPL",
          "LPL",
          "LPL",
          "LPL",
          "LPL",
          "LPL",
          "LPL",
          "LPL",
          "LPL",
          "LPL",
          "LPL",
          "LPL",
          "LPL",
          "LPL",
          "LPL",
          "LPL",
          "LPL",
          "LPL",
          "LPL",
          "LPL",
          "LPL",
          "LPL",
          "LPL",
          "LPL",
          "LPL",
          "LPL",
          "LPL",
          "LPL",
          "LPL",
          "LPL",
          "LPL",
          "LPL",
          "LPL",
          "LPL",
          "LPL",
          "LPL",
          "LPL",
          "LPL",
          "LPL",
          "LPL",
          "LPL",
          "LPL",
          "LPL",
          "LPL",
          "LPL",
          "LCK",
          "LCK",
          "LCK",
          "LCK",
          "LCK",
          "LCK",
          "LCK",
          "LCK",
          "LCS",
          "LCS",
          "LCK",
          "LEC",
          "LEC",
          "LEC",
          "LCS",
          "LCS",
          "LCS",
          "LCS",
          "LCK",
          "LCK",
          "LCK",
          "LCK",
          "LCK",
          "LCK",
          "LCK",
          "LCK",
          "LCS",
          "LCS",
          "LCS",
          "LCS",
          "LCS",
          "LCK",
          "LCK",
          "LCK",
          "LCK",
          "LEC",
          "CBLOL",
          "LEC",
          "CBLOL",
          "LEC",
          "CBLOL",
          "CBLOL",
          "LCS",
          "CBLOL",
          "CBLOL",
          "CBLOL",
          "CBLOL",
          "LCS",
          "LCO",
          "LCO",
          "CBLOL",
          "CBLOL",
          "LCK",
          "LCK",
          "LCK",
          "LCK",
          "LCK",
          "LCK",
          "LEC",
          "LCS",
          "LCS",
          "LCS",
          "LCS",
          "LCK",
          "LCK",
          "LCK",
          "LCK",
          "LCS",
          "LCS",
          "LCS",
          "LCS",
          "LCK",
          "LCK",
          "LCK",
          "LCK",
          "LCK",
          "LEC",
          "LEC",
          "LCS",
          "LCK",
          "LCK",
          "LCK",
          "LCK",
          "LCK",
          "LCK",
          "LEC",
          "LEC",
          "LEC",
          "LEC",
          "LEC",
          "LCK",
          "LEC",
          "LEC",
          "LCS",
          "LCS",
          "LCS",
          "LCK",
          "LCK",
          "LCK",
          "LCK",
          "LCS",
          "LCS",
          "LCS",
          "LCS",
          "LCO",
          "LCO",
          "LCO",
          "LCO",
          "LCO",
          "LCO",
          "LCS",
          "LCS",
          "LCS",
          "LCS",
          "CBLOL",
          "CBLOL",
          "CBLOL",
          "CBLOL",
          "LLA",
          "CBLOL",
          "LLA",
          "LCS",
          "LLA",
          "LCS",
          "LLA",
          "LCS",
          "LCS",
          "LCS",
          "LCS",
          "LCS",
          "LCS",
          "LCO",
          "LCO",
          "LCO",
          "LCO",
          "LCO",
          "LCO",
          "LCK",
          "LCO",
          "LJL",
          "LCO",
          "LCK",
          "LCK",
          "LCK",
          "LCK",
          "LJL",
          "LCK",
          "LCK",
          "PCS",
          "LCK",
          "PCS",
          "CBLOL",
          "CBLOL",
          "CBLOL",
          "CBLOL",
          "LLA",
          "CBLOL",
          "LLA",
          "LLA",
          "LCS",
          "LLA",
          "LCS",
          "LCS",
          "LCO",
          "LCO",
          "LCO",
          "LCO",
          "LCK",
          "LCK",
          "LJL",
          "LJL",
          "LJL",
          "LCK",
          "LCK",
          "LCK",
          "PCS",
          "PCS",
          "LJL",
          "PCS",
          "LJL",
          "LJL",
          "PCS",
          "LCK",
          "PCS",
          "LCK",
          "PCS",
          "PCS",
          "LCK",
          "PCS",
          "LCK",
          "PCS",
          "LCK",
          "CBLOL",
          "CBLOL",
          "CBLOL",
          "CBLOL",
          "LLA",
          "LLA",
          "LLA",
          "LLA",
          "PCS",
          "LCK",
          "PCS",
          "LCK",
          "PCS",
          "PCS",
          "LCK",
          "PCS",
          "PCS",
          "LLA",
          "LCS",
          "LLA",
          "LCS",
          "LLA",
          "LLA",
          "LCO",
          "LCO",
          "LCO",
          "LCO",
          "LCO",
          "LCO",
          "LCO",
          "LCO",
          "LJL",
          "LJL",
          "LJL",
          "LJL",
          "LCK",
          "LCK",
          "LCK",
          "LCK",
          "LCK",
          "LJL",
          "LCK",
          "LCK",
          "LCK",
          "LCK",
          "LCS",
          "LCS",
          "LCS",
          "LCS",
          "LCS",
          "LCK",
          "LJL",
          "LJL",
          "LJL",
          "LJL",
          "CBLOL",
          "CBLOL",
          "CBLOL",
          "CBLOL",
          "CBLOL",
          "LCS",
          "LCS",
          "LCS",
          "LCK",
          "LCK",
          "LCK",
          "LCK",
          "LCK",
          "CBLOL",
          "PCS",
          "PCS",
          "LJL",
          "PCS",
          "LJL",
          "LJL",
          "PCS",
          "PCS",
          "LCK",
          "PCS",
          "PCS",
          "PCS",
          "PCS",
          "PCS",
          "PCS",
          "PCS",
          "PCS",
          "PCS",
          "PCS",
          "VCS",
          "VCS",
          "VCS",
          "VCS",
          "VCS",
          "VCS",
          "VCS",
          "VCS",
          "VCS",
          "VCS",
          "VCS",
          "LJL",
          "LJL",
          "LJL",
          "LJL",
          "LJL",
          "LJL",
          "LJL",
          "LJL",
          "VCS",
          "VCS",
          "VCS",
          "VCS",
          "VCS",
          "VCS",
          "VCS",
          "VCS",
          "VCS",
          "VCS",
          "VCS",
          "VCS",
          "VCS",
          "VCS",
          "VCS",
          "VCS",
          "VCS",
          "VCS",
          "VCS",
          "VCS",
          "VCS",
          "LCS",
          "LCS",
          "LCS",
          "LCS",
          "LCS",
          "LCS",
          "LCS",
          "LCS",
          "VCS",
          "VCS",
          "LCS",
          "LCS",
          "LCS",
          "LCS",
          "LCS",
          "LCS",
          "LCS",
          "LCS",
          "LCS",
          "LCS",
          "VCS",
          "VCS",
          "VCS",
          "LCS",
          "LCS",
          "LCS",
          "LCS",
          "LCS",
          "LCS",
          "LCS",
          "LCS",
          "VCS",
          "VCS",
          "VCS",
          "LCS",
          "LCS",
          "LCS",
          "VCS",
          "VCS",
          "VCS",
          "VCS",
          "LCO",
          "LCO",
          "LCO",
          "LCO",
          "LJL",
          "LJL",
          "LJL",
          "LJL",
          "VCS",
          "VCS",
          "VCS",
          "VCS",
          "VCS",
          "VCS",
          "VCS",
          "VCS",
          "VCS",
          "LCO",
          "LCO",
          "LCO",
          "LCO",
          "LCO",
          "LCO",
          "LCO",
          "LCO",
          "VCS",
          "VCS",
          "VCS",
          "VCS",
          "VCS",
          "VCS",
          "VCS",
          "VCS",
          "VCS",
          "VCS",
          "VCS",
          "VCS",
          "VCS",
          "VCS",
          "VCS",
          "VCS",
          "VCS",
          "VCS",
          "VCS",
          "VCS",
          "VCS",
          "VCS",
          "VCS",
          "VCS",
          "VCS",
          "VCS",
          "VCS",
          "VCS",
          "VCS",
          "VCS",
          "VCS",
          "LLA",
          "LLA",
          "LLA",
          "LLA",
          "LLA",
          "LLA",
          "LLA",
          "LLA",
          "LJL",
          "LJL",
          "LJL",
          "LJL",
          "LJL",
          "LJL",
          "LJL",
          "LJL",
          "LCS",
          "LCS",
          "LCS",
          "LCS",
          "LCS",
          "LCS",
          "LCS",
          "LCS",
          "LCS",
          "LCS",
          "LLA",
          "LLA",
          "LLA",
          "LLA",
          "PCS",
          "PCS",
          "PCS",
          "PCS",
          "PCS",
          "VCS",
          "PCS",
          "VCS",
          "PCS",
          "VCS",
          "PCS",
          "VCS",
          "VCS",
          "LLA",
          "LLA",
          "LLA",
          "LLA",
          "LLA",
          "VCS",
          "VCS",
          "VCS",
          "VCS",
          "LLA",
          "LLA",
          "LLA",
          "LLA",
          "PCS",
          "PCS",
          "PCS",
          "PCS",
          "PCS",
          "PCS",
          "PCS",
          "PCS",
          "PCS",
          "PCS",
          "PCS",
          "PCS",
          "PCS",
          "PCS",
          "PCS",
          "LLA",
          "LLA",
          "LLA",
          "LCS",
          "LCS",
          "LCS",
          "LCS",
          "LCS",
          "LCS",
          "LCS",
          "LCS",
          "LCS",
          "LCS",
          "LCO",
          "LCO",
          "LCO",
          "LCO",
          "LCO",
          "LCO",
          "LCO",
          "LCO",
          "VCS",
          "VCS",
          "VCS",
          "VCS",
          "VCS",
          "VCS",
          "VCS",
          "VCS",
          "VCS",
          "VCS",
          "VCS",
          "VCS",
          "VCS",
          "VCS",
          "VCS",
          "LLA",
          "LLA",
          "LLA",
          "LLA",
          "LJL",
          "LJL",
          "VCS",
          "VCS",
          "LJL",
          "VCS",
          "LJL",
          "VCS",
          "LCS",
          "LCS",
          "LCS",
          "LCS",
          "LCS",
          "LCS",
          "LJL",
          "LJL",
          "LJL",
          "LJL",
          "VCS",
          "VCS",
          "VCS",
          "VCS",
          "VCS",
          "PCS",
          "VCS",
          "PCS",
          "VCS",
          "PCS",
          "VCS",
          "VCS",
          "PCS",
          "PCS",
          "PCS",
          "PCS",
          "PCS",
          "PCS",
          "PCS",
          "LLA",
          "LLA",
          "LLA",
          "LLA",
          "LLA",
          "PCS",
          "PCS",
          "PCS",
          "PCS",
          "PCS",
          "PCS",
          "PCS",
          "PCS",
          "PCS",
          "PCS",
          "PCS",
          "PCS",
          "LCK",
          "LCK",
          "LCK",
          "LCK",
          "LCK",
          "LCK",
          "LCK",
          "LCK",
          "LCK",
          "LCK",
          "LCS",
          "LEC",
          "CBLOL",
          "CBLOL",
          "LEC",
          "CBLOL",
          "CBLOL",
          "CBLOL",
          "LCS",
          "LCS",
          "LCS",
          "LCK",
          "LCK",
          "LCK",
          "LCK",
          "LCK",
          "CBLOL",
          "CBLOL",
          "CBLOL",
          "CBLOL",
          "LLA",
          "CBLOL",
          "LLA",
          "LCS",
          "LLA",
          "LCS",
          "LCO",
          "LCO",
          "LEC",
          "LLA",
          "LLA",
          "LLA",
          "CBLOL",
          "CBLOL",
          "CBLOL",
          "CBLOL",
          "LLA",
          "LLA",
          "LLA",
          "LLA",
          "LCO",
          "LCO",
          "LCO",
          "LCO",
          "LCK",
          "LCK",
          "LCK",
          "LCK",
          "LCK",
          "LCK",
          "LCK",
          "LCK",
          "LCK",
          "LCK",
          "CBLOL",
          "CBLOL",
          "LCK",
          "LCK",
          "VCS",
          "LJL",
          "VCS",
          "LJL",
          "LJL",
          "VCS",
          "VCS",
          "VCS",
          "VCS",
          "VCS",
          "VCS",
          "VCS",
          "LCK",
          "LCK",
          "LJL",
          "LCK",
          "VCS",
          "VCS",
          "LCK",
          "VCS",
          "LCK",
          "VCS",
          "VCS",
          "VCS",
          "VCS",
          "VCS",
          "VCS",
          "VCS",
          "VCS",
          "VCS",
          "VCS",
          "LCK",
          "LCK",
          "LCK",
          "LCK",
          "LCS",
          "LCS",
          "LCS",
          "LCK",
          "LCK",
          "LCK",
          "LCK",
          "LEC",
          "LEC",
          "LEC",
          "LLA",
          "LLA",
          "LCS",
          "LCO",
          "LCO",
          "LCO",
          "LCO",
          "LCO",
          "LCO",
          "LEC",
          "LEC",
          "LEC",
          "LEC",
          "LEC",
          "CBLOL",
          "LEC",
          "CBLOL",
          "LEC",
          "CBLOL",
          "LEC",
          "CBLOL",
          "LEC",
          "LLA",
          "LCS",
          "LLA",
          "LLA",
          "LCS",
          "LLA",
          "LCS",
          "LCS",
          "LCS",
          "LCS",
          "LCS",
          "LCS",
          "LCS",
          "LCS",
          "LCO",
          "LCO",
          "LCO",
          "LCO",
          "LCK",
          "LJL",
          "LCK",
          "LCK",
          "LCK",
          "LCK",
          "LCK",
          "LCK",
          "LCK",
          "LCK",
          "LJL",
          "LJL",
          "LJL",
          "VCS",
          "VCS",
          "VCS",
          "VCS",
          "VCS",
          "CBLOL",
          "CBLOL",
          "CBLOL",
          "CBLOL",
          "LLA",
          "CBLOL",
          "LLA",
          "LLA",
          "LLA",
          "CBLOL",
          "CBLOL",
          "CBLOL",
          "CBLOL",
          "LCS",
          "LLA",
          "CBLOL",
          "LCS",
          "LLA",
          "LCS",
          "LLA",
          "LCS",
          "LLA",
          "LCS",
          "LLA",
          "LLA",
          "LCO",
          "LCO",
          "LCO",
          "LCK",
          "LCK",
          "LJL",
          "LCK",
          "LJL",
          "LJL",
          "LCK",
          "LCK",
          "LCK",
          "LCK",
          "LCK",
          "LCK",
          "LCK",
          "LCK",
          "LJL",
          "LCO",
          "LCO",
          "LCO",
          "LCO",
          "LCO",
          "LCO",
          "LCO",
          "LCO",
          "LCK",
          "LJL",
          "LCK",
          "LCK",
          "LJL",
          "LJL",
          "LJL",
          "LCK",
          "LCK",
          "LCK",
          "LCK",
          "LCK",
          "LCK",
          "LCK",
          "LCK",
          "VCS",
          "VCS",
          "VCS",
          "VCS",
          "VCS",
          "VCS",
          "VCS",
          "VCS",
          "VCS",
          "VCS",
          "VCS",
          "VCS",
          "LCS",
          "LCS",
          "LCS",
          "LCS",
          "LCS",
          "LCO",
          "LCO",
          "LCO",
          "LCO",
          "LJL",
          "LCK",
          "LJL",
          "LCK",
          "LJL",
          "LCK",
          "LCK",
          "LJL",
          "LJL",
          "LCK",
          "LCK",
          "LCK",
          "LCK",
          "LCK",
          "LCK",
          "LCK",
          "LJL",
          "LCK",
          "LJL",
          "LJL",
          "LJL",
          "LJL",
          "LJL",
          "LJL",
          "LCK",
          "LCK",
          "LCK",
          "LCK",
          "LJL",
          "LJL",
          "LJL",
          "LJL",
          "LCK",
          "VCS",
          "VCS",
          "LCK",
          "LCK",
          "LCK",
          "LCK",
          "LCO",
          "LCO",
          "LCO",
          "LCO",
          "LCO",
          "LCO",
          "LCO",
          "CBLOL",
          "CBLOL",
          "CBLOL",
          "CBLOL",
          "CBLOL",
          "LLA",
          "LCO",
          "LCO",
          "LCO",
          "LCO",
          "LCO",
          "LLA",
          "LLA",
          "CBLOL",
          "CBLOL",
          "CBLOL",
          "CBLOL",
          "LLA",
          "CBLOL",
          "LLA",
          "LCO",
          "LCO",
          "LCO",
          "LCO",
          "LCK",
          "LCK",
          "LCK",
          "LCK",
          "LCK",
          "LCK",
          "LCK",
          "LCK",
          "LCK",
          "LCK",
          "LCK",
          "LCK",
          "LCK",
          "LCK",
          "LCK",
          "LCK",
          "LCK",
          "LCK",
          "LCK",
          "LCK",
          "LLA",
          "LLA",
          "LLA",
          "PCS",
          "PCS",
          "PCS",
          "PCS",
          "PCS",
          "PCS",
          "PCS",
          "PCS",
          "LCO",
          "LCO",
          "LCO",
          "LCO",
          "VCS",
          "PCS",
          "PCS",
          "PCS",
          "PCS",
          "PCS",
          "VCS",
          "LJL",
          "LJL",
          "LJL",
          "LJL",
          "LCO",
          "LCO",
          "LCO",
          "LCO",
          "LCO",
          "LCO",
          "LCO",
          "LCO",
          "PCS",
          "PCS",
          "PCS",
          "PCS",
          "PCS",
          "PCS",
          "PCS",
          "LCO",
          "LCO",
          "LCO",
          "LCO",
          "VCS",
          "VCS",
          "VCS",
          "VCS",
          "VCS",
          "PCS",
          "VCS",
          "PCS",
          "VCS",
          "PCS",
          "VCS",
          "PCS",
          "VCS",
          "PCS",
          "VCS",
          "VCS",
          "VCS",
          "VCS",
          "VCS",
          "VCS",
          "PCS",
          "VCS",
          "PCS",
          "PCS",
          "VCS",
          "VCS",
          "PCS",
          "PCS",
          "VCS",
          "VCS",
          "VCS",
          "LCO",
          "LCO",
          "LCO",
          "LCO",
          "LCO",
          "LCO",
          "LCO",
          "LCO",
          "LCO",
          "LCO",
          "LCO",
          "LCO",
          "LJL",
          "LJL",
          "LJL",
          "LJL",
          "VCS",
          "LJL",
          "LJL",
          "VCS",
          "LJL",
          "VCS",
          "VCS",
          "LJL",
          "LJL",
          "VCS",
          "LJL",
          "VCS",
          "VCS",
          "LJL",
          "VCS",
          "VCS",
          "LCO",
          "LCO",
          "LCO",
          "LCS",
          "LCS",
          "LCS",
          "LCS",
          "LCS",
          "LJL",
          "VCS",
          "LJL",
          "LJL",
          "VCS",
          "VCS",
          "LCS",
          "LCS",
          "LCS",
          "LCS",
          "LCS",
          "LCS",
          "LCS",
          "LCS",
          "LCS",
          "LCS",
          "LCS",
          "LCS",
          "LCS",
          "LCS",
          "LCS",
          "LCS",
          "LCS",
          "LCO",
          "LCO",
          "LCO",
          "VCS",
          "VCS",
          "VCS",
          "LCS",
          "LCS",
          "LCS",
          "LCS",
          "LCS",
          "LJL",
          "LJL",
          "VCS",
          "VCS",
          "LJL",
          "VCS",
          "LJL",
          "VCS",
          "LJL",
          "LCS",
          "LCS",
          "LCS",
          "LCS",
          "LCS",
          "LCS",
          "LCS",
          "LCS",
          "LCS",
          "LCS",
          "LCS",
          "LCS",
          "LCS",
          "LCS",
          "LCS",
          "LCS",
          "LCS",
          "LCS",
          "LCS",
          "LJL",
          "LJL",
          "VCS",
          "LJL",
          "VCS",
          "VCS",
          "LJL",
          "LCS",
          "LCS",
          "LCS",
          "LCS",
          "LCO",
          "LCO",
          "LCO",
          "LCO",
          "LCS",
          "LCS",
          "LCS",
          "LCS",
          "LCS",
          "PCS",
          "PCS",
          "PCS",
          "PCS",
          "PCS",
          "PCS",
          "PCS",
          "PCS",
          "LLA",
          "LLA",
          "LLA",
          "CBLOL",
          "CBLOL",
          "CBLOL",
          "CBLOL",
          "LLA",
          "CBLOL",
          "LLA",
          "LLA",
          "LLA",
          "LCO",
          "LCO",
          "LCO",
          "LCO",
          "LJL",
          "LJL",
          "LJL",
          "LCK",
          "LCK",
          "LCK",
          "LCK",
          "LCK",
          "LCK",
          "PCS",
          "LJL",
          "PCS",
          "LCK",
          "LJL",
          "LCK",
          "PCS",
          "LJL",
          "PCS",
          "LCK",
          "PCS",
          "LJL",
          "PCS",
          "LCK",
          "LCK",
          "LCK",
          "LCK",
          "LCK",
          "LLA",
          "LLA",
          "LLA",
          "LLA",
          "LLA",
          "LCS",
          "LCS",
          "LCK",
          "PCS",
          "LCK",
          "PCS",
          "LCK",
          "LJL",
          "PCS",
          "LJL",
          "LCK",
          "LJL",
          "PCS",
          "LCK",
          "PCS",
          "LCK",
          "LCS",
          "LLA",
          "LLA",
          "LCS",
          "LLA",
          "LLA",
          "LCS",
          "LCS",
          "LCS",
          "LCO",
          "LCK",
          "LJL",
          "LJL",
          "VCS",
          "VCS",
          "CBLOL",
          "CBLOL",
          "CBLOL",
          "CBLOL",
          "CBLOL",
          "LCS",
          "LCS",
          "LCS",
          "LCS",
          "LCS",
          "PCS",
          "PCS",
          "PCS",
          "PCS",
          "LCS",
          "LCS",
          "LCS",
          "LCS",
          "LCS",
          "LCO",
          "LCO",
          "LCO",
          "LCO",
          "LCK",
          "LCO",
          "LCO",
          "LCK",
          "LCO",
          "LCK",
          "LCO",
          "LJL",
          "LCK",
          "LCK",
          "PCS",
          "PCS",
          "PCS",
          "PCS",
          "PCS",
          "PCS",
          "CBLOL",
          "CBLOL",
          "CBLOL",
          "CBLOL",
          "CBLOL",
          "LCS",
          "LCS",
          "LCS",
          "LJL",
          "PCS",
          "CBLOL",
          "CBLOL",
          "CBLOL",
          "CBLOL",
          "CBLOL",
          "LCO",
          "LCO",
          "LCO",
          "LCO",
          "LCO",
          "LCO",
          "LCO",
          "LCO",
          "LCK",
          "LJL",
          "LCK",
          "LJL",
          "LCK",
          "LJL",
          "LCK",
          "LJL",
          "LCK",
          "LCK",
          "LCK",
          "LCK",
          "LCK",
          "LCK",
          "PCS",
          "LCK",
          "PCS",
          "PCS",
          "LCK",
          "LJL",
          "VCS",
          "LJL",
          "VCS",
          "VCS",
          "LCK",
          "LCK",
          "LCK",
          "VCS",
          "VCS",
          "VCS",
          "LCK",
          "PCS",
          "VCS",
          "VCS",
          "LCK",
          "LCK",
          "LJL",
          "LCK",
          "LCK",
          "LCK",
          "PCS",
          "PCS",
          "PCS",
          "PCS",
          "PCS",
          "LJL",
          "VCS",
          "PCS",
          "PCS",
          "LJL",
          "VCS",
          "PCS",
          "LJL",
          "VCS",
          "VCS",
          "VCS",
          "VCS",
          "VCS",
          "PCS",
          "VCS",
          "VCS",
          "VCS",
          "VCS",
          "VCS",
          "VCS",
          "VCS",
          "VCS",
          "VCS",
          "VCS",
          "VCS",
          "VCS",
          "VCS",
          "PCS",
          "PCS",
          "PCS",
          "PCS",
          "PCS",
          "LLA",
          "LLA",
          "LLA",
          "LLA",
          "LLA",
          "LLA",
          "LLA",
          "CBLOL",
          "CBLOL",
          "CBLOL",
          "CBLOL",
          "CBLOL",
          "CBLOL",
          "CBLOL",
          "CBLOL",
          "LLA",
          "LLA",
          "LLA",
          "LCS",
          "LCS",
          "LCS",
          "LCS",
          "LCS",
          "LCS",
          "LCO",
          "LCO",
          "LCO",
          "LCO",
          "LCO",
          "PCS",
          "PCS",
          "PCS",
          "PCS",
          "PCS",
          "PCS",
          "LJL",
          "PCS",
          "LJL",
          "LJL",
          "PCS",
          "PCS",
          "PCS",
          "CBLOL",
          "CBLOL",
          "CBLOL",
          "LLA",
          "CBLOL",
          "LLA",
          "LLA",
          "LLA",
          "LLA",
          "LJL",
          "PCS",
          "LJL",
          "PCS",
          "LJL",
          "PCS",
          "LLA",
          "LLA",
          "LLA",
          "LLA",
          "LLA",
          "LCO",
          "LCO",
          "LCO",
          "LCO",
          "LCO",
          "LCO",
          "LJL",
          "LJL",
          "LJL",
          "LJL",
          "PCS",
          "VCS",
          "PCS",
          "VCS",
          "PCS",
          "VCS",
          "VCS",
          "LJL",
          "PCS",
          "VCS",
          "PCS",
          "LJL",
          "PCS",
          "VCS",
          "LJL",
          "LJL",
          "VCS",
          "LJL",
          "VCS",
          "VCS",
          "PCS",
          "PCS",
          "PCS",
          "PCS",
          "PCS",
          "PCS",
          "VCS",
          "VCS",
          "VCS",
          "VCS",
          "VCS",
          "CBLOL",
          "CBLOL",
          "CBLOL",
          "CBLOL",
          "LCO",
          "LCO",
          "LCO",
          "LCO",
          "LCO",
          "VCS",
          "VCS",
          "VCS",
          "VCS",
          "PCS",
          "PCS",
          "PCS",
          "PCS",
          "PCS",
          "PCS",
          "PCS",
          "PCS",
          "PCS",
          "LLA",
          "LLA",
          "LLA",
          "LLA",
          "LLA",
          "PCS",
          "PCS",
          "PCS",
          "PCS",
          "PCS",
          "CBLOL",
          "CBLOL",
          "PCS",
          "PCS",
          "PCS",
          "PCS",
          "PCS",
          "PCS",
          "PCS",
          "PCS",
          "PCS",
          "PCS",
          "CBLOL",
          "CBLOL",
          "CBLOL",
          "CBLOL",
          "LCS",
          "CBLOL",
          "LCS",
          "LCS",
          "LCS",
          "LCS",
          "PCS",
          "LCS",
          "LLA",
          "LCS",
          "LLA",
          "LCS",
          "LLA",
          "LCS",
          "LCS",
          "CBLOL",
          "CBLOL",
          "CBLOL",
          "LCS",
          "LCS",
          "LCS",
          "LCS",
          "LCS",
          "LCS",
          "LCS",
          "LCS",
          "LCS",
          "LCS",
          "CBLOL",
          "CBLOL",
          "CBLOL",
          "LCS",
          "CBLOL",
          "LLA",
          "CBLOL",
          "LLA",
          "LLA",
          "LLA",
          "LCO",
          "LCO",
          "LCO",
          "LCO",
          "LCO",
          "LCO",
          "LJL",
          "LJL",
          "LJL",
          "LJL",
          "CBLOL",
          "CBLOL",
          "CBLOL",
          "CBLOL",
          "VCS",
          "VCS",
          "VCS",
          "VCS",
          "VCS",
          "CBLOL",
          "CBLOL",
          "CBLOL",
          "CBLOL",
          "LJL",
          "PCS",
          "LJL",
          "LJL",
          "PCS",
          "LJL",
          "LJL",
          "VCS",
          "VCS",
          "VCS",
          "VCS",
          "PCS",
          "PCS",
          "PCS",
          "PCS",
          "CBLOL",
          "CBLOL",
          "CBLOL",
          "VCS",
          "VCS",
          "VCS",
          "VCS",
          "VCS",
          "VCS",
          "VCS",
          "VCS",
          "VCS",
          "VCS",
          "VCS",
          "VCS",
          "VCS",
          "VCS",
          "VCS",
          "VCS",
          "VCS",
          "VCS",
          "VCS",
          "VCS",
          "LEC",
          "LEC",
          "LEC",
          "LCS",
          "LLA",
          "LLA",
          "LCS",
          "LCS",
          "LLA",
          "LCS",
          "LCS",
          "LCS",
          "LLA",
          "LCS",
          "LLA",
          "LCS",
          "LCS",
          "LLA",
          "LCS",
          "LCO",
          "LCO",
          "LCO",
          "LCO",
          "LJL",
          "LJL",
          "LCK",
          "LJL",
          "LCK",
          "LJL",
          "LCK",
          "LCK",
          "LCK",
          "LCK",
          "LCK",
          "LCK",
          "LCK",
          "LCK",
          "LCK",
          "LJL",
          "LJL",
          "LJL",
          "LJL",
          "LJL",
          "LJL",
          "LJL",
          "LJL",
          "PCS",
          "LCS",
          "LCS",
          "LCS",
          "LCS",
          "LCS",
          "CBLOL",
          "CBLOL",
          "CBLOL",
          "CBLOL",
          "CBLOL",
          "LLA",
          "CBLOL",
          "CBLOL",
          "CBLOL",
          "CBLOL",
          "CBLOL",
          "LLA",
          "LCO",
          "LCO",
          "LCO",
          "LCO",
          "LCK",
          "LCK",
          "LCK",
          "LCK",
          "LCK",
          "LCK",
          "LCK",
          "LCK",
          "LCK",
          "LCK",
          "LCK",
          "LCK",
          "LLA",
          "LLA",
          "CBLOL",
          "CBLOL",
          "CBLOL",
          "CBLOL",
          "LCS",
          "LLA",
          "CBLOL",
          "LLA",
          "LCS",
          "LLA",
          "LCS",
          "LLA",
          "LCS",
          "LCS",
          "LJL",
          "LJL",
          "LJL",
          "LJL",
          "CBLOL",
          "CBLOL",
          "LCS",
          "CBLOL",
          "LLA",
          "LCS",
          "CBLOL",
          "LLA",
          "LCS",
          "CBLOL",
          "LCS",
          "LCS",
          "LCO",
          "LCO",
          "LCO",
          "LCO",
          "LCO",
          "LCO",
          "LCO",
          "PCS",
          "PCS",
          "PCS",
          "PCS",
          "PCS",
          "PCS",
          "LJL",
          "LJL",
          "PCS",
          "LJL",
          "PCS",
          "PCS",
          "PCS",
          "PCS",
          "PCS",
          "PCS",
          "PCS",
          "PCS",
          "PCS",
          "PCS",
          "PCS",
          "PCS",
          "PCS",
          "PCS",
          "PCS",
          "PCS",
          "PCS",
          "PCS",
          "PCS",
          "PCS",
          "LLA",
          "LLA",
          "LLA",
          "LLA",
          "VCS",
          "VCS",
          "VCS",
          "VCS",
          "PCS",
          "PCS",
          "PCS",
          "PCS",
          "VCS",
          "VCS",
          "VCS",
          "VCS",
          "LCS",
          "LLA",
          "LCS",
          "LLA",
          "LCS",
          "LLA",
          "LCS",
          "LCS",
          "LJL",
          "PCS",
          "LJL",
          "PCS",
          "LJL",
          "PCS",
          "PCS",
          "LJL",
          "LCS",
          "LCS",
          "LLA",
          "LCS",
          "LLA",
          "LCS",
          "LLA",
          "LCS",
          "LLA",
          "LCO",
          "LCO",
          "LCO",
          "LCO",
          "LCO",
          "LCO",
          "LCO",
          "LCO",
          "LJL",
          "LJL",
          "LJL",
          "LJL",
          "LLA",
          "LLA",
          "LLA",
          "LLA",
          "LCO",
          "LCO",
          "LCO",
          "LCO",
          "LCO",
          "LCO",
          "LCO",
          "LCO",
          "LJL",
          "LJL",
          "LJL",
          "LJL",
          "VCS",
          "LJL",
          "LJL",
          "VCS",
          "LJL",
          "VCS",
          "LJL",
          "VCS",
          "VCS",
          "VCS",
          "VCS",
          "PCS",
          "PCS",
          "PCS",
          "PCS",
          "VCS",
          "VCS",
          "LLA",
          "VCS",
          "VCS",
          "VCS",
          "VCS",
          "LLA",
          "PCS",
          "PCS",
          "VCS",
          "PCS",
          "VCS",
          "PCS",
          "PCS",
          "VCS",
          "VCS",
          "PCS",
          "LJL",
          "VCS",
          "LJL",
          "VCS",
          "LJL",
          "VCS",
          "VCS",
          "VCS",
          "LJL",
          "PCS",
          "PCS",
          "VCS",
          "PCS",
          "VCS",
          "PCS",
          "PCS",
          "VCS",
          "VCS",
          "PCS",
          "VCS",
          "PCS",
          "VCS",
          "PCS",
          "VCS",
          "VCS",
          "VCS",
          "PCS",
          "PCS",
          "PCS",
          "PCS",
          "PCS",
          "PCS",
          "LJL",
          "LJL",
          "LJL",
          "LJL",
          "LLA",
          "LLA",
          "LLA",
          "LLA",
          "LLA",
          "LLA",
          "LLA",
          "LEC",
          "LEC",
          "LEC",
          "LEC",
          "LEC",
          "LEC",
          "LEC",
          "LEC",
          "LEC",
          "LEC",
          "LEC",
          "LEC",
          "LEC",
          "LEC",
          "LEC",
          "LEC",
          "LEC",
          "LEC",
          "LEC",
          "LEC",
          "LEC",
          "LEC",
          "LEC",
          "LEC",
          "LEC",
          "LCK",
          "LCK",
          "LCK",
          "LCK",
          "LCK",
          "LCK",
          "LCK",
          "LCK",
          "LCK",
          "LEC",
          "LEC",
          "LEC",
          "LEC",
          "LEC",
          "LEC",
          "LEC",
          "LEC",
          "LEC",
          "LEC",
          "LEC",
          "LEC",
          "LEC",
          "LEC",
          "LEC",
          "LEC",
          "CBLOL",
          "LEC",
          "CBLOL",
          "LEC",
          "CBLOL",
          "LEC",
          "CBLOL",
          "CBLOL",
          "LCS",
          "LCS",
          "LCS",
          "LCS",
          "LCS",
          "LCK",
          "LCK",
          "LCK",
          "LCK",
          "LCK",
          "LCK",
          "LCK",
          "LCK",
          "LCK",
          "LCK",
          "LCK",
          "LCK",
          "LCK",
          "LCK",
          "LCK",
          "LJL",
          "LCK",
          "LJL",
          "LCK",
          "LJL",
          "LCK",
          "LJL",
          "CBLOL",
          "CBLOL",
          "CBLOL",
          "LCS",
          "CBLOL",
          "CBLOL",
          "LCS",
          "LCS",
          "LCS",
          "LCS",
          "LCK",
          "LCK",
          "LCK",
          "LCK",
          "LCK",
          "LCK",
          "LCK",
          "LJL",
          "LJL",
          "LJL",
          "LJL",
          "LEC",
          "LEC",
          "LEC",
          "LEC",
          "LEC",
          "LEC",
          "CBLOL",
          "LEC",
          "CBLOL",
          "LEC",
          "CBLOL",
          "LEC",
          "CBLOL",
          "CBLOL",
          "LCK",
          "LCK",
          "LCK",
          "LCK",
          "LCK",
          "LCK",
          "LCK",
          "LCK",
          "LCK",
          "LCK",
          "CBLOL",
          "CBLOL",
          "CBLOL",
          "LCK",
          "LCK",
          "LCK",
          "LCK",
          "LCK",
          "LCK",
          "LCK",
          "LCK",
          "LCK",
          "LCK",
          "LCK",
          "LCK",
          "LCK",
          "CBLOL",
          "CBLOL",
          "CBLOL",
          "CBLOL",
          "LCK",
          "LCK",
          "LCK",
          "LCK",
          "LCK",
          "CBLOL",
          "CBLOL",
          "CBLOL",
          "CBLOL",
          "CBLOL",
          "LCK",
          "LEC",
          "CBLOL",
          "CBLOL",
          "CBLOL",
          "CBLOL",
          "CBLOL",
          "LCK",
          "LCK",
          "LEC",
          "LEC",
          "LEC",
          "LEC",
          "LEC",
          "LEC",
          "LEC",
          "CBLOL",
          "LEC",
          "CBLOL",
          "LEC",
          "CBLOL",
          "CBLOL",
          "LEC",
          "LCK",
          "LCK",
          "LCK",
          "LCK",
          "LCK",
          "LEC",
          "LEC",
          "CBLOL",
          "LEC",
          "CBLOL",
          "LEC",
          "CBLOL",
          "LEC",
          "CBLOL",
          "LEC",
          "LEC",
          "LCK",
          "LCK",
          "LCK",
          "LCK",
          "LCK",
          "CBLOL",
          "CBLOL",
          "CBLOL",
          "CBLOL",
          "CBLOL",
          "LCK",
          "LCK",
          "CBLOL",
          "CBLOL",
          "CBLOL",
          "CBLOL",
          "CBLOL",
          "CBLOL",
          "LEC",
          "LEC",
          "LEC",
          "LEC",
          "LEC",
          "LCO",
          "LLA",
          "LCK",
          "LCK",
          "CBLOL",
          "CBLOL",
          "CBLOL",
          "CBLOL",
          "CBLOL",
          "CBLOL",
          "CBLOL",
          "CBLOL",
          "CBLOL",
          "LLA",
          "CBLOL",
          "LLA",
          "LLA",
          "LLA",
          "LCK",
          "LCK",
          "LEC",
          "LEC",
          "LEC",
          "LEC",
          "LEC",
          "LCK",
          "LCK",
          "LCK",
          "LCK",
          "LEC",
          "LLA",
          "LCS",
          "LLA",
          "LCS",
          "LLA",
          "LLA",
          "LCK",
          "LCK",
          "LCK",
          "LCK",
          "CBLOL",
          "CBLOL",
          "CBLOL",
          "LCS",
          "CBLOL",
          "CBLOL",
          "LCS",
          "LCS",
          "LCS",
          "LCS",
          "LLA",
          "LCK",
          "LJL",
          "LCK",
          "LJL",
          "LCK",
          "LJL",
          "LCK",
          "LJL",
          "LCK",
          "LCK",
          "LCK",
          "LCK",
          "LCK",
          "LCK",
          "LCK",
          "LJL",
          "LJL",
          "LCK",
          "LJL",
          "LJL",
          "LEC",
          "LEC",
          "CBLOL",
          "CBLOL",
          "LEC",
          "CBLOL",
          "LEC",
          "CBLOL",
          "CBLOL",
          "LCS",
          "LCS",
          "LCS",
          "LLA",
          "LLA",
          "LLA",
          "LLA",
          "LCK",
          "LCK",
          "LCK",
          "LCK",
          "LCK",
          "LCK",
          "LCK",
          "LCK",
          "LCK",
          "LCK",
          "LCK",
          "LCK",
          "LCK",
          "LCK",
          "LCK",
          "LCK",
          "LCK",
          "LCK",
          "LCK",
          "LCK",
          "LCK",
          "LCK",
          "LCK",
          "LCK",
          "LCK",
          "LEC",
          "LEC",
          "LEC",
          "LEC",
          "LEC",
          "LEC",
          "LEC",
          "LEC",
          "LEC",
          "LEC",
          "LEC",
          "LEC",
          "LEC",
          "LEC",
          "LEC",
          "LEC",
          "LEC",
          "LEC",
          "LEC",
          "LEC",
          "LEC",
          "LEC",
          "LEC",
          "LEC",
          "LEC",
          "LEC",
          "LEC",
          "LEC",
          "LEC",
          "LEC",
          "LEC",
          "LEC",
          "LEC",
          "LEC",
          "LEC",
          "LEC",
          "LCO",
          "LCO",
          "LEC",
          "LEC",
          "LEC",
          "LEC",
          "LEC",
          "LEC",
          "LEC",
          "LEC",
          "LEC",
          "LEC",
          "LEC",
          "LEC",
          "LEC",
          "LEC",
          "LEC",
          "LCO",
          "LEC",
          "LEC",
          "LEC",
          "LEC",
          "LEC",
          "LEC",
          "LEC",
          "LEC",
          "LEC",
          "LEC",
          "LEC",
          "LEC",
          "LEC",
          "LEC",
          "LEC",
          "LEC",
          "LEC",
          "LEC",
          "LEC",
          "LEC",
          "LEC",
          "LEC",
          "LEC",
          "LEC",
          "LEC",
          "LEC",
          "LEC",
          "LEC",
          "LEC",
          "LEC",
          "LEC",
          "LEC",
          "LEC",
          "LEC",
          "LEC",
          "LEC",
          "LEC",
          "LEC",
          "LEC",
          "LEC",
          "LEC",
          "LEC",
          "LEC",
          "LEC",
          "LEC",
          "LEC",
          "LEC",
          "LEC",
          "LEC",
          "LEC",
          "LEC",
          "LEC",
          "LLA",
          "LLA",
          "LCO",
          "LCK",
          "LCK",
          "LCK",
          "LCK",
          "LCK",
          "LCK",
          "LCK",
          "LCK",
          "LCK",
          "LCK",
          "LCK",
          "LCK",
          "LCK",
          "LCK",
          "LCK",
          "LCK",
          "LCK",
          "LCK",
          "LCK",
          "LCK",
          "LCK",
          "LCK",
          "LCK",
          "LEC",
          "LEC",
          "LEC",
          "LEC",
          "LEC",
          "LEC",
          "LEC",
          "LCS",
          "CBLOL",
          "CBLOL",
          "CBLOL",
          "LCS",
          "CBLOL",
          "CBLOL",
          "LCS",
          "LCS",
          "LCS",
          "LCS",
          "LCK",
          "LCK",
          "LCK",
          "LCK",
          "LCK",
          "LCK",
          "LCK",
          "LCK",
          "LCK",
          "LCK",
          "LCK",
          "LCK",
          "LCK",
          "LCK",
          "LCK",
          "LEC",
          "LEC",
          "LEC",
          "LEC",
          "LEC",
          "LCK",
          "LCK",
          "LCK",
          "LCK",
          "LCK",
          "CBLOL",
          "CBLOL",
          "CBLOL",
          "CBLOL",
          "CBLOL",
          "CBLOL",
          "CBLOL",
          "CBLOL",
          "CBLOL",
          "CBLOL",
          "LCK",
          "LCK",
          "LCK",
          "LCK",
          "LCK",
          "LCK",
          "LCK",
          "LCK",
          "LCK",
          "LCK",
          "LCK",
          "LCK",
          "LCK",
          "LCK",
          "LCK",
          "LEC",
          "LEC",
          "CBLOL",
          "LEC",
          "CBLOL",
          "CBLOL",
          "CBLOL",
          "CBLOL",
          "LCS",
          "LCS",
          "LCS",
          "LCS",
          "LCK",
          "LEC",
          "LEC",
          "LEC",
          "LEC",
          "LEC",
          "LCK",
          "LCK",
          "LCK",
          "LCK",
          "LCK",
          "LCK",
          "LCK",
          "LCK",
          "LCK",
          "LCK",
          "LCK",
          "LCK",
          "LCK",
          "LCK",
          "LCK",
          "LCK"
         ],
         "x0": " ",
         "xaxis": "x",
         "y": [
          22.75,
          24.066666666666666,
          31.55,
          37.85,
          31.666666666666668,
          25.516666666666666,
          32.666666666666664,
          35.61666666666667,
          28.533333333333335,
          30.766666666666666,
          34.083333333333336,
          37.81666666666667,
          31.2,
          25.883333333333333,
          26.683333333333334,
          29.516666666666666,
          39.733333333333334,
          25.316666666666666,
          36.7,
          24.7,
          32.15,
          39.2,
          31.816666666666666,
          33.266666666666666,
          31.783333333333335,
          24.066666666666666,
          24.6,
          36.18333333333333,
          34.71666666666667,
          29.85,
          36.016666666666666,
          28.85,
          40.78333333333333,
          37.06666666666667,
          23,
          31.066666666666666,
          31.55,
          30.966666666666665,
          30.366666666666667,
          26.133333333333333,
          40.15,
          45.56666666666667,
          34.53333333333333,
          29.2,
          33.96666666666667,
          41.333333333333336,
          41.083333333333336,
          30.383333333333333,
          35.11666666666667,
          34.166666666666664,
          31.583333333333332,
          29.733333333333334,
          26.8,
          29.983333333333334,
          39.11666666666667,
          36.266666666666666,
          31.7,
          30.583333333333332,
          33.78333333333333,
          28.283333333333335,
          32.3,
          26.483333333333334,
          26.233333333333334,
          33.1,
          33.4,
          32.833333333333336,
          29.4,
          26.15,
          33.55,
          39.53333333333333,
          23.766666666666666,
          28.483333333333334,
          25.05,
          33.13333333333333,
          28.216666666666665,
          24.666666666666668,
          30.9,
          24.816666666666666,
          30.683333333333334,
          31.616666666666667,
          32.583333333333336,
          53.4,
          39.416666666666664,
          26.983333333333334,
          33.71666666666667,
          24.766666666666666,
          36.8,
          34.56666666666667,
          35.55,
          43.416666666666664,
          23.816666666666666,
          36.81666666666667,
          27.333333333333332,
          35.6,
          35.233333333333334,
          26.133333333333333,
          31.466666666666665,
          33.31666666666667,
          28.983333333333334,
          31.366666666666667,
          31.633333333333333,
          30.7,
          36.25,
          30.6,
          33.15,
          28.55,
          34.93333333333333,
          28.4,
          22.483333333333334,
          28.766666666666666,
          29.383333333333333,
          34.13333333333333,
          37.28333333333333,
          28.7,
          32.1,
          30.033333333333335,
          38.416666666666664,
          23.616666666666667,
          33,
          37.266666666666666,
          26.933333333333334,
          41,
          43.31666666666667,
          32.516666666666666,
          25.883333333333333,
          34.15,
          29.916666666666668,
          26.933333333333334,
          25.716666666666665,
          23.016666666666666,
          29.25,
          29.683333333333334,
          24.483333333333334,
          30.266666666666666,
          40.38333333333333,
          25.75,
          36.13333333333333,
          39.93333333333333,
          26.95,
          34.96666666666667,
          24.95,
          32.2,
          31.333333333333332,
          23.566666666666666,
          33.1,
          45.81666666666667,
          29.8,
          28.9,
          24.5,
          31.316666666666666,
          36.983333333333334,
          37.56666666666667,
          36.43333333333333,
          32.55,
          27.983333333333334,
          40.85,
          25.316666666666666,
          25.9,
          32.21666666666667,
          38.483333333333334,
          29.15,
          27.716666666666665,
          38.516666666666666,
          29.1,
          34.666666666666664,
          25.016666666666666,
          31.516666666666666,
          39.63333333333333,
          31.05,
          31.85,
          24.9,
          30.35,
          23.783333333333335,
          33.1,
          34.81666666666667,
          30.45,
          21.85,
          19.166666666666668,
          25.5,
          34.55,
          29.533333333333335,
          34.233333333333334,
          27.166666666666668,
          31.766666666666666,
          34.93333333333333,
          27.466666666666665,
          26.65,
          32.06666666666667,
          33.083333333333336,
          29.15,
          26.316666666666666,
          48.083333333333336,
          28.333333333333332,
          26.916666666666668,
          45.18333333333333,
          31.516666666666666,
          30.966666666666665,
          33.666666666666664,
          29.633333333333333,
          31.55,
          33.25,
          32.03333333333333,
          33.5,
          28.066666666666666,
          26.583333333333332,
          27.116666666666667,
          31.966666666666665,
          36,
          32.05,
          30.933333333333334,
          35.233333333333334,
          24.783333333333335,
          22.866666666666667,
          27.933333333333334,
          28.333333333333332,
          25.45,
          28.116666666666667,
          29.366666666666667,
          31.25,
          28.4,
          41.833333333333336,
          27.016666666666666,
          26.916666666666668,
          27.65,
          25.133333333333333,
          32.61666666666667,
          27.15,
          29.55,
          37.53333333333333,
          41.983333333333334,
          28.583333333333332,
          28.916666666666668,
          24.333333333333332,
          38.733333333333334,
          34.666666666666664,
          27.533333333333335,
          47.63333333333333,
          36,
          43.083333333333336,
          30.05,
          29.5,
          38.5,
          28.316666666666666,
          31.35,
          26.983333333333334,
          39.56666666666667,
          29.216666666666665,
          38.68333333333333,
          44.166666666666664,
          32.86666666666667,
          28.55,
          29.55,
          29.183333333333334,
          25.783333333333335,
          25.35,
          29.216666666666665,
          24.566666666666666,
          32.166666666666664,
          37.03333333333333,
          28.516666666666666,
          27.65,
          30.683333333333334,
          32.083333333333336,
          29.75,
          25.533333333333335,
          38.45,
          30.966666666666665,
          27.05,
          39.166666666666664,
          24.05,
          37.46666666666667,
          36.43333333333333,
          33.416666666666664,
          29.283333333333335,
          27.733333333333334,
          25.416666666666668,
          23.733333333333334,
          39.2,
          34.13333333333333,
          28.1,
          34.9,
          31.6,
          27.416666666666668,
          27.55,
          32.7,
          43.06666666666667,
          26.833333333333332,
          31.516666666666666,
          27.316666666666666,
          43.1,
          30.466666666666665,
          25.45,
          31.75,
          33.63333333333333,
          33.7,
          37.15,
          36.416666666666664,
          28.366666666666667,
          28.566666666666666,
          27.383333333333333,
          24.95,
          28.05,
          32.86666666666667,
          26.9,
          30.35,
          37.3,
          33.65,
          37.666666666666664,
          30.4,
          23.966666666666665,
          37.266666666666666,
          28.633333333333333,
          29.383333333333333,
          23.166666666666668,
          24.1,
          29.533333333333335,
          28,
          28.15,
          31.116666666666667,
          24.6,
          27.8,
          24.766666666666666,
          26.05,
          28.883333333333333,
          32.05,
          29.483333333333334,
          25.066666666666666,
          34.583333333333336,
          36.016666666666666,
          31.2,
          27.866666666666667,
          29.183333333333334,
          36.45,
          34.8,
          24.316666666666666,
          30.816666666666666,
          32.516666666666666,
          35.15,
          29.516666666666666,
          29.316666666666666,
          30.116666666666667,
          27.716666666666665,
          28.183333333333334,
          30.433333333333334,
          30.533333333333335,
          26.666666666666668,
          40.166666666666664,
          33.53333333333333,
          30.483333333333334,
          30.666666666666668,
          35.483333333333334,
          28.8,
          30.983333333333334,
          38.4,
          42.766666666666666,
          40.46666666666667,
          36.85,
          33.5,
          25.366666666666667,
          35.18333333333333,
          33.63333333333333,
          30.9,
          36.36666666666667,
          30.533333333333335,
          30,
          27.55,
          32.583333333333336,
          40.68333333333333,
          27.3,
          28.8,
          34.583333333333336,
          32.9,
          31.75,
          29.766666666666666,
          24.15,
          35.13333333333333,
          33.45,
          36.85,
          24.683333333333334,
          26.566666666666666,
          31.066666666666666,
          36.28333333333333,
          39.1,
          29.55,
          36.53333333333333,
          25.666666666666668,
          24.216666666666665,
          36.65,
          38.55,
          33.55,
          29.5,
          37.05,
          31.783333333333335,
          32.15,
          28.7,
          27.533333333333335,
          30.733333333333334,
          39,
          29.516666666666666,
          25.85,
          27.966666666666665,
          30.866666666666667,
          24.883333333333333,
          34.166666666666664,
          26.583333333333332,
          26.333333333333332,
          28.7,
          42.416666666666664,
          30.683333333333334,
          30.85,
          37.78333333333333,
          29.15,
          34.25,
          23.55,
          24.416666666666668,
          42.083333333333336,
          25.366666666666667,
          36.4,
          30.35,
          29.866666666666667,
          35.18333333333333,
          37.083333333333336,
          29.483333333333334,
          30.683333333333334,
          30.2,
          31.65,
          33.483333333333334,
          34.5,
          37.666666666666664,
          29.083333333333332,
          30.533333333333335,
          29.666666666666668,
          50.233333333333334,
          26.316666666666666,
          33.6,
          32.43333333333333,
          24.7,
          27.1,
          22.466666666666665,
          30.466666666666665,
          36.983333333333334,
          34.083333333333336,
          32.53333333333333,
          39.483333333333334,
          27.516666666666666,
          25.933333333333334,
          25.95,
          27.216666666666665,
          35.3,
          32.233333333333334,
          30.816666666666666,
          27.35,
          30.933333333333334,
          33.166666666666664,
          32.43333333333333,
          30.116666666666667,
          26.75,
          26.266666666666666,
          35.666666666666664,
          37.78333333333333,
          32.833333333333336,
          30.466666666666665,
          27.633333333333333,
          28.45,
          24.733333333333334,
          33.583333333333336,
          40.56666666666667,
          29.083333333333332,
          36.416666666666664,
          31.1,
          27.166666666666668,
          34.1,
          42.583333333333336,
          26.2,
          38.43333333333333,
          27.516666666666666,
          30.316666666666666,
          33.8,
          43.28333333333333,
          26.216666666666665,
          33.916666666666664,
          28.633333333333333,
          25.5,
          29,
          36.45,
          31.05,
          33.68333333333333,
          29.983333333333334,
          33.166666666666664,
          21.416666666666668,
          25.5,
          37.05,
          24.7,
          21.816666666666666,
          28.583333333333332,
          23.15,
          26.533333333333335,
          34.03333333333333,
          30.233333333333334,
          28.7,
          32.61666666666667,
          25.5,
          24.016666666666666,
          32.46666666666667,
          34.21666666666667,
          31.116666666666667,
          27.65,
          30.25,
          30.9,
          47.06666666666667,
          56.05,
          27.516666666666666,
          29.516666666666666,
          31.516666666666666,
          37.166666666666664,
          39.03333333333333,
          32.516666666666666,
          34.05,
          32.483333333333334,
          33.083333333333336,
          26.65,
          27.116666666666667,
          36.483333333333334,
          35.81666666666667,
          34.11666666666667,
          33.13333333333333,
          34.68333333333333,
          26.1,
          27.833333333333332,
          26.75,
          29.6,
          32.65,
          28.383333333333333,
          25.483333333333334,
          28.1,
          29.516666666666666,
          26.2,
          21.883333333333333,
          28,
          35.71666666666667,
          27.966666666666665,
          30.883333333333333,
          27.666666666666668,
          30.766666666666666,
          30.366666666666667,
          36.166666666666664,
          37.2,
          33.583333333333336,
          27.966666666666665,
          26.633333333333333,
          28.633333333333333,
          30.366666666666667,
          29.45,
          32.81666666666667,
          31.733333333333334,
          29.033333333333335,
          32.68333333333333,
          34.45,
          26.733333333333334,
          29.966666666666665,
          35.2,
          31.633333333333333,
          34.15,
          36.05,
          27.75,
          48.13333333333333,
          25.666666666666668,
          28.616666666666667,
          32.266666666666666,
          32.46666666666667,
          28.433333333333334,
          34.55,
          33.483333333333334,
          29.566666666666666,
          34.71666666666667,
          30.933333333333334,
          29.766666666666666,
          27.833333333333332,
          26.283333333333335,
          31.516666666666666,
          23.833333333333332,
          32,
          25.416666666666668,
          30.816666666666666,
          37,
          29.15,
          46.7,
          33.9,
          37.86666666666667,
          31.816666666666666,
          25.666666666666668,
          30.033333333333335,
          33.333333333333336,
          26.483333333333334,
          37.43333333333333,
          34.56666666666667,
          25.733333333333334,
          33.15,
          43.11666666666667,
          27.566666666666666,
          30.383333333333333,
          30.933333333333334,
          28.916666666666668,
          33,
          36.21666666666667,
          34.93333333333333,
          32.4,
          26.833333333333332,
          28.216666666666665,
          27.8,
          31.433333333333334,
          28.766666666666666,
          28.7,
          33.55,
          24.2,
          23.016666666666666,
          24.666666666666668,
          34.36666666666667,
          32.06666666666667,
          28.5,
          43.9,
          28,
          30.216666666666665,
          29.15,
          26.716666666666665,
          29.066666666666666,
          30.05,
          25.533333333333335,
          26.266666666666666,
          24.083333333333332,
          41.81666666666667,
          25.35,
          32.266666666666666,
          31.15,
          22.55,
          25.616666666666667,
          33.3,
          32.45,
          32.8,
          36.63333333333333,
          30.983333333333334,
          37.68333333333333,
          30.466666666666665,
          30.683333333333334,
          34.36666666666667,
          29.933333333333334,
          47.81666666666667,
          27.166666666666668,
          34.45,
          32.666666666666664,
          35.88333333333333,
          28.15,
          26.733333333333334,
          28.083333333333332,
          27.45,
          38.083333333333336,
          30.05,
          33.95,
          26.45,
          29.866666666666667,
          34.733333333333334,
          26.95,
          31.75,
          25.183333333333334,
          22.516666666666666,
          28.533333333333335,
          28.916666666666668,
          33.43333333333333,
          29,
          28.233333333333334,
          28.233333333333334,
          39.833333333333336,
          30.583333333333332,
          24.15,
          32.3,
          31.25,
          34.61666666666667,
          34.53333333333333,
          36.61666666666667,
          30.866666666666667,
          32.7,
          32.28333333333333,
          29.5,
          43.38333333333333,
          27.1,
          29.616666666666667,
          34.7,
          24.083333333333332,
          35.05,
          30.016666666666666,
          31.183333333333334,
          42.6,
          33.016666666666666,
          24.166666666666668,
          35.2,
          33.266666666666666,
          33.56666666666667,
          46.166666666666664,
          34.18333333333333,
          26.4,
          30.266666666666666,
          29.05,
          32.38333333333333,
          29.933333333333334,
          34.55,
          24.433333333333334,
          33.53333333333333,
          32.31666666666667,
          33.266666666666666,
          27.1,
          31.683333333333334,
          31.333333333333332,
          25.183333333333334,
          23.083333333333332,
          28.383333333333333,
          24.866666666666667,
          30.65,
          31.716666666666665,
          29.633333333333333,
          35.61666666666667,
          38.03333333333333,
          24.55,
          28.133333333333333,
          43.43333333333333,
          24.95,
          32.78333333333333,
          31.016666666666666,
          35.166666666666664,
          30.016666666666666,
          38.05,
          32.2,
          29.9,
          30.366666666666667,
          36,
          39.05,
          27.683333333333334,
          46.233333333333334,
          30.966666666666665,
          40.5,
          22.85,
          28.75,
          31.316666666666666,
          33.166666666666664,
          29.966666666666665,
          29.6,
          35.46666666666667,
          37.53333333333333,
          41.55,
          31.433333333333334,
          25.566666666666666,
          32.78333333333333,
          34.333333333333336,
          24.933333333333334,
          32.65,
          31.95,
          27.883333333333333,
          37.833333333333336,
          31.45,
          28.083333333333332,
          35.583333333333336,
          31.933333333333334,
          34.61666666666667,
          32.7,
          33.6,
          30.65,
          32.93333333333333,
          41.85,
          34.516666666666666,
          29.216666666666665,
          32.666666666666664,
          36.13333333333333,
          35.233333333333334,
          26.233333333333334,
          33.86666666666667,
          51.016666666666666,
          26.4,
          39.766666666666666,
          46.083333333333336,
          34.483333333333334,
          40.18333333333333,
          35.11666666666667,
          31.5,
          48.016666666666666,
          32.516666666666666,
          37.65,
          35.5,
          34.5,
          37.21666666666667,
          25.1,
          29.633333333333333,
          25.933333333333334,
          42.8,
          45.93333333333333,
          41.45,
          26.583333333333332,
          25.383333333333333,
          35.21666666666667,
          24.6,
          33.483333333333334,
          26.7,
          30.116666666666667,
          29.166666666666668,
          31.716666666666665,
          30.783333333333335,
          38.93333333333333,
          38.516666666666666,
          37.483333333333334,
          28.716666666666665,
          38.05,
          34.11666666666667,
          27.65,
          29.1,
          36.2,
          29.65,
          30.4,
          28.15,
          26.15,
          35.36666666666667,
          32.03333333333333,
          38.56666666666667,
          28.4,
          37.46666666666667,
          38.666666666666664,
          32.1,
          35.86666666666667,
          23.666666666666668,
          26.45,
          38.93333333333333,
          36.85,
          27.583333333333332,
          39.18333333333333,
          45.8,
          33.68333333333333,
          32.6,
          23.5,
          25.95,
          25.716666666666665,
          31.483333333333334,
          36.583333333333336,
          35.88333333333333,
          32.61666666666667,
          36.1,
          42.8,
          24.166666666666668,
          41.86666666666667,
          34.65,
          50.11666666666667,
          32.93333333333333,
          35.81666666666667,
          30.633333333333333,
          26.133333333333333,
          35.6,
          32.25,
          24.316666666666666,
          40.983333333333334,
          37.86666666666667,
          24.05,
          33.78333333333333,
          38.583333333333336,
          35.21666666666667,
          36.1,
          48.11666666666667,
          29.85,
          37.733333333333334,
          33.35,
          39,
          39.13333333333333,
          27.933333333333334,
          34.333333333333336,
          31.05,
          33.233333333333334,
          31.7,
          41.65,
          32.166666666666664,
          27.75,
          33.15,
          26.55,
          28.333333333333332,
          29.883333333333333,
          28.233333333333334,
          30.15,
          29.566666666666666,
          32.4,
          25.166666666666668,
          41.21666666666667,
          48.11666666666667,
          27.233333333333334,
          31.2,
          36.55,
          29.4,
          27.133333333333333,
          30.916666666666668,
          40.03333333333333,
          27.216666666666665,
          37.666666666666664,
          37.583333333333336,
          26.583333333333332,
          29.266666666666666,
          35.06666666666667,
          31.333333333333332,
          31.45,
          38.96666666666667,
          25.3,
          28.083333333333332,
          31.683333333333334,
          31.483333333333334,
          29.066666666666666,
          31.95,
          40.7,
          34.88333333333333,
          39.86666666666667,
          30.75,
          32.61666666666667,
          32.4,
          28.55,
          27.533333333333335,
          38.46666666666667,
          31.4,
          31.266666666666666,
          24.183333333333334,
          25.633333333333333,
          25.8,
          31.783333333333335,
          34.95,
          25.183333333333334,
          31.083333333333332,
          24.5,
          28.766666666666666,
          25.966666666666665,
          32.06666666666667,
          41.65,
          27.1,
          28.35,
          47.81666666666667,
          37.85,
          34.5,
          26.583333333333332,
          35.93333333333333,
          29.133333333333333,
          23.483333333333334,
          36.916666666666664,
          29.183333333333334,
          32.86666666666667,
          35.016666666666666,
          32.13333333333333,
          32.85,
          29.333333333333332,
          36.6,
          34.483333333333334,
          29.983333333333334,
          30.983333333333334,
          19.166666666666668,
          24.416666666666668,
          29.283333333333335,
          35.516666666666666,
          33.93333333333333,
          30.2,
          23.15,
          35.9,
          29.366666666666667,
          40.766666666666666,
          37.88333333333333,
          33.45,
          35.03333333333333,
          25.033333333333335,
          22.133333333333333,
          35.583333333333336,
          29.416666666666668,
          36.71666666666667,
          25.433333333333334,
          33.083333333333336,
          34.63333333333333,
          38.36666666666667,
          43.8,
          26.133333333333333,
          41.43333333333333,
          33.03333333333333,
          38.6,
          37.86666666666667,
          41.55,
          32.53333333333333,
          26.633333333333333,
          26.116666666666667,
          25,
          37.733333333333334,
          36.666666666666664,
          31.483333333333334,
          29.983333333333334,
          29.216666666666665,
          35.083333333333336,
          36.833333333333336,
          31.283333333333335,
          34.2,
          23.733333333333334,
          25.85,
          37.28333333333333,
          36.55,
          37.483333333333334,
          29.3,
          29.2,
          28.883333333333333,
          28.166666666666668,
          16.966666666666665,
          27.916666666666668,
          31.833333333333332,
          30.083333333333332,
          36.25,
          19.616666666666667,
          18.516666666666666,
          35.18333333333333,
          37.25,
          24.616666666666667,
          27.733333333333334,
          31.95,
          33.083333333333336,
          28.616666666666667,
          31.066666666666666,
          36.31666666666667,
          38.9,
          31,
          30.116666666666667,
          41.71666666666667,
          35.21666666666667,
          36.63333333333333,
          32.266666666666666,
          32.416666666666664,
          27.283333333333335,
          29.75,
          30.783333333333335,
          42.916666666666664,
          30.633333333333333,
          32.05,
          27.516666666666666,
          24.183333333333334,
          35.1,
          32.516666666666666,
          31.983333333333334,
          37.166666666666664,
          27.616666666666667,
          32.46666666666667,
          35.5,
          33.65,
          31.2,
          41.63333333333333,
          36.266666666666666,
          42.31666666666667,
          33.18333333333333,
          22.616666666666667,
          21.816666666666666,
          24.4,
          38.55,
          26.75,
          28.116666666666667,
          26.516666666666666,
          32.13333333333333,
          33.85,
          26.1,
          35.666666666666664,
          37.766666666666666,
          24.566666666666666,
          31.15,
          39.93333333333333,
          23.566666666666666,
          25.733333333333334,
          23.033333333333335,
          28.15,
          28.55,
          19.383333333333333,
          27.533333333333335,
          27.916666666666668,
          26.016666666666666,
          32.166666666666664,
          26.016666666666666,
          45.2,
          25.133333333333333,
          25.066666666666666,
          30.783333333333335,
          27.266666666666666,
          25.15,
          24.8,
          29.966666666666665,
          26.433333333333334,
          35.916666666666664,
          37.18333333333333,
          31.166666666666668,
          31.233333333333334,
          26.25,
          22.6,
          36.53333333333333,
          29.183333333333334,
          30.45,
          26.1,
          25.166666666666668,
          33.65,
          29.7,
          31.483333333333334,
          26.783333333333335,
          28.7,
          25.333333333333332,
          30.933333333333334,
          35.45,
          28.766666666666666,
          25.633333333333333,
          32.05,
          28.683333333333334,
          25.266666666666666,
          26.266666666666666,
          34.93333333333333,
          34.06666666666667,
          33.3,
          33.03333333333333,
          51.2,
          38.55,
          34.46666666666667,
          28.116666666666667,
          29.866666666666667,
          30.533333333333335,
          23.466666666666665,
          24.533333333333335,
          32.7,
          32.8,
          27.616666666666667,
          30.4,
          31.633333333333333,
          28.4,
          28.616666666666667,
          28.7,
          26.3,
          30.65,
          22.966666666666665,
          30.916666666666668,
          30.5,
          31.733333333333334,
          34.13333333333333,
          32.71666666666667,
          28.466666666666665,
          33.1,
          33.15,
          36.05,
          30.866666666666667,
          32.21666666666667,
          44.733333333333334,
          28.633333333333333,
          33.733333333333334,
          29.916666666666668,
          34.05,
          28.366666666666667,
          36.25,
          31.266666666666666,
          23.8,
          39.333333333333336,
          26.95,
          30.466666666666665,
          38.46666666666667,
          24.95,
          27.6,
          30.6,
          26.966666666666665,
          29.1,
          31.65,
          39.56666666666667,
          33.18333333333333,
          39.85,
          28.116666666666667,
          31.633333333333333,
          34,
          32.11666666666667,
          28.216666666666665,
          35.083333333333336,
          24.716666666666665,
          31.666666666666668,
          30.55,
          26.766666666666666,
          25.2,
          26.633333333333333,
          30.65,
          35.43333333333333,
          27.766666666666666,
          37.1,
          40.333333333333336,
          36.71666666666667,
          39.016666666666666,
          32.95,
          26.416666666666668,
          48.5,
          35.63333333333333,
          31.316666666666666,
          26.066666666666666,
          25.75,
          32.516666666666666,
          29.616666666666667,
          29.133333333333333,
          30.95,
          28.116666666666667,
          31,
          32.733333333333334,
          25.416666666666668,
          34.18333333333333,
          30.733333333333334,
          34.56666666666667,
          35.516666666666666,
          27.466666666666665,
          23.683333333333334,
          26.416666666666668,
          29.65,
          30.716666666666665,
          52.95,
          31.933333333333334,
          29.666666666666668,
          34.71666666666667,
          27.866666666666667,
          47.68333333333333,
          23.966666666666665,
          37.333333333333336,
          26.633333333333333,
          28.683333333333334,
          30.783333333333335,
          26.9,
          36.666666666666664,
          30.183333333333334,
          32.21666666666667,
          39.85,
          35.61666666666667,
          31.15,
          28.45,
          31.333333333333332,
          28.483333333333334,
          28.283333333333335,
          30.95,
          25.633333333333333,
          27.65,
          35.86666666666667,
          30,
          32.61666666666667,
          42.5,
          29.766666666666666,
          29.866666666666667,
          33.21666666666667,
          26.633333333333333,
          31.683333333333334,
          30.666666666666668,
          35.43333333333333,
          29.816666666666666,
          28.166666666666668,
          34.95,
          33.416666666666664,
          29.933333333333334,
          33.71666666666667,
          34.28333333333333,
          35.9,
          38,
          23.266666666666666,
          23.433333333333334,
          35.11666666666667,
          32.56666666666667,
          27.8,
          25.916666666666668,
          34.75,
          29.25,
          32.016666666666666,
          43.416666666666664,
          39.333333333333336,
          39.63333333333333,
          28.9,
          33.21666666666667,
          29.6,
          27.616666666666667,
          30.833333333333332,
          47.56666666666667,
          46.06666666666667,
          30.683333333333334,
          36.516666666666666,
          37.766666666666666,
          35.86666666666667,
          34.81666666666667,
          35.06666666666667,
          31.666666666666668,
          31.383333333333333,
          30.333333333333332,
          33.3,
          35.583333333333336,
          38.68333333333333,
          51.61666666666667,
          38.8,
          24.55,
          33.016666666666666,
          31.35,
          24.816666666666666,
          25.2,
          37.71666666666667,
          24.983333333333334,
          25,
          31.6,
          40.55,
          28.55,
          23.883333333333333,
          27.75,
          28.583333333333332,
          26.85,
          29.5,
          31.316666666666666,
          45.166666666666664,
          36.4,
          30.95,
          37.11666666666667,
          30.083333333333332,
          33.75,
          31.066666666666666,
          28.683333333333334,
          23.9,
          38,
          35.166666666666664,
          41.983333333333334,
          31.516666666666666,
          28.516666666666666,
          39.68333333333333,
          25.4,
          17.85,
          27.716666666666665,
          38.21666666666667,
          26.883333333333333,
          28.966666666666665,
          34.18333333333333,
          45.483333333333334,
          36.166666666666664,
          39.5,
          38.8,
          29.633333333333333,
          25.183333333333334,
          38.35,
          32.1,
          30.633333333333333,
          24.966666666666665,
          26.433333333333334,
          40.96666666666667,
          31.033333333333335,
          32.06666666666667,
          37.583333333333336,
          27.45,
          24.016666666666666,
          28.7,
          25.616666666666667,
          28.15,
          21.933333333333334,
          25.333333333333332,
          27.366666666666667,
          42.71666666666667,
          47.81666666666667,
          29.8,
          42.9,
          31.733333333333334,
          28.516666666666666,
          37.233333333333334,
          38.53333333333333,
          41.11666666666667,
          44.65,
          32.05,
          32.13333333333333,
          25.533333333333335,
          28.583333333333332,
          41,
          41.1,
          34.05,
          34.333333333333336,
          33.3,
          40.68333333333333,
          28.483333333333334,
          27.983333333333334,
          28.683333333333334,
          38.983333333333334,
          32.083333333333336,
          46.88333333333333,
          30.616666666666667,
          39.75,
          30.533333333333335,
          26.216666666666665,
          40.9,
          43.416666666666664,
          43.13333333333333,
          29.2,
          37.35,
          33.016666666666666,
          36.06666666666667,
          29.833333333333332,
          26.416666666666668,
          32.31666666666667,
          26.233333333333334,
          29.683333333333334,
          29.766666666666666,
          55.43333333333333,
          30.083333333333332,
          33.833333333333336,
          35.61666666666667,
          25.133333333333333,
          27.55,
          35.333333333333336,
          36.11666666666667,
          32.016666666666666,
          38.666666666666664,
          32.61666666666667,
          27.483333333333334,
          34.05,
          30.766666666666666,
          30.866666666666667,
          30.233333333333334,
          42.46666666666667,
          28.55,
          28.95,
          34.93333333333333,
          32.11666666666667,
          25.85,
          27.216666666666665,
          31.3,
          31.433333333333334,
          28.816666666666666,
          38.416666666666664,
          34.666666666666664,
          39.86666666666667,
          24.15,
          35.25,
          31.983333333333334,
          28.016666666666666,
          25.083333333333332,
          46.95,
          29.7,
          46.3,
          32.78333333333333,
          38.61666666666667,
          31.816666666666666,
          31.516666666666666,
          29.616666666666667,
          31.6,
          30.416666666666668,
          40.333333333333336,
          38.4,
          40.45,
          24.583333333333332,
          29.35,
          26.933333333333334,
          34,
          30.2,
          28.133333333333333,
          26.883333333333333,
          29.583333333333332,
          28.483333333333334,
          24.566666666666666,
          28.516666666666666,
          24.983333333333334,
          29.666666666666668,
          27.616666666666667,
          43.78333333333333,
          44.56666666666667,
          25.066666666666666,
          26.583333333333332,
          40.05,
          34.05,
          37.45,
          29.1,
          25.516666666666666,
          31.066666666666666,
          22.966666666666665,
          29.816666666666666,
          33.61666666666667,
          43.4,
          35.766666666666666,
          31.416666666666668,
          28.966666666666665,
          27.816666666666666,
          32.13333333333333,
          39.45,
          26.583333333333332,
          33.38333333333333,
          35.5,
          33.93333333333333,
          42.7,
          37.65,
          37.55,
          47.11666666666667,
          35.61666666666667,
          28.166666666666668,
          37.666666666666664,
          30.25,
          35.03333333333333,
          26.4,
          26.95,
          28.466666666666665,
          26.55,
          38.21666666666667,
          27.933333333333334,
          28.866666666666667,
          30.85,
          22.75,
          33.1,
          32.63333333333333,
          30.083333333333332,
          30.166666666666668,
          45.333333333333336,
          25.666666666666668,
          36.05,
          28.05,
          28.883333333333333,
          36.6,
          24.933333333333334,
          36.43333333333333,
          33.85,
          26.45,
          26.533333333333335,
          48.93333333333333,
          35.31666666666667,
          40.2,
          26.083333333333332,
          31.466666666666665,
          31.483333333333334,
          37.9,
          38.78333333333333,
          34.15,
          29.083333333333332,
          33.266666666666666,
          28.05,
          42.06666666666667,
          28.666666666666668,
          32.55,
          33.55,
          36.25,
          35.28333333333333,
          42.833333333333336,
          40.516666666666666,
          45.766666666666666,
          30.55,
          30.416666666666668,
          37.35,
          23.833333333333332,
          33.55,
          37.55,
          30.4,
          25.4,
          31.816666666666666,
          31.35,
          26.433333333333334,
          36.71666666666667,
          45.2,
          46.2,
          38.333333333333336,
          29.666666666666668,
          26.9,
          32.15,
          41.13333333333333,
          33.63333333333333,
          36.56666666666667,
          31.65,
          25.3,
          38.88333333333333,
          31.666666666666668,
          34.35,
          39.233333333333334,
          31.966666666666665,
          35.333333333333336,
          24.8,
          29.183333333333334,
          29.983333333333334,
          37.43333333333333,
          34.05,
          27.9,
          36.016666666666666,
          30.783333333333335,
          26.616666666666667,
          32.13333333333333,
          37.233333333333334,
          33.71666666666667,
          32.46666666666667,
          25.883333333333333,
          29.9,
          32.53333333333333,
          27.216666666666665,
          30.233333333333334,
          30.183333333333334,
          36.5,
          41.083333333333336,
          27.55,
          39.88333333333333,
          27.4,
          30.466666666666665,
          35.55,
          31.966666666666665,
          35.36666666666667,
          31.083333333333332,
          28.15,
          27.5,
          22.75,
          34.1,
          39.9,
          33.1,
          32.583333333333336,
          26.916666666666668,
          27.4,
          25.983333333333334,
          34.416666666666664,
          37.45,
          20.266666666666666,
          31.966666666666665,
          38.333333333333336,
          37.45,
          35.333333333333336,
          33.05,
          34.1,
          31.966666666666665,
          28.75,
          28.6,
          23.9,
          31.333333333333332,
          37.9,
          32.666666666666664,
          29.716666666666665,
          26.65,
          29.483333333333334,
          29.716666666666665,
          26.716666666666665,
          46.15,
          39.25,
          37.71666666666667,
          25.916666666666668,
          39.81666666666667,
          37.13333333333333,
          31.083333333333332,
          30.1,
          30.116666666666667,
          33.016666666666666,
          25.616666666666667,
          27.833333333333332,
          21.55,
          31.983333333333334,
          24.9,
          31.983333333333334,
          36.483333333333334,
          28.6,
          21.083333333333332,
          27.533333333333335,
          43.28333333333333,
          31.966666666666665,
          34.9,
          29.4,
          30.516666666666666,
          25.983333333333334,
          41.65,
          18.95,
          26.983333333333334,
          20.433333333333334,
          27.85,
          25.683333333333334,
          37.43333333333333,
          40.28333333333333,
          35.166666666666664,
          30.566666666666666,
          40.03333333333333,
          39.31666666666667,
          29.316666666666666,
          27.533333333333335,
          27.216666666666665,
          26.283333333333335,
          25.133333333333333,
          27.2,
          30.15,
          35.63333333333333,
          37.45,
          27.916666666666668,
          24.666666666666668,
          38.083333333333336,
          32.516666666666666,
          24.166666666666668,
          26.383333333333333,
          26.816666666666666,
          22.716666666666665,
          35.88333333333333,
          34.45,
          32.55,
          25,
          37,
          42.516666666666666,
          34.166666666666664,
          35.38333333333333,
          39.93333333333333,
          26.6,
          33.333333333333336,
          29.933333333333334,
          31.983333333333334,
          33.583333333333336,
          32.1,
          37.6,
          39.63333333333333,
          25.533333333333335,
          29.3,
          33.15,
          25.733333333333334,
          33.46666666666667,
          25.383333333333333,
          33.03333333333333,
          38,
          38.766666666666666,
          31.766666666666666,
          46.733333333333334,
          41.666666666666664,
          41.5,
          23.716666666666665,
          30.583333333333332,
          40.63333333333333,
          40.03333333333333,
          31.933333333333334,
          30.65,
          27.416666666666668,
          32.766666666666666,
          34.86666666666667,
          35.6,
          36.666666666666664,
          33.166666666666664,
          44.333333333333336,
          28.016666666666666,
          25.533333333333335,
          31.933333333333334,
          29.966666666666665,
          30.883333333333333,
          29.433333333333334,
          25.05,
          33.11666666666667,
          29.833333333333332,
          36.333333333333336,
          27.166666666666668,
          27.033333333333335,
          29.166666666666668,
          25.716666666666665,
          32.13333333333333,
          34.36666666666667,
          23.083333333333332,
          33.46666666666667,
          27,
          36.31666666666667,
          35.083333333333336,
          28.65,
          31.2,
          26.066666666666666,
          44.266666666666666,
          39.916666666666664,
          30.1,
          25.583333333333332,
          25.433333333333334,
          31.2,
          26.583333333333332,
          25.816666666666666,
          33.21666666666667,
          29.283333333333335,
          24.833333333333332,
          23.6,
          37.53333333333333,
          25.033333333333335,
          34,
          40.75,
          28.566666666666666,
          22.8,
          32.016666666666666,
          34.016666666666666,
          29.066666666666666,
          35,
          29.166666666666668,
          35.666666666666664,
          29.016666666666666,
          25.066666666666666,
          27.616666666666667,
          24.033333333333335,
          33.68333333333333,
          32.666666666666664,
          43.6,
          33.68333333333333,
          28.4,
          30.533333333333335,
          31.15,
          29.366666666666667,
          33.5,
          30.533333333333335,
          25.416666666666668,
          31.116666666666667,
          27.483333333333334,
          35.916666666666664,
          33.25,
          37.55,
          27.7,
          31.366666666666667,
          42.016666666666666,
          32.18333333333333,
          21.7,
          31.433333333333334,
          33.5,
          35.35,
          35.46666666666667,
          35.5,
          40.416666666666664,
          25.183333333333334,
          32.583333333333336,
          38.93333333333333,
          36.75,
          28.383333333333333,
          44.766666666666666,
          25.316666666666666,
          40.05,
          30.216666666666665,
          31.5,
          42.38333333333333,
          27.7,
          31.5,
          28.5,
          31.866666666666667,
          30.833333333333332,
          41.266666666666666,
          26.433333333333334,
          28.483333333333334,
          31.616666666666667,
          28.95,
          32.016666666666666,
          33.36666666666667,
          27.266666666666666,
          31.633333333333333,
          30.516666666666666,
          32.13333333333333,
          42.083333333333336,
          31.166666666666668,
          34.06666666666667,
          31.55,
          28.85,
          36.95,
          46.38333333333333,
          36.46666666666667,
          33.983333333333334,
          28.983333333333334,
          42.53333333333333,
          40.86666666666667,
          32.05,
          30.55,
          26.916666666666668,
          27.916666666666668,
          26.75,
          36.13333333333333,
          29.55,
          30.566666666666666,
          33.36666666666667,
          30.45,
          27.683333333333334,
          24.883333333333333,
          30,
          39.483333333333334,
          26.533333333333335,
          30.783333333333335,
          24.833333333333332,
          33.016666666666666,
          44.333333333333336,
          32.81666666666667,
          31.7,
          37.15,
          23.583333333333332,
          32.18333333333333,
          45.5,
          31.433333333333334,
          21.45,
          37.166666666666664,
          31.45,
          26.65,
          26.616666666666667,
          35.38333333333333,
          42.15,
          28.1,
          41.4,
          33.25,
          30.933333333333334,
          30,
          27.766666666666666,
          27.866666666666667,
          28.116666666666667,
          30.166666666666668,
          45.13333333333333,
          32.15,
          35.46666666666667,
          34.766666666666666,
          40.766666666666666,
          30.5,
          25.2,
          32.916666666666664,
          28.266666666666666,
          31.65,
          31.616666666666667,
          35.2,
          37.483333333333334,
          34.416666666666664,
          26.166666666666668,
          41.166666666666664,
          29.05,
          23.75,
          30.6,
          32.18333333333333,
          33.35,
          30.55,
          31.65,
          29.366666666666667,
          26.183333333333334,
          37.3,
          43.916666666666664,
          36.583333333333336,
          31.183333333333334,
          43.4,
          25.266666666666666,
          25.116666666666667,
          33.416666666666664,
          40.05,
          38.65,
          33.5,
          36.4,
          30.516666666666666,
          41.666666666666664,
          28.1,
          35.95,
          31.3,
          27.066666666666666,
          24.1,
          31.133333333333333,
          21.5,
          35.233333333333334,
          33.833333333333336,
          35.483333333333334,
          28.666666666666668,
          34.9,
          30.716666666666665,
          38.11666666666667,
          22.516666666666666,
          35.9,
          30.633333333333333,
          42.25,
          30.916666666666668,
          37.016666666666666,
          34.36666666666667,
          24.466666666666665,
          26.366666666666667,
          24,
          29.5,
          34.65,
          37.93333333333333,
          34.55,
          43.93333333333333,
          35.833333333333336,
          34.516666666666666,
          46.766666666666666,
          32.583333333333336,
          25.383333333333333,
          31.416666666666668,
          20.9,
          22.016666666666666,
          25.216666666666665,
          26.283333333333335,
          31.766666666666666,
          36.483333333333334,
          28.65,
          32.05,
          28.15,
          26.216666666666665,
          29.416666666666668,
          32.016666666666666,
          42.81666666666667,
          29.533333333333335,
          45.05,
          45.03333333333333,
          40.55,
          43.266666666666666,
          38.71666666666667,
          24.483333333333334,
          40.03333333333333,
          38.31666666666667,
          38.266666666666666,
          34.983333333333334,
          28.666666666666668,
          29.833333333333332,
          30.7,
          39.68333333333333,
          23.483333333333334,
          32.55,
          26.8,
          39.56666666666667,
          26.516666666666666,
          29.033333333333335,
          40.95,
          29.3,
          29.666666666666668,
          36.88333333333333,
          31.166666666666668,
          30.633333333333333,
          43.35,
          37.483333333333334,
          33.71666666666667,
          32.6,
          41.416666666666664,
          28.683333333333334,
          32.233333333333334,
          38.13333333333333,
          32.28333333333333,
          37.05,
          31.15,
          21.2,
          26.983333333333334,
          39.266666666666666,
          35.61666666666667,
          33.266666666666666,
          28.433333333333334,
          46.016666666666666,
          34.55,
          38.9,
          39.166666666666664,
          25.2,
          21.65,
          23.35,
          31.016666666666666,
          31.2,
          30.516666666666666,
          43.6,
          38.15,
          37.516666666666666,
          37.25,
          28.866666666666667,
          18.616666666666667,
          25.5,
          40.166666666666664,
          30.816666666666666,
          21.666666666666668,
          25.75,
          33.983333333333334,
          33.63333333333333,
          30.466666666666665,
          29.6,
          38.416666666666664,
          29.166666666666668,
          28.25,
          24.566666666666666,
          28.233333333333334,
          40.31666666666667,
          31.4,
          27.2,
          34.03333333333333,
          40.96666666666667,
          31.05,
          29.466666666666665,
          31.716666666666665,
          30.35,
          26.8,
          33.9,
          27.883333333333333,
          37.6,
          37.65,
          24.183333333333334,
          30.4,
          35.65,
          31.85,
          29.9,
          30.166666666666668,
          23.566666666666666,
          23.066666666666666,
          34.81666666666667,
          27.316666666666666,
          28.966666666666665,
          33.016666666666666,
          28.416666666666668,
          34,
          26.983333333333334,
          27.883333333333333,
          34.583333333333336,
          30.083333333333332,
          38.55,
          46.266666666666666,
          27.633333333333333,
          30.933333333333334,
          33.86666666666667,
          28.783333333333335,
          36.65,
          26.05,
          23.733333333333334,
          28,
          34.85,
          31.233333333333334,
          22.716666666666665,
          35.05,
          24.016666666666666,
          28.916666666666668,
          34.5,
          28.516666666666666,
          24.65,
          32.05,
          33.68333333333333,
          30.416666666666668,
          32.516666666666666,
          22.566666666666666,
          30.75,
          26.6,
          25.516666666666666,
          27.666666666666668,
          27.266666666666666,
          29.2,
          31.983333333333334,
          29.7,
          27.683333333333334,
          41.63333333333333,
          39.75,
          28.983333333333334,
          21.3,
          23.433333333333334,
          30.666666666666668,
          26.35,
          32.71666666666667,
          31.266666666666666,
          29.033333333333335,
          28.9,
          49.483333333333334,
          40.21666666666667,
          30.15,
          32.083333333333336,
          23.283333333333335,
          30.166666666666668,
          26,
          27.433333333333334,
          32.3,
          23.966666666666665,
          24.283333333333335,
          31.433333333333334,
          36.35,
          28.033333333333335,
          21.883333333333333,
          36.666666666666664,
          24.85,
          24.45,
          32.35,
          24.033333333333335,
          25.9,
          25.3,
          26.15,
          26.133333333333333,
          33.166666666666664,
          32.85,
          21.833333333333332,
          27.266666666666666,
          32.95,
          39.7,
          34.88333333333333,
          36.416666666666664,
          34.666666666666664,
          42.083333333333336,
          29.983333333333334,
          25.2,
          40.13333333333333,
          33.3,
          31.116666666666667,
          30.583333333333332,
          31.116666666666667,
          31.1,
          30.3,
          27.716666666666665,
          33.95,
          29.983333333333334,
          21.8,
          35.8,
          29.716666666666665,
          32.016666666666666,
          37.05,
          30.483333333333334,
          40.5,
          33.5,
          41,
          47.86666666666667,
          22.383333333333333,
          30.533333333333335,
          28.7,
          32.81666666666667,
          27.433333333333334,
          26.533333333333335,
          22.683333333333334,
          24.4,
          25.95,
          35.28333333333333,
          33.766666666666666,
          29.583333333333332,
          29.783333333333335,
          32.166666666666664,
          34.88333333333333,
          38.483333333333334,
          21.25,
          26.833333333333332,
          33.45,
          38.483333333333334,
          30.416666666666668,
          23.766666666666666,
          36.483333333333334,
          26.75,
          26.566666666666666,
          32.53333333333333,
          28.6,
          32.36666666666667,
          23.916666666666668,
          31.083333333333332,
          38,
          33.68333333333333,
          32.03333333333333,
          33.55,
          38.983333333333334,
          30.233333333333334,
          26.35,
          34.68333333333333,
          34.483333333333334,
          36.416666666666664,
          33.96666666666667,
          32.68333333333333,
          29.5,
          34.65,
          35.483333333333334,
          24.066666666666666,
          25.866666666666667,
          39.2,
          30.116666666666667,
          32.31666666666667,
          25.033333333333335,
          47.7,
          28.183333333333334,
          28.683333333333334,
          26.416666666666668,
          49.8,
          27.916666666666668,
          25.083333333333332,
          40.13333333333333,
          40.88333333333333,
          41.2,
          34.95,
          36.88333333333333,
          27.75,
          33.5,
          31.4,
          35.63333333333333,
          36.46666666666667,
          26.65,
          32.983333333333334,
          24.466666666666665,
          26.916666666666668,
          28.383333333333333,
          30.716666666666665,
          31.583333333333332,
          35.05,
          26.416666666666668,
          39.5,
          37.916666666666664,
          26.8,
          26.133333333333333,
          34.083333333333336,
          28.116666666666667,
          33.65,
          28.65,
          42.266666666666666,
          38.25,
          25.016666666666666,
          32.06666666666667,
          34.61666666666667,
          45.5,
          30.616666666666667,
          33.516666666666666,
          39.416666666666664,
          41.63333333333333,
          29.966666666666665,
          42.05,
          35.5,
          25.9,
          26.1,
          38,
          34.56666666666667,
          36.5,
          44.03333333333333,
          35.5,
          24.966666666666665,
          30.7,
          30.666666666666668,
          32.56666666666667,
          40.75,
          41.35,
          33.333333333333336,
          25.7,
          46.55,
          23.383333333333333,
          28.1,
          26.916666666666668,
          37.333333333333336,
          28.7,
          31.016666666666666,
          29.7,
          27.55,
          40.95,
          29.15,
          31.633333333333333,
          28.35,
          35.61666666666667,
          33.31666666666667,
          27.166666666666668,
          35.15,
          48.5,
          37.65,
          26.75,
          36.166666666666664,
          41.05,
          47.516666666666666,
          35.516666666666666,
          31.35,
          34.71666666666667,
          44.18333333333333,
          34.43333333333333,
          26.783333333333335,
          30.133333333333333,
          29.866666666666667,
          35.03333333333333,
          27.966666666666665,
          39.13333333333333,
          32.083333333333336,
          28.2,
          26.966666666666665,
          30.1,
          28.383333333333333,
          41.45,
          40.03333333333333,
          29.716666666666665,
          38.9,
          36.05,
          40.1,
          29.683333333333334,
          31.383333333333333,
          55.85,
          28.75,
          32.8,
          22.95,
          34.833333333333336,
          29.066666666666666,
          25.216666666666665,
          27.616666666666667,
          25.183333333333334,
          24.233333333333334,
          40.43333333333333,
          33.483333333333334,
          33.2,
          40.13333333333333,
          27.75,
          29.516666666666666,
          25.3,
          28.766666666666666,
          26.65,
          30.383333333333333,
          31.466666666666665,
          36.93333333333333,
          42.38333333333333,
          32.93333333333333,
          45.916666666666664,
          50.78333333333333,
          31.183333333333334,
          26.35,
          21.65,
          29.566666666666666,
          32.06666666666667,
          35.28333333333333,
          25.316666666666666,
          33.68333333333333,
          34.766666666666666,
          32.55,
          27.6,
          33.983333333333334,
          25.85,
          28.916666666666668,
          28.6,
          26.683333333333334,
          22.516666666666666,
          28.55,
          27.983333333333334,
          23.433333333333334,
          29.866666666666667,
          29.2,
          30.033333333333335,
          29.933333333333334,
          31.05,
          25.716666666666665,
          28.75,
          36.11666666666667,
          32.05,
          28.366666666666667,
          27.016666666666666,
          25.383333333333333,
          21.816666666666666,
          43.75,
          28.7,
          34.75,
          26.066666666666666,
          34.13333333333333,
          34.03333333333333,
          29.483333333333334,
          30.35,
          33.13333333333333,
          25.433333333333334,
          31.016666666666666,
          27.116666666666667,
          33.15,
          34.35,
          37.25,
          32.25,
          35.95,
          25.283333333333335,
          30.633333333333333,
          31.9,
          30.116666666666667,
          29.966666666666665,
          32.55,
          25.05,
          45.766666666666666,
          26.633333333333333,
          34.85,
          50.1,
          26.5,
          28.183333333333334,
          27.483333333333334,
          38.083333333333336,
          31.583333333333332,
          31.783333333333335,
          37.56666666666667,
          39.483333333333334,
          27.65,
          30.233333333333334,
          35.06666666666667,
          35.03333333333333,
          32.15,
          45.78333333333333,
          28.05,
          31.183333333333334,
          36.06666666666667,
          44.55,
          28.8,
          28.25,
          32.13333333333333,
          26.383333333333333,
          45.18333333333333,
          28.666666666666668,
          35.18333333333333,
          25.35,
          30.583333333333332,
          27.933333333333334,
          47.55,
          40.7,
          38.9,
          31.9,
          29.15,
          28.516666666666666,
          35.35,
          29.4,
          34.18333333333333,
          29.483333333333334,
          30.183333333333334,
          28.466666666666665,
          41.333333333333336,
          27.583333333333332,
          44.11666666666667,
          30.016666666666666,
          32.65,
          29.533333333333335,
          35.733333333333334,
          34.733333333333334,
          45.35,
          33.21666666666667,
          26.6,
          24.033333333333335,
          28.816666666666666,
          33.15,
          33.05,
          27.566666666666666,
          33.6,
          47.68333333333333,
          37.46666666666667,
          28.066666666666666,
          37.416666666666664,
          33.86666666666667,
          32.78333333333333,
          32.13333333333333,
          32.166666666666664,
          39.15,
          31.566666666666666,
          28.9,
          28.25,
          40.13333333333333,
          40.2,
          39.68333333333333,
          31.983333333333334,
          25.666666666666668,
          40.18333333333333,
          38.333333333333336,
          41.2,
          34.61666666666667,
          31.916666666666668,
          28.716666666666665,
          36.2,
          34.31666666666667,
          43.916666666666664,
          33.016666666666666,
          30.35,
          42.45,
          30.833333333333332,
          26.716666666666665,
          26.783333333333335,
          30.233333333333334,
          22.633333333333333,
          21.866666666666667,
          30.133333333333333,
          33.11666666666667,
          33.61666666666667,
          24.816666666666666,
          37.95,
          28.583333333333332,
          37.4,
          29.8,
          31.166666666666668,
          25.016666666666666,
          29.7,
          26.933333333333334,
          29.75,
          30.216666666666665,
          32.583333333333336,
          31.016666666666666,
          25.55,
          29.95,
          36.61666666666667,
          23.783333333333335,
          26.75,
          30.766666666666666,
          29.466666666666665,
          26.066666666666666,
          31.666666666666668,
          32.15,
          28.216666666666665,
          25.016666666666666,
          33.63333333333333,
          37.43333333333333,
          23.783333333333335,
          33.78333333333333,
          26.8,
          26.016666666666666,
          39.2,
          28.666666666666668,
          23.983333333333334,
          29.616666666666667,
          25.483333333333334,
          28.483333333333334,
          28.5,
          32.266666666666666,
          22.85,
          32.21666666666667,
          31.116666666666667,
          32.983333333333334,
          35.3,
          32.2,
          26.966666666666665,
          30.983333333333334,
          36.3,
          38.333333333333336,
          28.683333333333334,
          27.6,
          37.016666666666666,
          46.43333333333333,
          27.616666666666667,
          25.566666666666666,
          33.18333333333333,
          36.11666666666667,
          28.116666666666667,
          27.583333333333332,
          48.18333333333333,
          29.75,
          27.666666666666668,
          27.2,
          38.983333333333334,
          37.95,
          32.36666666666667,
          32.28333333333333,
          46.2,
          29.333333333333332,
          37.86666666666667,
          30.033333333333335,
          24.083333333333332,
          39.53333333333333,
          23.05,
          24.6,
          35,
          34.11666666666667,
          32.15,
          26.816666666666666,
          32.416666666666664,
          36.63333333333333,
          39.8,
          27.033333333333335,
          42.68333333333333,
          32.78333333333333,
          31.9,
          33.03333333333333,
          29.666666666666668,
          26.933333333333334,
          30.15,
          28.466666666666665,
          26.016666666666666,
          23.9,
          31.166666666666668,
          24.016666666666666,
          25.3,
          34.46666666666667,
          31.25,
          25.733333333333334,
          26.216666666666665,
          29.733333333333334,
          31.816666666666666,
          28.566666666666666,
          33.55,
          41.63333333333333,
          24.9,
          28.616666666666667,
          36.21666666666667,
          27.3,
          25.683333333333334,
          28.8,
          26.383333333333333,
          28.55,
          23.85,
          27.833333333333332,
          25.683333333333334,
          33.96666666666667,
          24.466666666666665,
          29.983333333333334,
          30.416666666666668,
          32.4,
          31.5,
          34.983333333333334,
          26.533333333333335,
          24.566666666666666,
          25.05,
          34.31666666666667,
          28.7,
          27.983333333333334,
          31.316666666666666,
          32.75,
          42.53333333333333,
          25.716666666666665,
          31.8,
          32.7,
          37.68333333333333,
          24.466666666666665,
          33.4,
          39.68333333333333,
          38.666666666666664,
          38.7,
          26.55,
          21.933333333333334,
          33.583333333333336,
          38.5,
          32.28333333333333,
          30.45,
          31.5,
          32.43333333333333,
          35.7,
          31.15,
          29.516666666666666,
          36.63333333333333,
          27.3,
          36.81666666666667,
          39.43333333333333,
          28.666666666666668,
          34.96666666666667,
          29.733333333333334,
          25.466666666666665,
          18.583333333333332,
          26.866666666666667,
          31.483333333333334,
          32.266666666666666,
          25.45,
          26.366666666666667,
          38.95,
          30.583333333333332,
          32.766666666666666,
          45.43333333333333,
          27.516666666666666,
          29.766666666666666,
          26.616666666666667,
          31.933333333333334,
          32.1,
          27.583333333333332,
          41.05,
          34.75,
          37.46666666666667,
          54.88333333333333,
          34.61666666666667,
          34.166666666666664,
          33.68333333333333,
          34.333333333333336,
          34.18333333333333,
          30.133333333333333,
          27.133333333333333,
          25.85,
          38.86666666666667,
          38.083333333333336,
          29.583333333333332,
          30.983333333333334,
          32.53333333333333,
          33.55,
          26.683333333333334,
          28.35,
          37.8,
          36.416666666666664,
          29.85,
          29.533333333333335,
          34.46666666666667,
          29.133333333333333,
          43.06666666666667,
          19.083333333333332,
          19.9,
          34.06666666666667,
          40.96666666666667,
          31.116666666666667,
          39.46666666666667,
          41.666666666666664,
          24.833333333333332,
          32.68333333333333,
          32.93333333333333,
          36.68333333333333,
          28.45,
          24.616666666666667,
          26.866666666666667,
          30,
          30.133333333333333,
          32.016666666666666,
          33.1,
          42.5,
          24.1,
          31.15,
          34.81666666666667,
          34.166666666666664,
          27.6,
          36.06666666666667,
          36.483333333333334,
          33.36666666666667,
          33.416666666666664,
          27.333333333333332,
          25.916666666666668,
          31.083333333333332,
          32.516666666666666,
          31.883333333333333,
          30.85,
          40.38333333333333,
          35.71666666666667,
          31.183333333333334,
          24.916666666666668,
          30.35,
          30.333333333333332,
          31.716666666666665,
          29.25,
          25.733333333333334,
          33.15,
          36.766666666666666,
          29.566666666666666,
          42.2,
          27.966666666666665,
          44.05,
          28.55,
          29.833333333333332,
          28.883333333333333,
          29.25,
          32.93333333333333,
          23.7,
          25.683333333333334,
          27,
          32.95,
          37.11666666666667,
          29.433333333333334,
          27.333333333333332,
          24.816666666666666,
          28.85,
          31.15,
          27.333333333333332,
          30.933333333333334,
          35.083333333333336,
          30.583333333333332,
          39.333333333333336,
          30.383333333333333,
          47.13333333333333,
          31.55,
          27.683333333333334,
          30.066666666666666,
          33.68333333333333,
          32.85,
          27.866666666666667,
          29.433333333333334,
          24.416666666666668,
          24.883333333333333,
          33.28333333333333,
          44.31666666666667,
          42.21666666666667,
          41.28333333333333,
          33.05,
          29.966666666666665,
          31.7,
          26.55,
          32.28333333333333,
          33.95,
          26.1,
          33.983333333333334,
          33.983333333333334,
          30.5,
          23.783333333333335,
          41.65,
          40.81666666666667,
          32.733333333333334,
          31.966666666666665,
          28.933333333333334,
          26.6,
          23.966666666666665,
          26.633333333333333,
          24.6,
          38.1,
          28.85,
          37.15,
          31.416666666666668,
          31.233333333333334,
          30.533333333333335,
          31.966666666666665,
          35.166666666666664,
          51.233333333333334,
          40.05,
          30.7,
          40.36666666666667,
          41.93333333333333,
          41.03333333333333,
          30.266666666666666,
          31,
          33.43333333333333,
          25.066666666666666,
          25.566666666666666,
          38.28333333333333,
          32.81666666666667,
          42.86666666666667,
          35.46666666666667,
          29.9,
          40.833333333333336,
          44.93333333333333,
          30.983333333333334,
          38.233333333333334,
          28.5,
          28.5,
          23.016666666666666,
          26.116666666666667,
          22.85,
          28.666666666666668,
          24.216666666666665,
          24.416666666666668,
          27.116666666666667,
          39.733333333333334,
          33.666666666666664,
          32.31666666666667,
          35.65,
          32.733333333333334,
          47.333333333333336,
          37.516666666666666,
          48.416666666666664,
          33.36666666666667,
          51.18333333333333,
          42.56666666666667,
          39.13333333333333,
          29.466666666666665,
          32.43333333333333,
          32.833333333333336,
          30.683333333333334,
          32.833333333333336,
          24.516666666666666,
          31.566666666666666,
          36.266666666666666,
          33.75,
          31.583333333333332,
          26.55,
          34.55,
          31.583333333333332,
          36.983333333333334,
          29.033333333333335,
          32.2,
          29.233333333333334,
          42.86666666666667,
          28.766666666666666,
          36.61666666666667,
          31.566666666666666,
          22.6,
          28.816666666666666,
          28.75,
          28.8,
          37.733333333333334,
          32.46666666666667,
          26.2,
          34.46666666666667,
          36.11666666666667,
          27.266666666666666,
          27.566666666666666,
          29.216666666666665,
          33.46666666666667,
          30.733333333333334,
          27.583333333333332,
          31.466666666666665,
          39.666666666666664,
          29.166666666666668,
          35.53333333333333,
          36.266666666666666,
          40.583333333333336,
          38.15,
          46.46666666666667,
          26.666666666666668,
          31.416666666666668,
          40.88333333333333,
          43.483333333333334,
          33.68333333333333,
          39.6,
          38.5,
          33.5,
          27.966666666666665,
          30.45,
          30.566666666666666,
          33.95,
          28.566666666666666,
          35.55,
          31.733333333333334,
          26.15,
          45.733333333333334,
          26.716666666666665,
          37.766666666666666,
          34.63333333333333,
          29.9,
          42.083333333333336,
          32.21666666666667,
          26.95,
          32.13333333333333,
          27.866666666666667,
          36.43333333333333,
          26.983333333333334,
          24.45,
          37.05,
          27.8,
          26.6,
          29.883333333333333,
          28.95,
          26.266666666666666,
          23.033333333333335,
          30.633333333333333,
          31.8,
          39.46666666666667,
          31.566666666666666,
          23.55,
          40.333333333333336,
          28.4,
          34.75,
          41.833333333333336,
          31.683333333333334,
          35.06666666666667,
          32.68333333333333,
          26.45,
          36.75,
          35.75,
          30.45,
          30.716666666666665,
          19.583333333333332,
          23.633333333333333,
          28.533333333333335,
          40.85,
          44.43333333333333,
          28.533333333333335,
          34.03333333333333,
          26.85,
          34.266666666666666,
          44.833333333333336,
          30.9,
          29.3,
          24.616666666666667,
          37.38333333333333,
          35.083333333333336,
          38.81666666666667,
          37.71666666666667,
          36.483333333333334,
          42.38333333333333,
          28.433333333333334,
          31.783333333333335,
          34.666666666666664,
          35.61666666666667,
          31.066666666666666,
          33.083333333333336,
          31.216666666666665,
          25.35,
          22.533333333333335,
          31.583333333333332,
          30.516666666666666,
          32.11666666666667,
          32.38333333333333,
          42.333333333333336,
          29.683333333333334,
          37.15,
          39.1,
          30.583333333333332,
          26.883333333333333,
          26.55,
          31.6,
          32.6,
          33.6,
          37.8,
          31.833333333333332,
          35.016666666666666,
          33.63333333333333,
          30.866666666666667,
          32.416666666666664,
          40.05,
          30.516666666666666,
          33.25,
          31.683333333333334,
          50.6,
          30.033333333333335,
          28.7,
          38.05,
          36.4,
          29.766666666666666,
          27.466666666666665,
          44.233333333333334,
          30.65,
          25.05,
          39.81666666666667,
          31.05,
          40.38333333333333,
          34.28333333333333,
          45.61666666666667,
          38.766666666666666,
          37.35,
          19.6,
          33.983333333333334,
          31.516666666666666,
          28.616666666666667,
          29.65,
          48.43333333333333,
          24.933333333333334,
          29.133333333333333,
          38.45,
          25.783333333333335,
          27.766666666666666,
          37.1,
          36.733333333333334,
          33.03333333333333,
          30.933333333333334,
          43.5,
          29.15,
          35.43333333333333,
          39.05,
          27.65,
          35.43333333333333,
          28.283333333333335,
          24.65,
          32.3,
          35.71666666666667,
          37.63333333333333,
          24.983333333333334,
          27,
          38.666666666666664,
          35.86666666666667,
          30.883333333333333,
          35.7,
          40.03333333333333,
          40.56666666666667,
          39.8,
          39.733333333333334,
          35.733333333333334,
          31.233333333333334,
          31.6,
          33.21666666666667,
          37.983333333333334,
          31.166666666666668,
          23.5,
          22.683333333333334,
          37.233333333333334,
          31.1,
          37.93333333333333,
          28.1,
          32.11666666666667,
          32.4,
          28.6,
          46.266666666666666,
          43.916666666666664,
          32.56666666666667,
          32.266666666666666,
          23.216666666666665,
          23.416666666666668,
          33.916666666666664,
          26.916666666666668,
          23.6,
          28.9,
          31.683333333333334,
          40.6,
          34,
          32.7,
          38.733333333333334,
          26.15,
          34.61666666666667,
          35.083333333333336,
          29.933333333333334,
          34.733333333333334,
          44.21666666666667,
          30.35,
          21.116666666666667,
          36.68333333333333,
          54.06666666666667,
          31.65,
          31.116666666666667,
          27.866666666666667,
          28.383333333333333,
          29.166666666666668,
          26.566666666666666,
          32.36666666666667,
          31.483333333333334,
          26.65,
          37.416666666666664,
          30.133333333333333,
          29.483333333333334,
          35.5,
          36.38333333333333,
          35.166666666666664,
          30.65,
          31.55,
          40.05,
          22.4,
          31.566666666666666,
          27.916666666666668,
          31.266666666666666,
          38.85,
          41.516666666666666,
          33.03333333333333,
          29.6,
          34.1,
          27.783333333333335,
          28.233333333333334,
          37.266666666666666,
          39,
          29.916666666666668,
          26.083333333333332,
          27.116666666666667,
          41.583333333333336,
          32.93333333333333,
          29.833333333333332,
          32.05,
          30.95,
          26.5,
          31.033333333333335,
          30.016666666666666,
          34.46666666666667,
          24.716666666666665,
          33.63333333333333,
          46.21666666666667,
          31.65,
          38.35,
          26.666666666666668,
          25.366666666666667,
          34.13333333333333,
          25.6,
          35.483333333333334,
          33.516666666666666,
          23.666666666666668,
          25.016666666666666,
          31.233333333333334,
          32.55,
          30.783333333333335,
          35.483333333333334,
          33.46666666666667,
          32.166666666666664,
          39.666666666666664,
          22.216666666666665,
          31.633333333333333,
          31.8,
          30.25,
          28.033333333333335,
          35.083333333333336,
          30.083333333333332,
          31.283333333333335,
          44.5,
          35.583333333333336,
          46.45,
          46.333333333333336,
          36.016666666666666,
          46.93333333333333,
          35.56666666666667,
          33.2,
          32.46666666666667,
          37.8,
          38.016666666666666,
          26.416666666666668,
          35.916666666666664,
          24.9,
          27.016666666666666,
          33.28333333333333,
          29.583333333333332,
          32.233333333333334,
          41.5,
          28.916666666666668,
          31.7,
          31.016666666666666,
          32.06666666666667,
          40.916666666666664,
          32.65,
          31.533333333333335,
          32.7,
          32.4,
          28,
          28.066666666666666,
          27.6,
          39.983333333333334,
          39.983333333333334,
          36.78333333333333,
          30.866666666666667,
          35.13333333333333,
          29.466666666666665,
          30.683333333333334,
          37.68333333333333,
          25.383333333333333,
          32.55,
          35.13333333333333,
          28.9,
          31.216666666666665,
          30.066666666666666,
          39.583333333333336,
          29.866666666666667,
          34.78333333333333,
          27.083333333333332,
          35.266666666666666,
          29.583333333333332,
          30.416666666666668,
          26.9,
          31.516666666666666,
          35.3,
          29.35,
          28.433333333333334,
          42.016666666666666,
          31.516666666666666,
          40.53333333333333,
          31.25,
          31.283333333333335,
          29.95,
          30.483333333333334,
          26.066666666666666,
          24.35,
          37.916666666666664,
          42.93333333333333,
          29.05,
          34.05,
          34.833333333333336,
          35.6,
          36.53333333333333
         ],
         "y0": " ",
         "yaxis": "y"
        }
       ],
       "layout": {
        "boxmode": "group",
        "legend": {
         "tracegroupgap": 0
        },
        "margin": {
         "t": 60
        },
        "template": {
         "data": {
          "bar": [
           {
            "error_x": {
             "color": "#2a3f5f"
            },
            "error_y": {
             "color": "#2a3f5f"
            },
            "marker": {
             "line": {
              "color": "#E5ECF6",
              "width": 0.5
             },
             "pattern": {
              "fillmode": "overlay",
              "size": 10,
              "solidity": 0.2
             }
            },
            "type": "bar"
           }
          ],
          "barpolar": [
           {
            "marker": {
             "line": {
              "color": "#E5ECF6",
              "width": 0.5
             },
             "pattern": {
              "fillmode": "overlay",
              "size": 10,
              "solidity": 0.2
             }
            },
            "type": "barpolar"
           }
          ],
          "carpet": [
           {
            "aaxis": {
             "endlinecolor": "#2a3f5f",
             "gridcolor": "white",
             "linecolor": "white",
             "minorgridcolor": "white",
             "startlinecolor": "#2a3f5f"
            },
            "baxis": {
             "endlinecolor": "#2a3f5f",
             "gridcolor": "white",
             "linecolor": "white",
             "minorgridcolor": "white",
             "startlinecolor": "#2a3f5f"
            },
            "type": "carpet"
           }
          ],
          "choropleth": [
           {
            "colorbar": {
             "outlinewidth": 0,
             "ticks": ""
            },
            "type": "choropleth"
           }
          ],
          "contour": [
           {
            "colorbar": {
             "outlinewidth": 0,
             "ticks": ""
            },
            "colorscale": [
             [
              0,
              "#0d0887"
             ],
             [
              0.1111111111111111,
              "#46039f"
             ],
             [
              0.2222222222222222,
              "#7201a8"
             ],
             [
              0.3333333333333333,
              "#9c179e"
             ],
             [
              0.4444444444444444,
              "#bd3786"
             ],
             [
              0.5555555555555556,
              "#d8576b"
             ],
             [
              0.6666666666666666,
              "#ed7953"
             ],
             [
              0.7777777777777778,
              "#fb9f3a"
             ],
             [
              0.8888888888888888,
              "#fdca26"
             ],
             [
              1,
              "#f0f921"
             ]
            ],
            "type": "contour"
           }
          ],
          "contourcarpet": [
           {
            "colorbar": {
             "outlinewidth": 0,
             "ticks": ""
            },
            "type": "contourcarpet"
           }
          ],
          "heatmap": [
           {
            "colorbar": {
             "outlinewidth": 0,
             "ticks": ""
            },
            "colorscale": [
             [
              0,
              "#0d0887"
             ],
             [
              0.1111111111111111,
              "#46039f"
             ],
             [
              0.2222222222222222,
              "#7201a8"
             ],
             [
              0.3333333333333333,
              "#9c179e"
             ],
             [
              0.4444444444444444,
              "#bd3786"
             ],
             [
              0.5555555555555556,
              "#d8576b"
             ],
             [
              0.6666666666666666,
              "#ed7953"
             ],
             [
              0.7777777777777778,
              "#fb9f3a"
             ],
             [
              0.8888888888888888,
              "#fdca26"
             ],
             [
              1,
              "#f0f921"
             ]
            ],
            "type": "heatmap"
           }
          ],
          "heatmapgl": [
           {
            "colorbar": {
             "outlinewidth": 0,
             "ticks": ""
            },
            "colorscale": [
             [
              0,
              "#0d0887"
             ],
             [
              0.1111111111111111,
              "#46039f"
             ],
             [
              0.2222222222222222,
              "#7201a8"
             ],
             [
              0.3333333333333333,
              "#9c179e"
             ],
             [
              0.4444444444444444,
              "#bd3786"
             ],
             [
              0.5555555555555556,
              "#d8576b"
             ],
             [
              0.6666666666666666,
              "#ed7953"
             ],
             [
              0.7777777777777778,
              "#fb9f3a"
             ],
             [
              0.8888888888888888,
              "#fdca26"
             ],
             [
              1,
              "#f0f921"
             ]
            ],
            "type": "heatmapgl"
           }
          ],
          "histogram": [
           {
            "marker": {
             "pattern": {
              "fillmode": "overlay",
              "size": 10,
              "solidity": 0.2
             }
            },
            "type": "histogram"
           }
          ],
          "histogram2d": [
           {
            "colorbar": {
             "outlinewidth": 0,
             "ticks": ""
            },
            "colorscale": [
             [
              0,
              "#0d0887"
             ],
             [
              0.1111111111111111,
              "#46039f"
             ],
             [
              0.2222222222222222,
              "#7201a8"
             ],
             [
              0.3333333333333333,
              "#9c179e"
             ],
             [
              0.4444444444444444,
              "#bd3786"
             ],
             [
              0.5555555555555556,
              "#d8576b"
             ],
             [
              0.6666666666666666,
              "#ed7953"
             ],
             [
              0.7777777777777778,
              "#fb9f3a"
             ],
             [
              0.8888888888888888,
              "#fdca26"
             ],
             [
              1,
              "#f0f921"
             ]
            ],
            "type": "histogram2d"
           }
          ],
          "histogram2dcontour": [
           {
            "colorbar": {
             "outlinewidth": 0,
             "ticks": ""
            },
            "colorscale": [
             [
              0,
              "#0d0887"
             ],
             [
              0.1111111111111111,
              "#46039f"
             ],
             [
              0.2222222222222222,
              "#7201a8"
             ],
             [
              0.3333333333333333,
              "#9c179e"
             ],
             [
              0.4444444444444444,
              "#bd3786"
             ],
             [
              0.5555555555555556,
              "#d8576b"
             ],
             [
              0.6666666666666666,
              "#ed7953"
             ],
             [
              0.7777777777777778,
              "#fb9f3a"
             ],
             [
              0.8888888888888888,
              "#fdca26"
             ],
             [
              1,
              "#f0f921"
             ]
            ],
            "type": "histogram2dcontour"
           }
          ],
          "mesh3d": [
           {
            "colorbar": {
             "outlinewidth": 0,
             "ticks": ""
            },
            "type": "mesh3d"
           }
          ],
          "parcoords": [
           {
            "line": {
             "colorbar": {
              "outlinewidth": 0,
              "ticks": ""
             }
            },
            "type": "parcoords"
           }
          ],
          "pie": [
           {
            "automargin": true,
            "type": "pie"
           }
          ],
          "scatter": [
           {
            "fillpattern": {
             "fillmode": "overlay",
             "size": 10,
             "solidity": 0.2
            },
            "type": "scatter"
           }
          ],
          "scatter3d": [
           {
            "line": {
             "colorbar": {
              "outlinewidth": 0,
              "ticks": ""
             }
            },
            "marker": {
             "colorbar": {
              "outlinewidth": 0,
              "ticks": ""
             }
            },
            "type": "scatter3d"
           }
          ],
          "scattercarpet": [
           {
            "marker": {
             "colorbar": {
              "outlinewidth": 0,
              "ticks": ""
             }
            },
            "type": "scattercarpet"
           }
          ],
          "scattergeo": [
           {
            "marker": {
             "colorbar": {
              "outlinewidth": 0,
              "ticks": ""
             }
            },
            "type": "scattergeo"
           }
          ],
          "scattergl": [
           {
            "marker": {
             "colorbar": {
              "outlinewidth": 0,
              "ticks": ""
             }
            },
            "type": "scattergl"
           }
          ],
          "scattermapbox": [
           {
            "marker": {
             "colorbar": {
              "outlinewidth": 0,
              "ticks": ""
             }
            },
            "type": "scattermapbox"
           }
          ],
          "scatterpolar": [
           {
            "marker": {
             "colorbar": {
              "outlinewidth": 0,
              "ticks": ""
             }
            },
            "type": "scatterpolar"
           }
          ],
          "scatterpolargl": [
           {
            "marker": {
             "colorbar": {
              "outlinewidth": 0,
              "ticks": ""
             }
            },
            "type": "scatterpolargl"
           }
          ],
          "scatterternary": [
           {
            "marker": {
             "colorbar": {
              "outlinewidth": 0,
              "ticks": ""
             }
            },
            "type": "scatterternary"
           }
          ],
          "surface": [
           {
            "colorbar": {
             "outlinewidth": 0,
             "ticks": ""
            },
            "colorscale": [
             [
              0,
              "#0d0887"
             ],
             [
              0.1111111111111111,
              "#46039f"
             ],
             [
              0.2222222222222222,
              "#7201a8"
             ],
             [
              0.3333333333333333,
              "#9c179e"
             ],
             [
              0.4444444444444444,
              "#bd3786"
             ],
             [
              0.5555555555555556,
              "#d8576b"
             ],
             [
              0.6666666666666666,
              "#ed7953"
             ],
             [
              0.7777777777777778,
              "#fb9f3a"
             ],
             [
              0.8888888888888888,
              "#fdca26"
             ],
             [
              1,
              "#f0f921"
             ]
            ],
            "type": "surface"
           }
          ],
          "table": [
           {
            "cells": {
             "fill": {
              "color": "#EBF0F8"
             },
             "line": {
              "color": "white"
             }
            },
            "header": {
             "fill": {
              "color": "#C8D4E3"
             },
             "line": {
              "color": "white"
             }
            },
            "type": "table"
           }
          ]
         },
         "layout": {
          "annotationdefaults": {
           "arrowcolor": "#2a3f5f",
           "arrowhead": 0,
           "arrowwidth": 1
          },
          "autotypenumbers": "strict",
          "coloraxis": {
           "colorbar": {
            "outlinewidth": 0,
            "ticks": ""
           }
          },
          "colorscale": {
           "diverging": [
            [
             0,
             "#8e0152"
            ],
            [
             0.1,
             "#c51b7d"
            ],
            [
             0.2,
             "#de77ae"
            ],
            [
             0.3,
             "#f1b6da"
            ],
            [
             0.4,
             "#fde0ef"
            ],
            [
             0.5,
             "#f7f7f7"
            ],
            [
             0.6,
             "#e6f5d0"
            ],
            [
             0.7,
             "#b8e186"
            ],
            [
             0.8,
             "#7fbc41"
            ],
            [
             0.9,
             "#4d9221"
            ],
            [
             1,
             "#276419"
            ]
           ],
           "sequential": [
            [
             0,
             "#0d0887"
            ],
            [
             0.1111111111111111,
             "#46039f"
            ],
            [
             0.2222222222222222,
             "#7201a8"
            ],
            [
             0.3333333333333333,
             "#9c179e"
            ],
            [
             0.4444444444444444,
             "#bd3786"
            ],
            [
             0.5555555555555556,
             "#d8576b"
            ],
            [
             0.6666666666666666,
             "#ed7953"
            ],
            [
             0.7777777777777778,
             "#fb9f3a"
            ],
            [
             0.8888888888888888,
             "#fdca26"
            ],
            [
             1,
             "#f0f921"
            ]
           ],
           "sequentialminus": [
            [
             0,
             "#0d0887"
            ],
            [
             0.1111111111111111,
             "#46039f"
            ],
            [
             0.2222222222222222,
             "#7201a8"
            ],
            [
             0.3333333333333333,
             "#9c179e"
            ],
            [
             0.4444444444444444,
             "#bd3786"
            ],
            [
             0.5555555555555556,
             "#d8576b"
            ],
            [
             0.6666666666666666,
             "#ed7953"
            ],
            [
             0.7777777777777778,
             "#fb9f3a"
            ],
            [
             0.8888888888888888,
             "#fdca26"
            ],
            [
             1,
             "#f0f921"
            ]
           ]
          },
          "colorway": [
           "#636efa",
           "#EF553B",
           "#00cc96",
           "#ab63fa",
           "#FFA15A",
           "#19d3f3",
           "#FF6692",
           "#B6E880",
           "#FF97FF",
           "#FECB52"
          ],
          "font": {
           "color": "#2a3f5f"
          },
          "geo": {
           "bgcolor": "white",
           "lakecolor": "white",
           "landcolor": "#E5ECF6",
           "showlakes": true,
           "showland": true,
           "subunitcolor": "white"
          },
          "hoverlabel": {
           "align": "left"
          },
          "hovermode": "closest",
          "mapbox": {
           "style": "light"
          },
          "paper_bgcolor": "white",
          "plot_bgcolor": "#E5ECF6",
          "polar": {
           "angularaxis": {
            "gridcolor": "white",
            "linecolor": "white",
            "ticks": ""
           },
           "bgcolor": "#E5ECF6",
           "radialaxis": {
            "gridcolor": "white",
            "linecolor": "white",
            "ticks": ""
           }
          },
          "scene": {
           "xaxis": {
            "backgroundcolor": "#E5ECF6",
            "gridcolor": "white",
            "gridwidth": 2,
            "linecolor": "white",
            "showbackground": true,
            "ticks": "",
            "zerolinecolor": "white"
           },
           "yaxis": {
            "backgroundcolor": "#E5ECF6",
            "gridcolor": "white",
            "gridwidth": 2,
            "linecolor": "white",
            "showbackground": true,
            "ticks": "",
            "zerolinecolor": "white"
           },
           "zaxis": {
            "backgroundcolor": "#E5ECF6",
            "gridcolor": "white",
            "gridwidth": 2,
            "linecolor": "white",
            "showbackground": true,
            "ticks": "",
            "zerolinecolor": "white"
           }
          },
          "shapedefaults": {
           "line": {
            "color": "#2a3f5f"
           }
          },
          "ternary": {
           "aaxis": {
            "gridcolor": "white",
            "linecolor": "white",
            "ticks": ""
           },
           "baxis": {
            "gridcolor": "white",
            "linecolor": "white",
            "ticks": ""
           },
           "bgcolor": "#E5ECF6",
           "caxis": {
            "gridcolor": "white",
            "linecolor": "white",
            "ticks": ""
           }
          },
          "title": {
           "x": 0.05
          },
          "xaxis": {
           "automargin": true,
           "gridcolor": "white",
           "linecolor": "white",
           "ticks": "",
           "title": {
            "standoff": 15
           },
           "zerolinecolor": "white",
           "zerolinewidth": 2
          },
          "yaxis": {
           "automargin": true,
           "gridcolor": "white",
           "linecolor": "white",
           "ticks": "",
           "title": {
            "standoff": 15
           },
           "zerolinecolor": "white",
           "zerolinewidth": 2
          }
         }
        },
        "title": {
         "text": "Boxplot of Game Length in Each Tier 1 League"
        },
        "xaxis": {
         "anchor": "y",
         "domain": [
          0,
          1
         ],
         "title": {
          "text": "League"
         }
        },
        "yaxis": {
         "anchor": "x",
         "domain": [
          0,
          1
         ],
         "title": {
          "text": "Game Length (minutes)"
         }
        }
       }
      }
     },
     "metadata": {},
     "output_type": "display_data"
    }
   ],
   "source": [
    "games = tier1_player.groupby('gameid').first()\n",
    "games['gamelength'] = games['gamelength'] / 60\n",
    "fig3 = px.box(data_frame=games, x='league', y='gamelength')\n",
    "fig3.update_layout(title='Boxplot of Game Length in Each Tier 1 League',\n",
    "                   xaxis_title='League',\n",
    "                   yaxis_title='Game Length (minutes)')\n",
    "fig3.show()"
   ]
  },
  {
   "cell_type": "code",
   "execution_count": 82,
   "metadata": {},
   "outputs": [
    {
     "data": {
      "application/vnd.plotly.v1+json": {
       "config": {
        "plotlyServerURL": "https://plot.ly"
       },
       "data": [
        {
         "alignmentgroup": "True",
         "hovertemplate": "variable=gamelength<br>league=%{x}<br>value=%{y}<extra></extra>",
         "legendgroup": "gamelength",
         "marker": {
          "color": "#636efa",
          "pattern": {
           "shape": ""
          }
         },
         "name": "gamelength",
         "offsetgroup": "gamelength",
         "orientation": "v",
         "showlegend": true,
         "textposition": "auto",
         "type": "bar",
         "x": [
          "LCK",
          "LEC",
          "LLA",
          "LCS",
          "CBLOL",
          "LJL",
          "LPL",
          "PCS",
          "LCO",
          "VCS"
         ],
         "xaxis": "x",
         "y": [
          33.667701641684516,
          33.220987654320986,
          33.1590017825312,
          33.0264705882353,
          32.901440329218104,
          32.02951713395639,
          31.557400339270565,
          30.967220172201724,
          30.383176100628933,
          30.01599587203302
         ],
         "yaxis": "y"
        }
       ],
       "layout": {
        "barmode": "relative",
        "legend": {
         "title": {
          "text": "variable"
         },
         "tracegroupgap": 0
        },
        "margin": {
         "t": 60
        },
        "showlegend": false,
        "template": {
         "data": {
          "bar": [
           {
            "error_x": {
             "color": "#2a3f5f"
            },
            "error_y": {
             "color": "#2a3f5f"
            },
            "marker": {
             "line": {
              "color": "#E5ECF6",
              "width": 0.5
             },
             "pattern": {
              "fillmode": "overlay",
              "size": 10,
              "solidity": 0.2
             }
            },
            "type": "bar"
           }
          ],
          "barpolar": [
           {
            "marker": {
             "line": {
              "color": "#E5ECF6",
              "width": 0.5
             },
             "pattern": {
              "fillmode": "overlay",
              "size": 10,
              "solidity": 0.2
             }
            },
            "type": "barpolar"
           }
          ],
          "carpet": [
           {
            "aaxis": {
             "endlinecolor": "#2a3f5f",
             "gridcolor": "white",
             "linecolor": "white",
             "minorgridcolor": "white",
             "startlinecolor": "#2a3f5f"
            },
            "baxis": {
             "endlinecolor": "#2a3f5f",
             "gridcolor": "white",
             "linecolor": "white",
             "minorgridcolor": "white",
             "startlinecolor": "#2a3f5f"
            },
            "type": "carpet"
           }
          ],
          "choropleth": [
           {
            "colorbar": {
             "outlinewidth": 0,
             "ticks": ""
            },
            "type": "choropleth"
           }
          ],
          "contour": [
           {
            "colorbar": {
             "outlinewidth": 0,
             "ticks": ""
            },
            "colorscale": [
             [
              0,
              "#0d0887"
             ],
             [
              0.1111111111111111,
              "#46039f"
             ],
             [
              0.2222222222222222,
              "#7201a8"
             ],
             [
              0.3333333333333333,
              "#9c179e"
             ],
             [
              0.4444444444444444,
              "#bd3786"
             ],
             [
              0.5555555555555556,
              "#d8576b"
             ],
             [
              0.6666666666666666,
              "#ed7953"
             ],
             [
              0.7777777777777778,
              "#fb9f3a"
             ],
             [
              0.8888888888888888,
              "#fdca26"
             ],
             [
              1,
              "#f0f921"
             ]
            ],
            "type": "contour"
           }
          ],
          "contourcarpet": [
           {
            "colorbar": {
             "outlinewidth": 0,
             "ticks": ""
            },
            "type": "contourcarpet"
           }
          ],
          "heatmap": [
           {
            "colorbar": {
             "outlinewidth": 0,
             "ticks": ""
            },
            "colorscale": [
             [
              0,
              "#0d0887"
             ],
             [
              0.1111111111111111,
              "#46039f"
             ],
             [
              0.2222222222222222,
              "#7201a8"
             ],
             [
              0.3333333333333333,
              "#9c179e"
             ],
             [
              0.4444444444444444,
              "#bd3786"
             ],
             [
              0.5555555555555556,
              "#d8576b"
             ],
             [
              0.6666666666666666,
              "#ed7953"
             ],
             [
              0.7777777777777778,
              "#fb9f3a"
             ],
             [
              0.8888888888888888,
              "#fdca26"
             ],
             [
              1,
              "#f0f921"
             ]
            ],
            "type": "heatmap"
           }
          ],
          "heatmapgl": [
           {
            "colorbar": {
             "outlinewidth": 0,
             "ticks": ""
            },
            "colorscale": [
             [
              0,
              "#0d0887"
             ],
             [
              0.1111111111111111,
              "#46039f"
             ],
             [
              0.2222222222222222,
              "#7201a8"
             ],
             [
              0.3333333333333333,
              "#9c179e"
             ],
             [
              0.4444444444444444,
              "#bd3786"
             ],
             [
              0.5555555555555556,
              "#d8576b"
             ],
             [
              0.6666666666666666,
              "#ed7953"
             ],
             [
              0.7777777777777778,
              "#fb9f3a"
             ],
             [
              0.8888888888888888,
              "#fdca26"
             ],
             [
              1,
              "#f0f921"
             ]
            ],
            "type": "heatmapgl"
           }
          ],
          "histogram": [
           {
            "marker": {
             "pattern": {
              "fillmode": "overlay",
              "size": 10,
              "solidity": 0.2
             }
            },
            "type": "histogram"
           }
          ],
          "histogram2d": [
           {
            "colorbar": {
             "outlinewidth": 0,
             "ticks": ""
            },
            "colorscale": [
             [
              0,
              "#0d0887"
             ],
             [
              0.1111111111111111,
              "#46039f"
             ],
             [
              0.2222222222222222,
              "#7201a8"
             ],
             [
              0.3333333333333333,
              "#9c179e"
             ],
             [
              0.4444444444444444,
              "#bd3786"
             ],
             [
              0.5555555555555556,
              "#d8576b"
             ],
             [
              0.6666666666666666,
              "#ed7953"
             ],
             [
              0.7777777777777778,
              "#fb9f3a"
             ],
             [
              0.8888888888888888,
              "#fdca26"
             ],
             [
              1,
              "#f0f921"
             ]
            ],
            "type": "histogram2d"
           }
          ],
          "histogram2dcontour": [
           {
            "colorbar": {
             "outlinewidth": 0,
             "ticks": ""
            },
            "colorscale": [
             [
              0,
              "#0d0887"
             ],
             [
              0.1111111111111111,
              "#46039f"
             ],
             [
              0.2222222222222222,
              "#7201a8"
             ],
             [
              0.3333333333333333,
              "#9c179e"
             ],
             [
              0.4444444444444444,
              "#bd3786"
             ],
             [
              0.5555555555555556,
              "#d8576b"
             ],
             [
              0.6666666666666666,
              "#ed7953"
             ],
             [
              0.7777777777777778,
              "#fb9f3a"
             ],
             [
              0.8888888888888888,
              "#fdca26"
             ],
             [
              1,
              "#f0f921"
             ]
            ],
            "type": "histogram2dcontour"
           }
          ],
          "mesh3d": [
           {
            "colorbar": {
             "outlinewidth": 0,
             "ticks": ""
            },
            "type": "mesh3d"
           }
          ],
          "parcoords": [
           {
            "line": {
             "colorbar": {
              "outlinewidth": 0,
              "ticks": ""
             }
            },
            "type": "parcoords"
           }
          ],
          "pie": [
           {
            "automargin": true,
            "type": "pie"
           }
          ],
          "scatter": [
           {
            "fillpattern": {
             "fillmode": "overlay",
             "size": 10,
             "solidity": 0.2
            },
            "type": "scatter"
           }
          ],
          "scatter3d": [
           {
            "line": {
             "colorbar": {
              "outlinewidth": 0,
              "ticks": ""
             }
            },
            "marker": {
             "colorbar": {
              "outlinewidth": 0,
              "ticks": ""
             }
            },
            "type": "scatter3d"
           }
          ],
          "scattercarpet": [
           {
            "marker": {
             "colorbar": {
              "outlinewidth": 0,
              "ticks": ""
             }
            },
            "type": "scattercarpet"
           }
          ],
          "scattergeo": [
           {
            "marker": {
             "colorbar": {
              "outlinewidth": 0,
              "ticks": ""
             }
            },
            "type": "scattergeo"
           }
          ],
          "scattergl": [
           {
            "marker": {
             "colorbar": {
              "outlinewidth": 0,
              "ticks": ""
             }
            },
            "type": "scattergl"
           }
          ],
          "scattermapbox": [
           {
            "marker": {
             "colorbar": {
              "outlinewidth": 0,
              "ticks": ""
             }
            },
            "type": "scattermapbox"
           }
          ],
          "scatterpolar": [
           {
            "marker": {
             "colorbar": {
              "outlinewidth": 0,
              "ticks": ""
             }
            },
            "type": "scatterpolar"
           }
          ],
          "scatterpolargl": [
           {
            "marker": {
             "colorbar": {
              "outlinewidth": 0,
              "ticks": ""
             }
            },
            "type": "scatterpolargl"
           }
          ],
          "scatterternary": [
           {
            "marker": {
             "colorbar": {
              "outlinewidth": 0,
              "ticks": ""
             }
            },
            "type": "scatterternary"
           }
          ],
          "surface": [
           {
            "colorbar": {
             "outlinewidth": 0,
             "ticks": ""
            },
            "colorscale": [
             [
              0,
              "#0d0887"
             ],
             [
              0.1111111111111111,
              "#46039f"
             ],
             [
              0.2222222222222222,
              "#7201a8"
             ],
             [
              0.3333333333333333,
              "#9c179e"
             ],
             [
              0.4444444444444444,
              "#bd3786"
             ],
             [
              0.5555555555555556,
              "#d8576b"
             ],
             [
              0.6666666666666666,
              "#ed7953"
             ],
             [
              0.7777777777777778,
              "#fb9f3a"
             ],
             [
              0.8888888888888888,
              "#fdca26"
             ],
             [
              1,
              "#f0f921"
             ]
            ],
            "type": "surface"
           }
          ],
          "table": [
           {
            "cells": {
             "fill": {
              "color": "#EBF0F8"
             },
             "line": {
              "color": "white"
             }
            },
            "header": {
             "fill": {
              "color": "#C8D4E3"
             },
             "line": {
              "color": "white"
             }
            },
            "type": "table"
           }
          ]
         },
         "layout": {
          "annotationdefaults": {
           "arrowcolor": "#2a3f5f",
           "arrowhead": 0,
           "arrowwidth": 1
          },
          "autotypenumbers": "strict",
          "coloraxis": {
           "colorbar": {
            "outlinewidth": 0,
            "ticks": ""
           }
          },
          "colorscale": {
           "diverging": [
            [
             0,
             "#8e0152"
            ],
            [
             0.1,
             "#c51b7d"
            ],
            [
             0.2,
             "#de77ae"
            ],
            [
             0.3,
             "#f1b6da"
            ],
            [
             0.4,
             "#fde0ef"
            ],
            [
             0.5,
             "#f7f7f7"
            ],
            [
             0.6,
             "#e6f5d0"
            ],
            [
             0.7,
             "#b8e186"
            ],
            [
             0.8,
             "#7fbc41"
            ],
            [
             0.9,
             "#4d9221"
            ],
            [
             1,
             "#276419"
            ]
           ],
           "sequential": [
            [
             0,
             "#0d0887"
            ],
            [
             0.1111111111111111,
             "#46039f"
            ],
            [
             0.2222222222222222,
             "#7201a8"
            ],
            [
             0.3333333333333333,
             "#9c179e"
            ],
            [
             0.4444444444444444,
             "#bd3786"
            ],
            [
             0.5555555555555556,
             "#d8576b"
            ],
            [
             0.6666666666666666,
             "#ed7953"
            ],
            [
             0.7777777777777778,
             "#fb9f3a"
            ],
            [
             0.8888888888888888,
             "#fdca26"
            ],
            [
             1,
             "#f0f921"
            ]
           ],
           "sequentialminus": [
            [
             0,
             "#0d0887"
            ],
            [
             0.1111111111111111,
             "#46039f"
            ],
            [
             0.2222222222222222,
             "#7201a8"
            ],
            [
             0.3333333333333333,
             "#9c179e"
            ],
            [
             0.4444444444444444,
             "#bd3786"
            ],
            [
             0.5555555555555556,
             "#d8576b"
            ],
            [
             0.6666666666666666,
             "#ed7953"
            ],
            [
             0.7777777777777778,
             "#fb9f3a"
            ],
            [
             0.8888888888888888,
             "#fdca26"
            ],
            [
             1,
             "#f0f921"
            ]
           ]
          },
          "colorway": [
           "#636efa",
           "#EF553B",
           "#00cc96",
           "#ab63fa",
           "#FFA15A",
           "#19d3f3",
           "#FF6692",
           "#B6E880",
           "#FF97FF",
           "#FECB52"
          ],
          "font": {
           "color": "#2a3f5f"
          },
          "geo": {
           "bgcolor": "white",
           "lakecolor": "white",
           "landcolor": "#E5ECF6",
           "showlakes": true,
           "showland": true,
           "subunitcolor": "white"
          },
          "hoverlabel": {
           "align": "left"
          },
          "hovermode": "closest",
          "mapbox": {
           "style": "light"
          },
          "paper_bgcolor": "white",
          "plot_bgcolor": "#E5ECF6",
          "polar": {
           "angularaxis": {
            "gridcolor": "white",
            "linecolor": "white",
            "ticks": ""
           },
           "bgcolor": "#E5ECF6",
           "radialaxis": {
            "gridcolor": "white",
            "linecolor": "white",
            "ticks": ""
           }
          },
          "scene": {
           "xaxis": {
            "backgroundcolor": "#E5ECF6",
            "gridcolor": "white",
            "gridwidth": 2,
            "linecolor": "white",
            "showbackground": true,
            "ticks": "",
            "zerolinecolor": "white"
           },
           "yaxis": {
            "backgroundcolor": "#E5ECF6",
            "gridcolor": "white",
            "gridwidth": 2,
            "linecolor": "white",
            "showbackground": true,
            "ticks": "",
            "zerolinecolor": "white"
           },
           "zaxis": {
            "backgroundcolor": "#E5ECF6",
            "gridcolor": "white",
            "gridwidth": 2,
            "linecolor": "white",
            "showbackground": true,
            "ticks": "",
            "zerolinecolor": "white"
           }
          },
          "shapedefaults": {
           "line": {
            "color": "#2a3f5f"
           }
          },
          "ternary": {
           "aaxis": {
            "gridcolor": "white",
            "linecolor": "white",
            "ticks": ""
           },
           "baxis": {
            "gridcolor": "white",
            "linecolor": "white",
            "ticks": ""
           },
           "bgcolor": "#E5ECF6",
           "caxis": {
            "gridcolor": "white",
            "linecolor": "white",
            "ticks": ""
           }
          },
          "title": {
           "x": 0.05
          },
          "xaxis": {
           "automargin": true,
           "gridcolor": "white",
           "linecolor": "white",
           "ticks": "",
           "title": {
            "standoff": 15
           },
           "zerolinecolor": "white",
           "zerolinewidth": 2
          },
          "yaxis": {
           "automargin": true,
           "gridcolor": "white",
           "linecolor": "white",
           "ticks": "",
           "title": {
            "standoff": 15
           },
           "zerolinecolor": "white",
           "zerolinewidth": 2
          }
         }
        },
        "title": {
         "text": "Average Game Length in Each Tier 1 League"
        },
        "xaxis": {
         "anchor": "y",
         "domain": [
          0,
          1
         ],
         "title": {
          "text": "League"
         }
        },
        "yaxis": {
         "anchor": "x",
         "domain": [
          0,
          1
         ],
         "range": [
          0,
          40
         ],
         "title": {
          "text": "Average Game Length (minutes)"
         }
        }
       }
      }
     },
     "metadata": {},
     "output_type": "display_data"
    }
   ],
   "source": [
    "fig4 = games.groupby('league')['gamelength'].mean().sort_values(ascending=False).plot(kind='bar')\n",
    "fig4.update_layout(title='Average Game Length in Each Tier 1 League',\n",
    "                   xaxis_title='League',\n",
    "                   yaxis_title='Average Game Length (minutes)',\n",
    "                   yaxis_range=[0, 40], \n",
    "                   showlegend=False)\n",
    "fig4.show()"
   ]
  },
  {
   "cell_type": "markdown",
   "metadata": {},
   "source": [
    "#### Blue / Red Team Win Rate in Each Tier 1 League\n",
    "From the table and grouped barplot below, we can see that in most leagues (except LCS, LLA, and VCS), **the win rate of blue side is higher than the win rate of red side.** Especially in PCS, the difference of the win rates between blue and red sides is about 0.20, which is a significant amount that can affect the result of the game."
   ]
  },
  {
   "cell_type": "code",
   "execution_count": 83,
   "metadata": {},
   "outputs": [
    {
     "data": {
      "text/html": [
       "<div>\n",
       "<style scoped>\n",
       "    .dataframe tbody tr th:only-of-type {\n",
       "        vertical-align: middle;\n",
       "    }\n",
       "\n",
       "    .dataframe tbody tr th {\n",
       "        vertical-align: top;\n",
       "    }\n",
       "\n",
       "    .dataframe thead th {\n",
       "        text-align: right;\n",
       "    }\n",
       "</style>\n",
       "<table border=\"1\" class=\"dataframe\">\n",
       "  <thead>\n",
       "    <tr style=\"text-align: right;\">\n",
       "      <th>side</th>\n",
       "      <th>Blue</th>\n",
       "      <th>Red</th>\n",
       "    </tr>\n",
       "    <tr>\n",
       "      <th>league</th>\n",
       "      <th></th>\n",
       "      <th></th>\n",
       "    </tr>\n",
       "  </thead>\n",
       "  <tbody>\n",
       "    <tr>\n",
       "      <th>CBLOL</th>\n",
       "      <td>0.539095</td>\n",
       "      <td>0.460905</td>\n",
       "    </tr>\n",
       "    <tr>\n",
       "      <th>LCK</th>\n",
       "      <td>0.507495</td>\n",
       "      <td>0.492505</td>\n",
       "    </tr>\n",
       "    <tr>\n",
       "      <th>LCO</th>\n",
       "      <td>0.514151</td>\n",
       "      <td>0.485849</td>\n",
       "    </tr>\n",
       "    <tr>\n",
       "      <th>LCS</th>\n",
       "      <td>0.493464</td>\n",
       "      <td>0.506536</td>\n",
       "    </tr>\n",
       "    <tr>\n",
       "      <th>LEC</th>\n",
       "      <td>0.534979</td>\n",
       "      <td>0.465021</td>\n",
       "    </tr>\n",
       "    <tr>\n",
       "      <th>LJL</th>\n",
       "      <td>0.514019</td>\n",
       "      <td>0.485981</td>\n",
       "    </tr>\n",
       "    <tr>\n",
       "      <th>LLA</th>\n",
       "      <td>0.491979</td>\n",
       "      <td>0.508021</td>\n",
       "    </tr>\n",
       "    <tr>\n",
       "      <th>LPL</th>\n",
       "      <td>0.549618</td>\n",
       "      <td>0.450382</td>\n",
       "    </tr>\n",
       "    <tr>\n",
       "      <th>PCS</th>\n",
       "      <td>0.605166</td>\n",
       "      <td>0.394834</td>\n",
       "    </tr>\n",
       "    <tr>\n",
       "      <th>VCS</th>\n",
       "      <td>0.495356</td>\n",
       "      <td>0.504644</td>\n",
       "    </tr>\n",
       "  </tbody>\n",
       "</table>\n",
       "</div>"
      ],
      "text/plain": [
       "side        Blue       Red\n",
       "league                    \n",
       "CBLOL   0.539095  0.460905\n",
       "LCK     0.507495  0.492505\n",
       "LCO     0.514151  0.485849\n",
       "LCS     0.493464  0.506536\n",
       "LEC     0.534979  0.465021\n",
       "LJL     0.514019  0.485981\n",
       "LLA     0.491979  0.508021\n",
       "LPL     0.549618  0.450382\n",
       "PCS     0.605166  0.394834\n",
       "VCS     0.495356  0.504644"
      ]
     },
     "execution_count": 83,
     "metadata": {},
     "output_type": "execute_result"
    }
   ],
   "source": [
    "win_rate = tier1_team.groupby(['league', 'side']).mean()['result'].unstack()\n",
    "win_rate"
   ]
  },
  {
   "cell_type": "code",
   "execution_count": 84,
   "metadata": {},
   "outputs": [
    {
     "data": {
      "application/vnd.plotly.v1+json": {
       "config": {
        "plotlyServerURL": "https://plot.ly"
       },
       "data": [
        {
         "alignmentgroup": "True",
         "hovertemplate": "variable=Blue<br>league=%{x}<br>value=%{y}<extra></extra>",
         "legendgroup": "Blue",
         "marker": {
          "color": "#636efa",
          "pattern": {
           "shape": ""
          }
         },
         "name": "Blue",
         "offsetgroup": "Blue",
         "orientation": "v",
         "showlegend": true,
         "textposition": "auto",
         "type": "bar",
         "x": [
          "CBLOL",
          "LCK",
          "LCO",
          "LCS",
          "LEC",
          "LJL",
          "LLA",
          "LPL",
          "PCS",
          "VCS"
         ],
         "xaxis": "x",
         "y": [
          0.5390946502057613,
          0.5074946466809421,
          0.5141509433962265,
          0.4934640522875817,
          0.5349794238683128,
          0.514018691588785,
          0.4919786096256685,
          0.549618320610687,
          0.6051660516605166,
          0.4953560371517028
         ],
         "yaxis": "y"
        },
        {
         "alignmentgroup": "True",
         "hovertemplate": "variable=Red<br>league=%{x}<br>value=%{y}<extra></extra>",
         "legendgroup": "Red",
         "marker": {
          "color": "#EF553B",
          "pattern": {
           "shape": ""
          }
         },
         "name": "Red",
         "offsetgroup": "Red",
         "orientation": "v",
         "showlegend": true,
         "textposition": "auto",
         "type": "bar",
         "x": [
          "CBLOL",
          "LCK",
          "LCO",
          "LCS",
          "LEC",
          "LJL",
          "LLA",
          "LPL",
          "PCS",
          "VCS"
         ],
         "xaxis": "x",
         "y": [
          0.4609053497942387,
          0.4925053533190578,
          0.4858490566037736,
          0.5065359477124183,
          0.46502057613168724,
          0.48598130841121495,
          0.5080213903743316,
          0.45038167938931295,
          0.3948339483394834,
          0.5046439628482973
         ],
         "yaxis": "y"
        }
       ],
       "layout": {
        "barmode": "group",
        "legend": {
         "title": {
          "text": "Side"
         },
         "tracegroupgap": 0
        },
        "margin": {
         "t": 60
        },
        "template": {
         "data": {
          "bar": [
           {
            "error_x": {
             "color": "#2a3f5f"
            },
            "error_y": {
             "color": "#2a3f5f"
            },
            "marker": {
             "line": {
              "color": "#E5ECF6",
              "width": 0.5
             },
             "pattern": {
              "fillmode": "overlay",
              "size": 10,
              "solidity": 0.2
             }
            },
            "type": "bar"
           }
          ],
          "barpolar": [
           {
            "marker": {
             "line": {
              "color": "#E5ECF6",
              "width": 0.5
             },
             "pattern": {
              "fillmode": "overlay",
              "size": 10,
              "solidity": 0.2
             }
            },
            "type": "barpolar"
           }
          ],
          "carpet": [
           {
            "aaxis": {
             "endlinecolor": "#2a3f5f",
             "gridcolor": "white",
             "linecolor": "white",
             "minorgridcolor": "white",
             "startlinecolor": "#2a3f5f"
            },
            "baxis": {
             "endlinecolor": "#2a3f5f",
             "gridcolor": "white",
             "linecolor": "white",
             "minorgridcolor": "white",
             "startlinecolor": "#2a3f5f"
            },
            "type": "carpet"
           }
          ],
          "choropleth": [
           {
            "colorbar": {
             "outlinewidth": 0,
             "ticks": ""
            },
            "type": "choropleth"
           }
          ],
          "contour": [
           {
            "colorbar": {
             "outlinewidth": 0,
             "ticks": ""
            },
            "colorscale": [
             [
              0,
              "#0d0887"
             ],
             [
              0.1111111111111111,
              "#46039f"
             ],
             [
              0.2222222222222222,
              "#7201a8"
             ],
             [
              0.3333333333333333,
              "#9c179e"
             ],
             [
              0.4444444444444444,
              "#bd3786"
             ],
             [
              0.5555555555555556,
              "#d8576b"
             ],
             [
              0.6666666666666666,
              "#ed7953"
             ],
             [
              0.7777777777777778,
              "#fb9f3a"
             ],
             [
              0.8888888888888888,
              "#fdca26"
             ],
             [
              1,
              "#f0f921"
             ]
            ],
            "type": "contour"
           }
          ],
          "contourcarpet": [
           {
            "colorbar": {
             "outlinewidth": 0,
             "ticks": ""
            },
            "type": "contourcarpet"
           }
          ],
          "heatmap": [
           {
            "colorbar": {
             "outlinewidth": 0,
             "ticks": ""
            },
            "colorscale": [
             [
              0,
              "#0d0887"
             ],
             [
              0.1111111111111111,
              "#46039f"
             ],
             [
              0.2222222222222222,
              "#7201a8"
             ],
             [
              0.3333333333333333,
              "#9c179e"
             ],
             [
              0.4444444444444444,
              "#bd3786"
             ],
             [
              0.5555555555555556,
              "#d8576b"
             ],
             [
              0.6666666666666666,
              "#ed7953"
             ],
             [
              0.7777777777777778,
              "#fb9f3a"
             ],
             [
              0.8888888888888888,
              "#fdca26"
             ],
             [
              1,
              "#f0f921"
             ]
            ],
            "type": "heatmap"
           }
          ],
          "heatmapgl": [
           {
            "colorbar": {
             "outlinewidth": 0,
             "ticks": ""
            },
            "colorscale": [
             [
              0,
              "#0d0887"
             ],
             [
              0.1111111111111111,
              "#46039f"
             ],
             [
              0.2222222222222222,
              "#7201a8"
             ],
             [
              0.3333333333333333,
              "#9c179e"
             ],
             [
              0.4444444444444444,
              "#bd3786"
             ],
             [
              0.5555555555555556,
              "#d8576b"
             ],
             [
              0.6666666666666666,
              "#ed7953"
             ],
             [
              0.7777777777777778,
              "#fb9f3a"
             ],
             [
              0.8888888888888888,
              "#fdca26"
             ],
             [
              1,
              "#f0f921"
             ]
            ],
            "type": "heatmapgl"
           }
          ],
          "histogram": [
           {
            "marker": {
             "pattern": {
              "fillmode": "overlay",
              "size": 10,
              "solidity": 0.2
             }
            },
            "type": "histogram"
           }
          ],
          "histogram2d": [
           {
            "colorbar": {
             "outlinewidth": 0,
             "ticks": ""
            },
            "colorscale": [
             [
              0,
              "#0d0887"
             ],
             [
              0.1111111111111111,
              "#46039f"
             ],
             [
              0.2222222222222222,
              "#7201a8"
             ],
             [
              0.3333333333333333,
              "#9c179e"
             ],
             [
              0.4444444444444444,
              "#bd3786"
             ],
             [
              0.5555555555555556,
              "#d8576b"
             ],
             [
              0.6666666666666666,
              "#ed7953"
             ],
             [
              0.7777777777777778,
              "#fb9f3a"
             ],
             [
              0.8888888888888888,
              "#fdca26"
             ],
             [
              1,
              "#f0f921"
             ]
            ],
            "type": "histogram2d"
           }
          ],
          "histogram2dcontour": [
           {
            "colorbar": {
             "outlinewidth": 0,
             "ticks": ""
            },
            "colorscale": [
             [
              0,
              "#0d0887"
             ],
             [
              0.1111111111111111,
              "#46039f"
             ],
             [
              0.2222222222222222,
              "#7201a8"
             ],
             [
              0.3333333333333333,
              "#9c179e"
             ],
             [
              0.4444444444444444,
              "#bd3786"
             ],
             [
              0.5555555555555556,
              "#d8576b"
             ],
             [
              0.6666666666666666,
              "#ed7953"
             ],
             [
              0.7777777777777778,
              "#fb9f3a"
             ],
             [
              0.8888888888888888,
              "#fdca26"
             ],
             [
              1,
              "#f0f921"
             ]
            ],
            "type": "histogram2dcontour"
           }
          ],
          "mesh3d": [
           {
            "colorbar": {
             "outlinewidth": 0,
             "ticks": ""
            },
            "type": "mesh3d"
           }
          ],
          "parcoords": [
           {
            "line": {
             "colorbar": {
              "outlinewidth": 0,
              "ticks": ""
             }
            },
            "type": "parcoords"
           }
          ],
          "pie": [
           {
            "automargin": true,
            "type": "pie"
           }
          ],
          "scatter": [
           {
            "fillpattern": {
             "fillmode": "overlay",
             "size": 10,
             "solidity": 0.2
            },
            "type": "scatter"
           }
          ],
          "scatter3d": [
           {
            "line": {
             "colorbar": {
              "outlinewidth": 0,
              "ticks": ""
             }
            },
            "marker": {
             "colorbar": {
              "outlinewidth": 0,
              "ticks": ""
             }
            },
            "type": "scatter3d"
           }
          ],
          "scattercarpet": [
           {
            "marker": {
             "colorbar": {
              "outlinewidth": 0,
              "ticks": ""
             }
            },
            "type": "scattercarpet"
           }
          ],
          "scattergeo": [
           {
            "marker": {
             "colorbar": {
              "outlinewidth": 0,
              "ticks": ""
             }
            },
            "type": "scattergeo"
           }
          ],
          "scattergl": [
           {
            "marker": {
             "colorbar": {
              "outlinewidth": 0,
              "ticks": ""
             }
            },
            "type": "scattergl"
           }
          ],
          "scattermapbox": [
           {
            "marker": {
             "colorbar": {
              "outlinewidth": 0,
              "ticks": ""
             }
            },
            "type": "scattermapbox"
           }
          ],
          "scatterpolar": [
           {
            "marker": {
             "colorbar": {
              "outlinewidth": 0,
              "ticks": ""
             }
            },
            "type": "scatterpolar"
           }
          ],
          "scatterpolargl": [
           {
            "marker": {
             "colorbar": {
              "outlinewidth": 0,
              "ticks": ""
             }
            },
            "type": "scatterpolargl"
           }
          ],
          "scatterternary": [
           {
            "marker": {
             "colorbar": {
              "outlinewidth": 0,
              "ticks": ""
             }
            },
            "type": "scatterternary"
           }
          ],
          "surface": [
           {
            "colorbar": {
             "outlinewidth": 0,
             "ticks": ""
            },
            "colorscale": [
             [
              0,
              "#0d0887"
             ],
             [
              0.1111111111111111,
              "#46039f"
             ],
             [
              0.2222222222222222,
              "#7201a8"
             ],
             [
              0.3333333333333333,
              "#9c179e"
             ],
             [
              0.4444444444444444,
              "#bd3786"
             ],
             [
              0.5555555555555556,
              "#d8576b"
             ],
             [
              0.6666666666666666,
              "#ed7953"
             ],
             [
              0.7777777777777778,
              "#fb9f3a"
             ],
             [
              0.8888888888888888,
              "#fdca26"
             ],
             [
              1,
              "#f0f921"
             ]
            ],
            "type": "surface"
           }
          ],
          "table": [
           {
            "cells": {
             "fill": {
              "color": "#EBF0F8"
             },
             "line": {
              "color": "white"
             }
            },
            "header": {
             "fill": {
              "color": "#C8D4E3"
             },
             "line": {
              "color": "white"
             }
            },
            "type": "table"
           }
          ]
         },
         "layout": {
          "annotationdefaults": {
           "arrowcolor": "#2a3f5f",
           "arrowhead": 0,
           "arrowwidth": 1
          },
          "autotypenumbers": "strict",
          "coloraxis": {
           "colorbar": {
            "outlinewidth": 0,
            "ticks": ""
           }
          },
          "colorscale": {
           "diverging": [
            [
             0,
             "#8e0152"
            ],
            [
             0.1,
             "#c51b7d"
            ],
            [
             0.2,
             "#de77ae"
            ],
            [
             0.3,
             "#f1b6da"
            ],
            [
             0.4,
             "#fde0ef"
            ],
            [
             0.5,
             "#f7f7f7"
            ],
            [
             0.6,
             "#e6f5d0"
            ],
            [
             0.7,
             "#b8e186"
            ],
            [
             0.8,
             "#7fbc41"
            ],
            [
             0.9,
             "#4d9221"
            ],
            [
             1,
             "#276419"
            ]
           ],
           "sequential": [
            [
             0,
             "#0d0887"
            ],
            [
             0.1111111111111111,
             "#46039f"
            ],
            [
             0.2222222222222222,
             "#7201a8"
            ],
            [
             0.3333333333333333,
             "#9c179e"
            ],
            [
             0.4444444444444444,
             "#bd3786"
            ],
            [
             0.5555555555555556,
             "#d8576b"
            ],
            [
             0.6666666666666666,
             "#ed7953"
            ],
            [
             0.7777777777777778,
             "#fb9f3a"
            ],
            [
             0.8888888888888888,
             "#fdca26"
            ],
            [
             1,
             "#f0f921"
            ]
           ],
           "sequentialminus": [
            [
             0,
             "#0d0887"
            ],
            [
             0.1111111111111111,
             "#46039f"
            ],
            [
             0.2222222222222222,
             "#7201a8"
            ],
            [
             0.3333333333333333,
             "#9c179e"
            ],
            [
             0.4444444444444444,
             "#bd3786"
            ],
            [
             0.5555555555555556,
             "#d8576b"
            ],
            [
             0.6666666666666666,
             "#ed7953"
            ],
            [
             0.7777777777777778,
             "#fb9f3a"
            ],
            [
             0.8888888888888888,
             "#fdca26"
            ],
            [
             1,
             "#f0f921"
            ]
           ]
          },
          "colorway": [
           "#636efa",
           "#EF553B",
           "#00cc96",
           "#ab63fa",
           "#FFA15A",
           "#19d3f3",
           "#FF6692",
           "#B6E880",
           "#FF97FF",
           "#FECB52"
          ],
          "font": {
           "color": "#2a3f5f"
          },
          "geo": {
           "bgcolor": "white",
           "lakecolor": "white",
           "landcolor": "#E5ECF6",
           "showlakes": true,
           "showland": true,
           "subunitcolor": "white"
          },
          "hoverlabel": {
           "align": "left"
          },
          "hovermode": "closest",
          "mapbox": {
           "style": "light"
          },
          "paper_bgcolor": "white",
          "plot_bgcolor": "#E5ECF6",
          "polar": {
           "angularaxis": {
            "gridcolor": "white",
            "linecolor": "white",
            "ticks": ""
           },
           "bgcolor": "#E5ECF6",
           "radialaxis": {
            "gridcolor": "white",
            "linecolor": "white",
            "ticks": ""
           }
          },
          "scene": {
           "xaxis": {
            "backgroundcolor": "#E5ECF6",
            "gridcolor": "white",
            "gridwidth": 2,
            "linecolor": "white",
            "showbackground": true,
            "ticks": "",
            "zerolinecolor": "white"
           },
           "yaxis": {
            "backgroundcolor": "#E5ECF6",
            "gridcolor": "white",
            "gridwidth": 2,
            "linecolor": "white",
            "showbackground": true,
            "ticks": "",
            "zerolinecolor": "white"
           },
           "zaxis": {
            "backgroundcolor": "#E5ECF6",
            "gridcolor": "white",
            "gridwidth": 2,
            "linecolor": "white",
            "showbackground": true,
            "ticks": "",
            "zerolinecolor": "white"
           }
          },
          "shapedefaults": {
           "line": {
            "color": "#2a3f5f"
           }
          },
          "ternary": {
           "aaxis": {
            "gridcolor": "white",
            "linecolor": "white",
            "ticks": ""
           },
           "baxis": {
            "gridcolor": "white",
            "linecolor": "white",
            "ticks": ""
           },
           "bgcolor": "#E5ECF6",
           "caxis": {
            "gridcolor": "white",
            "linecolor": "white",
            "ticks": ""
           }
          },
          "title": {
           "x": 0.05
          },
          "xaxis": {
           "automargin": true,
           "gridcolor": "white",
           "linecolor": "white",
           "ticks": "",
           "title": {
            "standoff": 15
           },
           "zerolinecolor": "white",
           "zerolinewidth": 2
          },
          "yaxis": {
           "automargin": true,
           "gridcolor": "white",
           "linecolor": "white",
           "ticks": "",
           "title": {
            "standoff": 15
           },
           "zerolinecolor": "white",
           "zerolinewidth": 2
          }
         }
        },
        "title": {
         "text": "Blue / Red Team Win Rate in Each Tier 1 League"
        },
        "xaxis": {
         "anchor": "y",
         "domain": [
          0,
          1
         ],
         "title": {
          "text": "League"
         }
        },
        "yaxis": {
         "anchor": "x",
         "domain": [
          0,
          1
         ],
         "title": {
          "text": "Win Rate"
         }
        }
       }
      }
     },
     "metadata": {},
     "output_type": "display_data"
    }
   ],
   "source": [
    "fig5 = px.bar(win_rate, x=win_rate.index, y=['Blue', 'Red'], barmode='group')\n",
    "fig5.update_layout(title='Blue / Red Team Win Rate in Each Tier 1 League',\n",
    "                   xaxis_title='League',\n",
    "                   yaxis_title='Win Rate',\n",
    "                   legend_title='Side')\n",
    "fig5.show()"
   ]
  },
  {
   "cell_type": "markdown",
   "metadata": {},
   "source": [
    "### Interesting Aggregates"
   ]
  },
  {
   "cell_type": "markdown",
   "metadata": {},
   "source": [
    "#### Number of Games Played in Each Tier 1 League in 2022\n",
    "From the plot below, we can see that LPL has the most games played in 2022. This is because they had 17 teams with Single Round Robin and BO3(Best of three) in regular seasons. [(Source)](https://lol.fandom.com/wiki/LPL/2022_Season) The second largest is LCK, which had 10 teams with Double Round Robin and BO3 in regular seasons. [(Source)](https://lol.fandom.com/wiki/LCK/2022_Season)"
   ]
  },
  {
   "cell_type": "code",
   "execution_count": 85,
   "metadata": {},
   "outputs": [
    {
     "data": {
      "application/vnd.plotly.v1+json": {
       "config": {
        "plotlyServerURL": "https://plot.ly"
       },
       "data": [
        {
         "alignmentgroup": "True",
         "hovertemplate": "variable=league<br>index=%{x}<br>value=%{y}<extra></extra>",
         "legendgroup": "league",
         "marker": {
          "color": "#636efa",
          "pattern": {
           "shape": ""
          }
         },
         "name": "league",
         "offsetgroup": "league",
         "orientation": "v",
         "showlegend": true,
         "textposition": "auto",
         "type": "bar",
         "x": [
          "LPL",
          "LCK",
          "VCS",
          "LCS",
          "PCS",
          "LEC",
          "CBLOL",
          "LJL",
          "LCO",
          "LLA"
         ],
         "xaxis": "x",
         "y": [
          786,
          467,
          323,
          306,
          271,
          243,
          243,
          214,
          212,
          187
         ],
         "yaxis": "y"
        }
       ],
       "layout": {
        "barmode": "relative",
        "legend": {
         "title": {
          "text": "variable"
         },
         "tracegroupgap": 0
        },
        "margin": {
         "t": 60
        },
        "showlegend": false,
        "template": {
         "data": {
          "bar": [
           {
            "error_x": {
             "color": "#2a3f5f"
            },
            "error_y": {
             "color": "#2a3f5f"
            },
            "marker": {
             "line": {
              "color": "#E5ECF6",
              "width": 0.5
             },
             "pattern": {
              "fillmode": "overlay",
              "size": 10,
              "solidity": 0.2
             }
            },
            "type": "bar"
           }
          ],
          "barpolar": [
           {
            "marker": {
             "line": {
              "color": "#E5ECF6",
              "width": 0.5
             },
             "pattern": {
              "fillmode": "overlay",
              "size": 10,
              "solidity": 0.2
             }
            },
            "type": "barpolar"
           }
          ],
          "carpet": [
           {
            "aaxis": {
             "endlinecolor": "#2a3f5f",
             "gridcolor": "white",
             "linecolor": "white",
             "minorgridcolor": "white",
             "startlinecolor": "#2a3f5f"
            },
            "baxis": {
             "endlinecolor": "#2a3f5f",
             "gridcolor": "white",
             "linecolor": "white",
             "minorgridcolor": "white",
             "startlinecolor": "#2a3f5f"
            },
            "type": "carpet"
           }
          ],
          "choropleth": [
           {
            "colorbar": {
             "outlinewidth": 0,
             "ticks": ""
            },
            "type": "choropleth"
           }
          ],
          "contour": [
           {
            "colorbar": {
             "outlinewidth": 0,
             "ticks": ""
            },
            "colorscale": [
             [
              0,
              "#0d0887"
             ],
             [
              0.1111111111111111,
              "#46039f"
             ],
             [
              0.2222222222222222,
              "#7201a8"
             ],
             [
              0.3333333333333333,
              "#9c179e"
             ],
             [
              0.4444444444444444,
              "#bd3786"
             ],
             [
              0.5555555555555556,
              "#d8576b"
             ],
             [
              0.6666666666666666,
              "#ed7953"
             ],
             [
              0.7777777777777778,
              "#fb9f3a"
             ],
             [
              0.8888888888888888,
              "#fdca26"
             ],
             [
              1,
              "#f0f921"
             ]
            ],
            "type": "contour"
           }
          ],
          "contourcarpet": [
           {
            "colorbar": {
             "outlinewidth": 0,
             "ticks": ""
            },
            "type": "contourcarpet"
           }
          ],
          "heatmap": [
           {
            "colorbar": {
             "outlinewidth": 0,
             "ticks": ""
            },
            "colorscale": [
             [
              0,
              "#0d0887"
             ],
             [
              0.1111111111111111,
              "#46039f"
             ],
             [
              0.2222222222222222,
              "#7201a8"
             ],
             [
              0.3333333333333333,
              "#9c179e"
             ],
             [
              0.4444444444444444,
              "#bd3786"
             ],
             [
              0.5555555555555556,
              "#d8576b"
             ],
             [
              0.6666666666666666,
              "#ed7953"
             ],
             [
              0.7777777777777778,
              "#fb9f3a"
             ],
             [
              0.8888888888888888,
              "#fdca26"
             ],
             [
              1,
              "#f0f921"
             ]
            ],
            "type": "heatmap"
           }
          ],
          "heatmapgl": [
           {
            "colorbar": {
             "outlinewidth": 0,
             "ticks": ""
            },
            "colorscale": [
             [
              0,
              "#0d0887"
             ],
             [
              0.1111111111111111,
              "#46039f"
             ],
             [
              0.2222222222222222,
              "#7201a8"
             ],
             [
              0.3333333333333333,
              "#9c179e"
             ],
             [
              0.4444444444444444,
              "#bd3786"
             ],
             [
              0.5555555555555556,
              "#d8576b"
             ],
             [
              0.6666666666666666,
              "#ed7953"
             ],
             [
              0.7777777777777778,
              "#fb9f3a"
             ],
             [
              0.8888888888888888,
              "#fdca26"
             ],
             [
              1,
              "#f0f921"
             ]
            ],
            "type": "heatmapgl"
           }
          ],
          "histogram": [
           {
            "marker": {
             "pattern": {
              "fillmode": "overlay",
              "size": 10,
              "solidity": 0.2
             }
            },
            "type": "histogram"
           }
          ],
          "histogram2d": [
           {
            "colorbar": {
             "outlinewidth": 0,
             "ticks": ""
            },
            "colorscale": [
             [
              0,
              "#0d0887"
             ],
             [
              0.1111111111111111,
              "#46039f"
             ],
             [
              0.2222222222222222,
              "#7201a8"
             ],
             [
              0.3333333333333333,
              "#9c179e"
             ],
             [
              0.4444444444444444,
              "#bd3786"
             ],
             [
              0.5555555555555556,
              "#d8576b"
             ],
             [
              0.6666666666666666,
              "#ed7953"
             ],
             [
              0.7777777777777778,
              "#fb9f3a"
             ],
             [
              0.8888888888888888,
              "#fdca26"
             ],
             [
              1,
              "#f0f921"
             ]
            ],
            "type": "histogram2d"
           }
          ],
          "histogram2dcontour": [
           {
            "colorbar": {
             "outlinewidth": 0,
             "ticks": ""
            },
            "colorscale": [
             [
              0,
              "#0d0887"
             ],
             [
              0.1111111111111111,
              "#46039f"
             ],
             [
              0.2222222222222222,
              "#7201a8"
             ],
             [
              0.3333333333333333,
              "#9c179e"
             ],
             [
              0.4444444444444444,
              "#bd3786"
             ],
             [
              0.5555555555555556,
              "#d8576b"
             ],
             [
              0.6666666666666666,
              "#ed7953"
             ],
             [
              0.7777777777777778,
              "#fb9f3a"
             ],
             [
              0.8888888888888888,
              "#fdca26"
             ],
             [
              1,
              "#f0f921"
             ]
            ],
            "type": "histogram2dcontour"
           }
          ],
          "mesh3d": [
           {
            "colorbar": {
             "outlinewidth": 0,
             "ticks": ""
            },
            "type": "mesh3d"
           }
          ],
          "parcoords": [
           {
            "line": {
             "colorbar": {
              "outlinewidth": 0,
              "ticks": ""
             }
            },
            "type": "parcoords"
           }
          ],
          "pie": [
           {
            "automargin": true,
            "type": "pie"
           }
          ],
          "scatter": [
           {
            "fillpattern": {
             "fillmode": "overlay",
             "size": 10,
             "solidity": 0.2
            },
            "type": "scatter"
           }
          ],
          "scatter3d": [
           {
            "line": {
             "colorbar": {
              "outlinewidth": 0,
              "ticks": ""
             }
            },
            "marker": {
             "colorbar": {
              "outlinewidth": 0,
              "ticks": ""
             }
            },
            "type": "scatter3d"
           }
          ],
          "scattercarpet": [
           {
            "marker": {
             "colorbar": {
              "outlinewidth": 0,
              "ticks": ""
             }
            },
            "type": "scattercarpet"
           }
          ],
          "scattergeo": [
           {
            "marker": {
             "colorbar": {
              "outlinewidth": 0,
              "ticks": ""
             }
            },
            "type": "scattergeo"
           }
          ],
          "scattergl": [
           {
            "marker": {
             "colorbar": {
              "outlinewidth": 0,
              "ticks": ""
             }
            },
            "type": "scattergl"
           }
          ],
          "scattermapbox": [
           {
            "marker": {
             "colorbar": {
              "outlinewidth": 0,
              "ticks": ""
             }
            },
            "type": "scattermapbox"
           }
          ],
          "scatterpolar": [
           {
            "marker": {
             "colorbar": {
              "outlinewidth": 0,
              "ticks": ""
             }
            },
            "type": "scatterpolar"
           }
          ],
          "scatterpolargl": [
           {
            "marker": {
             "colorbar": {
              "outlinewidth": 0,
              "ticks": ""
             }
            },
            "type": "scatterpolargl"
           }
          ],
          "scatterternary": [
           {
            "marker": {
             "colorbar": {
              "outlinewidth": 0,
              "ticks": ""
             }
            },
            "type": "scatterternary"
           }
          ],
          "surface": [
           {
            "colorbar": {
             "outlinewidth": 0,
             "ticks": ""
            },
            "colorscale": [
             [
              0,
              "#0d0887"
             ],
             [
              0.1111111111111111,
              "#46039f"
             ],
             [
              0.2222222222222222,
              "#7201a8"
             ],
             [
              0.3333333333333333,
              "#9c179e"
             ],
             [
              0.4444444444444444,
              "#bd3786"
             ],
             [
              0.5555555555555556,
              "#d8576b"
             ],
             [
              0.6666666666666666,
              "#ed7953"
             ],
             [
              0.7777777777777778,
              "#fb9f3a"
             ],
             [
              0.8888888888888888,
              "#fdca26"
             ],
             [
              1,
              "#f0f921"
             ]
            ],
            "type": "surface"
           }
          ],
          "table": [
           {
            "cells": {
             "fill": {
              "color": "#EBF0F8"
             },
             "line": {
              "color": "white"
             }
            },
            "header": {
             "fill": {
              "color": "#C8D4E3"
             },
             "line": {
              "color": "white"
             }
            },
            "type": "table"
           }
          ]
         },
         "layout": {
          "annotationdefaults": {
           "arrowcolor": "#2a3f5f",
           "arrowhead": 0,
           "arrowwidth": 1
          },
          "autotypenumbers": "strict",
          "coloraxis": {
           "colorbar": {
            "outlinewidth": 0,
            "ticks": ""
           }
          },
          "colorscale": {
           "diverging": [
            [
             0,
             "#8e0152"
            ],
            [
             0.1,
             "#c51b7d"
            ],
            [
             0.2,
             "#de77ae"
            ],
            [
             0.3,
             "#f1b6da"
            ],
            [
             0.4,
             "#fde0ef"
            ],
            [
             0.5,
             "#f7f7f7"
            ],
            [
             0.6,
             "#e6f5d0"
            ],
            [
             0.7,
             "#b8e186"
            ],
            [
             0.8,
             "#7fbc41"
            ],
            [
             0.9,
             "#4d9221"
            ],
            [
             1,
             "#276419"
            ]
           ],
           "sequential": [
            [
             0,
             "#0d0887"
            ],
            [
             0.1111111111111111,
             "#46039f"
            ],
            [
             0.2222222222222222,
             "#7201a8"
            ],
            [
             0.3333333333333333,
             "#9c179e"
            ],
            [
             0.4444444444444444,
             "#bd3786"
            ],
            [
             0.5555555555555556,
             "#d8576b"
            ],
            [
             0.6666666666666666,
             "#ed7953"
            ],
            [
             0.7777777777777778,
             "#fb9f3a"
            ],
            [
             0.8888888888888888,
             "#fdca26"
            ],
            [
             1,
             "#f0f921"
            ]
           ],
           "sequentialminus": [
            [
             0,
             "#0d0887"
            ],
            [
             0.1111111111111111,
             "#46039f"
            ],
            [
             0.2222222222222222,
             "#7201a8"
            ],
            [
             0.3333333333333333,
             "#9c179e"
            ],
            [
             0.4444444444444444,
             "#bd3786"
            ],
            [
             0.5555555555555556,
             "#d8576b"
            ],
            [
             0.6666666666666666,
             "#ed7953"
            ],
            [
             0.7777777777777778,
             "#fb9f3a"
            ],
            [
             0.8888888888888888,
             "#fdca26"
            ],
            [
             1,
             "#f0f921"
            ]
           ]
          },
          "colorway": [
           "#636efa",
           "#EF553B",
           "#00cc96",
           "#ab63fa",
           "#FFA15A",
           "#19d3f3",
           "#FF6692",
           "#B6E880",
           "#FF97FF",
           "#FECB52"
          ],
          "font": {
           "color": "#2a3f5f"
          },
          "geo": {
           "bgcolor": "white",
           "lakecolor": "white",
           "landcolor": "#E5ECF6",
           "showlakes": true,
           "showland": true,
           "subunitcolor": "white"
          },
          "hoverlabel": {
           "align": "left"
          },
          "hovermode": "closest",
          "mapbox": {
           "style": "light"
          },
          "paper_bgcolor": "white",
          "plot_bgcolor": "#E5ECF6",
          "polar": {
           "angularaxis": {
            "gridcolor": "white",
            "linecolor": "white",
            "ticks": ""
           },
           "bgcolor": "#E5ECF6",
           "radialaxis": {
            "gridcolor": "white",
            "linecolor": "white",
            "ticks": ""
           }
          },
          "scene": {
           "xaxis": {
            "backgroundcolor": "#E5ECF6",
            "gridcolor": "white",
            "gridwidth": 2,
            "linecolor": "white",
            "showbackground": true,
            "ticks": "",
            "zerolinecolor": "white"
           },
           "yaxis": {
            "backgroundcolor": "#E5ECF6",
            "gridcolor": "white",
            "gridwidth": 2,
            "linecolor": "white",
            "showbackground": true,
            "ticks": "",
            "zerolinecolor": "white"
           },
           "zaxis": {
            "backgroundcolor": "#E5ECF6",
            "gridcolor": "white",
            "gridwidth": 2,
            "linecolor": "white",
            "showbackground": true,
            "ticks": "",
            "zerolinecolor": "white"
           }
          },
          "shapedefaults": {
           "line": {
            "color": "#2a3f5f"
           }
          },
          "ternary": {
           "aaxis": {
            "gridcolor": "white",
            "linecolor": "white",
            "ticks": ""
           },
           "baxis": {
            "gridcolor": "white",
            "linecolor": "white",
            "ticks": ""
           },
           "bgcolor": "#E5ECF6",
           "caxis": {
            "gridcolor": "white",
            "linecolor": "white",
            "ticks": ""
           }
          },
          "title": {
           "x": 0.05
          },
          "xaxis": {
           "automargin": true,
           "gridcolor": "white",
           "linecolor": "white",
           "ticks": "",
           "title": {
            "standoff": 15
           },
           "zerolinecolor": "white",
           "zerolinewidth": 2
          },
          "yaxis": {
           "automargin": true,
           "gridcolor": "white",
           "linecolor": "white",
           "ticks": "",
           "title": {
            "standoff": 15
           },
           "zerolinecolor": "white",
           "zerolinewidth": 2
          }
         }
        },
        "title": {
         "text": "Number of Games Played in Each Tier 1 League in 2022"
        },
        "xaxis": {
         "anchor": "y",
         "domain": [
          0,
          1
         ],
         "title": {
          "text": "League"
         }
        },
        "yaxis": {
         "anchor": "x",
         "domain": [
          0,
          1
         ],
         "title": {
          "text": "Number of games"
         }
        }
       }
      }
     },
     "metadata": {},
     "output_type": "display_data"
    }
   ],
   "source": [
    "fig6 = tier1_player.groupby('gameid').first()['league'].value_counts().plot(kind='bar')\n",
    "fig6.update_layout(title='Number of Games Played in Each Tier 1 League in 2022',\n",
    "                  xaxis_title='League',\n",
    "                  yaxis_title='Number of games',\n",
    "                  showlegend=False)\n",
    "fig6.show()"
   ]
  },
  {
   "cell_type": "markdown",
   "metadata": {},
   "source": [
    "#### Most Picked Champions in Each Position\n",
    "From the pivot table and the plot below, we can see the most played 10 picked champions in each position."
   ]
  },
  {
   "cell_type": "code",
   "execution_count": 86,
   "metadata": {},
   "outputs": [
    {
     "data": {
      "text/html": [
       "<div>\n",
       "<style scoped>\n",
       "    .dataframe tbody tr th:only-of-type {\n",
       "        vertical-align: middle;\n",
       "    }\n",
       "\n",
       "    .dataframe tbody tr th {\n",
       "        vertical-align: top;\n",
       "    }\n",
       "\n",
       "    .dataframe thead th {\n",
       "        text-align: right;\n",
       "    }\n",
       "</style>\n",
       "<table border=\"1\" class=\"dataframe\">\n",
       "  <thead>\n",
       "    <tr style=\"text-align: right;\">\n",
       "      <th>position</th>\n",
       "      <th>Top</th>\n",
       "      <th>Jungle</th>\n",
       "      <th>Mid</th>\n",
       "      <th>Bot</th>\n",
       "      <th>Support</th>\n",
       "    </tr>\n",
       "    <tr>\n",
       "      <th>champion</th>\n",
       "      <th></th>\n",
       "      <th></th>\n",
       "      <th></th>\n",
       "      <th></th>\n",
       "      <th></th>\n",
       "    </tr>\n",
       "  </thead>\n",
       "  <tbody>\n",
       "    <tr>\n",
       "      <th>Aatrox</th>\n",
       "      <td>224</td>\n",
       "      <td>0</td>\n",
       "      <td>1</td>\n",
       "      <td>0</td>\n",
       "      <td>0</td>\n",
       "    </tr>\n",
       "    <tr>\n",
       "      <th>Ahri</th>\n",
       "      <td>0</td>\n",
       "      <td>0</td>\n",
       "      <td>886</td>\n",
       "      <td>0</td>\n",
       "      <td>0</td>\n",
       "    </tr>\n",
       "    <tr>\n",
       "      <th>Akali</th>\n",
       "      <td>144</td>\n",
       "      <td>0</td>\n",
       "      <td>203</td>\n",
       "      <td>0</td>\n",
       "      <td>0</td>\n",
       "    </tr>\n",
       "    <tr>\n",
       "      <th>Akshan</th>\n",
       "      <td>21</td>\n",
       "      <td>0</td>\n",
       "      <td>2</td>\n",
       "      <td>0</td>\n",
       "      <td>0</td>\n",
       "    </tr>\n",
       "    <tr>\n",
       "      <th>Alistar</th>\n",
       "      <td>0</td>\n",
       "      <td>0</td>\n",
       "      <td>0</td>\n",
       "      <td>0</td>\n",
       "      <td>270</td>\n",
       "    </tr>\n",
       "    <tr>\n",
       "      <th>...</th>\n",
       "      <td>...</td>\n",
       "      <td>...</td>\n",
       "      <td>...</td>\n",
       "      <td>...</td>\n",
       "      <td>...</td>\n",
       "    </tr>\n",
       "    <tr>\n",
       "      <th>Zeri</th>\n",
       "      <td>2</td>\n",
       "      <td>0</td>\n",
       "      <td>2</td>\n",
       "      <td>818</td>\n",
       "      <td>0</td>\n",
       "    </tr>\n",
       "    <tr>\n",
       "      <th>Ziggs</th>\n",
       "      <td>0</td>\n",
       "      <td>0</td>\n",
       "      <td>5</td>\n",
       "      <td>38</td>\n",
       "      <td>0</td>\n",
       "    </tr>\n",
       "    <tr>\n",
       "      <th>Zilean</th>\n",
       "      <td>5</td>\n",
       "      <td>0</td>\n",
       "      <td>40</td>\n",
       "      <td>0</td>\n",
       "      <td>35</td>\n",
       "    </tr>\n",
       "    <tr>\n",
       "      <th>Zoe</th>\n",
       "      <td>0</td>\n",
       "      <td>0</td>\n",
       "      <td>147</td>\n",
       "      <td>0</td>\n",
       "      <td>0</td>\n",
       "    </tr>\n",
       "    <tr>\n",
       "      <th>Zyra</th>\n",
       "      <td>0</td>\n",
       "      <td>0</td>\n",
       "      <td>0</td>\n",
       "      <td>0</td>\n",
       "      <td>2</td>\n",
       "    </tr>\n",
       "  </tbody>\n",
       "</table>\n",
       "<p>152 rows × 5 columns</p>\n",
       "</div>"
      ],
      "text/plain": [
       "position  Top  Jungle  Mid  Bot  Support\n",
       "champion                                \n",
       "Aatrox    224       0    1    0        0\n",
       "Ahri        0       0  886    0        0\n",
       "Akali     144       0  203    0        0\n",
       "Akshan     21       0    2    0        0\n",
       "Alistar     0       0    0    0      270\n",
       "...       ...     ...  ...  ...      ...\n",
       "Zeri        2       0    2  818        0\n",
       "Ziggs       0       0    5   38        0\n",
       "Zilean      5       0   40    0       35\n",
       "Zoe         0       0  147    0        0\n",
       "Zyra        0       0    0    0        2\n",
       "\n",
       "[152 rows x 5 columns]"
      ]
     },
     "execution_count": 86,
     "metadata": {},
     "output_type": "execute_result"
    }
   ],
   "source": [
    "champ_picked = tier1_player.pivot_table(index='position', columns='champion', aggfunc='size', fill_value=0).T\n",
    "champ_picked = (champ_picked.reindex(columns=['top', 'jng', 'mid', 'bot', 'sup'])\n",
    "                .rename(columns={'top': 'Top', 'jng': 'Jungle', 'mid': 'Mid', 'bot': 'Bot', 'sup': 'Support'})\n",
    "                )\n",
    "champ_picked"
   ]
  },
  {
   "cell_type": "code",
   "execution_count": 87,
   "metadata": {},
   "outputs": [
    {
     "data": {
      "application/vnd.plotly.v1+json": {
       "config": {
        "plotlyServerURL": "https://plot.ly"
       },
       "data": [
        {
         "alignmentgroup": "True",
         "hovertemplate": "variable=Top<br>champion=%{x}<br>value=%{y}<extra></extra>",
         "legendgroup": "Top",
         "marker": {
          "color": "#636efa",
          "pattern": {
           "shape": ""
          }
         },
         "name": "Top",
         "offsetgroup": "Top",
         "orientation": "v",
         "showlegend": true,
         "textposition": "auto",
         "type": "bar",
         "x": [
          "Gnar",
          "Gwen",
          "Ornn",
          "Gragas",
          "Jayce",
          "Graves",
          "Gangplank",
          "Sejuani",
          "Camille",
          "Renekton"
         ],
         "xaxis": "x",
         "y": [
          982,
          811,
          389,
          373,
          365,
          353,
          345,
          312,
          311,
          304
         ],
         "yaxis": "y"
        }
       ],
       "layout": {
        "barmode": "relative",
        "legend": {
         "title": {
          "text": "variable"
         },
         "tracegroupgap": 0
        },
        "showlegend": false,
        "template": {
         "data": {
          "bar": [
           {
            "error_x": {
             "color": "#2a3f5f"
            },
            "error_y": {
             "color": "#2a3f5f"
            },
            "marker": {
             "line": {
              "color": "#E5ECF6",
              "width": 0.5
             },
             "pattern": {
              "fillmode": "overlay",
              "size": 10,
              "solidity": 0.2
             }
            },
            "type": "bar"
           }
          ],
          "barpolar": [
           {
            "marker": {
             "line": {
              "color": "#E5ECF6",
              "width": 0.5
             },
             "pattern": {
              "fillmode": "overlay",
              "size": 10,
              "solidity": 0.2
             }
            },
            "type": "barpolar"
           }
          ],
          "carpet": [
           {
            "aaxis": {
             "endlinecolor": "#2a3f5f",
             "gridcolor": "white",
             "linecolor": "white",
             "minorgridcolor": "white",
             "startlinecolor": "#2a3f5f"
            },
            "baxis": {
             "endlinecolor": "#2a3f5f",
             "gridcolor": "white",
             "linecolor": "white",
             "minorgridcolor": "white",
             "startlinecolor": "#2a3f5f"
            },
            "type": "carpet"
           }
          ],
          "choropleth": [
           {
            "colorbar": {
             "outlinewidth": 0,
             "ticks": ""
            },
            "type": "choropleth"
           }
          ],
          "contour": [
           {
            "colorbar": {
             "outlinewidth": 0,
             "ticks": ""
            },
            "colorscale": [
             [
              0,
              "#0d0887"
             ],
             [
              0.1111111111111111,
              "#46039f"
             ],
             [
              0.2222222222222222,
              "#7201a8"
             ],
             [
              0.3333333333333333,
              "#9c179e"
             ],
             [
              0.4444444444444444,
              "#bd3786"
             ],
             [
              0.5555555555555556,
              "#d8576b"
             ],
             [
              0.6666666666666666,
              "#ed7953"
             ],
             [
              0.7777777777777778,
              "#fb9f3a"
             ],
             [
              0.8888888888888888,
              "#fdca26"
             ],
             [
              1,
              "#f0f921"
             ]
            ],
            "type": "contour"
           }
          ],
          "contourcarpet": [
           {
            "colorbar": {
             "outlinewidth": 0,
             "ticks": ""
            },
            "type": "contourcarpet"
           }
          ],
          "heatmap": [
           {
            "colorbar": {
             "outlinewidth": 0,
             "ticks": ""
            },
            "colorscale": [
             [
              0,
              "#0d0887"
             ],
             [
              0.1111111111111111,
              "#46039f"
             ],
             [
              0.2222222222222222,
              "#7201a8"
             ],
             [
              0.3333333333333333,
              "#9c179e"
             ],
             [
              0.4444444444444444,
              "#bd3786"
             ],
             [
              0.5555555555555556,
              "#d8576b"
             ],
             [
              0.6666666666666666,
              "#ed7953"
             ],
             [
              0.7777777777777778,
              "#fb9f3a"
             ],
             [
              0.8888888888888888,
              "#fdca26"
             ],
             [
              1,
              "#f0f921"
             ]
            ],
            "type": "heatmap"
           }
          ],
          "heatmapgl": [
           {
            "colorbar": {
             "outlinewidth": 0,
             "ticks": ""
            },
            "colorscale": [
             [
              0,
              "#0d0887"
             ],
             [
              0.1111111111111111,
              "#46039f"
             ],
             [
              0.2222222222222222,
              "#7201a8"
             ],
             [
              0.3333333333333333,
              "#9c179e"
             ],
             [
              0.4444444444444444,
              "#bd3786"
             ],
             [
              0.5555555555555556,
              "#d8576b"
             ],
             [
              0.6666666666666666,
              "#ed7953"
             ],
             [
              0.7777777777777778,
              "#fb9f3a"
             ],
             [
              0.8888888888888888,
              "#fdca26"
             ],
             [
              1,
              "#f0f921"
             ]
            ],
            "type": "heatmapgl"
           }
          ],
          "histogram": [
           {
            "marker": {
             "pattern": {
              "fillmode": "overlay",
              "size": 10,
              "solidity": 0.2
             }
            },
            "type": "histogram"
           }
          ],
          "histogram2d": [
           {
            "colorbar": {
             "outlinewidth": 0,
             "ticks": ""
            },
            "colorscale": [
             [
              0,
              "#0d0887"
             ],
             [
              0.1111111111111111,
              "#46039f"
             ],
             [
              0.2222222222222222,
              "#7201a8"
             ],
             [
              0.3333333333333333,
              "#9c179e"
             ],
             [
              0.4444444444444444,
              "#bd3786"
             ],
             [
              0.5555555555555556,
              "#d8576b"
             ],
             [
              0.6666666666666666,
              "#ed7953"
             ],
             [
              0.7777777777777778,
              "#fb9f3a"
             ],
             [
              0.8888888888888888,
              "#fdca26"
             ],
             [
              1,
              "#f0f921"
             ]
            ],
            "type": "histogram2d"
           }
          ],
          "histogram2dcontour": [
           {
            "colorbar": {
             "outlinewidth": 0,
             "ticks": ""
            },
            "colorscale": [
             [
              0,
              "#0d0887"
             ],
             [
              0.1111111111111111,
              "#46039f"
             ],
             [
              0.2222222222222222,
              "#7201a8"
             ],
             [
              0.3333333333333333,
              "#9c179e"
             ],
             [
              0.4444444444444444,
              "#bd3786"
             ],
             [
              0.5555555555555556,
              "#d8576b"
             ],
             [
              0.6666666666666666,
              "#ed7953"
             ],
             [
              0.7777777777777778,
              "#fb9f3a"
             ],
             [
              0.8888888888888888,
              "#fdca26"
             ],
             [
              1,
              "#f0f921"
             ]
            ],
            "type": "histogram2dcontour"
           }
          ],
          "mesh3d": [
           {
            "colorbar": {
             "outlinewidth": 0,
             "ticks": ""
            },
            "type": "mesh3d"
           }
          ],
          "parcoords": [
           {
            "line": {
             "colorbar": {
              "outlinewidth": 0,
              "ticks": ""
             }
            },
            "type": "parcoords"
           }
          ],
          "pie": [
           {
            "automargin": true,
            "type": "pie"
           }
          ],
          "scatter": [
           {
            "fillpattern": {
             "fillmode": "overlay",
             "size": 10,
             "solidity": 0.2
            },
            "type": "scatter"
           }
          ],
          "scatter3d": [
           {
            "line": {
             "colorbar": {
              "outlinewidth": 0,
              "ticks": ""
             }
            },
            "marker": {
             "colorbar": {
              "outlinewidth": 0,
              "ticks": ""
             }
            },
            "type": "scatter3d"
           }
          ],
          "scattercarpet": [
           {
            "marker": {
             "colorbar": {
              "outlinewidth": 0,
              "ticks": ""
             }
            },
            "type": "scattercarpet"
           }
          ],
          "scattergeo": [
           {
            "marker": {
             "colorbar": {
              "outlinewidth": 0,
              "ticks": ""
             }
            },
            "type": "scattergeo"
           }
          ],
          "scattergl": [
           {
            "marker": {
             "colorbar": {
              "outlinewidth": 0,
              "ticks": ""
             }
            },
            "type": "scattergl"
           }
          ],
          "scattermapbox": [
           {
            "marker": {
             "colorbar": {
              "outlinewidth": 0,
              "ticks": ""
             }
            },
            "type": "scattermapbox"
           }
          ],
          "scatterpolar": [
           {
            "marker": {
             "colorbar": {
              "outlinewidth": 0,
              "ticks": ""
             }
            },
            "type": "scatterpolar"
           }
          ],
          "scatterpolargl": [
           {
            "marker": {
             "colorbar": {
              "outlinewidth": 0,
              "ticks": ""
             }
            },
            "type": "scatterpolargl"
           }
          ],
          "scatterternary": [
           {
            "marker": {
             "colorbar": {
              "outlinewidth": 0,
              "ticks": ""
             }
            },
            "type": "scatterternary"
           }
          ],
          "surface": [
           {
            "colorbar": {
             "outlinewidth": 0,
             "ticks": ""
            },
            "colorscale": [
             [
              0,
              "#0d0887"
             ],
             [
              0.1111111111111111,
              "#46039f"
             ],
             [
              0.2222222222222222,
              "#7201a8"
             ],
             [
              0.3333333333333333,
              "#9c179e"
             ],
             [
              0.4444444444444444,
              "#bd3786"
             ],
             [
              0.5555555555555556,
              "#d8576b"
             ],
             [
              0.6666666666666666,
              "#ed7953"
             ],
             [
              0.7777777777777778,
              "#fb9f3a"
             ],
             [
              0.8888888888888888,
              "#fdca26"
             ],
             [
              1,
              "#f0f921"
             ]
            ],
            "type": "surface"
           }
          ],
          "table": [
           {
            "cells": {
             "fill": {
              "color": "#EBF0F8"
             },
             "line": {
              "color": "white"
             }
            },
            "header": {
             "fill": {
              "color": "#C8D4E3"
             },
             "line": {
              "color": "white"
             }
            },
            "type": "table"
           }
          ]
         },
         "layout": {
          "annotationdefaults": {
           "arrowcolor": "#2a3f5f",
           "arrowhead": 0,
           "arrowwidth": 1
          },
          "autotypenumbers": "strict",
          "coloraxis": {
           "colorbar": {
            "outlinewidth": 0,
            "ticks": ""
           }
          },
          "colorscale": {
           "diverging": [
            [
             0,
             "#8e0152"
            ],
            [
             0.1,
             "#c51b7d"
            ],
            [
             0.2,
             "#de77ae"
            ],
            [
             0.3,
             "#f1b6da"
            ],
            [
             0.4,
             "#fde0ef"
            ],
            [
             0.5,
             "#f7f7f7"
            ],
            [
             0.6,
             "#e6f5d0"
            ],
            [
             0.7,
             "#b8e186"
            ],
            [
             0.8,
             "#7fbc41"
            ],
            [
             0.9,
             "#4d9221"
            ],
            [
             1,
             "#276419"
            ]
           ],
           "sequential": [
            [
             0,
             "#0d0887"
            ],
            [
             0.1111111111111111,
             "#46039f"
            ],
            [
             0.2222222222222222,
             "#7201a8"
            ],
            [
             0.3333333333333333,
             "#9c179e"
            ],
            [
             0.4444444444444444,
             "#bd3786"
            ],
            [
             0.5555555555555556,
             "#d8576b"
            ],
            [
             0.6666666666666666,
             "#ed7953"
            ],
            [
             0.7777777777777778,
             "#fb9f3a"
            ],
            [
             0.8888888888888888,
             "#fdca26"
            ],
            [
             1,
             "#f0f921"
            ]
           ],
           "sequentialminus": [
            [
             0,
             "#0d0887"
            ],
            [
             0.1111111111111111,
             "#46039f"
            ],
            [
             0.2222222222222222,
             "#7201a8"
            ],
            [
             0.3333333333333333,
             "#9c179e"
            ],
            [
             0.4444444444444444,
             "#bd3786"
            ],
            [
             0.5555555555555556,
             "#d8576b"
            ],
            [
             0.6666666666666666,
             "#ed7953"
            ],
            [
             0.7777777777777778,
             "#fb9f3a"
            ],
            [
             0.8888888888888888,
             "#fdca26"
            ],
            [
             1,
             "#f0f921"
            ]
           ]
          },
          "colorway": [
           "#636efa",
           "#EF553B",
           "#00cc96",
           "#ab63fa",
           "#FFA15A",
           "#19d3f3",
           "#FF6692",
           "#B6E880",
           "#FF97FF",
           "#FECB52"
          ],
          "font": {
           "color": "#2a3f5f"
          },
          "geo": {
           "bgcolor": "white",
           "lakecolor": "white",
           "landcolor": "#E5ECF6",
           "showlakes": true,
           "showland": true,
           "subunitcolor": "white"
          },
          "hoverlabel": {
           "align": "left"
          },
          "hovermode": "closest",
          "mapbox": {
           "style": "light"
          },
          "paper_bgcolor": "white",
          "plot_bgcolor": "#E5ECF6",
          "polar": {
           "angularaxis": {
            "gridcolor": "white",
            "linecolor": "white",
            "ticks": ""
           },
           "bgcolor": "#E5ECF6",
           "radialaxis": {
            "gridcolor": "white",
            "linecolor": "white",
            "ticks": ""
           }
          },
          "scene": {
           "xaxis": {
            "backgroundcolor": "#E5ECF6",
            "gridcolor": "white",
            "gridwidth": 2,
            "linecolor": "white",
            "showbackground": true,
            "ticks": "",
            "zerolinecolor": "white"
           },
           "yaxis": {
            "backgroundcolor": "#E5ECF6",
            "gridcolor": "white",
            "gridwidth": 2,
            "linecolor": "white",
            "showbackground": true,
            "ticks": "",
            "zerolinecolor": "white"
           },
           "zaxis": {
            "backgroundcolor": "#E5ECF6",
            "gridcolor": "white",
            "gridwidth": 2,
            "linecolor": "white",
            "showbackground": true,
            "ticks": "",
            "zerolinecolor": "white"
           }
          },
          "shapedefaults": {
           "line": {
            "color": "#2a3f5f"
           }
          },
          "ternary": {
           "aaxis": {
            "gridcolor": "white",
            "linecolor": "white",
            "ticks": ""
           },
           "baxis": {
            "gridcolor": "white",
            "linecolor": "white",
            "ticks": ""
           },
           "bgcolor": "#E5ECF6",
           "caxis": {
            "gridcolor": "white",
            "linecolor": "white",
            "ticks": ""
           }
          },
          "title": {
           "x": 0.05
          },
          "xaxis": {
           "automargin": true,
           "gridcolor": "white",
           "linecolor": "white",
           "ticks": "",
           "title": {
            "standoff": 15
           },
           "zerolinecolor": "white",
           "zerolinewidth": 2
          },
          "yaxis": {
           "automargin": true,
           "gridcolor": "white",
           "linecolor": "white",
           "ticks": "",
           "title": {
            "standoff": 15
           },
           "zerolinecolor": "white",
           "zerolinewidth": 2
          }
         }
        },
        "title": {
         "text": "Most Picked 10 Champions in Top"
        },
        "xaxis": {
         "anchor": "y",
         "domain": [
          0,
          1
         ],
         "title": {
          "text": "Champion"
         }
        },
        "yaxis": {
         "anchor": "x",
         "domain": [
          0,
          1
         ],
         "title": {
          "text": "Number of picks"
         }
        }
       }
      }
     },
     "metadata": {},
     "output_type": "display_data"
    },
    {
     "data": {
      "application/vnd.plotly.v1+json": {
       "config": {
        "plotlyServerURL": "https://plot.ly"
       },
       "data": [
        {
         "alignmentgroup": "True",
         "hovertemplate": "variable=Jungle<br>champion=%{x}<br>value=%{y}<extra></extra>",
         "legendgroup": "Jungle",
         "marker": {
          "color": "#636efa",
          "pattern": {
           "shape": ""
          }
         },
         "name": "Jungle",
         "offsetgroup": "Jungle",
         "orientation": "v",
         "showlegend": true,
         "textposition": "auto",
         "type": "bar",
         "x": [
          "Viego",
          "Lee Sin",
          "Xin Zhao",
          "Wukong",
          "Trundle",
          "Poppy",
          "Hecarim",
          "Volibear",
          "Jarvan IV",
          "Vi"
         ],
         "xaxis": "x",
         "y": [
          1033,
          915,
          771,
          721,
          465,
          392,
          374,
          364,
          335,
          233
         ],
         "yaxis": "y"
        }
       ],
       "layout": {
        "barmode": "relative",
        "legend": {
         "title": {
          "text": "variable"
         },
         "tracegroupgap": 0
        },
        "showlegend": false,
        "template": {
         "data": {
          "bar": [
           {
            "error_x": {
             "color": "#2a3f5f"
            },
            "error_y": {
             "color": "#2a3f5f"
            },
            "marker": {
             "line": {
              "color": "#E5ECF6",
              "width": 0.5
             },
             "pattern": {
              "fillmode": "overlay",
              "size": 10,
              "solidity": 0.2
             }
            },
            "type": "bar"
           }
          ],
          "barpolar": [
           {
            "marker": {
             "line": {
              "color": "#E5ECF6",
              "width": 0.5
             },
             "pattern": {
              "fillmode": "overlay",
              "size": 10,
              "solidity": 0.2
             }
            },
            "type": "barpolar"
           }
          ],
          "carpet": [
           {
            "aaxis": {
             "endlinecolor": "#2a3f5f",
             "gridcolor": "white",
             "linecolor": "white",
             "minorgridcolor": "white",
             "startlinecolor": "#2a3f5f"
            },
            "baxis": {
             "endlinecolor": "#2a3f5f",
             "gridcolor": "white",
             "linecolor": "white",
             "minorgridcolor": "white",
             "startlinecolor": "#2a3f5f"
            },
            "type": "carpet"
           }
          ],
          "choropleth": [
           {
            "colorbar": {
             "outlinewidth": 0,
             "ticks": ""
            },
            "type": "choropleth"
           }
          ],
          "contour": [
           {
            "colorbar": {
             "outlinewidth": 0,
             "ticks": ""
            },
            "colorscale": [
             [
              0,
              "#0d0887"
             ],
             [
              0.1111111111111111,
              "#46039f"
             ],
             [
              0.2222222222222222,
              "#7201a8"
             ],
             [
              0.3333333333333333,
              "#9c179e"
             ],
             [
              0.4444444444444444,
              "#bd3786"
             ],
             [
              0.5555555555555556,
              "#d8576b"
             ],
             [
              0.6666666666666666,
              "#ed7953"
             ],
             [
              0.7777777777777778,
              "#fb9f3a"
             ],
             [
              0.8888888888888888,
              "#fdca26"
             ],
             [
              1,
              "#f0f921"
             ]
            ],
            "type": "contour"
           }
          ],
          "contourcarpet": [
           {
            "colorbar": {
             "outlinewidth": 0,
             "ticks": ""
            },
            "type": "contourcarpet"
           }
          ],
          "heatmap": [
           {
            "colorbar": {
             "outlinewidth": 0,
             "ticks": ""
            },
            "colorscale": [
             [
              0,
              "#0d0887"
             ],
             [
              0.1111111111111111,
              "#46039f"
             ],
             [
              0.2222222222222222,
              "#7201a8"
             ],
             [
              0.3333333333333333,
              "#9c179e"
             ],
             [
              0.4444444444444444,
              "#bd3786"
             ],
             [
              0.5555555555555556,
              "#d8576b"
             ],
             [
              0.6666666666666666,
              "#ed7953"
             ],
             [
              0.7777777777777778,
              "#fb9f3a"
             ],
             [
              0.8888888888888888,
              "#fdca26"
             ],
             [
              1,
              "#f0f921"
             ]
            ],
            "type": "heatmap"
           }
          ],
          "heatmapgl": [
           {
            "colorbar": {
             "outlinewidth": 0,
             "ticks": ""
            },
            "colorscale": [
             [
              0,
              "#0d0887"
             ],
             [
              0.1111111111111111,
              "#46039f"
             ],
             [
              0.2222222222222222,
              "#7201a8"
             ],
             [
              0.3333333333333333,
              "#9c179e"
             ],
             [
              0.4444444444444444,
              "#bd3786"
             ],
             [
              0.5555555555555556,
              "#d8576b"
             ],
             [
              0.6666666666666666,
              "#ed7953"
             ],
             [
              0.7777777777777778,
              "#fb9f3a"
             ],
             [
              0.8888888888888888,
              "#fdca26"
             ],
             [
              1,
              "#f0f921"
             ]
            ],
            "type": "heatmapgl"
           }
          ],
          "histogram": [
           {
            "marker": {
             "pattern": {
              "fillmode": "overlay",
              "size": 10,
              "solidity": 0.2
             }
            },
            "type": "histogram"
           }
          ],
          "histogram2d": [
           {
            "colorbar": {
             "outlinewidth": 0,
             "ticks": ""
            },
            "colorscale": [
             [
              0,
              "#0d0887"
             ],
             [
              0.1111111111111111,
              "#46039f"
             ],
             [
              0.2222222222222222,
              "#7201a8"
             ],
             [
              0.3333333333333333,
              "#9c179e"
             ],
             [
              0.4444444444444444,
              "#bd3786"
             ],
             [
              0.5555555555555556,
              "#d8576b"
             ],
             [
              0.6666666666666666,
              "#ed7953"
             ],
             [
              0.7777777777777778,
              "#fb9f3a"
             ],
             [
              0.8888888888888888,
              "#fdca26"
             ],
             [
              1,
              "#f0f921"
             ]
            ],
            "type": "histogram2d"
           }
          ],
          "histogram2dcontour": [
           {
            "colorbar": {
             "outlinewidth": 0,
             "ticks": ""
            },
            "colorscale": [
             [
              0,
              "#0d0887"
             ],
             [
              0.1111111111111111,
              "#46039f"
             ],
             [
              0.2222222222222222,
              "#7201a8"
             ],
             [
              0.3333333333333333,
              "#9c179e"
             ],
             [
              0.4444444444444444,
              "#bd3786"
             ],
             [
              0.5555555555555556,
              "#d8576b"
             ],
             [
              0.6666666666666666,
              "#ed7953"
             ],
             [
              0.7777777777777778,
              "#fb9f3a"
             ],
             [
              0.8888888888888888,
              "#fdca26"
             ],
             [
              1,
              "#f0f921"
             ]
            ],
            "type": "histogram2dcontour"
           }
          ],
          "mesh3d": [
           {
            "colorbar": {
             "outlinewidth": 0,
             "ticks": ""
            },
            "type": "mesh3d"
           }
          ],
          "parcoords": [
           {
            "line": {
             "colorbar": {
              "outlinewidth": 0,
              "ticks": ""
             }
            },
            "type": "parcoords"
           }
          ],
          "pie": [
           {
            "automargin": true,
            "type": "pie"
           }
          ],
          "scatter": [
           {
            "fillpattern": {
             "fillmode": "overlay",
             "size": 10,
             "solidity": 0.2
            },
            "type": "scatter"
           }
          ],
          "scatter3d": [
           {
            "line": {
             "colorbar": {
              "outlinewidth": 0,
              "ticks": ""
             }
            },
            "marker": {
             "colorbar": {
              "outlinewidth": 0,
              "ticks": ""
             }
            },
            "type": "scatter3d"
           }
          ],
          "scattercarpet": [
           {
            "marker": {
             "colorbar": {
              "outlinewidth": 0,
              "ticks": ""
             }
            },
            "type": "scattercarpet"
           }
          ],
          "scattergeo": [
           {
            "marker": {
             "colorbar": {
              "outlinewidth": 0,
              "ticks": ""
             }
            },
            "type": "scattergeo"
           }
          ],
          "scattergl": [
           {
            "marker": {
             "colorbar": {
              "outlinewidth": 0,
              "ticks": ""
             }
            },
            "type": "scattergl"
           }
          ],
          "scattermapbox": [
           {
            "marker": {
             "colorbar": {
              "outlinewidth": 0,
              "ticks": ""
             }
            },
            "type": "scattermapbox"
           }
          ],
          "scatterpolar": [
           {
            "marker": {
             "colorbar": {
              "outlinewidth": 0,
              "ticks": ""
             }
            },
            "type": "scatterpolar"
           }
          ],
          "scatterpolargl": [
           {
            "marker": {
             "colorbar": {
              "outlinewidth": 0,
              "ticks": ""
             }
            },
            "type": "scatterpolargl"
           }
          ],
          "scatterternary": [
           {
            "marker": {
             "colorbar": {
              "outlinewidth": 0,
              "ticks": ""
             }
            },
            "type": "scatterternary"
           }
          ],
          "surface": [
           {
            "colorbar": {
             "outlinewidth": 0,
             "ticks": ""
            },
            "colorscale": [
             [
              0,
              "#0d0887"
             ],
             [
              0.1111111111111111,
              "#46039f"
             ],
             [
              0.2222222222222222,
              "#7201a8"
             ],
             [
              0.3333333333333333,
              "#9c179e"
             ],
             [
              0.4444444444444444,
              "#bd3786"
             ],
             [
              0.5555555555555556,
              "#d8576b"
             ],
             [
              0.6666666666666666,
              "#ed7953"
             ],
             [
              0.7777777777777778,
              "#fb9f3a"
             ],
             [
              0.8888888888888888,
              "#fdca26"
             ],
             [
              1,
              "#f0f921"
             ]
            ],
            "type": "surface"
           }
          ],
          "table": [
           {
            "cells": {
             "fill": {
              "color": "#EBF0F8"
             },
             "line": {
              "color": "white"
             }
            },
            "header": {
             "fill": {
              "color": "#C8D4E3"
             },
             "line": {
              "color": "white"
             }
            },
            "type": "table"
           }
          ]
         },
         "layout": {
          "annotationdefaults": {
           "arrowcolor": "#2a3f5f",
           "arrowhead": 0,
           "arrowwidth": 1
          },
          "autotypenumbers": "strict",
          "coloraxis": {
           "colorbar": {
            "outlinewidth": 0,
            "ticks": ""
           }
          },
          "colorscale": {
           "diverging": [
            [
             0,
             "#8e0152"
            ],
            [
             0.1,
             "#c51b7d"
            ],
            [
             0.2,
             "#de77ae"
            ],
            [
             0.3,
             "#f1b6da"
            ],
            [
             0.4,
             "#fde0ef"
            ],
            [
             0.5,
             "#f7f7f7"
            ],
            [
             0.6,
             "#e6f5d0"
            ],
            [
             0.7,
             "#b8e186"
            ],
            [
             0.8,
             "#7fbc41"
            ],
            [
             0.9,
             "#4d9221"
            ],
            [
             1,
             "#276419"
            ]
           ],
           "sequential": [
            [
             0,
             "#0d0887"
            ],
            [
             0.1111111111111111,
             "#46039f"
            ],
            [
             0.2222222222222222,
             "#7201a8"
            ],
            [
             0.3333333333333333,
             "#9c179e"
            ],
            [
             0.4444444444444444,
             "#bd3786"
            ],
            [
             0.5555555555555556,
             "#d8576b"
            ],
            [
             0.6666666666666666,
             "#ed7953"
            ],
            [
             0.7777777777777778,
             "#fb9f3a"
            ],
            [
             0.8888888888888888,
             "#fdca26"
            ],
            [
             1,
             "#f0f921"
            ]
           ],
           "sequentialminus": [
            [
             0,
             "#0d0887"
            ],
            [
             0.1111111111111111,
             "#46039f"
            ],
            [
             0.2222222222222222,
             "#7201a8"
            ],
            [
             0.3333333333333333,
             "#9c179e"
            ],
            [
             0.4444444444444444,
             "#bd3786"
            ],
            [
             0.5555555555555556,
             "#d8576b"
            ],
            [
             0.6666666666666666,
             "#ed7953"
            ],
            [
             0.7777777777777778,
             "#fb9f3a"
            ],
            [
             0.8888888888888888,
             "#fdca26"
            ],
            [
             1,
             "#f0f921"
            ]
           ]
          },
          "colorway": [
           "#636efa",
           "#EF553B",
           "#00cc96",
           "#ab63fa",
           "#FFA15A",
           "#19d3f3",
           "#FF6692",
           "#B6E880",
           "#FF97FF",
           "#FECB52"
          ],
          "font": {
           "color": "#2a3f5f"
          },
          "geo": {
           "bgcolor": "white",
           "lakecolor": "white",
           "landcolor": "#E5ECF6",
           "showlakes": true,
           "showland": true,
           "subunitcolor": "white"
          },
          "hoverlabel": {
           "align": "left"
          },
          "hovermode": "closest",
          "mapbox": {
           "style": "light"
          },
          "paper_bgcolor": "white",
          "plot_bgcolor": "#E5ECF6",
          "polar": {
           "angularaxis": {
            "gridcolor": "white",
            "linecolor": "white",
            "ticks": ""
           },
           "bgcolor": "#E5ECF6",
           "radialaxis": {
            "gridcolor": "white",
            "linecolor": "white",
            "ticks": ""
           }
          },
          "scene": {
           "xaxis": {
            "backgroundcolor": "#E5ECF6",
            "gridcolor": "white",
            "gridwidth": 2,
            "linecolor": "white",
            "showbackground": true,
            "ticks": "",
            "zerolinecolor": "white"
           },
           "yaxis": {
            "backgroundcolor": "#E5ECF6",
            "gridcolor": "white",
            "gridwidth": 2,
            "linecolor": "white",
            "showbackground": true,
            "ticks": "",
            "zerolinecolor": "white"
           },
           "zaxis": {
            "backgroundcolor": "#E5ECF6",
            "gridcolor": "white",
            "gridwidth": 2,
            "linecolor": "white",
            "showbackground": true,
            "ticks": "",
            "zerolinecolor": "white"
           }
          },
          "shapedefaults": {
           "line": {
            "color": "#2a3f5f"
           }
          },
          "ternary": {
           "aaxis": {
            "gridcolor": "white",
            "linecolor": "white",
            "ticks": ""
           },
           "baxis": {
            "gridcolor": "white",
            "linecolor": "white",
            "ticks": ""
           },
           "bgcolor": "#E5ECF6",
           "caxis": {
            "gridcolor": "white",
            "linecolor": "white",
            "ticks": ""
           }
          },
          "title": {
           "x": 0.05
          },
          "xaxis": {
           "automargin": true,
           "gridcolor": "white",
           "linecolor": "white",
           "ticks": "",
           "title": {
            "standoff": 15
           },
           "zerolinecolor": "white",
           "zerolinewidth": 2
          },
          "yaxis": {
           "automargin": true,
           "gridcolor": "white",
           "linecolor": "white",
           "ticks": "",
           "title": {
            "standoff": 15
           },
           "zerolinecolor": "white",
           "zerolinewidth": 2
          }
         }
        },
        "title": {
         "text": "Most Picked 10 Champions in Jungle"
        },
        "xaxis": {
         "anchor": "y",
         "domain": [
          0,
          1
         ],
         "title": {
          "text": "Champion"
         }
        },
        "yaxis": {
         "anchor": "x",
         "domain": [
          0,
          1
         ],
         "title": {
          "text": "Number of picks"
         }
        }
       }
      }
     },
     "metadata": {},
     "output_type": "display_data"
    },
    {
     "data": {
      "application/vnd.plotly.v1+json": {
       "config": {
        "plotlyServerURL": "https://plot.ly"
       },
       "data": [
        {
         "alignmentgroup": "True",
         "hovertemplate": "variable=Mid<br>champion=%{x}<br>value=%{y}<extra></extra>",
         "legendgroup": "Mid",
         "marker": {
          "color": "#636efa",
          "pattern": {
           "shape": ""
          }
         },
         "name": "Mid",
         "offsetgroup": "Mid",
         "orientation": "v",
         "showlegend": true,
         "textposition": "auto",
         "type": "bar",
         "x": [
          "Ahri",
          "Ryze",
          "Azir",
          "Viktor",
          "Sylas",
          "Corki",
          "LeBlanc",
          "Taliyah",
          "Orianna",
          "Vex"
         ],
         "xaxis": "x",
         "y": [
          886,
          529,
          492,
          490,
          455,
          420,
          377,
          340,
          307,
          271
         ],
         "yaxis": "y"
        }
       ],
       "layout": {
        "barmode": "relative",
        "legend": {
         "title": {
          "text": "variable"
         },
         "tracegroupgap": 0
        },
        "showlegend": false,
        "template": {
         "data": {
          "bar": [
           {
            "error_x": {
             "color": "#2a3f5f"
            },
            "error_y": {
             "color": "#2a3f5f"
            },
            "marker": {
             "line": {
              "color": "#E5ECF6",
              "width": 0.5
             },
             "pattern": {
              "fillmode": "overlay",
              "size": 10,
              "solidity": 0.2
             }
            },
            "type": "bar"
           }
          ],
          "barpolar": [
           {
            "marker": {
             "line": {
              "color": "#E5ECF6",
              "width": 0.5
             },
             "pattern": {
              "fillmode": "overlay",
              "size": 10,
              "solidity": 0.2
             }
            },
            "type": "barpolar"
           }
          ],
          "carpet": [
           {
            "aaxis": {
             "endlinecolor": "#2a3f5f",
             "gridcolor": "white",
             "linecolor": "white",
             "minorgridcolor": "white",
             "startlinecolor": "#2a3f5f"
            },
            "baxis": {
             "endlinecolor": "#2a3f5f",
             "gridcolor": "white",
             "linecolor": "white",
             "minorgridcolor": "white",
             "startlinecolor": "#2a3f5f"
            },
            "type": "carpet"
           }
          ],
          "choropleth": [
           {
            "colorbar": {
             "outlinewidth": 0,
             "ticks": ""
            },
            "type": "choropleth"
           }
          ],
          "contour": [
           {
            "colorbar": {
             "outlinewidth": 0,
             "ticks": ""
            },
            "colorscale": [
             [
              0,
              "#0d0887"
             ],
             [
              0.1111111111111111,
              "#46039f"
             ],
             [
              0.2222222222222222,
              "#7201a8"
             ],
             [
              0.3333333333333333,
              "#9c179e"
             ],
             [
              0.4444444444444444,
              "#bd3786"
             ],
             [
              0.5555555555555556,
              "#d8576b"
             ],
             [
              0.6666666666666666,
              "#ed7953"
             ],
             [
              0.7777777777777778,
              "#fb9f3a"
             ],
             [
              0.8888888888888888,
              "#fdca26"
             ],
             [
              1,
              "#f0f921"
             ]
            ],
            "type": "contour"
           }
          ],
          "contourcarpet": [
           {
            "colorbar": {
             "outlinewidth": 0,
             "ticks": ""
            },
            "type": "contourcarpet"
           }
          ],
          "heatmap": [
           {
            "colorbar": {
             "outlinewidth": 0,
             "ticks": ""
            },
            "colorscale": [
             [
              0,
              "#0d0887"
             ],
             [
              0.1111111111111111,
              "#46039f"
             ],
             [
              0.2222222222222222,
              "#7201a8"
             ],
             [
              0.3333333333333333,
              "#9c179e"
             ],
             [
              0.4444444444444444,
              "#bd3786"
             ],
             [
              0.5555555555555556,
              "#d8576b"
             ],
             [
              0.6666666666666666,
              "#ed7953"
             ],
             [
              0.7777777777777778,
              "#fb9f3a"
             ],
             [
              0.8888888888888888,
              "#fdca26"
             ],
             [
              1,
              "#f0f921"
             ]
            ],
            "type": "heatmap"
           }
          ],
          "heatmapgl": [
           {
            "colorbar": {
             "outlinewidth": 0,
             "ticks": ""
            },
            "colorscale": [
             [
              0,
              "#0d0887"
             ],
             [
              0.1111111111111111,
              "#46039f"
             ],
             [
              0.2222222222222222,
              "#7201a8"
             ],
             [
              0.3333333333333333,
              "#9c179e"
             ],
             [
              0.4444444444444444,
              "#bd3786"
             ],
             [
              0.5555555555555556,
              "#d8576b"
             ],
             [
              0.6666666666666666,
              "#ed7953"
             ],
             [
              0.7777777777777778,
              "#fb9f3a"
             ],
             [
              0.8888888888888888,
              "#fdca26"
             ],
             [
              1,
              "#f0f921"
             ]
            ],
            "type": "heatmapgl"
           }
          ],
          "histogram": [
           {
            "marker": {
             "pattern": {
              "fillmode": "overlay",
              "size": 10,
              "solidity": 0.2
             }
            },
            "type": "histogram"
           }
          ],
          "histogram2d": [
           {
            "colorbar": {
             "outlinewidth": 0,
             "ticks": ""
            },
            "colorscale": [
             [
              0,
              "#0d0887"
             ],
             [
              0.1111111111111111,
              "#46039f"
             ],
             [
              0.2222222222222222,
              "#7201a8"
             ],
             [
              0.3333333333333333,
              "#9c179e"
             ],
             [
              0.4444444444444444,
              "#bd3786"
             ],
             [
              0.5555555555555556,
              "#d8576b"
             ],
             [
              0.6666666666666666,
              "#ed7953"
             ],
             [
              0.7777777777777778,
              "#fb9f3a"
             ],
             [
              0.8888888888888888,
              "#fdca26"
             ],
             [
              1,
              "#f0f921"
             ]
            ],
            "type": "histogram2d"
           }
          ],
          "histogram2dcontour": [
           {
            "colorbar": {
             "outlinewidth": 0,
             "ticks": ""
            },
            "colorscale": [
             [
              0,
              "#0d0887"
             ],
             [
              0.1111111111111111,
              "#46039f"
             ],
             [
              0.2222222222222222,
              "#7201a8"
             ],
             [
              0.3333333333333333,
              "#9c179e"
             ],
             [
              0.4444444444444444,
              "#bd3786"
             ],
             [
              0.5555555555555556,
              "#d8576b"
             ],
             [
              0.6666666666666666,
              "#ed7953"
             ],
             [
              0.7777777777777778,
              "#fb9f3a"
             ],
             [
              0.8888888888888888,
              "#fdca26"
             ],
             [
              1,
              "#f0f921"
             ]
            ],
            "type": "histogram2dcontour"
           }
          ],
          "mesh3d": [
           {
            "colorbar": {
             "outlinewidth": 0,
             "ticks": ""
            },
            "type": "mesh3d"
           }
          ],
          "parcoords": [
           {
            "line": {
             "colorbar": {
              "outlinewidth": 0,
              "ticks": ""
             }
            },
            "type": "parcoords"
           }
          ],
          "pie": [
           {
            "automargin": true,
            "type": "pie"
           }
          ],
          "scatter": [
           {
            "fillpattern": {
             "fillmode": "overlay",
             "size": 10,
             "solidity": 0.2
            },
            "type": "scatter"
           }
          ],
          "scatter3d": [
           {
            "line": {
             "colorbar": {
              "outlinewidth": 0,
              "ticks": ""
             }
            },
            "marker": {
             "colorbar": {
              "outlinewidth": 0,
              "ticks": ""
             }
            },
            "type": "scatter3d"
           }
          ],
          "scattercarpet": [
           {
            "marker": {
             "colorbar": {
              "outlinewidth": 0,
              "ticks": ""
             }
            },
            "type": "scattercarpet"
           }
          ],
          "scattergeo": [
           {
            "marker": {
             "colorbar": {
              "outlinewidth": 0,
              "ticks": ""
             }
            },
            "type": "scattergeo"
           }
          ],
          "scattergl": [
           {
            "marker": {
             "colorbar": {
              "outlinewidth": 0,
              "ticks": ""
             }
            },
            "type": "scattergl"
           }
          ],
          "scattermapbox": [
           {
            "marker": {
             "colorbar": {
              "outlinewidth": 0,
              "ticks": ""
             }
            },
            "type": "scattermapbox"
           }
          ],
          "scatterpolar": [
           {
            "marker": {
             "colorbar": {
              "outlinewidth": 0,
              "ticks": ""
             }
            },
            "type": "scatterpolar"
           }
          ],
          "scatterpolargl": [
           {
            "marker": {
             "colorbar": {
              "outlinewidth": 0,
              "ticks": ""
             }
            },
            "type": "scatterpolargl"
           }
          ],
          "scatterternary": [
           {
            "marker": {
             "colorbar": {
              "outlinewidth": 0,
              "ticks": ""
             }
            },
            "type": "scatterternary"
           }
          ],
          "surface": [
           {
            "colorbar": {
             "outlinewidth": 0,
             "ticks": ""
            },
            "colorscale": [
             [
              0,
              "#0d0887"
             ],
             [
              0.1111111111111111,
              "#46039f"
             ],
             [
              0.2222222222222222,
              "#7201a8"
             ],
             [
              0.3333333333333333,
              "#9c179e"
             ],
             [
              0.4444444444444444,
              "#bd3786"
             ],
             [
              0.5555555555555556,
              "#d8576b"
             ],
             [
              0.6666666666666666,
              "#ed7953"
             ],
             [
              0.7777777777777778,
              "#fb9f3a"
             ],
             [
              0.8888888888888888,
              "#fdca26"
             ],
             [
              1,
              "#f0f921"
             ]
            ],
            "type": "surface"
           }
          ],
          "table": [
           {
            "cells": {
             "fill": {
              "color": "#EBF0F8"
             },
             "line": {
              "color": "white"
             }
            },
            "header": {
             "fill": {
              "color": "#C8D4E3"
             },
             "line": {
              "color": "white"
             }
            },
            "type": "table"
           }
          ]
         },
         "layout": {
          "annotationdefaults": {
           "arrowcolor": "#2a3f5f",
           "arrowhead": 0,
           "arrowwidth": 1
          },
          "autotypenumbers": "strict",
          "coloraxis": {
           "colorbar": {
            "outlinewidth": 0,
            "ticks": ""
           }
          },
          "colorscale": {
           "diverging": [
            [
             0,
             "#8e0152"
            ],
            [
             0.1,
             "#c51b7d"
            ],
            [
             0.2,
             "#de77ae"
            ],
            [
             0.3,
             "#f1b6da"
            ],
            [
             0.4,
             "#fde0ef"
            ],
            [
             0.5,
             "#f7f7f7"
            ],
            [
             0.6,
             "#e6f5d0"
            ],
            [
             0.7,
             "#b8e186"
            ],
            [
             0.8,
             "#7fbc41"
            ],
            [
             0.9,
             "#4d9221"
            ],
            [
             1,
             "#276419"
            ]
           ],
           "sequential": [
            [
             0,
             "#0d0887"
            ],
            [
             0.1111111111111111,
             "#46039f"
            ],
            [
             0.2222222222222222,
             "#7201a8"
            ],
            [
             0.3333333333333333,
             "#9c179e"
            ],
            [
             0.4444444444444444,
             "#bd3786"
            ],
            [
             0.5555555555555556,
             "#d8576b"
            ],
            [
             0.6666666666666666,
             "#ed7953"
            ],
            [
             0.7777777777777778,
             "#fb9f3a"
            ],
            [
             0.8888888888888888,
             "#fdca26"
            ],
            [
             1,
             "#f0f921"
            ]
           ],
           "sequentialminus": [
            [
             0,
             "#0d0887"
            ],
            [
             0.1111111111111111,
             "#46039f"
            ],
            [
             0.2222222222222222,
             "#7201a8"
            ],
            [
             0.3333333333333333,
             "#9c179e"
            ],
            [
             0.4444444444444444,
             "#bd3786"
            ],
            [
             0.5555555555555556,
             "#d8576b"
            ],
            [
             0.6666666666666666,
             "#ed7953"
            ],
            [
             0.7777777777777778,
             "#fb9f3a"
            ],
            [
             0.8888888888888888,
             "#fdca26"
            ],
            [
             1,
             "#f0f921"
            ]
           ]
          },
          "colorway": [
           "#636efa",
           "#EF553B",
           "#00cc96",
           "#ab63fa",
           "#FFA15A",
           "#19d3f3",
           "#FF6692",
           "#B6E880",
           "#FF97FF",
           "#FECB52"
          ],
          "font": {
           "color": "#2a3f5f"
          },
          "geo": {
           "bgcolor": "white",
           "lakecolor": "white",
           "landcolor": "#E5ECF6",
           "showlakes": true,
           "showland": true,
           "subunitcolor": "white"
          },
          "hoverlabel": {
           "align": "left"
          },
          "hovermode": "closest",
          "mapbox": {
           "style": "light"
          },
          "paper_bgcolor": "white",
          "plot_bgcolor": "#E5ECF6",
          "polar": {
           "angularaxis": {
            "gridcolor": "white",
            "linecolor": "white",
            "ticks": ""
           },
           "bgcolor": "#E5ECF6",
           "radialaxis": {
            "gridcolor": "white",
            "linecolor": "white",
            "ticks": ""
           }
          },
          "scene": {
           "xaxis": {
            "backgroundcolor": "#E5ECF6",
            "gridcolor": "white",
            "gridwidth": 2,
            "linecolor": "white",
            "showbackground": true,
            "ticks": "",
            "zerolinecolor": "white"
           },
           "yaxis": {
            "backgroundcolor": "#E5ECF6",
            "gridcolor": "white",
            "gridwidth": 2,
            "linecolor": "white",
            "showbackground": true,
            "ticks": "",
            "zerolinecolor": "white"
           },
           "zaxis": {
            "backgroundcolor": "#E5ECF6",
            "gridcolor": "white",
            "gridwidth": 2,
            "linecolor": "white",
            "showbackground": true,
            "ticks": "",
            "zerolinecolor": "white"
           }
          },
          "shapedefaults": {
           "line": {
            "color": "#2a3f5f"
           }
          },
          "ternary": {
           "aaxis": {
            "gridcolor": "white",
            "linecolor": "white",
            "ticks": ""
           },
           "baxis": {
            "gridcolor": "white",
            "linecolor": "white",
            "ticks": ""
           },
           "bgcolor": "#E5ECF6",
           "caxis": {
            "gridcolor": "white",
            "linecolor": "white",
            "ticks": ""
           }
          },
          "title": {
           "x": 0.05
          },
          "xaxis": {
           "automargin": true,
           "gridcolor": "white",
           "linecolor": "white",
           "ticks": "",
           "title": {
            "standoff": 15
           },
           "zerolinecolor": "white",
           "zerolinewidth": 2
          },
          "yaxis": {
           "automargin": true,
           "gridcolor": "white",
           "linecolor": "white",
           "ticks": "",
           "title": {
            "standoff": 15
           },
           "zerolinecolor": "white",
           "zerolinewidth": 2
          }
         }
        },
        "title": {
         "text": "Most Picked 10 Champions in Mid"
        },
        "xaxis": {
         "anchor": "y",
         "domain": [
          0,
          1
         ],
         "title": {
          "text": "Champion"
         }
        },
        "yaxis": {
         "anchor": "x",
         "domain": [
          0,
          1
         ],
         "title": {
          "text": "Number of picks"
         }
        }
       }
      }
     },
     "metadata": {},
     "output_type": "display_data"
    },
    {
     "data": {
      "application/vnd.plotly.v1+json": {
       "config": {
        "plotlyServerURL": "https://plot.ly"
       },
       "data": [
        {
         "alignmentgroup": "True",
         "hovertemplate": "variable=Bot<br>champion=%{x}<br>value=%{y}<extra></extra>",
         "legendgroup": "Bot",
         "marker": {
          "color": "#636efa",
          "pattern": {
           "shape": ""
          }
         },
         "name": "Bot",
         "offsetgroup": "Bot",
         "orientation": "v",
         "showlegend": true,
         "textposition": "auto",
         "type": "bar",
         "x": [
          "Aphelios",
          "Jinx",
          "Zeri",
          "Sivir",
          "Ezreal",
          "Kalista",
          "Xayah",
          "Lucian",
          "Senna",
          "Jhin"
         ],
         "xaxis": "x",
         "y": [
          1314,
          1207,
          818,
          381,
          350,
          335,
          328,
          289,
          237,
          215
         ],
         "yaxis": "y"
        }
       ],
       "layout": {
        "barmode": "relative",
        "legend": {
         "title": {
          "text": "variable"
         },
         "tracegroupgap": 0
        },
        "showlegend": false,
        "template": {
         "data": {
          "bar": [
           {
            "error_x": {
             "color": "#2a3f5f"
            },
            "error_y": {
             "color": "#2a3f5f"
            },
            "marker": {
             "line": {
              "color": "#E5ECF6",
              "width": 0.5
             },
             "pattern": {
              "fillmode": "overlay",
              "size": 10,
              "solidity": 0.2
             }
            },
            "type": "bar"
           }
          ],
          "barpolar": [
           {
            "marker": {
             "line": {
              "color": "#E5ECF6",
              "width": 0.5
             },
             "pattern": {
              "fillmode": "overlay",
              "size": 10,
              "solidity": 0.2
             }
            },
            "type": "barpolar"
           }
          ],
          "carpet": [
           {
            "aaxis": {
             "endlinecolor": "#2a3f5f",
             "gridcolor": "white",
             "linecolor": "white",
             "minorgridcolor": "white",
             "startlinecolor": "#2a3f5f"
            },
            "baxis": {
             "endlinecolor": "#2a3f5f",
             "gridcolor": "white",
             "linecolor": "white",
             "minorgridcolor": "white",
             "startlinecolor": "#2a3f5f"
            },
            "type": "carpet"
           }
          ],
          "choropleth": [
           {
            "colorbar": {
             "outlinewidth": 0,
             "ticks": ""
            },
            "type": "choropleth"
           }
          ],
          "contour": [
           {
            "colorbar": {
             "outlinewidth": 0,
             "ticks": ""
            },
            "colorscale": [
             [
              0,
              "#0d0887"
             ],
             [
              0.1111111111111111,
              "#46039f"
             ],
             [
              0.2222222222222222,
              "#7201a8"
             ],
             [
              0.3333333333333333,
              "#9c179e"
             ],
             [
              0.4444444444444444,
              "#bd3786"
             ],
             [
              0.5555555555555556,
              "#d8576b"
             ],
             [
              0.6666666666666666,
              "#ed7953"
             ],
             [
              0.7777777777777778,
              "#fb9f3a"
             ],
             [
              0.8888888888888888,
              "#fdca26"
             ],
             [
              1,
              "#f0f921"
             ]
            ],
            "type": "contour"
           }
          ],
          "contourcarpet": [
           {
            "colorbar": {
             "outlinewidth": 0,
             "ticks": ""
            },
            "type": "contourcarpet"
           }
          ],
          "heatmap": [
           {
            "colorbar": {
             "outlinewidth": 0,
             "ticks": ""
            },
            "colorscale": [
             [
              0,
              "#0d0887"
             ],
             [
              0.1111111111111111,
              "#46039f"
             ],
             [
              0.2222222222222222,
              "#7201a8"
             ],
             [
              0.3333333333333333,
              "#9c179e"
             ],
             [
              0.4444444444444444,
              "#bd3786"
             ],
             [
              0.5555555555555556,
              "#d8576b"
             ],
             [
              0.6666666666666666,
              "#ed7953"
             ],
             [
              0.7777777777777778,
              "#fb9f3a"
             ],
             [
              0.8888888888888888,
              "#fdca26"
             ],
             [
              1,
              "#f0f921"
             ]
            ],
            "type": "heatmap"
           }
          ],
          "heatmapgl": [
           {
            "colorbar": {
             "outlinewidth": 0,
             "ticks": ""
            },
            "colorscale": [
             [
              0,
              "#0d0887"
             ],
             [
              0.1111111111111111,
              "#46039f"
             ],
             [
              0.2222222222222222,
              "#7201a8"
             ],
             [
              0.3333333333333333,
              "#9c179e"
             ],
             [
              0.4444444444444444,
              "#bd3786"
             ],
             [
              0.5555555555555556,
              "#d8576b"
             ],
             [
              0.6666666666666666,
              "#ed7953"
             ],
             [
              0.7777777777777778,
              "#fb9f3a"
             ],
             [
              0.8888888888888888,
              "#fdca26"
             ],
             [
              1,
              "#f0f921"
             ]
            ],
            "type": "heatmapgl"
           }
          ],
          "histogram": [
           {
            "marker": {
             "pattern": {
              "fillmode": "overlay",
              "size": 10,
              "solidity": 0.2
             }
            },
            "type": "histogram"
           }
          ],
          "histogram2d": [
           {
            "colorbar": {
             "outlinewidth": 0,
             "ticks": ""
            },
            "colorscale": [
             [
              0,
              "#0d0887"
             ],
             [
              0.1111111111111111,
              "#46039f"
             ],
             [
              0.2222222222222222,
              "#7201a8"
             ],
             [
              0.3333333333333333,
              "#9c179e"
             ],
             [
              0.4444444444444444,
              "#bd3786"
             ],
             [
              0.5555555555555556,
              "#d8576b"
             ],
             [
              0.6666666666666666,
              "#ed7953"
             ],
             [
              0.7777777777777778,
              "#fb9f3a"
             ],
             [
              0.8888888888888888,
              "#fdca26"
             ],
             [
              1,
              "#f0f921"
             ]
            ],
            "type": "histogram2d"
           }
          ],
          "histogram2dcontour": [
           {
            "colorbar": {
             "outlinewidth": 0,
             "ticks": ""
            },
            "colorscale": [
             [
              0,
              "#0d0887"
             ],
             [
              0.1111111111111111,
              "#46039f"
             ],
             [
              0.2222222222222222,
              "#7201a8"
             ],
             [
              0.3333333333333333,
              "#9c179e"
             ],
             [
              0.4444444444444444,
              "#bd3786"
             ],
             [
              0.5555555555555556,
              "#d8576b"
             ],
             [
              0.6666666666666666,
              "#ed7953"
             ],
             [
              0.7777777777777778,
              "#fb9f3a"
             ],
             [
              0.8888888888888888,
              "#fdca26"
             ],
             [
              1,
              "#f0f921"
             ]
            ],
            "type": "histogram2dcontour"
           }
          ],
          "mesh3d": [
           {
            "colorbar": {
             "outlinewidth": 0,
             "ticks": ""
            },
            "type": "mesh3d"
           }
          ],
          "parcoords": [
           {
            "line": {
             "colorbar": {
              "outlinewidth": 0,
              "ticks": ""
             }
            },
            "type": "parcoords"
           }
          ],
          "pie": [
           {
            "automargin": true,
            "type": "pie"
           }
          ],
          "scatter": [
           {
            "fillpattern": {
             "fillmode": "overlay",
             "size": 10,
             "solidity": 0.2
            },
            "type": "scatter"
           }
          ],
          "scatter3d": [
           {
            "line": {
             "colorbar": {
              "outlinewidth": 0,
              "ticks": ""
             }
            },
            "marker": {
             "colorbar": {
              "outlinewidth": 0,
              "ticks": ""
             }
            },
            "type": "scatter3d"
           }
          ],
          "scattercarpet": [
           {
            "marker": {
             "colorbar": {
              "outlinewidth": 0,
              "ticks": ""
             }
            },
            "type": "scattercarpet"
           }
          ],
          "scattergeo": [
           {
            "marker": {
             "colorbar": {
              "outlinewidth": 0,
              "ticks": ""
             }
            },
            "type": "scattergeo"
           }
          ],
          "scattergl": [
           {
            "marker": {
             "colorbar": {
              "outlinewidth": 0,
              "ticks": ""
             }
            },
            "type": "scattergl"
           }
          ],
          "scattermapbox": [
           {
            "marker": {
             "colorbar": {
              "outlinewidth": 0,
              "ticks": ""
             }
            },
            "type": "scattermapbox"
           }
          ],
          "scatterpolar": [
           {
            "marker": {
             "colorbar": {
              "outlinewidth": 0,
              "ticks": ""
             }
            },
            "type": "scatterpolar"
           }
          ],
          "scatterpolargl": [
           {
            "marker": {
             "colorbar": {
              "outlinewidth": 0,
              "ticks": ""
             }
            },
            "type": "scatterpolargl"
           }
          ],
          "scatterternary": [
           {
            "marker": {
             "colorbar": {
              "outlinewidth": 0,
              "ticks": ""
             }
            },
            "type": "scatterternary"
           }
          ],
          "surface": [
           {
            "colorbar": {
             "outlinewidth": 0,
             "ticks": ""
            },
            "colorscale": [
             [
              0,
              "#0d0887"
             ],
             [
              0.1111111111111111,
              "#46039f"
             ],
             [
              0.2222222222222222,
              "#7201a8"
             ],
             [
              0.3333333333333333,
              "#9c179e"
             ],
             [
              0.4444444444444444,
              "#bd3786"
             ],
             [
              0.5555555555555556,
              "#d8576b"
             ],
             [
              0.6666666666666666,
              "#ed7953"
             ],
             [
              0.7777777777777778,
              "#fb9f3a"
             ],
             [
              0.8888888888888888,
              "#fdca26"
             ],
             [
              1,
              "#f0f921"
             ]
            ],
            "type": "surface"
           }
          ],
          "table": [
           {
            "cells": {
             "fill": {
              "color": "#EBF0F8"
             },
             "line": {
              "color": "white"
             }
            },
            "header": {
             "fill": {
              "color": "#C8D4E3"
             },
             "line": {
              "color": "white"
             }
            },
            "type": "table"
           }
          ]
         },
         "layout": {
          "annotationdefaults": {
           "arrowcolor": "#2a3f5f",
           "arrowhead": 0,
           "arrowwidth": 1
          },
          "autotypenumbers": "strict",
          "coloraxis": {
           "colorbar": {
            "outlinewidth": 0,
            "ticks": ""
           }
          },
          "colorscale": {
           "diverging": [
            [
             0,
             "#8e0152"
            ],
            [
             0.1,
             "#c51b7d"
            ],
            [
             0.2,
             "#de77ae"
            ],
            [
             0.3,
             "#f1b6da"
            ],
            [
             0.4,
             "#fde0ef"
            ],
            [
             0.5,
             "#f7f7f7"
            ],
            [
             0.6,
             "#e6f5d0"
            ],
            [
             0.7,
             "#b8e186"
            ],
            [
             0.8,
             "#7fbc41"
            ],
            [
             0.9,
             "#4d9221"
            ],
            [
             1,
             "#276419"
            ]
           ],
           "sequential": [
            [
             0,
             "#0d0887"
            ],
            [
             0.1111111111111111,
             "#46039f"
            ],
            [
             0.2222222222222222,
             "#7201a8"
            ],
            [
             0.3333333333333333,
             "#9c179e"
            ],
            [
             0.4444444444444444,
             "#bd3786"
            ],
            [
             0.5555555555555556,
             "#d8576b"
            ],
            [
             0.6666666666666666,
             "#ed7953"
            ],
            [
             0.7777777777777778,
             "#fb9f3a"
            ],
            [
             0.8888888888888888,
             "#fdca26"
            ],
            [
             1,
             "#f0f921"
            ]
           ],
           "sequentialminus": [
            [
             0,
             "#0d0887"
            ],
            [
             0.1111111111111111,
             "#46039f"
            ],
            [
             0.2222222222222222,
             "#7201a8"
            ],
            [
             0.3333333333333333,
             "#9c179e"
            ],
            [
             0.4444444444444444,
             "#bd3786"
            ],
            [
             0.5555555555555556,
             "#d8576b"
            ],
            [
             0.6666666666666666,
             "#ed7953"
            ],
            [
             0.7777777777777778,
             "#fb9f3a"
            ],
            [
             0.8888888888888888,
             "#fdca26"
            ],
            [
             1,
             "#f0f921"
            ]
           ]
          },
          "colorway": [
           "#636efa",
           "#EF553B",
           "#00cc96",
           "#ab63fa",
           "#FFA15A",
           "#19d3f3",
           "#FF6692",
           "#B6E880",
           "#FF97FF",
           "#FECB52"
          ],
          "font": {
           "color": "#2a3f5f"
          },
          "geo": {
           "bgcolor": "white",
           "lakecolor": "white",
           "landcolor": "#E5ECF6",
           "showlakes": true,
           "showland": true,
           "subunitcolor": "white"
          },
          "hoverlabel": {
           "align": "left"
          },
          "hovermode": "closest",
          "mapbox": {
           "style": "light"
          },
          "paper_bgcolor": "white",
          "plot_bgcolor": "#E5ECF6",
          "polar": {
           "angularaxis": {
            "gridcolor": "white",
            "linecolor": "white",
            "ticks": ""
           },
           "bgcolor": "#E5ECF6",
           "radialaxis": {
            "gridcolor": "white",
            "linecolor": "white",
            "ticks": ""
           }
          },
          "scene": {
           "xaxis": {
            "backgroundcolor": "#E5ECF6",
            "gridcolor": "white",
            "gridwidth": 2,
            "linecolor": "white",
            "showbackground": true,
            "ticks": "",
            "zerolinecolor": "white"
           },
           "yaxis": {
            "backgroundcolor": "#E5ECF6",
            "gridcolor": "white",
            "gridwidth": 2,
            "linecolor": "white",
            "showbackground": true,
            "ticks": "",
            "zerolinecolor": "white"
           },
           "zaxis": {
            "backgroundcolor": "#E5ECF6",
            "gridcolor": "white",
            "gridwidth": 2,
            "linecolor": "white",
            "showbackground": true,
            "ticks": "",
            "zerolinecolor": "white"
           }
          },
          "shapedefaults": {
           "line": {
            "color": "#2a3f5f"
           }
          },
          "ternary": {
           "aaxis": {
            "gridcolor": "white",
            "linecolor": "white",
            "ticks": ""
           },
           "baxis": {
            "gridcolor": "white",
            "linecolor": "white",
            "ticks": ""
           },
           "bgcolor": "#E5ECF6",
           "caxis": {
            "gridcolor": "white",
            "linecolor": "white",
            "ticks": ""
           }
          },
          "title": {
           "x": 0.05
          },
          "xaxis": {
           "automargin": true,
           "gridcolor": "white",
           "linecolor": "white",
           "ticks": "",
           "title": {
            "standoff": 15
           },
           "zerolinecolor": "white",
           "zerolinewidth": 2
          },
          "yaxis": {
           "automargin": true,
           "gridcolor": "white",
           "linecolor": "white",
           "ticks": "",
           "title": {
            "standoff": 15
           },
           "zerolinecolor": "white",
           "zerolinewidth": 2
          }
         }
        },
        "title": {
         "text": "Most Picked 10 Champions in Bot"
        },
        "xaxis": {
         "anchor": "y",
         "domain": [
          0,
          1
         ],
         "title": {
          "text": "Champion"
         }
        },
        "yaxis": {
         "anchor": "x",
         "domain": [
          0,
          1
         ],
         "title": {
          "text": "Number of picks"
         }
        }
       }
      }
     },
     "metadata": {},
     "output_type": "display_data"
    },
    {
     "data": {
      "application/vnd.plotly.v1+json": {
       "config": {
        "plotlyServerURL": "https://plot.ly"
       },
       "data": [
        {
         "alignmentgroup": "True",
         "hovertemplate": "variable=Support<br>champion=%{x}<br>value=%{y}<extra></extra>",
         "legendgroup": "Support",
         "marker": {
          "color": "#636efa",
          "pattern": {
           "shape": ""
          }
         },
         "name": "Support",
         "offsetgroup": "Support",
         "orientation": "v",
         "showlegend": true,
         "textposition": "auto",
         "type": "bar",
         "x": [
          "Nautilus",
          "Leona",
          "Tahm Kench",
          "Rakan",
          "Renata Glasc",
          "Lulu",
          "Yuumi",
          "Thresh",
          "Nami",
          "Alistar"
         ],
         "xaxis": "x",
         "y": [
          1216,
          755,
          641,
          522,
          504,
          394,
          389,
          295,
          271,
          270
         ],
         "yaxis": "y"
        }
       ],
       "layout": {
        "barmode": "relative",
        "legend": {
         "title": {
          "text": "variable"
         },
         "tracegroupgap": 0
        },
        "showlegend": false,
        "template": {
         "data": {
          "bar": [
           {
            "error_x": {
             "color": "#2a3f5f"
            },
            "error_y": {
             "color": "#2a3f5f"
            },
            "marker": {
             "line": {
              "color": "#E5ECF6",
              "width": 0.5
             },
             "pattern": {
              "fillmode": "overlay",
              "size": 10,
              "solidity": 0.2
             }
            },
            "type": "bar"
           }
          ],
          "barpolar": [
           {
            "marker": {
             "line": {
              "color": "#E5ECF6",
              "width": 0.5
             },
             "pattern": {
              "fillmode": "overlay",
              "size": 10,
              "solidity": 0.2
             }
            },
            "type": "barpolar"
           }
          ],
          "carpet": [
           {
            "aaxis": {
             "endlinecolor": "#2a3f5f",
             "gridcolor": "white",
             "linecolor": "white",
             "minorgridcolor": "white",
             "startlinecolor": "#2a3f5f"
            },
            "baxis": {
             "endlinecolor": "#2a3f5f",
             "gridcolor": "white",
             "linecolor": "white",
             "minorgridcolor": "white",
             "startlinecolor": "#2a3f5f"
            },
            "type": "carpet"
           }
          ],
          "choropleth": [
           {
            "colorbar": {
             "outlinewidth": 0,
             "ticks": ""
            },
            "type": "choropleth"
           }
          ],
          "contour": [
           {
            "colorbar": {
             "outlinewidth": 0,
             "ticks": ""
            },
            "colorscale": [
             [
              0,
              "#0d0887"
             ],
             [
              0.1111111111111111,
              "#46039f"
             ],
             [
              0.2222222222222222,
              "#7201a8"
             ],
             [
              0.3333333333333333,
              "#9c179e"
             ],
             [
              0.4444444444444444,
              "#bd3786"
             ],
             [
              0.5555555555555556,
              "#d8576b"
             ],
             [
              0.6666666666666666,
              "#ed7953"
             ],
             [
              0.7777777777777778,
              "#fb9f3a"
             ],
             [
              0.8888888888888888,
              "#fdca26"
             ],
             [
              1,
              "#f0f921"
             ]
            ],
            "type": "contour"
           }
          ],
          "contourcarpet": [
           {
            "colorbar": {
             "outlinewidth": 0,
             "ticks": ""
            },
            "type": "contourcarpet"
           }
          ],
          "heatmap": [
           {
            "colorbar": {
             "outlinewidth": 0,
             "ticks": ""
            },
            "colorscale": [
             [
              0,
              "#0d0887"
             ],
             [
              0.1111111111111111,
              "#46039f"
             ],
             [
              0.2222222222222222,
              "#7201a8"
             ],
             [
              0.3333333333333333,
              "#9c179e"
             ],
             [
              0.4444444444444444,
              "#bd3786"
             ],
             [
              0.5555555555555556,
              "#d8576b"
             ],
             [
              0.6666666666666666,
              "#ed7953"
             ],
             [
              0.7777777777777778,
              "#fb9f3a"
             ],
             [
              0.8888888888888888,
              "#fdca26"
             ],
             [
              1,
              "#f0f921"
             ]
            ],
            "type": "heatmap"
           }
          ],
          "heatmapgl": [
           {
            "colorbar": {
             "outlinewidth": 0,
             "ticks": ""
            },
            "colorscale": [
             [
              0,
              "#0d0887"
             ],
             [
              0.1111111111111111,
              "#46039f"
             ],
             [
              0.2222222222222222,
              "#7201a8"
             ],
             [
              0.3333333333333333,
              "#9c179e"
             ],
             [
              0.4444444444444444,
              "#bd3786"
             ],
             [
              0.5555555555555556,
              "#d8576b"
             ],
             [
              0.6666666666666666,
              "#ed7953"
             ],
             [
              0.7777777777777778,
              "#fb9f3a"
             ],
             [
              0.8888888888888888,
              "#fdca26"
             ],
             [
              1,
              "#f0f921"
             ]
            ],
            "type": "heatmapgl"
           }
          ],
          "histogram": [
           {
            "marker": {
             "pattern": {
              "fillmode": "overlay",
              "size": 10,
              "solidity": 0.2
             }
            },
            "type": "histogram"
           }
          ],
          "histogram2d": [
           {
            "colorbar": {
             "outlinewidth": 0,
             "ticks": ""
            },
            "colorscale": [
             [
              0,
              "#0d0887"
             ],
             [
              0.1111111111111111,
              "#46039f"
             ],
             [
              0.2222222222222222,
              "#7201a8"
             ],
             [
              0.3333333333333333,
              "#9c179e"
             ],
             [
              0.4444444444444444,
              "#bd3786"
             ],
             [
              0.5555555555555556,
              "#d8576b"
             ],
             [
              0.6666666666666666,
              "#ed7953"
             ],
             [
              0.7777777777777778,
              "#fb9f3a"
             ],
             [
              0.8888888888888888,
              "#fdca26"
             ],
             [
              1,
              "#f0f921"
             ]
            ],
            "type": "histogram2d"
           }
          ],
          "histogram2dcontour": [
           {
            "colorbar": {
             "outlinewidth": 0,
             "ticks": ""
            },
            "colorscale": [
             [
              0,
              "#0d0887"
             ],
             [
              0.1111111111111111,
              "#46039f"
             ],
             [
              0.2222222222222222,
              "#7201a8"
             ],
             [
              0.3333333333333333,
              "#9c179e"
             ],
             [
              0.4444444444444444,
              "#bd3786"
             ],
             [
              0.5555555555555556,
              "#d8576b"
             ],
             [
              0.6666666666666666,
              "#ed7953"
             ],
             [
              0.7777777777777778,
              "#fb9f3a"
             ],
             [
              0.8888888888888888,
              "#fdca26"
             ],
             [
              1,
              "#f0f921"
             ]
            ],
            "type": "histogram2dcontour"
           }
          ],
          "mesh3d": [
           {
            "colorbar": {
             "outlinewidth": 0,
             "ticks": ""
            },
            "type": "mesh3d"
           }
          ],
          "parcoords": [
           {
            "line": {
             "colorbar": {
              "outlinewidth": 0,
              "ticks": ""
             }
            },
            "type": "parcoords"
           }
          ],
          "pie": [
           {
            "automargin": true,
            "type": "pie"
           }
          ],
          "scatter": [
           {
            "fillpattern": {
             "fillmode": "overlay",
             "size": 10,
             "solidity": 0.2
            },
            "type": "scatter"
           }
          ],
          "scatter3d": [
           {
            "line": {
             "colorbar": {
              "outlinewidth": 0,
              "ticks": ""
             }
            },
            "marker": {
             "colorbar": {
              "outlinewidth": 0,
              "ticks": ""
             }
            },
            "type": "scatter3d"
           }
          ],
          "scattercarpet": [
           {
            "marker": {
             "colorbar": {
              "outlinewidth": 0,
              "ticks": ""
             }
            },
            "type": "scattercarpet"
           }
          ],
          "scattergeo": [
           {
            "marker": {
             "colorbar": {
              "outlinewidth": 0,
              "ticks": ""
             }
            },
            "type": "scattergeo"
           }
          ],
          "scattergl": [
           {
            "marker": {
             "colorbar": {
              "outlinewidth": 0,
              "ticks": ""
             }
            },
            "type": "scattergl"
           }
          ],
          "scattermapbox": [
           {
            "marker": {
             "colorbar": {
              "outlinewidth": 0,
              "ticks": ""
             }
            },
            "type": "scattermapbox"
           }
          ],
          "scatterpolar": [
           {
            "marker": {
             "colorbar": {
              "outlinewidth": 0,
              "ticks": ""
             }
            },
            "type": "scatterpolar"
           }
          ],
          "scatterpolargl": [
           {
            "marker": {
             "colorbar": {
              "outlinewidth": 0,
              "ticks": ""
             }
            },
            "type": "scatterpolargl"
           }
          ],
          "scatterternary": [
           {
            "marker": {
             "colorbar": {
              "outlinewidth": 0,
              "ticks": ""
             }
            },
            "type": "scatterternary"
           }
          ],
          "surface": [
           {
            "colorbar": {
             "outlinewidth": 0,
             "ticks": ""
            },
            "colorscale": [
             [
              0,
              "#0d0887"
             ],
             [
              0.1111111111111111,
              "#46039f"
             ],
             [
              0.2222222222222222,
              "#7201a8"
             ],
             [
              0.3333333333333333,
              "#9c179e"
             ],
             [
              0.4444444444444444,
              "#bd3786"
             ],
             [
              0.5555555555555556,
              "#d8576b"
             ],
             [
              0.6666666666666666,
              "#ed7953"
             ],
             [
              0.7777777777777778,
              "#fb9f3a"
             ],
             [
              0.8888888888888888,
              "#fdca26"
             ],
             [
              1,
              "#f0f921"
             ]
            ],
            "type": "surface"
           }
          ],
          "table": [
           {
            "cells": {
             "fill": {
              "color": "#EBF0F8"
             },
             "line": {
              "color": "white"
             }
            },
            "header": {
             "fill": {
              "color": "#C8D4E3"
             },
             "line": {
              "color": "white"
             }
            },
            "type": "table"
           }
          ]
         },
         "layout": {
          "annotationdefaults": {
           "arrowcolor": "#2a3f5f",
           "arrowhead": 0,
           "arrowwidth": 1
          },
          "autotypenumbers": "strict",
          "coloraxis": {
           "colorbar": {
            "outlinewidth": 0,
            "ticks": ""
           }
          },
          "colorscale": {
           "diverging": [
            [
             0,
             "#8e0152"
            ],
            [
             0.1,
             "#c51b7d"
            ],
            [
             0.2,
             "#de77ae"
            ],
            [
             0.3,
             "#f1b6da"
            ],
            [
             0.4,
             "#fde0ef"
            ],
            [
             0.5,
             "#f7f7f7"
            ],
            [
             0.6,
             "#e6f5d0"
            ],
            [
             0.7,
             "#b8e186"
            ],
            [
             0.8,
             "#7fbc41"
            ],
            [
             0.9,
             "#4d9221"
            ],
            [
             1,
             "#276419"
            ]
           ],
           "sequential": [
            [
             0,
             "#0d0887"
            ],
            [
             0.1111111111111111,
             "#46039f"
            ],
            [
             0.2222222222222222,
             "#7201a8"
            ],
            [
             0.3333333333333333,
             "#9c179e"
            ],
            [
             0.4444444444444444,
             "#bd3786"
            ],
            [
             0.5555555555555556,
             "#d8576b"
            ],
            [
             0.6666666666666666,
             "#ed7953"
            ],
            [
             0.7777777777777778,
             "#fb9f3a"
            ],
            [
             0.8888888888888888,
             "#fdca26"
            ],
            [
             1,
             "#f0f921"
            ]
           ],
           "sequentialminus": [
            [
             0,
             "#0d0887"
            ],
            [
             0.1111111111111111,
             "#46039f"
            ],
            [
             0.2222222222222222,
             "#7201a8"
            ],
            [
             0.3333333333333333,
             "#9c179e"
            ],
            [
             0.4444444444444444,
             "#bd3786"
            ],
            [
             0.5555555555555556,
             "#d8576b"
            ],
            [
             0.6666666666666666,
             "#ed7953"
            ],
            [
             0.7777777777777778,
             "#fb9f3a"
            ],
            [
             0.8888888888888888,
             "#fdca26"
            ],
            [
             1,
             "#f0f921"
            ]
           ]
          },
          "colorway": [
           "#636efa",
           "#EF553B",
           "#00cc96",
           "#ab63fa",
           "#FFA15A",
           "#19d3f3",
           "#FF6692",
           "#B6E880",
           "#FF97FF",
           "#FECB52"
          ],
          "font": {
           "color": "#2a3f5f"
          },
          "geo": {
           "bgcolor": "white",
           "lakecolor": "white",
           "landcolor": "#E5ECF6",
           "showlakes": true,
           "showland": true,
           "subunitcolor": "white"
          },
          "hoverlabel": {
           "align": "left"
          },
          "hovermode": "closest",
          "mapbox": {
           "style": "light"
          },
          "paper_bgcolor": "white",
          "plot_bgcolor": "#E5ECF6",
          "polar": {
           "angularaxis": {
            "gridcolor": "white",
            "linecolor": "white",
            "ticks": ""
           },
           "bgcolor": "#E5ECF6",
           "radialaxis": {
            "gridcolor": "white",
            "linecolor": "white",
            "ticks": ""
           }
          },
          "scene": {
           "xaxis": {
            "backgroundcolor": "#E5ECF6",
            "gridcolor": "white",
            "gridwidth": 2,
            "linecolor": "white",
            "showbackground": true,
            "ticks": "",
            "zerolinecolor": "white"
           },
           "yaxis": {
            "backgroundcolor": "#E5ECF6",
            "gridcolor": "white",
            "gridwidth": 2,
            "linecolor": "white",
            "showbackground": true,
            "ticks": "",
            "zerolinecolor": "white"
           },
           "zaxis": {
            "backgroundcolor": "#E5ECF6",
            "gridcolor": "white",
            "gridwidth": 2,
            "linecolor": "white",
            "showbackground": true,
            "ticks": "",
            "zerolinecolor": "white"
           }
          },
          "shapedefaults": {
           "line": {
            "color": "#2a3f5f"
           }
          },
          "ternary": {
           "aaxis": {
            "gridcolor": "white",
            "linecolor": "white",
            "ticks": ""
           },
           "baxis": {
            "gridcolor": "white",
            "linecolor": "white",
            "ticks": ""
           },
           "bgcolor": "#E5ECF6",
           "caxis": {
            "gridcolor": "white",
            "linecolor": "white",
            "ticks": ""
           }
          },
          "title": {
           "x": 0.05
          },
          "xaxis": {
           "automargin": true,
           "gridcolor": "white",
           "linecolor": "white",
           "ticks": "",
           "title": {
            "standoff": 15
           },
           "zerolinecolor": "white",
           "zerolinewidth": 2
          },
          "yaxis": {
           "automargin": true,
           "gridcolor": "white",
           "linecolor": "white",
           "ticks": "",
           "title": {
            "standoff": 15
           },
           "zerolinecolor": "white",
           "zerolinewidth": 2
          }
         }
        },
        "title": {
         "text": "Most Picked 10 Champions in Support"
        },
        "xaxis": {
         "anchor": "y",
         "domain": [
          0,
          1
         ],
         "title": {
          "text": "Champion"
         }
        },
        "yaxis": {
         "anchor": "x",
         "domain": [
          0,
          1
         ],
         "title": {
          "text": "Number of picks"
         }
        }
       }
      }
     },
     "metadata": {},
     "output_type": "display_data"
    }
   ],
   "source": [
    "for col in champ_picked.columns:\n",
    "    fig = champ_picked[col].sort_values(ascending=False).iloc[:10].plot(kind='bar', title=col)\n",
    "    fig.update_layout(title=f'Most Picked 10 Champions in {col}',xaxis_title='Champion', yaxis_title='Number of picks', showlegend=False)\n",
    "    fig.show()"
   ]
  },
  {
   "cell_type": "markdown",
   "metadata": {},
   "source": [
    "## Step 3: Assessment of Missingness"
   ]
  },
  {
   "cell_type": "markdown",
   "metadata": {},
   "source": [
    "We have two datasets: `tier1_player` and `tier1_team`. We will only use `tier1_team` for later parts, and we will only keep columns that we are interested."
   ]
  },
  {
   "cell_type": "code",
   "execution_count": 106,
   "metadata": {},
   "outputs": [
    {
     "data": {
      "text/html": [
       "<div>\n",
       "<style scoped>\n",
       "    .dataframe tbody tr th:only-of-type {\n",
       "        vertical-align: middle;\n",
       "    }\n",
       "\n",
       "    .dataframe tbody tr th {\n",
       "        vertical-align: top;\n",
       "    }\n",
       "\n",
       "    .dataframe thead th {\n",
       "        text-align: right;\n",
       "    }\n",
       "</style>\n",
       "<table border=\"1\" class=\"dataframe\">\n",
       "  <thead>\n",
       "    <tr style=\"text-align: right;\">\n",
       "      <th></th>\n",
       "      <th>gameid</th>\n",
       "      <th>league</th>\n",
       "      <th>year</th>\n",
       "      <th>split</th>\n",
       "      <th>playoffs</th>\n",
       "      <th>date</th>\n",
       "      <th>game</th>\n",
       "      <th>patch</th>\n",
       "      <th>side</th>\n",
       "      <th>teamname</th>\n",
       "      <th>...</th>\n",
       "      <th>pick1</th>\n",
       "      <th>pick2</th>\n",
       "      <th>pick3</th>\n",
       "      <th>pick4</th>\n",
       "      <th>pick5</th>\n",
       "      <th>gamelength</th>\n",
       "      <th>result</th>\n",
       "      <th>kills</th>\n",
       "      <th>deaths</th>\n",
       "      <th>assists</th>\n",
       "    </tr>\n",
       "  </thead>\n",
       "  <tbody>\n",
       "    <tr>\n",
       "      <th>34</th>\n",
       "      <td>8401-8401_game_1</td>\n",
       "      <td>LPL</td>\n",
       "      <td>2022</td>\n",
       "      <td>Spring</td>\n",
       "      <td>0</td>\n",
       "      <td>2022-01-10 09:24:26</td>\n",
       "      <td>1</td>\n",
       "      <td>12.01</td>\n",
       "      <td>Blue</td>\n",
       "      <td>Oh My God</td>\n",
       "      <td>...</td>\n",
       "      <td>Jinx</td>\n",
       "      <td>Jarvan IV</td>\n",
       "      <td>Nautilus</td>\n",
       "      <td>Syndra</td>\n",
       "      <td>Gwen</td>\n",
       "      <td>1365</td>\n",
       "      <td>1</td>\n",
       "      <td>13</td>\n",
       "      <td>6</td>\n",
       "      <td>35</td>\n",
       "    </tr>\n",
       "    <tr>\n",
       "      <th>35</th>\n",
       "      <td>8401-8401_game_1</td>\n",
       "      <td>LPL</td>\n",
       "      <td>2022</td>\n",
       "      <td>Spring</td>\n",
       "      <td>0</td>\n",
       "      <td>2022-01-10 09:24:26</td>\n",
       "      <td>1</td>\n",
       "      <td>12.01</td>\n",
       "      <td>Red</td>\n",
       "      <td>ThunderTalk Gaming</td>\n",
       "      <td>...</td>\n",
       "      <td>Xin Zhao</td>\n",
       "      <td>Thresh</td>\n",
       "      <td>Aphelios</td>\n",
       "      <td>Vex</td>\n",
       "      <td>Jax</td>\n",
       "      <td>1365</td>\n",
       "      <td>0</td>\n",
       "      <td>6</td>\n",
       "      <td>13</td>\n",
       "      <td>11</td>\n",
       "    </tr>\n",
       "    <tr>\n",
       "      <th>58</th>\n",
       "      <td>8401-8401_game_2</td>\n",
       "      <td>LPL</td>\n",
       "      <td>2022</td>\n",
       "      <td>Spring</td>\n",
       "      <td>0</td>\n",
       "      <td>2022-01-10 10:09:22</td>\n",
       "      <td>2</td>\n",
       "      <td>12.01</td>\n",
       "      <td>Blue</td>\n",
       "      <td>Oh My God</td>\n",
       "      <td>...</td>\n",
       "      <td>Jinx</td>\n",
       "      <td>Xin Zhao</td>\n",
       "      <td>Rakan</td>\n",
       "      <td>Rumble</td>\n",
       "      <td>Corki</td>\n",
       "      <td>1444</td>\n",
       "      <td>1</td>\n",
       "      <td>22</td>\n",
       "      <td>9</td>\n",
       "      <td>40</td>\n",
       "    </tr>\n",
       "    <tr>\n",
       "      <th>59</th>\n",
       "      <td>8401-8401_game_2</td>\n",
       "      <td>LPL</td>\n",
       "      <td>2022</td>\n",
       "      <td>Spring</td>\n",
       "      <td>0</td>\n",
       "      <td>2022-01-10 10:09:22</td>\n",
       "      <td>2</td>\n",
       "      <td>12.01</td>\n",
       "      <td>Red</td>\n",
       "      <td>ThunderTalk Gaming</td>\n",
       "      <td>...</td>\n",
       "      <td>Lee Sin</td>\n",
       "      <td>Leona</td>\n",
       "      <td>Ziggs</td>\n",
       "      <td>Gangplank</td>\n",
       "      <td>Twisted Fate</td>\n",
       "      <td>1444</td>\n",
       "      <td>0</td>\n",
       "      <td>8</td>\n",
       "      <td>22</td>\n",
       "      <td>16</td>\n",
       "    </tr>\n",
       "    <tr>\n",
       "      <th>82</th>\n",
       "      <td>8402-8402_game_1</td>\n",
       "      <td>LPL</td>\n",
       "      <td>2022</td>\n",
       "      <td>Spring</td>\n",
       "      <td>0</td>\n",
       "      <td>2022-01-10 11:26:11</td>\n",
       "      <td>1</td>\n",
       "      <td>12.01</td>\n",
       "      <td>Blue</td>\n",
       "      <td>FunPlus Phoenix</td>\n",
       "      <td>...</td>\n",
       "      <td>Jinx</td>\n",
       "      <td>Viego</td>\n",
       "      <td>Thresh</td>\n",
       "      <td>Corki</td>\n",
       "      <td>Graves</td>\n",
       "      <td>1893</td>\n",
       "      <td>1</td>\n",
       "      <td>12</td>\n",
       "      <td>8</td>\n",
       "      <td>25</td>\n",
       "    </tr>\n",
       "  </tbody>\n",
       "</table>\n",
       "<p>5 rows × 26 columns</p>\n",
       "</div>"
      ],
      "text/plain": [
       "              gameid league  year   split  playoffs                 date  \\\n",
       "34  8401-8401_game_1    LPL  2022  Spring         0  2022-01-10 09:24:26   \n",
       "35  8401-8401_game_1    LPL  2022  Spring         0  2022-01-10 09:24:26   \n",
       "58  8401-8401_game_2    LPL  2022  Spring         0  2022-01-10 10:09:22   \n",
       "59  8401-8401_game_2    LPL  2022  Spring         0  2022-01-10 10:09:22   \n",
       "82  8402-8402_game_1    LPL  2022  Spring         0  2022-01-10 11:26:11   \n",
       "\n",
       "    game  patch  side            teamname  ...     pick1      pick2     pick3  \\\n",
       "34     1  12.01  Blue           Oh My God  ...      Jinx  Jarvan IV  Nautilus   \n",
       "35     1  12.01   Red  ThunderTalk Gaming  ...  Xin Zhao     Thresh  Aphelios   \n",
       "58     2  12.01  Blue           Oh My God  ...      Jinx   Xin Zhao     Rakan   \n",
       "59     2  12.01   Red  ThunderTalk Gaming  ...   Lee Sin      Leona     Ziggs   \n",
       "82     1  12.01  Blue     FunPlus Phoenix  ...      Jinx      Viego    Thresh   \n",
       "\n",
       "        pick4         pick5 gamelength result kills deaths assists  \n",
       "34     Syndra          Gwen       1365      1    13      6      35  \n",
       "35        Vex           Jax       1365      0     6     13      11  \n",
       "58     Rumble         Corki       1444      1    22      9      40  \n",
       "59  Gangplank  Twisted Fate       1444      0     8     22      16  \n",
       "82      Corki        Graves       1893      1    12      8      25  \n",
       "\n",
       "[5 rows x 26 columns]"
      ]
     },
     "execution_count": 106,
     "metadata": {},
     "output_type": "execute_result"
    }
   ],
   "source": [
    "data = tier1_team[['gameid', 'league', 'year', 'split', 'playoffs', 'date', 'game', 'patch', 'side', 'teamname', 'teamid',\n",
    "            'ban1', 'ban2', 'ban3', 'ban4', 'ban5', 'pick1', 'pick2', 'pick3', 'pick4', 'pick5', \n",
    "            'gamelength', 'result', 'kills', 'deaths', 'assists']]\n",
    "data.head()"
   ]
  },
  {
   "cell_type": "markdown",
   "metadata": {},
   "source": [
    "From the following code block, we can see that missingness values exist in `split`, `ban`, `pick` columns, so we are going to examine further."
   ]
  },
  {
   "cell_type": "code",
   "execution_count": 107,
   "metadata": {},
   "outputs": [
    {
     "data": {
      "text/plain": [
       "gameid          0\n",
       "league          0\n",
       "year            0\n",
       "split         166\n",
       "playoffs        0\n",
       "date            0\n",
       "game            0\n",
       "patch           0\n",
       "side            0\n",
       "teamname        0\n",
       "teamid          0\n",
       "ban1            7\n",
       "ban2            4\n",
       "ban3           14\n",
       "ban4           16\n",
       "ban5           28\n",
       "pick1          42\n",
       "pick2          42\n",
       "pick3          42\n",
       "pick4          42\n",
       "pick5          42\n",
       "gamelength      0\n",
       "result          0\n",
       "kills           0\n",
       "deaths          0\n",
       "assists         0\n",
       "dtype: int64"
      ]
     },
     "execution_count": 107,
     "metadata": {},
     "output_type": "execute_result"
    }
   ],
   "source": [
    "data.isnull().sum()"
   ]
  },
  {
   "cell_type": "markdown",
   "metadata": {},
   "source": [
    "Since the pick1 - pick5 columns have the same number of missing values, it looks that they are missing together.\n",
    "\n",
    "From the dataframe below, there is only one game (two rows, blue and red) that has nan in pick columns is from LPL 2022 Spring Regular Season, but the others are from VCS 2022 Summer Regular Season."
   ]
  },
  {
   "cell_type": "code",
   "execution_count": 119,
   "metadata": {},
   "outputs": [
    {
     "data": {
      "text/plain": [
       "league  year  split   playoffs\n",
       "LPL     2022  Spring  0            2\n",
       "VCS     2022  Summer  0           40\n",
       "dtype: int64"
      ]
     },
     "execution_count": 119,
     "metadata": {},
     "output_type": "execute_result"
    }
   ],
   "source": [
    "data[data['pick1'].isnull()].groupby(['league', 'year', 'split', 'playoffs']).size()"
   ]
  },
  {
   "cell_type": "markdown",
   "metadata": {},
   "source": [
    "From the below, we can see that those ban columns usually only have one nan value in the row (except for 8473-8473_game_1, which is the game from LPL mentioned above), so we would like to argue that those nan values is **MCAR**, because it is allowed to have empty ban, which become nan values in our data. We would like to carry out permutation tests to test if the `ban1` to `ban5` columns are dependent to the `league` column."
   ]
  },
  {
   "cell_type": "code",
   "execution_count": 118,
   "metadata": {},
   "outputs": [
    {
     "data": {
      "text/html": [
       "<div>\n",
       "<style scoped>\n",
       "    .dataframe tbody tr th:only-of-type {\n",
       "        vertical-align: middle;\n",
       "    }\n",
       "\n",
       "    .dataframe tbody tr th {\n",
       "        vertical-align: top;\n",
       "    }\n",
       "\n",
       "    .dataframe thead th {\n",
       "        text-align: right;\n",
       "    }\n",
       "</style>\n",
       "<table border=\"1\" class=\"dataframe\">\n",
       "  <thead>\n",
       "    <tr style=\"text-align: right;\">\n",
       "      <th></th>\n",
       "      <th>gameid</th>\n",
       "      <th>league</th>\n",
       "      <th>year</th>\n",
       "      <th>split</th>\n",
       "      <th>playoffs</th>\n",
       "      <th>date</th>\n",
       "      <th>game</th>\n",
       "      <th>patch</th>\n",
       "      <th>side</th>\n",
       "      <th>teamname</th>\n",
       "      <th>teamid</th>\n",
       "      <th>ban1</th>\n",
       "      <th>ban2</th>\n",
       "      <th>ban3</th>\n",
       "      <th>ban4</th>\n",
       "      <th>ban5</th>\n",
       "    </tr>\n",
       "  </thead>\n",
       "  <tbody>\n",
       "    <tr>\n",
       "      <th>1487</th>\n",
       "      <td>ESPORTSTMNT01_2690705</td>\n",
       "      <td>LCK</td>\n",
       "      <td>2022</td>\n",
       "      <td>Spring</td>\n",
       "      <td>0</td>\n",
       "      <td>2022-01-12 10:07:10</td>\n",
       "      <td>1</td>\n",
       "      <td>12.01</td>\n",
       "      <td>Red</td>\n",
       "      <td>Kwangdong Freecs</td>\n",
       "      <td>oe:team:0b65555ba9e97910fc1e7264a99fa24</td>\n",
       "      <td>Renekton</td>\n",
       "      <td>Twisted Fate</td>\n",
       "      <td>Vex</td>\n",
       "      <td>Jayce</td>\n",
       "      <td>NaN</td>\n",
       "    </tr>\n",
       "    <tr>\n",
       "      <th>2507</th>\n",
       "      <td>ESPORTSTMNT01_2691557</td>\n",
       "      <td>LCK</td>\n",
       "      <td>2022</td>\n",
       "      <td>Spring</td>\n",
       "      <td>0</td>\n",
       "      <td>2022-01-14 13:00:25</td>\n",
       "      <td>3</td>\n",
       "      <td>12.01</td>\n",
       "      <td>Red</td>\n",
       "      <td>T1</td>\n",
       "      <td>oe:team:ce499dea30cfce118f4fe85da0227e8</td>\n",
       "      <td>Lee Sin</td>\n",
       "      <td>Renekton</td>\n",
       "      <td>NaN</td>\n",
       "      <td>Camille</td>\n",
       "      <td>LeBlanc</td>\n",
       "    </tr>\n",
       "    <tr>\n",
       "      <th>10642</th>\n",
       "      <td>ESPORTSTMNT02_2552213</td>\n",
       "      <td>CBLOL</td>\n",
       "      <td>2022</td>\n",
       "      <td>Split 1</td>\n",
       "      <td>0</td>\n",
       "      <td>2022-01-29 18:14:54</td>\n",
       "      <td>1</td>\n",
       "      <td>12.02</td>\n",
       "      <td>Blue</td>\n",
       "      <td>KaBuM! e-Sports</td>\n",
       "      <td>oe:team:9dced510f02f8586ee7501922484ac0</td>\n",
       "      <td>Renekton</td>\n",
       "      <td>Twisted Fate</td>\n",
       "      <td>Viego</td>\n",
       "      <td>Yuumi</td>\n",
       "      <td>NaN</td>\n",
       "    </tr>\n",
       "    <tr>\n",
       "      <th>14854</th>\n",
       "      <td>ESPORTSTMNT02_2576641</td>\n",
       "      <td>LCO</td>\n",
       "      <td>2022</td>\n",
       "      <td>Split 1</td>\n",
       "      <td>0</td>\n",
       "      <td>2022-02-07 06:43:48</td>\n",
       "      <td>1</td>\n",
       "      <td>12.02</td>\n",
       "      <td>Blue</td>\n",
       "      <td>Gravitas</td>\n",
       "      <td>oe:team:4889684df277c6008eb89f48f94bded</td>\n",
       "      <td>Gwen</td>\n",
       "      <td>Jarvan IV</td>\n",
       "      <td>Senna</td>\n",
       "      <td>NaN</td>\n",
       "      <td>NaN</td>\n",
       "    </tr>\n",
       "    <tr>\n",
       "      <th>19786</th>\n",
       "      <td>ESPORTSTMNT02_2558786</td>\n",
       "      <td>VCS</td>\n",
       "      <td>2022</td>\n",
       "      <td>Spring</td>\n",
       "      <td>0</td>\n",
       "      <td>2022-02-13 10:43:35</td>\n",
       "      <td>2</td>\n",
       "      <td>12.02</td>\n",
       "      <td>Blue</td>\n",
       "      <td>SBTC Esports</td>\n",
       "      <td>oe:team:31df330ccc0f1b3b521959a24288ac4</td>\n",
       "      <td>Corki</td>\n",
       "      <td>LeBlanc</td>\n",
       "      <td>Viktor</td>\n",
       "      <td>NaN</td>\n",
       "      <td>Braum</td>\n",
       "    </tr>\n",
       "    <tr>\n",
       "      <th>24539</th>\n",
       "      <td>8468-8468_game_1</td>\n",
       "      <td>LPL</td>\n",
       "      <td>2022</td>\n",
       "      <td>Spring</td>\n",
       "      <td>0</td>\n",
       "      <td>2022-02-18 07:23:05</td>\n",
       "      <td>1</td>\n",
       "      <td>12.02</td>\n",
       "      <td>Red</td>\n",
       "      <td>Rare Atom</td>\n",
       "      <td>oe:team:8516ca63facc91286d6c00212ca945e</td>\n",
       "      <td>Zeri</td>\n",
       "      <td>Renekton</td>\n",
       "      <td>NaN</td>\n",
       "      <td>Hecarim</td>\n",
       "      <td>Camille</td>\n",
       "    </tr>\n",
       "    <tr>\n",
       "      <th>25738</th>\n",
       "      <td>8473-8473_game_1</td>\n",
       "      <td>LPL</td>\n",
       "      <td>2022</td>\n",
       "      <td>Spring</td>\n",
       "      <td>0</td>\n",
       "      <td>2022-02-19 11:34:46</td>\n",
       "      <td>1</td>\n",
       "      <td>12.02</td>\n",
       "      <td>Blue</td>\n",
       "      <td>JD Gaming</td>\n",
       "      <td>oe:team:b42d0f31f2727621b963042276817c4</td>\n",
       "      <td>NaN</td>\n",
       "      <td>NaN</td>\n",
       "      <td>NaN</td>\n",
       "      <td>NaN</td>\n",
       "      <td>NaN</td>\n",
       "    </tr>\n",
       "    <tr>\n",
       "      <th>25739</th>\n",
       "      <td>8473-8473_game_1</td>\n",
       "      <td>LPL</td>\n",
       "      <td>2022</td>\n",
       "      <td>Spring</td>\n",
       "      <td>0</td>\n",
       "      <td>2022-02-19 11:34:46</td>\n",
       "      <td>1</td>\n",
       "      <td>12.02</td>\n",
       "      <td>Red</td>\n",
       "      <td>Top Esports</td>\n",
       "      <td>oe:team:fcec508e780bbd1ad493852640f5b36</td>\n",
       "      <td>NaN</td>\n",
       "      <td>NaN</td>\n",
       "      <td>NaN</td>\n",
       "      <td>NaN</td>\n",
       "      <td>NaN</td>\n",
       "    </tr>\n",
       "    <tr>\n",
       "      <th>26242</th>\n",
       "      <td>ESPORTSTMNT03_2547408</td>\n",
       "      <td>PCS</td>\n",
       "      <td>2022</td>\n",
       "      <td>Spring</td>\n",
       "      <td>0</td>\n",
       "      <td>2022-02-20 07:51:56</td>\n",
       "      <td>1</td>\n",
       "      <td>12.03</td>\n",
       "      <td>Blue</td>\n",
       "      <td>SEM9</td>\n",
       "      <td>oe:team:5e3055ed3b815352627fec92727dfe6</td>\n",
       "      <td>Akali</td>\n",
       "      <td>Aphelios</td>\n",
       "      <td>NaN</td>\n",
       "      <td>Nautilus</td>\n",
       "      <td>Zoe</td>\n",
       "    </tr>\n",
       "    <tr>\n",
       "      <th>26327</th>\n",
       "      <td>ESPORTSTMNT03_2547435</td>\n",
       "      <td>LCK</td>\n",
       "      <td>2022</td>\n",
       "      <td>Spring</td>\n",
       "      <td>0</td>\n",
       "      <td>2022-02-20 09:40:04</td>\n",
       "      <td>3</td>\n",
       "      <td>12.03</td>\n",
       "      <td>Red</td>\n",
       "      <td>KT Rolster</td>\n",
       "      <td>oe:team:d723992568441c6bafa2658129eade7</td>\n",
       "      <td>Twisted Fate</td>\n",
       "      <td>Zeri</td>\n",
       "      <td>NaN</td>\n",
       "      <td>Viktor</td>\n",
       "      <td>Vex</td>\n",
       "    </tr>\n",
       "    <tr>\n",
       "      <th>28811</th>\n",
       "      <td>ESPORTSTMNT03_2549195</td>\n",
       "      <td>LCO</td>\n",
       "      <td>2022</td>\n",
       "      <td>Split 1</td>\n",
       "      <td>0</td>\n",
       "      <td>2022-02-23 07:19:25</td>\n",
       "      <td>1</td>\n",
       "      <td>12.03</td>\n",
       "      <td>Red</td>\n",
       "      <td>Dire Wolves</td>\n",
       "      <td>oe:team:cd6e0eea04af23b9c0735dab41a9941</td>\n",
       "      <td>Zeri</td>\n",
       "      <td>Veigar</td>\n",
       "      <td>Gwen</td>\n",
       "      <td>NaN</td>\n",
       "      <td>NaN</td>\n",
       "    </tr>\n",
       "    <tr>\n",
       "      <th>29050</th>\n",
       "      <td>8746-8746_game_2</td>\n",
       "      <td>LPL</td>\n",
       "      <td>2022</td>\n",
       "      <td>Spring</td>\n",
       "      <td>0</td>\n",
       "      <td>2022-02-23 13:01:38</td>\n",
       "      <td>2</td>\n",
       "      <td>12.02</td>\n",
       "      <td>Blue</td>\n",
       "      <td>EDward Gaming</td>\n",
       "      <td>oe:team:056c3140a119e44a03d462e2c832f27</td>\n",
       "      <td>Lee Sin</td>\n",
       "      <td>Gwen</td>\n",
       "      <td>NaN</td>\n",
       "      <td>Orianna</td>\n",
       "      <td>Gnar</td>\n",
       "    </tr>\n",
       "    <tr>\n",
       "      <th>31186</th>\n",
       "      <td>ESPORTSTMNT01_2731398</td>\n",
       "      <td>LCS</td>\n",
       "      <td>2022</td>\n",
       "      <td>Spring</td>\n",
       "      <td>0</td>\n",
       "      <td>2022-02-25 23:32:00</td>\n",
       "      <td>1</td>\n",
       "      <td>12.04</td>\n",
       "      <td>Blue</td>\n",
       "      <td>Golden Guardians</td>\n",
       "      <td>oe:team:87ee02298073abc2d55060f097d4041</td>\n",
       "      <td>Jayce</td>\n",
       "      <td>Graves</td>\n",
       "      <td>Corki</td>\n",
       "      <td>NaN</td>\n",
       "      <td>Gangplank</td>\n",
       "    </tr>\n",
       "    <tr>\n",
       "      <th>32447</th>\n",
       "      <td>ESPORTSTMNT03_2590257</td>\n",
       "      <td>PCS</td>\n",
       "      <td>2022</td>\n",
       "      <td>Spring</td>\n",
       "      <td>0</td>\n",
       "      <td>2022-02-27 12:02:29</td>\n",
       "      <td>1</td>\n",
       "      <td>12.03</td>\n",
       "      <td>Red</td>\n",
       "      <td>Hurricane Gaming</td>\n",
       "      <td>oe:team:810d335400a6391892d9f9bef5d57b3</td>\n",
       "      <td>Zeri</td>\n",
       "      <td>Tryndamere</td>\n",
       "      <td>NaN</td>\n",
       "      <td>Diana</td>\n",
       "      <td>Lee Sin</td>\n",
       "    </tr>\n",
       "    <tr>\n",
       "      <th>33131</th>\n",
       "      <td>8759-8759_game_2</td>\n",
       "      <td>LPL</td>\n",
       "      <td>2022</td>\n",
       "      <td>Spring</td>\n",
       "      <td>0</td>\n",
       "      <td>2022-02-28 12:06:50</td>\n",
       "      <td>2</td>\n",
       "      <td>12.04</td>\n",
       "      <td>Red</td>\n",
       "      <td>LGD Gaming</td>\n",
       "      <td>oe:team:5f401785b6b78326f9a46b3c6b206ed</td>\n",
       "      <td>Zeri</td>\n",
       "      <td>Gwen</td>\n",
       "      <td>Ryze</td>\n",
       "      <td>NaN</td>\n",
       "      <td>Yuumi</td>\n",
       "    </tr>\n",
       "    <tr>\n",
       "      <th>34858</th>\n",
       "      <td>ESPORTSTMNT01_2734124</td>\n",
       "      <td>LCK</td>\n",
       "      <td>2022</td>\n",
       "      <td>Spring</td>\n",
       "      <td>0</td>\n",
       "      <td>2022-03-02 12:17:52</td>\n",
       "      <td>2</td>\n",
       "      <td>12.04</td>\n",
       "      <td>Blue</td>\n",
       "      <td>Liiv SANDBOX</td>\n",
       "      <td>oe:team:c75f1f337fc5867914749d438a4871d</td>\n",
       "      <td>Twisted Fate</td>\n",
       "      <td>Caitlyn</td>\n",
       "      <td>NaN</td>\n",
       "      <td>Viego</td>\n",
       "      <td>Lee Sin</td>\n",
       "    </tr>\n",
       "    <tr>\n",
       "      <th>37271</th>\n",
       "      <td>8767-8767_game_1</td>\n",
       "      <td>LPL</td>\n",
       "      <td>2022</td>\n",
       "      <td>Spring</td>\n",
       "      <td>0</td>\n",
       "      <td>2022-03-05 07:20:23</td>\n",
       "      <td>1</td>\n",
       "      <td>12.04</td>\n",
       "      <td>Red</td>\n",
       "      <td>LGD Gaming</td>\n",
       "      <td>oe:team:5f401785b6b78326f9a46b3c6b206ed</td>\n",
       "      <td>Gwen</td>\n",
       "      <td>Zeri</td>\n",
       "      <td>Twisted Fate</td>\n",
       "      <td>NaN</td>\n",
       "      <td>Gnar</td>\n",
       "    </tr>\n",
       "    <tr>\n",
       "      <th>43510</th>\n",
       "      <td>ESPORTSTMNT01_2810127</td>\n",
       "      <td>LJL</td>\n",
       "      <td>2022</td>\n",
       "      <td>Spring</td>\n",
       "      <td>0</td>\n",
       "      <td>2022-03-13 08:44:53</td>\n",
       "      <td>1</td>\n",
       "      <td>12.04</td>\n",
       "      <td>Blue</td>\n",
       "      <td>Fukuoka SoftBank HAWKS gaming</td>\n",
       "      <td>oe:team:d8ca3fc1f0827ec76369af7b70d43e3</td>\n",
       "      <td>Tryndamere</td>\n",
       "      <td>Zeri</td>\n",
       "      <td>Darius</td>\n",
       "      <td>Kai'Sa</td>\n",
       "      <td>NaN</td>\n",
       "    </tr>\n",
       "    <tr>\n",
       "      <th>49499</th>\n",
       "      <td>ESPORTSTMNT03_2631825</td>\n",
       "      <td>CBLOL</td>\n",
       "      <td>2022</td>\n",
       "      <td>Split 1</td>\n",
       "      <td>0</td>\n",
       "      <td>2022-03-20 18:58:49</td>\n",
       "      <td>1</td>\n",
       "      <td>12.05</td>\n",
       "      <td>Red</td>\n",
       "      <td>Flamengo Esports</td>\n",
       "      <td>oe:team:5ef087125f8255546c01970122b3cec</td>\n",
       "      <td>Jayce</td>\n",
       "      <td>Graves</td>\n",
       "      <td>Zeri</td>\n",
       "      <td>Thresh</td>\n",
       "      <td>NaN</td>\n",
       "    </tr>\n",
       "    <tr>\n",
       "      <th>49870</th>\n",
       "      <td>ESPORTSTMNT02_2663198</td>\n",
       "      <td>LCO</td>\n",
       "      <td>2022</td>\n",
       "      <td>Split 1</td>\n",
       "      <td>0</td>\n",
       "      <td>2022-03-21 09:54:08</td>\n",
       "      <td>1</td>\n",
       "      <td>12.05</td>\n",
       "      <td>Blue</td>\n",
       "      <td>ORDER</td>\n",
       "      <td>oe:team:6575d9a58f0b41a108f2d6a565a0650</td>\n",
       "      <td>Karma</td>\n",
       "      <td>Ahri</td>\n",
       "      <td>Hecarim</td>\n",
       "      <td>NaN</td>\n",
       "      <td>NaN</td>\n",
       "    </tr>\n",
       "    <tr>\n",
       "      <th>52822</th>\n",
       "      <td>8795-8795_game_2</td>\n",
       "      <td>LPL</td>\n",
       "      <td>2022</td>\n",
       "      <td>Spring</td>\n",
       "      <td>0</td>\n",
       "      <td>2022-03-25 11:57:55</td>\n",
       "      <td>2</td>\n",
       "      <td>12.04</td>\n",
       "      <td>Blue</td>\n",
       "      <td>Royal Never Give Up</td>\n",
       "      <td>oe:team:73f3126d91d35faa5d5ce34abadb865</td>\n",
       "      <td>Akali</td>\n",
       "      <td>Tryndamere</td>\n",
       "      <td>Volibear</td>\n",
       "      <td>Rumble</td>\n",
       "      <td>NaN</td>\n",
       "    </tr>\n",
       "    <tr>\n",
       "      <th>53723</th>\n",
       "      <td>ESPORTSTMNT03_2633616</td>\n",
       "      <td>CBLOL</td>\n",
       "      <td>2022</td>\n",
       "      <td>Split 1</td>\n",
       "      <td>1</td>\n",
       "      <td>2022-03-26 15:44:55</td>\n",
       "      <td>1</td>\n",
       "      <td>12.05</td>\n",
       "      <td>Red</td>\n",
       "      <td>RED Canids</td>\n",
       "      <td>oe:team:67169969ecc058b307edfa9c6b7a3c0</td>\n",
       "      <td>Jayce</td>\n",
       "      <td>Lee Sin</td>\n",
       "      <td>Jinx</td>\n",
       "      <td>Kennen</td>\n",
       "      <td>NaN</td>\n",
       "    </tr>\n",
       "    <tr>\n",
       "      <th>54359</th>\n",
       "      <td>ESPORTSTMNT01_2840075</td>\n",
       "      <td>VCS</td>\n",
       "      <td>2022</td>\n",
       "      <td>Spring</td>\n",
       "      <td>0</td>\n",
       "      <td>2022-03-27 14:46:50</td>\n",
       "      <td>3</td>\n",
       "      <td>12.04</td>\n",
       "      <td>Red</td>\n",
       "      <td>CERBERUS Esports</td>\n",
       "      <td>oe:team:05825167aedac3dc1e6f72133f52604</td>\n",
       "      <td>NaN</td>\n",
       "      <td>Hecarim</td>\n",
       "      <td>Lee Sin</td>\n",
       "      <td>Camille</td>\n",
       "      <td>Akali</td>\n",
       "    </tr>\n",
       "    <tr>\n",
       "      <th>54443</th>\n",
       "      <td>ESPORTSTMNT03_2653794</td>\n",
       "      <td>CBLOL</td>\n",
       "      <td>2022</td>\n",
       "      <td>Split 1</td>\n",
       "      <td>1</td>\n",
       "      <td>2022-03-27 17:58:59</td>\n",
       "      <td>3</td>\n",
       "      <td>12.05</td>\n",
       "      <td>Red</td>\n",
       "      <td>paiN Gaming</td>\n",
       "      <td>oe:team:61450737f7b683db4da7b3e0bf0dced</td>\n",
       "      <td>Caitlyn</td>\n",
       "      <td>Viktor</td>\n",
       "      <td>Zeri</td>\n",
       "      <td>Alistar</td>\n",
       "      <td>NaN</td>\n",
       "    </tr>\n",
       "    <tr>\n",
       "      <th>60946</th>\n",
       "      <td>ESPORTSTMNT03_2657112</td>\n",
       "      <td>CBLOL</td>\n",
       "      <td>2022</td>\n",
       "      <td>Split 1</td>\n",
       "      <td>1</td>\n",
       "      <td>2022-04-09 18:21:56</td>\n",
       "      <td>3</td>\n",
       "      <td>12.05</td>\n",
       "      <td>Blue</td>\n",
       "      <td>RED Canids</td>\n",
       "      <td>oe:team:67169969ecc058b307edfa9c6b7a3c0</td>\n",
       "      <td>Tryndamere</td>\n",
       "      <td>Volibear</td>\n",
       "      <td>Zeri</td>\n",
       "      <td>NaN</td>\n",
       "      <td>NaN</td>\n",
       "    </tr>\n",
       "    <tr>\n",
       "      <th>65519</th>\n",
       "      <td>ESPORTSTMNT03_2711052</td>\n",
       "      <td>VCS</td>\n",
       "      <td>2022</td>\n",
       "      <td>Summer</td>\n",
       "      <td>0</td>\n",
       "      <td>2022-05-06 04:46:56</td>\n",
       "      <td>3</td>\n",
       "      <td>12.08</td>\n",
       "      <td>Red</td>\n",
       "      <td>Genius Esports</td>\n",
       "      <td>oe:team:5d81332d807fb5ebe9ca0e63fc7f375</td>\n",
       "      <td>NaN</td>\n",
       "      <td>Syndra</td>\n",
       "      <td>Ahri</td>\n",
       "      <td>LeBlanc</td>\n",
       "      <td>Akali</td>\n",
       "    </tr>\n",
       "    <tr>\n",
       "      <th>73186</th>\n",
       "      <td>ESPORTSTMNT02_2785385</td>\n",
       "      <td>LCO</td>\n",
       "      <td>2022</td>\n",
       "      <td>Split 2</td>\n",
       "      <td>0</td>\n",
       "      <td>2022-06-07 07:42:04</td>\n",
       "      <td>1</td>\n",
       "      <td>12.10</td>\n",
       "      <td>Blue</td>\n",
       "      <td>Kanga Esports</td>\n",
       "      <td>oe:team:40ca71047541a6edbbb6e29893f9058</td>\n",
       "      <td>Kog'Maw</td>\n",
       "      <td>Wukong</td>\n",
       "      <td>Gwen</td>\n",
       "      <td>Viego</td>\n",
       "      <td>NaN</td>\n",
       "    </tr>\n",
       "    <tr>\n",
       "      <th>76090</th>\n",
       "      <td>ESPORTSTMNT02_2788476</td>\n",
       "      <td>LLA</td>\n",
       "      <td>2022</td>\n",
       "      <td>Closing</td>\n",
       "      <td>0</td>\n",
       "      <td>2022-06-11 21:34:13</td>\n",
       "      <td>1</td>\n",
       "      <td>12.10</td>\n",
       "      <td>Blue</td>\n",
       "      <td>All Knights</td>\n",
       "      <td>oe:team:ac644a006bcf1a44682d666df19864c</td>\n",
       "      <td>Lillia</td>\n",
       "      <td>Senna</td>\n",
       "      <td>Gwen</td>\n",
       "      <td>Veigar</td>\n",
       "      <td>NaN</td>\n",
       "    </tr>\n",
       "    <tr>\n",
       "      <th>76523</th>\n",
       "      <td>8952-8952_game_2</td>\n",
       "      <td>LPL</td>\n",
       "      <td>2022</td>\n",
       "      <td>Summer</td>\n",
       "      <td>0</td>\n",
       "      <td>2022-06-13 12:32:48</td>\n",
       "      <td>2</td>\n",
       "      <td>12.10</td>\n",
       "      <td>Red</td>\n",
       "      <td>EDward Gaming</td>\n",
       "      <td>oe:team:056c3140a119e44a03d462e2c832f27</td>\n",
       "      <td>Gwen</td>\n",
       "      <td>Lucian</td>\n",
       "      <td>Kalista</td>\n",
       "      <td>Sylas</td>\n",
       "      <td>NaN</td>\n",
       "    </tr>\n",
       "    <tr>\n",
       "      <th>79295</th>\n",
       "      <td>8958-8958_game_3</td>\n",
       "      <td>LPL</td>\n",
       "      <td>2022</td>\n",
       "      <td>Summer</td>\n",
       "      <td>0</td>\n",
       "      <td>2022-06-16 13:38:29</td>\n",
       "      <td>3</td>\n",
       "      <td>12.10</td>\n",
       "      <td>Red</td>\n",
       "      <td>Bilibili Gaming</td>\n",
       "      <td>oe:team:d356a144644879dabb5f34cd99c886d</td>\n",
       "      <td>Wukong</td>\n",
       "      <td>Taliyah</td>\n",
       "      <td>Lucian</td>\n",
       "      <td>NaN</td>\n",
       "      <td>NaN</td>\n",
       "    </tr>\n",
       "    <tr>\n",
       "      <th>80231</th>\n",
       "      <td>ESPORTSTMNT03_2780993</td>\n",
       "      <td>LEC</td>\n",
       "      <td>2022</td>\n",
       "      <td>Summer</td>\n",
       "      <td>0</td>\n",
       "      <td>2022-06-17 19:19:37</td>\n",
       "      <td>1</td>\n",
       "      <td>12.11</td>\n",
       "      <td>Red</td>\n",
       "      <td>Astralis</td>\n",
       "      <td>oe:team:128d0cec08b877912eb91f94a1f3295</td>\n",
       "      <td>Kalista</td>\n",
       "      <td>Lucian</td>\n",
       "      <td>Ahri</td>\n",
       "      <td>Azir</td>\n",
       "      <td>NaN</td>\n",
       "    </tr>\n",
       "    <tr>\n",
       "      <th>86363</th>\n",
       "      <td>ESPORTSTMNT03_2796815</td>\n",
       "      <td>LLA</td>\n",
       "      <td>2022</td>\n",
       "      <td>Closing</td>\n",
       "      <td>0</td>\n",
       "      <td>2022-06-25 21:07:00</td>\n",
       "      <td>1</td>\n",
       "      <td>12.11</td>\n",
       "      <td>Red</td>\n",
       "      <td>Rainbow7</td>\n",
       "      <td>oe:team:a3163ae7be388387914d76fe89dc036</td>\n",
       "      <td>Taliyah</td>\n",
       "      <td>Wukong</td>\n",
       "      <td>NaN</td>\n",
       "      <td>Lissandra</td>\n",
       "      <td>LeBlanc</td>\n",
       "    </tr>\n",
       "    <tr>\n",
       "      <th>89566</th>\n",
       "      <td>8986-8986_game_2</td>\n",
       "      <td>LPL</td>\n",
       "      <td>2022</td>\n",
       "      <td>Summer</td>\n",
       "      <td>0</td>\n",
       "      <td>2022-06-29 11:27:11</td>\n",
       "      <td>2</td>\n",
       "      <td>12.11</td>\n",
       "      <td>Blue</td>\n",
       "      <td>Ultra Prime</td>\n",
       "      <td>oe:team:8d09428f093dfbf3c488bce350af0b1</td>\n",
       "      <td>Gwen</td>\n",
       "      <td>Ahri</td>\n",
       "      <td>Viego</td>\n",
       "      <td>Fiora</td>\n",
       "      <td>NaN</td>\n",
       "    </tr>\n",
       "    <tr>\n",
       "      <th>94691</th>\n",
       "      <td>ESPORTSTMNT01_2982943</td>\n",
       "      <td>LCO</td>\n",
       "      <td>2022</td>\n",
       "      <td>Split 2</td>\n",
       "      <td>0</td>\n",
       "      <td>2022-07-06 08:45:01</td>\n",
       "      <td>1</td>\n",
       "      <td>12.12</td>\n",
       "      <td>Red</td>\n",
       "      <td>Gravitas</td>\n",
       "      <td>oe:team:4889684df277c6008eb89f48f94bded</td>\n",
       "      <td>NaN</td>\n",
       "      <td>Azir</td>\n",
       "      <td>Cassiopeia</td>\n",
       "      <td>Gangplank</td>\n",
       "      <td>Tristana</td>\n",
       "    </tr>\n",
       "    <tr>\n",
       "      <th>98135</th>\n",
       "      <td>ESPORTSTMNT02_2911303</td>\n",
       "      <td>LCO</td>\n",
       "      <td>2022</td>\n",
       "      <td>Split 2</td>\n",
       "      <td>0</td>\n",
       "      <td>2022-07-11 10:42:21</td>\n",
       "      <td>1</td>\n",
       "      <td>12.12</td>\n",
       "      <td>Red</td>\n",
       "      <td>Kanga Esports</td>\n",
       "      <td>oe:team:40ca71047541a6edbbb6e29893f9058</td>\n",
       "      <td>Kayle</td>\n",
       "      <td>Seraphine</td>\n",
       "      <td>NaN</td>\n",
       "      <td>Volibear</td>\n",
       "      <td>Trundle</td>\n",
       "    </tr>\n",
       "    <tr>\n",
       "      <th>98195</th>\n",
       "      <td>9280-9280_game_3</td>\n",
       "      <td>LPL</td>\n",
       "      <td>2022</td>\n",
       "      <td>Summer</td>\n",
       "      <td>0</td>\n",
       "      <td>2022-07-11 12:47:07</td>\n",
       "      <td>3</td>\n",
       "      <td>12.12</td>\n",
       "      <td>Red</td>\n",
       "      <td>Rare Atom</td>\n",
       "      <td>oe:team:8516ca63facc91286d6c00212ca945e</td>\n",
       "      <td>Gangplank</td>\n",
       "      <td>Zeri</td>\n",
       "      <td>NaN</td>\n",
       "      <td>Gnar</td>\n",
       "      <td>Renata Glasc</td>\n",
       "    </tr>\n",
       "    <tr>\n",
       "      <th>99035</th>\n",
       "      <td>ESPORTSTMNT02_2911639</td>\n",
       "      <td>LCO</td>\n",
       "      <td>2022</td>\n",
       "      <td>Split 2</td>\n",
       "      <td>0</td>\n",
       "      <td>2022-07-12 07:41:25</td>\n",
       "      <td>1</td>\n",
       "      <td>12.12</td>\n",
       "      <td>Red</td>\n",
       "      <td>Dire Wolves</td>\n",
       "      <td>oe:team:cd6e0eea04af23b9c0735dab41a9941</td>\n",
       "      <td>Viego</td>\n",
       "      <td>Rakan</td>\n",
       "      <td>Lee Sin</td>\n",
       "      <td>NaN</td>\n",
       "      <td>NaN</td>\n",
       "    </tr>\n",
       "    <tr>\n",
       "      <th>107735</th>\n",
       "      <td>ESPORTSTMNT05_2980556</td>\n",
       "      <td>LCK</td>\n",
       "      <td>2022</td>\n",
       "      <td>Summer</td>\n",
       "      <td>0</td>\n",
       "      <td>2022-07-23 06:15:48</td>\n",
       "      <td>1</td>\n",
       "      <td>12.12</td>\n",
       "      <td>Red</td>\n",
       "      <td>T1</td>\n",
       "      <td>oe:team:ce499dea30cfce118f4fe85da0227e8</td>\n",
       "      <td>Zeri</td>\n",
       "      <td>Sylas</td>\n",
       "      <td>Corki</td>\n",
       "      <td>Wukong</td>\n",
       "      <td>NaN</td>\n",
       "    </tr>\n",
       "    <tr>\n",
       "      <th>109451</th>\n",
       "      <td>ESPORTSTMNT03_2892347</td>\n",
       "      <td>LCO</td>\n",
       "      <td>2022</td>\n",
       "      <td>Split 2</td>\n",
       "      <td>0</td>\n",
       "      <td>2022-07-25 11:14:49</td>\n",
       "      <td>1</td>\n",
       "      <td>12.13</td>\n",
       "      <td>Red</td>\n",
       "      <td>Chiefs Esports Club</td>\n",
       "      <td>oe:team:692bccdba8ec7050f5aeb916815439e</td>\n",
       "      <td>Sylas</td>\n",
       "      <td>LeBlanc</td>\n",
       "      <td>Renata Glasc</td>\n",
       "      <td>Senna</td>\n",
       "      <td>NaN</td>\n",
       "    </tr>\n",
       "    <tr>\n",
       "      <th>110902</th>\n",
       "      <td>ESPORTSTMNT06_2531032</td>\n",
       "      <td>LCK</td>\n",
       "      <td>2022</td>\n",
       "      <td>Summer</td>\n",
       "      <td>0</td>\n",
       "      <td>2022-07-27 12:18:52</td>\n",
       "      <td>2</td>\n",
       "      <td>12.13</td>\n",
       "      <td>Blue</td>\n",
       "      <td>DWG KIA</td>\n",
       "      <td>oe:team:2e79800a550f87f2378dbba9368396d</td>\n",
       "      <td>Kalista</td>\n",
       "      <td>Lucian</td>\n",
       "      <td>Gwen</td>\n",
       "      <td>NaN</td>\n",
       "      <td>Sylas</td>\n",
       "    </tr>\n",
       "    <tr>\n",
       "      <th>111634</th>\n",
       "      <td>9315-9315_game_1</td>\n",
       "      <td>LPL</td>\n",
       "      <td>2022</td>\n",
       "      <td>Summer</td>\n",
       "      <td>0</td>\n",
       "      <td>2022-07-28 09:11:16</td>\n",
       "      <td>1</td>\n",
       "      <td>12.13</td>\n",
       "      <td>Blue</td>\n",
       "      <td>Ultra Prime</td>\n",
       "      <td>oe:team:8d09428f093dfbf3c488bce350af0b1</td>\n",
       "      <td>Nidalee</td>\n",
       "      <td>Renata Glasc</td>\n",
       "      <td>Wukong</td>\n",
       "      <td>Nautilus</td>\n",
       "      <td>NaN</td>\n",
       "    </tr>\n",
       "    <tr>\n",
       "      <th>112715</th>\n",
       "      <td>ESPORTSTMNT03_2884198</td>\n",
       "      <td>PCS</td>\n",
       "      <td>2022</td>\n",
       "      <td>Summer</td>\n",
       "      <td>0</td>\n",
       "      <td>2022-07-29 09:54:41</td>\n",
       "      <td>1</td>\n",
       "      <td>12.13</td>\n",
       "      <td>Red</td>\n",
       "      <td>Dewish Team</td>\n",
       "      <td>oe:team:f7c0f545d3fc1860239d04b3ebe97f8</td>\n",
       "      <td>Amumu</td>\n",
       "      <td>Sylas</td>\n",
       "      <td>Taliyah</td>\n",
       "      <td>Swain</td>\n",
       "      <td>NaN</td>\n",
       "    </tr>\n",
       "    <tr>\n",
       "      <th>115162</th>\n",
       "      <td>ESPORTSTMNT03_2885491</td>\n",
       "      <td>LCO</td>\n",
       "      <td>2022</td>\n",
       "      <td>Split 2</td>\n",
       "      <td>0</td>\n",
       "      <td>2022-08-01 08:39:58</td>\n",
       "      <td>1</td>\n",
       "      <td>12.13</td>\n",
       "      <td>Blue</td>\n",
       "      <td>Dire Wolves</td>\n",
       "      <td>oe:team:cd6e0eea04af23b9c0735dab41a9941</td>\n",
       "      <td>Senna</td>\n",
       "      <td>Kayle</td>\n",
       "      <td>Yuumi</td>\n",
       "      <td>NaN</td>\n",
       "      <td>NaN</td>\n",
       "    </tr>\n",
       "    <tr>\n",
       "      <th>115211</th>\n",
       "      <td>ESPORTSTMNT03_2885497</td>\n",
       "      <td>LCO</td>\n",
       "      <td>2022</td>\n",
       "      <td>Split 2</td>\n",
       "      <td>0</td>\n",
       "      <td>2022-08-01 09:41:57</td>\n",
       "      <td>1</td>\n",
       "      <td>12.13</td>\n",
       "      <td>Red</td>\n",
       "      <td>PEACE</td>\n",
       "      <td>oe:team:b61ee1b18ac8e03518fc61ac07d497c</td>\n",
       "      <td>Renata Glasc</td>\n",
       "      <td>Yuumi</td>\n",
       "      <td>Senna</td>\n",
       "      <td>Draven</td>\n",
       "      <td>NaN</td>\n",
       "    </tr>\n",
       "    <tr>\n",
       "      <th>117983</th>\n",
       "      <td>9331-9331_game_2</td>\n",
       "      <td>LPL</td>\n",
       "      <td>2022</td>\n",
       "      <td>Summer</td>\n",
       "      <td>0</td>\n",
       "      <td>2022-08-05 09:58:34</td>\n",
       "      <td>2</td>\n",
       "      <td>12.14</td>\n",
       "      <td>Red</td>\n",
       "      <td>LGD Gaming</td>\n",
       "      <td>oe:team:5f401785b6b78326f9a46b3c6b206ed</td>\n",
       "      <td>Poppy</td>\n",
       "      <td>NaN</td>\n",
       "      <td>Taliyah</td>\n",
       "      <td>Senna</td>\n",
       "      <td>Lucian</td>\n",
       "    </tr>\n",
       "    <tr>\n",
       "      <th>119723</th>\n",
       "      <td>ESPORTSTMNT03_2920601</td>\n",
       "      <td>VCS</td>\n",
       "      <td>2022</td>\n",
       "      <td>Summer</td>\n",
       "      <td>0</td>\n",
       "      <td>2022-08-07 13:02:01</td>\n",
       "      <td>1</td>\n",
       "      <td>12.13</td>\n",
       "      <td>Red</td>\n",
       "      <td>Genius Esports</td>\n",
       "      <td>oe:team:5d81332d807fb5ebe9ca0e63fc7f375</td>\n",
       "      <td>NaN</td>\n",
       "      <td>NaN</td>\n",
       "      <td>NaN</td>\n",
       "      <td>Ahri</td>\n",
       "      <td>Yuumi</td>\n",
       "    </tr>\n",
       "    <tr>\n",
       "      <th>120179</th>\n",
       "      <td>ESPORTSTMNT01_3092256</td>\n",
       "      <td>LCS</td>\n",
       "      <td>2022</td>\n",
       "      <td>Summer</td>\n",
       "      <td>0</td>\n",
       "      <td>2022-08-07 22:24:47</td>\n",
       "      <td>1</td>\n",
       "      <td>12.14</td>\n",
       "      <td>Red</td>\n",
       "      <td>Golden Guardians</td>\n",
       "      <td>oe:team:87ee02298073abc2d55060f097d4041</td>\n",
       "      <td>Taliyah</td>\n",
       "      <td>Kalista</td>\n",
       "      <td>Poppy</td>\n",
       "      <td>Draven</td>\n",
       "      <td>NaN</td>\n",
       "    </tr>\n",
       "    <tr>\n",
       "      <th>120370</th>\n",
       "      <td>ESPORTSTMNT01_3092439</td>\n",
       "      <td>LCO</td>\n",
       "      <td>2022</td>\n",
       "      <td>Split 2</td>\n",
       "      <td>0</td>\n",
       "      <td>2022-08-08 11:22:33</td>\n",
       "      <td>1</td>\n",
       "      <td>12.14</td>\n",
       "      <td>Blue</td>\n",
       "      <td>PEACE</td>\n",
       "      <td>oe:team:b61ee1b18ac8e03518fc61ac07d497c</td>\n",
       "      <td>Sylas</td>\n",
       "      <td>Gwen</td>\n",
       "      <td>Renata Glasc</td>\n",
       "      <td>NaN</td>\n",
       "      <td>NaN</td>\n",
       "    </tr>\n",
       "    <tr>\n",
       "      <th>120791</th>\n",
       "      <td>ESPORTSTMNT01_3092718</td>\n",
       "      <td>LCO</td>\n",
       "      <td>2022</td>\n",
       "      <td>Split 2</td>\n",
       "      <td>0</td>\n",
       "      <td>2022-08-09 09:49:49</td>\n",
       "      <td>1</td>\n",
       "      <td>12.14</td>\n",
       "      <td>Red</td>\n",
       "      <td>Chiefs Esports Club</td>\n",
       "      <td>oe:team:692bccdba8ec7050f5aeb916815439e</td>\n",
       "      <td>Cassiopeia</td>\n",
       "      <td>Wukong</td>\n",
       "      <td>Azir</td>\n",
       "      <td>NaN</td>\n",
       "      <td>Jax</td>\n",
       "    </tr>\n",
       "    <tr>\n",
       "      <th>124030</th>\n",
       "      <td>ESPORTSTMNT02_2960376</td>\n",
       "      <td>LCO</td>\n",
       "      <td>2022</td>\n",
       "      <td>Split 2</td>\n",
       "      <td>1</td>\n",
       "      <td>2022-08-15 10:45:21</td>\n",
       "      <td>4</td>\n",
       "      <td>12.15</td>\n",
       "      <td>Blue</td>\n",
       "      <td>ORDER</td>\n",
       "      <td>oe:team:6575d9a58f0b41a108f2d6a565a0650</td>\n",
       "      <td>NaN</td>\n",
       "      <td>Renekton</td>\n",
       "      <td>Taliyah</td>\n",
       "      <td>Vi</td>\n",
       "      <td>Trundle</td>\n",
       "    </tr>\n",
       "    <tr>\n",
       "      <th>124054</th>\n",
       "      <td>ESPORTSTMNT02_2960378</td>\n",
       "      <td>LCO</td>\n",
       "      <td>2022</td>\n",
       "      <td>Split 2</td>\n",
       "      <td>1</td>\n",
       "      <td>2022-08-15 11:45:18</td>\n",
       "      <td>5</td>\n",
       "      <td>12.15</td>\n",
       "      <td>Blue</td>\n",
       "      <td>ORDER</td>\n",
       "      <td>oe:team:6575d9a58f0b41a108f2d6a565a0650</td>\n",
       "      <td>Renekton</td>\n",
       "      <td>Taliyah</td>\n",
       "      <td>NaN</td>\n",
       "      <td>Zoe</td>\n",
       "      <td>LeBlanc</td>\n",
       "    </tr>\n",
       "  </tbody>\n",
       "</table>\n",
       "</div>"
      ],
      "text/plain": [
       "                       gameid league  year    split  playoffs  \\\n",
       "1487    ESPORTSTMNT01_2690705    LCK  2022   Spring         0   \n",
       "2507    ESPORTSTMNT01_2691557    LCK  2022   Spring         0   \n",
       "10642   ESPORTSTMNT02_2552213  CBLOL  2022  Split 1         0   \n",
       "14854   ESPORTSTMNT02_2576641    LCO  2022  Split 1         0   \n",
       "19786   ESPORTSTMNT02_2558786    VCS  2022   Spring         0   \n",
       "24539        8468-8468_game_1    LPL  2022   Spring         0   \n",
       "25738        8473-8473_game_1    LPL  2022   Spring         0   \n",
       "25739        8473-8473_game_1    LPL  2022   Spring         0   \n",
       "26242   ESPORTSTMNT03_2547408    PCS  2022   Spring         0   \n",
       "26327   ESPORTSTMNT03_2547435    LCK  2022   Spring         0   \n",
       "28811   ESPORTSTMNT03_2549195    LCO  2022  Split 1         0   \n",
       "29050        8746-8746_game_2    LPL  2022   Spring         0   \n",
       "31186   ESPORTSTMNT01_2731398    LCS  2022   Spring         0   \n",
       "32447   ESPORTSTMNT03_2590257    PCS  2022   Spring         0   \n",
       "33131        8759-8759_game_2    LPL  2022   Spring         0   \n",
       "34858   ESPORTSTMNT01_2734124    LCK  2022   Spring         0   \n",
       "37271        8767-8767_game_1    LPL  2022   Spring         0   \n",
       "43510   ESPORTSTMNT01_2810127    LJL  2022   Spring         0   \n",
       "49499   ESPORTSTMNT03_2631825  CBLOL  2022  Split 1         0   \n",
       "49870   ESPORTSTMNT02_2663198    LCO  2022  Split 1         0   \n",
       "52822        8795-8795_game_2    LPL  2022   Spring         0   \n",
       "53723   ESPORTSTMNT03_2633616  CBLOL  2022  Split 1         1   \n",
       "54359   ESPORTSTMNT01_2840075    VCS  2022   Spring         0   \n",
       "54443   ESPORTSTMNT03_2653794  CBLOL  2022  Split 1         1   \n",
       "60946   ESPORTSTMNT03_2657112  CBLOL  2022  Split 1         1   \n",
       "65519   ESPORTSTMNT03_2711052    VCS  2022   Summer         0   \n",
       "73186   ESPORTSTMNT02_2785385    LCO  2022  Split 2         0   \n",
       "76090   ESPORTSTMNT02_2788476    LLA  2022  Closing         0   \n",
       "76523        8952-8952_game_2    LPL  2022   Summer         0   \n",
       "79295        8958-8958_game_3    LPL  2022   Summer         0   \n",
       "80231   ESPORTSTMNT03_2780993    LEC  2022   Summer         0   \n",
       "86363   ESPORTSTMNT03_2796815    LLA  2022  Closing         0   \n",
       "89566        8986-8986_game_2    LPL  2022   Summer         0   \n",
       "94691   ESPORTSTMNT01_2982943    LCO  2022  Split 2         0   \n",
       "98135   ESPORTSTMNT02_2911303    LCO  2022  Split 2         0   \n",
       "98195        9280-9280_game_3    LPL  2022   Summer         0   \n",
       "99035   ESPORTSTMNT02_2911639    LCO  2022  Split 2         0   \n",
       "107735  ESPORTSTMNT05_2980556    LCK  2022   Summer         0   \n",
       "109451  ESPORTSTMNT03_2892347    LCO  2022  Split 2         0   \n",
       "110902  ESPORTSTMNT06_2531032    LCK  2022   Summer         0   \n",
       "111634       9315-9315_game_1    LPL  2022   Summer         0   \n",
       "112715  ESPORTSTMNT03_2884198    PCS  2022   Summer         0   \n",
       "115162  ESPORTSTMNT03_2885491    LCO  2022  Split 2         0   \n",
       "115211  ESPORTSTMNT03_2885497    LCO  2022  Split 2         0   \n",
       "117983       9331-9331_game_2    LPL  2022   Summer         0   \n",
       "119723  ESPORTSTMNT03_2920601    VCS  2022   Summer         0   \n",
       "120179  ESPORTSTMNT01_3092256    LCS  2022   Summer         0   \n",
       "120370  ESPORTSTMNT01_3092439    LCO  2022  Split 2         0   \n",
       "120791  ESPORTSTMNT01_3092718    LCO  2022  Split 2         0   \n",
       "124030  ESPORTSTMNT02_2960376    LCO  2022  Split 2         1   \n",
       "124054  ESPORTSTMNT02_2960378    LCO  2022  Split 2         1   \n",
       "\n",
       "                       date  game  patch  side                       teamname  \\\n",
       "1487    2022-01-12 10:07:10     1  12.01   Red               Kwangdong Freecs   \n",
       "2507    2022-01-14 13:00:25     3  12.01   Red                             T1   \n",
       "10642   2022-01-29 18:14:54     1  12.02  Blue                KaBuM! e-Sports   \n",
       "14854   2022-02-07 06:43:48     1  12.02  Blue                       Gravitas   \n",
       "19786   2022-02-13 10:43:35     2  12.02  Blue                   SBTC Esports   \n",
       "24539   2022-02-18 07:23:05     1  12.02   Red                      Rare Atom   \n",
       "25738   2022-02-19 11:34:46     1  12.02  Blue                      JD Gaming   \n",
       "25739   2022-02-19 11:34:46     1  12.02   Red                    Top Esports   \n",
       "26242   2022-02-20 07:51:56     1  12.03  Blue                           SEM9   \n",
       "26327   2022-02-20 09:40:04     3  12.03   Red                     KT Rolster   \n",
       "28811   2022-02-23 07:19:25     1  12.03   Red                    Dire Wolves   \n",
       "29050   2022-02-23 13:01:38     2  12.02  Blue                  EDward Gaming   \n",
       "31186   2022-02-25 23:32:00     1  12.04  Blue               Golden Guardians   \n",
       "32447   2022-02-27 12:02:29     1  12.03   Red               Hurricane Gaming   \n",
       "33131   2022-02-28 12:06:50     2  12.04   Red                     LGD Gaming   \n",
       "34858   2022-03-02 12:17:52     2  12.04  Blue                   Liiv SANDBOX   \n",
       "37271   2022-03-05 07:20:23     1  12.04   Red                     LGD Gaming   \n",
       "43510   2022-03-13 08:44:53     1  12.04  Blue  Fukuoka SoftBank HAWKS gaming   \n",
       "49499   2022-03-20 18:58:49     1  12.05   Red               Flamengo Esports   \n",
       "49870   2022-03-21 09:54:08     1  12.05  Blue                          ORDER   \n",
       "52822   2022-03-25 11:57:55     2  12.04  Blue            Royal Never Give Up   \n",
       "53723   2022-03-26 15:44:55     1  12.05   Red                     RED Canids   \n",
       "54359   2022-03-27 14:46:50     3  12.04   Red               CERBERUS Esports   \n",
       "54443   2022-03-27 17:58:59     3  12.05   Red                    paiN Gaming   \n",
       "60946   2022-04-09 18:21:56     3  12.05  Blue                     RED Canids   \n",
       "65519   2022-05-06 04:46:56     3  12.08   Red                 Genius Esports   \n",
       "73186   2022-06-07 07:42:04     1  12.10  Blue                  Kanga Esports   \n",
       "76090   2022-06-11 21:34:13     1  12.10  Blue                    All Knights   \n",
       "76523   2022-06-13 12:32:48     2  12.10   Red                  EDward Gaming   \n",
       "79295   2022-06-16 13:38:29     3  12.10   Red                Bilibili Gaming   \n",
       "80231   2022-06-17 19:19:37     1  12.11   Red                       Astralis   \n",
       "86363   2022-06-25 21:07:00     1  12.11   Red                       Rainbow7   \n",
       "89566   2022-06-29 11:27:11     2  12.11  Blue                    Ultra Prime   \n",
       "94691   2022-07-06 08:45:01     1  12.12   Red                       Gravitas   \n",
       "98135   2022-07-11 10:42:21     1  12.12   Red                  Kanga Esports   \n",
       "98195   2022-07-11 12:47:07     3  12.12   Red                      Rare Atom   \n",
       "99035   2022-07-12 07:41:25     1  12.12   Red                    Dire Wolves   \n",
       "107735  2022-07-23 06:15:48     1  12.12   Red                             T1   \n",
       "109451  2022-07-25 11:14:49     1  12.13   Red            Chiefs Esports Club   \n",
       "110902  2022-07-27 12:18:52     2  12.13  Blue                        DWG KIA   \n",
       "111634  2022-07-28 09:11:16     1  12.13  Blue                    Ultra Prime   \n",
       "112715  2022-07-29 09:54:41     1  12.13   Red                    Dewish Team   \n",
       "115162  2022-08-01 08:39:58     1  12.13  Blue                    Dire Wolves   \n",
       "115211  2022-08-01 09:41:57     1  12.13   Red                          PEACE   \n",
       "117983  2022-08-05 09:58:34     2  12.14   Red                     LGD Gaming   \n",
       "119723  2022-08-07 13:02:01     1  12.13   Red                 Genius Esports   \n",
       "120179  2022-08-07 22:24:47     1  12.14   Red               Golden Guardians   \n",
       "120370  2022-08-08 11:22:33     1  12.14  Blue                          PEACE   \n",
       "120791  2022-08-09 09:49:49     1  12.14   Red            Chiefs Esports Club   \n",
       "124030  2022-08-15 10:45:21     4  12.15  Blue                          ORDER   \n",
       "124054  2022-08-15 11:45:18     5  12.15  Blue                          ORDER   \n",
       "\n",
       "                                         teamid          ban1          ban2  \\\n",
       "1487    oe:team:0b65555ba9e97910fc1e7264a99fa24      Renekton  Twisted Fate   \n",
       "2507    oe:team:ce499dea30cfce118f4fe85da0227e8       Lee Sin      Renekton   \n",
       "10642   oe:team:9dced510f02f8586ee7501922484ac0      Renekton  Twisted Fate   \n",
       "14854   oe:team:4889684df277c6008eb89f48f94bded          Gwen     Jarvan IV   \n",
       "19786   oe:team:31df330ccc0f1b3b521959a24288ac4         Corki       LeBlanc   \n",
       "24539   oe:team:8516ca63facc91286d6c00212ca945e          Zeri      Renekton   \n",
       "25738   oe:team:b42d0f31f2727621b963042276817c4           NaN           NaN   \n",
       "25739   oe:team:fcec508e780bbd1ad493852640f5b36           NaN           NaN   \n",
       "26242   oe:team:5e3055ed3b815352627fec92727dfe6         Akali      Aphelios   \n",
       "26327   oe:team:d723992568441c6bafa2658129eade7  Twisted Fate          Zeri   \n",
       "28811   oe:team:cd6e0eea04af23b9c0735dab41a9941          Zeri        Veigar   \n",
       "29050   oe:team:056c3140a119e44a03d462e2c832f27       Lee Sin          Gwen   \n",
       "31186   oe:team:87ee02298073abc2d55060f097d4041         Jayce        Graves   \n",
       "32447   oe:team:810d335400a6391892d9f9bef5d57b3          Zeri    Tryndamere   \n",
       "33131   oe:team:5f401785b6b78326f9a46b3c6b206ed          Zeri          Gwen   \n",
       "34858   oe:team:c75f1f337fc5867914749d438a4871d  Twisted Fate       Caitlyn   \n",
       "37271   oe:team:5f401785b6b78326f9a46b3c6b206ed          Gwen          Zeri   \n",
       "43510   oe:team:d8ca3fc1f0827ec76369af7b70d43e3    Tryndamere          Zeri   \n",
       "49499   oe:team:5ef087125f8255546c01970122b3cec         Jayce        Graves   \n",
       "49870   oe:team:6575d9a58f0b41a108f2d6a565a0650         Karma          Ahri   \n",
       "52822   oe:team:73f3126d91d35faa5d5ce34abadb865         Akali    Tryndamere   \n",
       "53723   oe:team:67169969ecc058b307edfa9c6b7a3c0         Jayce       Lee Sin   \n",
       "54359   oe:team:05825167aedac3dc1e6f72133f52604           NaN       Hecarim   \n",
       "54443   oe:team:61450737f7b683db4da7b3e0bf0dced       Caitlyn        Viktor   \n",
       "60946   oe:team:67169969ecc058b307edfa9c6b7a3c0    Tryndamere      Volibear   \n",
       "65519   oe:team:5d81332d807fb5ebe9ca0e63fc7f375           NaN        Syndra   \n",
       "73186   oe:team:40ca71047541a6edbbb6e29893f9058       Kog'Maw        Wukong   \n",
       "76090   oe:team:ac644a006bcf1a44682d666df19864c        Lillia         Senna   \n",
       "76523   oe:team:056c3140a119e44a03d462e2c832f27          Gwen        Lucian   \n",
       "79295   oe:team:d356a144644879dabb5f34cd99c886d        Wukong       Taliyah   \n",
       "80231   oe:team:128d0cec08b877912eb91f94a1f3295       Kalista        Lucian   \n",
       "86363   oe:team:a3163ae7be388387914d76fe89dc036       Taliyah        Wukong   \n",
       "89566   oe:team:8d09428f093dfbf3c488bce350af0b1          Gwen          Ahri   \n",
       "94691   oe:team:4889684df277c6008eb89f48f94bded           NaN          Azir   \n",
       "98135   oe:team:40ca71047541a6edbbb6e29893f9058         Kayle     Seraphine   \n",
       "98195   oe:team:8516ca63facc91286d6c00212ca945e     Gangplank          Zeri   \n",
       "99035   oe:team:cd6e0eea04af23b9c0735dab41a9941         Viego         Rakan   \n",
       "107735  oe:team:ce499dea30cfce118f4fe85da0227e8          Zeri         Sylas   \n",
       "109451  oe:team:692bccdba8ec7050f5aeb916815439e         Sylas       LeBlanc   \n",
       "110902  oe:team:2e79800a550f87f2378dbba9368396d       Kalista        Lucian   \n",
       "111634  oe:team:8d09428f093dfbf3c488bce350af0b1       Nidalee  Renata Glasc   \n",
       "112715  oe:team:f7c0f545d3fc1860239d04b3ebe97f8         Amumu         Sylas   \n",
       "115162  oe:team:cd6e0eea04af23b9c0735dab41a9941         Senna         Kayle   \n",
       "115211  oe:team:b61ee1b18ac8e03518fc61ac07d497c  Renata Glasc         Yuumi   \n",
       "117983  oe:team:5f401785b6b78326f9a46b3c6b206ed         Poppy           NaN   \n",
       "119723  oe:team:5d81332d807fb5ebe9ca0e63fc7f375           NaN           NaN   \n",
       "120179  oe:team:87ee02298073abc2d55060f097d4041       Taliyah       Kalista   \n",
       "120370  oe:team:b61ee1b18ac8e03518fc61ac07d497c         Sylas          Gwen   \n",
       "120791  oe:team:692bccdba8ec7050f5aeb916815439e    Cassiopeia        Wukong   \n",
       "124030  oe:team:6575d9a58f0b41a108f2d6a565a0650           NaN      Renekton   \n",
       "124054  oe:team:6575d9a58f0b41a108f2d6a565a0650      Renekton       Taliyah   \n",
       "\n",
       "                ban3       ban4          ban5  \n",
       "1487             Vex      Jayce           NaN  \n",
       "2507             NaN    Camille       LeBlanc  \n",
       "10642          Viego      Yuumi           NaN  \n",
       "14854          Senna        NaN           NaN  \n",
       "19786         Viktor        NaN         Braum  \n",
       "24539            NaN    Hecarim       Camille  \n",
       "25738            NaN        NaN           NaN  \n",
       "25739            NaN        NaN           NaN  \n",
       "26242            NaN   Nautilus           Zoe  \n",
       "26327            NaN     Viktor           Vex  \n",
       "28811           Gwen        NaN           NaN  \n",
       "29050            NaN    Orianna          Gnar  \n",
       "31186          Corki        NaN     Gangplank  \n",
       "32447            NaN      Diana       Lee Sin  \n",
       "33131           Ryze        NaN         Yuumi  \n",
       "34858            NaN      Viego       Lee Sin  \n",
       "37271   Twisted Fate        NaN          Gnar  \n",
       "43510         Darius     Kai'Sa           NaN  \n",
       "49499           Zeri     Thresh           NaN  \n",
       "49870        Hecarim        NaN           NaN  \n",
       "52822       Volibear     Rumble           NaN  \n",
       "53723           Jinx     Kennen           NaN  \n",
       "54359        Lee Sin    Camille         Akali  \n",
       "54443           Zeri    Alistar           NaN  \n",
       "60946           Zeri        NaN           NaN  \n",
       "65519           Ahri    LeBlanc         Akali  \n",
       "73186           Gwen      Viego           NaN  \n",
       "76090           Gwen     Veigar           NaN  \n",
       "76523        Kalista      Sylas           NaN  \n",
       "79295         Lucian        NaN           NaN  \n",
       "80231           Ahri       Azir           NaN  \n",
       "86363            NaN  Lissandra       LeBlanc  \n",
       "89566          Viego      Fiora           NaN  \n",
       "94691     Cassiopeia  Gangplank      Tristana  \n",
       "98135            NaN   Volibear       Trundle  \n",
       "98195            NaN       Gnar  Renata Glasc  \n",
       "99035        Lee Sin        NaN           NaN  \n",
       "107735         Corki     Wukong           NaN  \n",
       "109451  Renata Glasc      Senna           NaN  \n",
       "110902          Gwen        NaN         Sylas  \n",
       "111634        Wukong   Nautilus           NaN  \n",
       "112715       Taliyah      Swain           NaN  \n",
       "115162         Yuumi        NaN           NaN  \n",
       "115211         Senna     Draven           NaN  \n",
       "117983       Taliyah      Senna        Lucian  \n",
       "119723           NaN       Ahri         Yuumi  \n",
       "120179         Poppy     Draven           NaN  \n",
       "120370  Renata Glasc        NaN           NaN  \n",
       "120791          Azir        NaN           Jax  \n",
       "124030       Taliyah         Vi       Trundle  \n",
       "124054           NaN        Zoe       LeBlanc  "
      ]
     },
     "execution_count": 118,
     "metadata": {},
     "output_type": "execute_result"
    }
   ],
   "source": [
    "data[data.loc[:,'ban1': 'ban5'].isnull().any(axis=1)].loc[:, :'ban5']"
   ]
  },
  {
   "cell_type": "markdown",
   "metadata": {},
   "source": [
    "### Permutation Tests\n",
    "- test statistic: the proportion of missing value in each league"
   ]
  },
  {
   "cell_type": "code",
   "execution_count": 138,
   "metadata": {},
   "outputs": [
    {
     "data": {
      "text/html": [
       "<div>\n",
       "<style scoped>\n",
       "    .dataframe tbody tr th:only-of-type {\n",
       "        vertical-align: middle;\n",
       "    }\n",
       "\n",
       "    .dataframe tbody tr th {\n",
       "        vertical-align: top;\n",
       "    }\n",
       "\n",
       "    .dataframe thead th {\n",
       "        text-align: right;\n",
       "    }\n",
       "</style>\n",
       "<table border=\"1\" class=\"dataframe\">\n",
       "  <thead>\n",
       "    <tr style=\"text-align: right;\">\n",
       "      <th></th>\n",
       "      <th>league</th>\n",
       "      <th>ban1</th>\n",
       "      <th>ban2</th>\n",
       "      <th>ban3</th>\n",
       "      <th>ban4</th>\n",
       "      <th>ban5</th>\n",
       "    </tr>\n",
       "  </thead>\n",
       "  <tbody>\n",
       "    <tr>\n",
       "      <th>34</th>\n",
       "      <td>LPL</td>\n",
       "      <td>False</td>\n",
       "      <td>False</td>\n",
       "      <td>False</td>\n",
       "      <td>False</td>\n",
       "      <td>False</td>\n",
       "    </tr>\n",
       "    <tr>\n",
       "      <th>35</th>\n",
       "      <td>LPL</td>\n",
       "      <td>False</td>\n",
       "      <td>False</td>\n",
       "      <td>False</td>\n",
       "      <td>False</td>\n",
       "      <td>False</td>\n",
       "    </tr>\n",
       "    <tr>\n",
       "      <th>58</th>\n",
       "      <td>LPL</td>\n",
       "      <td>False</td>\n",
       "      <td>False</td>\n",
       "      <td>False</td>\n",
       "      <td>False</td>\n",
       "      <td>False</td>\n",
       "    </tr>\n",
       "    <tr>\n",
       "      <th>59</th>\n",
       "      <td>LPL</td>\n",
       "      <td>False</td>\n",
       "      <td>False</td>\n",
       "      <td>False</td>\n",
       "      <td>False</td>\n",
       "      <td>False</td>\n",
       "    </tr>\n",
       "    <tr>\n",
       "      <th>82</th>\n",
       "      <td>LPL</td>\n",
       "      <td>False</td>\n",
       "      <td>False</td>\n",
       "      <td>False</td>\n",
       "      <td>False</td>\n",
       "      <td>False</td>\n",
       "    </tr>\n",
       "    <tr>\n",
       "      <th>...</th>\n",
       "      <td>...</td>\n",
       "      <td>...</td>\n",
       "      <td>...</td>\n",
       "      <td>...</td>\n",
       "      <td>...</td>\n",
       "      <td>...</td>\n",
       "    </tr>\n",
       "    <tr>\n",
       "      <th>133391</th>\n",
       "      <td>LCS</td>\n",
       "      <td>False</td>\n",
       "      <td>False</td>\n",
       "      <td>False</td>\n",
       "      <td>False</td>\n",
       "      <td>False</td>\n",
       "    </tr>\n",
       "    <tr>\n",
       "      <th>133402</th>\n",
       "      <td>LLA</td>\n",
       "      <td>False</td>\n",
       "      <td>False</td>\n",
       "      <td>False</td>\n",
       "      <td>False</td>\n",
       "      <td>False</td>\n",
       "    </tr>\n",
       "    <tr>\n",
       "      <th>133403</th>\n",
       "      <td>LLA</td>\n",
       "      <td>False</td>\n",
       "      <td>False</td>\n",
       "      <td>False</td>\n",
       "      <td>False</td>\n",
       "      <td>False</td>\n",
       "    </tr>\n",
       "    <tr>\n",
       "      <th>133414</th>\n",
       "      <td>LLA</td>\n",
       "      <td>False</td>\n",
       "      <td>False</td>\n",
       "      <td>False</td>\n",
       "      <td>False</td>\n",
       "      <td>False</td>\n",
       "    </tr>\n",
       "    <tr>\n",
       "      <th>133415</th>\n",
       "      <td>LLA</td>\n",
       "      <td>False</td>\n",
       "      <td>False</td>\n",
       "      <td>False</td>\n",
       "      <td>False</td>\n",
       "      <td>False</td>\n",
       "    </tr>\n",
       "  </tbody>\n",
       "</table>\n",
       "<p>6504 rows × 6 columns</p>\n",
       "</div>"
      ],
      "text/plain": [
       "       league   ban1   ban2   ban3   ban4   ban5\n",
       "34        LPL  False  False  False  False  False\n",
       "35        LPL  False  False  False  False  False\n",
       "58        LPL  False  False  False  False  False\n",
       "59        LPL  False  False  False  False  False\n",
       "82        LPL  False  False  False  False  False\n",
       "...       ...    ...    ...    ...    ...    ...\n",
       "133391    LCS  False  False  False  False  False\n",
       "133402    LLA  False  False  False  False  False\n",
       "133403    LLA  False  False  False  False  False\n",
       "133414    LLA  False  False  False  False  False\n",
       "133415    LLA  False  False  False  False  False\n",
       "\n",
       "[6504 rows x 6 columns]"
      ]
     },
     "execution_count": 138,
     "metadata": {},
     "output_type": "execute_result"
    }
   ],
   "source": [
    "ban_data = data.loc[:, ['league','ban1', 'ban2', 'ban3', 'ban4', 'ban5']]\n",
    "for col in ban_data.columns[1:]:\n",
    "    ban_data[col] = ban_data[col].isna()\n",
    "ban_data"
   ]
  },
  {
   "cell_type": "code",
   "execution_count": 188,
   "metadata": {},
   "outputs": [
    {
     "data": {
      "text/plain": [
       "league\n",
       "CBLOL    0.000000\n",
       "LCK      0.000000\n",
       "LCO      0.004717\n",
       "LCS      0.000000\n",
       "LEC      0.000000\n",
       "LJL      0.000000\n",
       "LLA      0.000000\n",
       "LPL      0.001272\n",
       "PCS      0.000000\n",
       "VCS      0.004644\n",
       "dtype: float64"
      ]
     },
     "execution_count": 188,
     "metadata": {},
     "output_type": "execute_result"
    }
   ],
   "source": [
    "pt =ban_data[['league', 'ban1']].pivot_table(index='league', columns='ban1', aggfunc='size', fill_value=0)\n",
    "pt[True] / pt.sum(axis=1)"
   ]
  },
  {
   "cell_type": "code",
   "execution_count": 171,
   "metadata": {},
   "outputs": [
    {
     "data": {
      "text/html": [
       "<div>\n",
       "<style scoped>\n",
       "    .dataframe tbody tr th:only-of-type {\n",
       "        vertical-align: middle;\n",
       "    }\n",
       "\n",
       "    .dataframe tbody tr th {\n",
       "        vertical-align: top;\n",
       "    }\n",
       "\n",
       "    .dataframe thead th {\n",
       "        text-align: right;\n",
       "    }\n",
       "</style>\n",
       "<table border=\"1\" class=\"dataframe\">\n",
       "  <thead>\n",
       "    <tr style=\"text-align: right;\">\n",
       "      <th>ban1</th>\n",
       "      <th>False</th>\n",
       "      <th>True</th>\n",
       "    </tr>\n",
       "    <tr>\n",
       "      <th>league</th>\n",
       "      <th></th>\n",
       "      <th></th>\n",
       "    </tr>\n",
       "  </thead>\n",
       "  <tbody>\n",
       "    <tr>\n",
       "      <th>CBLOL</th>\n",
       "      <td>486</td>\n",
       "      <td>0</td>\n",
       "    </tr>\n",
       "    <tr>\n",
       "      <th>LCK</th>\n",
       "      <td>934</td>\n",
       "      <td>0</td>\n",
       "    </tr>\n",
       "    <tr>\n",
       "      <th>LCO</th>\n",
       "      <td>422</td>\n",
       "      <td>2</td>\n",
       "    </tr>\n",
       "    <tr>\n",
       "      <th>LCS</th>\n",
       "      <td>612</td>\n",
       "      <td>0</td>\n",
       "    </tr>\n",
       "    <tr>\n",
       "      <th>LEC</th>\n",
       "      <td>486</td>\n",
       "      <td>0</td>\n",
       "    </tr>\n",
       "    <tr>\n",
       "      <th>LJL</th>\n",
       "      <td>428</td>\n",
       "      <td>0</td>\n",
       "    </tr>\n",
       "    <tr>\n",
       "      <th>LLA</th>\n",
       "      <td>374</td>\n",
       "      <td>0</td>\n",
       "    </tr>\n",
       "    <tr>\n",
       "      <th>LPL</th>\n",
       "      <td>1570</td>\n",
       "      <td>2</td>\n",
       "    </tr>\n",
       "    <tr>\n",
       "      <th>PCS</th>\n",
       "      <td>542</td>\n",
       "      <td>0</td>\n",
       "    </tr>\n",
       "    <tr>\n",
       "      <th>VCS</th>\n",
       "      <td>643</td>\n",
       "      <td>3</td>\n",
       "    </tr>\n",
       "  </tbody>\n",
       "</table>\n",
       "</div>"
      ],
      "text/plain": [
       "ban1    False  True\n",
       "league             \n",
       "CBLOL     486     0\n",
       "LCK       934     0\n",
       "LCO       422     2\n",
       "LCS       612     0\n",
       "LEC       486     0\n",
       "LJL       428     0\n",
       "LLA       374     0\n",
       "LPL      1570     2\n",
       "PCS       542     0\n",
       "VCS       643     3"
      ]
     },
     "execution_count": 171,
     "metadata": {},
     "output_type": "execute_result"
    }
   ],
   "source": [
    "ban_data[['league', 'ban1']].pivot_table(index='league', columns='ban1', aggfunc='size', fill_value=0)"
   ]
  },
  {
   "cell_type": "code",
   "execution_count": 178,
   "metadata": {},
   "outputs": [],
   "source": [
    "shuffled = ban_data.copy()[['league', 'ban1']]\n",
    "shuffled['ban1'] = np.random.permutation(shuffled['ban1'])\n",
    "pivoted = shuffled.pivot_table(index='ban1', columns='league', aggfunc='size', fill_value=0)\n",
    "pivoted = pivoted / pivoted.sum()\n",
    "# tvd = pivoted.diff(axis=1).iloc[:, -1].abs().sum() / 2"
   ]
  },
  {
   "cell_type": "code",
   "execution_count": 179,
   "metadata": {},
   "outputs": [
    {
     "data": {
      "text/html": [
       "<div>\n",
       "<style scoped>\n",
       "    .dataframe tbody tr th:only-of-type {\n",
       "        vertical-align: middle;\n",
       "    }\n",
       "\n",
       "    .dataframe tbody tr th {\n",
       "        vertical-align: top;\n",
       "    }\n",
       "\n",
       "    .dataframe thead th {\n",
       "        text-align: right;\n",
       "    }\n",
       "</style>\n",
       "<table border=\"1\" class=\"dataframe\">\n",
       "  <thead>\n",
       "    <tr style=\"text-align: right;\">\n",
       "      <th>league</th>\n",
       "      <th>CBLOL</th>\n",
       "      <th>LCK</th>\n",
       "      <th>LCO</th>\n",
       "      <th>LCS</th>\n",
       "      <th>LEC</th>\n",
       "      <th>LJL</th>\n",
       "      <th>LLA</th>\n",
       "      <th>LPL</th>\n",
       "      <th>PCS</th>\n",
       "      <th>VCS</th>\n",
       "    </tr>\n",
       "    <tr>\n",
       "      <th>ban1</th>\n",
       "      <th></th>\n",
       "      <th></th>\n",
       "      <th></th>\n",
       "      <th></th>\n",
       "      <th></th>\n",
       "      <th></th>\n",
       "      <th></th>\n",
       "      <th></th>\n",
       "      <th></th>\n",
       "      <th></th>\n",
       "    </tr>\n",
       "  </thead>\n",
       "  <tbody>\n",
       "    <tr>\n",
       "      <th>False</th>\n",
       "      <td>1.0</td>\n",
       "      <td>0.998929</td>\n",
       "      <td>1.0</td>\n",
       "      <td>0.998366</td>\n",
       "      <td>0.997942</td>\n",
       "      <td>0.995327</td>\n",
       "      <td>1.0</td>\n",
       "      <td>0.998728</td>\n",
       "      <td>1.0</td>\n",
       "      <td>1.0</td>\n",
       "    </tr>\n",
       "    <tr>\n",
       "      <th>True</th>\n",
       "      <td>0.0</td>\n",
       "      <td>0.001071</td>\n",
       "      <td>0.0</td>\n",
       "      <td>0.001634</td>\n",
       "      <td>0.002058</td>\n",
       "      <td>0.004673</td>\n",
       "      <td>0.0</td>\n",
       "      <td>0.001272</td>\n",
       "      <td>0.0</td>\n",
       "      <td>0.0</td>\n",
       "    </tr>\n",
       "  </tbody>\n",
       "</table>\n",
       "</div>"
      ],
      "text/plain": [
       "league  CBLOL       LCK  LCO       LCS       LEC       LJL  LLA       LPL  \\\n",
       "ban1                                                                        \n",
       "False     1.0  0.998929  1.0  0.998366  0.997942  0.995327  1.0  0.998728   \n",
       "True      0.0  0.001071  0.0  0.001634  0.002058  0.004673  0.0  0.001272   \n",
       "\n",
       "league  PCS  VCS  \n",
       "ban1              \n",
       "False   1.0  1.0  \n",
       "True    0.0  0.0  "
      ]
     },
     "execution_count": 179,
     "metadata": {},
     "output_type": "execute_result"
    }
   ],
   "source": [
    "pivoted"
   ]
  },
  {
   "cell_type": "code",
   "execution_count": null,
   "metadata": {},
   "outputs": [],
   "source": [
    "n_repetitions = 500\n",
    "shuffled = ban_data.copy()\n",
    "\n",
    "tvds = []\n",
    "for _ in range(n_repetitions):\n",
    "    shuffled['ban1'] = np.random.permutation(shuffled['ban1'])\n",
    "    \n",
    "    # Computing and storing the TVD.\n",
    "    pivoted = (\n",
    "        shuffled\n",
    "        .pivot_table(index='gender', columns='child_missing', aggfunc='size')\n",
    "    )\n",
    "    \n",
    "    pivoted = pivoted / pivoted.sum()\n",
    "    \n",
    "    tvd = pivoted.diff(axis=1).iloc[:, -1].abs().sum() / 2\n",
    "    tvds.append(tvd)"
   ]
  },
  {
   "cell_type": "markdown",
   "metadata": {},
   "source": [
    "## Step 4: Hypothesis Testing"
   ]
  },
  {
   "cell_type": "code",
   "execution_count": null,
   "metadata": {
    "ExecuteTime": {
     "end_time": "2019-10-31T23:36:28.666489Z",
     "start_time": "2019-10-31T23:36:28.664381Z"
    }
   },
   "outputs": [],
   "source": [
    "# TODO"
   ]
  },
  {
   "cell_type": "markdown",
   "metadata": {},
   "source": [
    "## Step 5: Framing a Prediction Problem"
   ]
  },
  {
   "cell_type": "code",
   "execution_count": null,
   "metadata": {
    "ExecuteTime": {
     "end_time": "2019-10-31T23:36:28.657068Z",
     "start_time": "2019-10-31T23:36:28.654650Z"
    }
   },
   "outputs": [],
   "source": [
    "# TODO"
   ]
  },
  {
   "cell_type": "markdown",
   "metadata": {},
   "source": [
    "## Step 6: Baseline Model"
   ]
  },
  {
   "cell_type": "code",
   "execution_count": null,
   "metadata": {
    "ExecuteTime": {
     "end_time": "2019-10-31T23:36:28.662099Z",
     "start_time": "2019-10-31T23:36:28.660016Z"
    }
   },
   "outputs": [],
   "source": [
    "# TODO"
   ]
  },
  {
   "cell_type": "markdown",
   "metadata": {},
   "source": [
    "## Step 7: Final Model"
   ]
  },
  {
   "cell_type": "code",
   "execution_count": null,
   "metadata": {
    "ExecuteTime": {
     "end_time": "2019-10-31T23:36:28.662099Z",
     "start_time": "2019-10-31T23:36:28.660016Z"
    }
   },
   "outputs": [],
   "source": [
    "# TODO"
   ]
  },
  {
   "cell_type": "markdown",
   "metadata": {},
   "source": [
    "## Step 8: Fairness Analysis"
   ]
  },
  {
   "cell_type": "code",
   "execution_count": null,
   "metadata": {
    "ExecuteTime": {
     "end_time": "2019-10-31T23:36:28.666489Z",
     "start_time": "2019-10-31T23:36:28.664381Z"
    }
   },
   "outputs": [],
   "source": [
    "# TODO"
   ]
  }
 ],
 "metadata": {
  "kernelspec": {
   "display_name": "Python 3 (ipykernel)",
   "language": "python",
   "name": "python3"
  },
  "language_info": {
   "codemirror_mode": {
    "name": "ipython",
    "version": 3
   },
   "file_extension": ".py",
   "mimetype": "text/x-python",
   "name": "python",
   "nbconvert_exporter": "python",
   "pygments_lexer": "ipython3",
   "version": "3.8.18"
  }
 },
 "nbformat": 4,
 "nbformat_minor": 2
}
